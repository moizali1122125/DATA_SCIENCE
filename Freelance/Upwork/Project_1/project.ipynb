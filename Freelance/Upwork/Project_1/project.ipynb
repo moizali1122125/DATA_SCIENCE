{
 "cells": [
  {
   "cell_type": "code",
   "execution_count": 42,
   "metadata": {},
   "outputs": [
    {
     "name": "stdout",
     "output_type": "stream",
     "text": [
      "A2C on MountainCar-v0: -200.0\n",
      "A2C on CartPole-v1: 153.54722638680659\n",
      "A2C on Acrobot-v1: -500.0\n",
      "DQN on MountainCar-v0: -200.0\n",
      "DQN on CartPole-v1: 9.615192403798101\n",
      "DQN on Acrobot-v1: -339.47726136931533\n",
      "PPO on MountainCar-v0: -200.0\n",
      "PPO on CartPole-v1: 135.23338330834582\n",
      "PPO on Acrobot-v1: -441.0849575212394\n"
     ]
    }
   ],
   "source": [
    "import gym \n",
    "import numpy as np \n",
    "from stable_baselines3 import A2C, DQN, PPO \n",
    "\n",
    "# Define a list of RL algorithms to benchmark \n",
    "algorithms = [A2C, DQN, PPO] \n",
    "\n",
    "# Define a list of environments to benchmark the algorithms on\n",
    "env_names = ['MountainCar-v0', 'CartPole-v1', 'Acrobot-v1']\n",
    "\n",
    "# Load data from file\n",
    "data = np.loadtxt('DATA.txt', delimiter=',')\n",
    "\n",
    "# Define a function to evaluate the performance of an RL algorithm on a specific environment\n",
    "def evaluate_algorithm_on_env(algorithm, env_name, data):\n",
    "    env = gym.make(env_name)\n",
    "    model = algorithm('MlpPolicy', env)\n",
    "    model.learn(total_timesteps=10000, tb_log_name=f\"{algorithm.__name__}_{env_name}\")\n",
    "    episode_rewards = []\n",
    "    for episode in range(data.shape[0]):\n",
    "        obs = env.reset()\n",
    "        done = False\n",
    "        episode_reward = 0\n",
    "        while not done:\n",
    "            action, _ = model.predict(obs)\n",
    "            obs, reward, done, info = env.step(action)\n",
    "            episode_reward += reward\n",
    "        episode_rewards.append(episode_reward)\n",
    "    return np.mean(episode_rewards)\n",
    "\n",
    "# Evaluate the performance of each RL algorithm on each environment and print the results\n",
    "for algorithm in algorithms:\n",
    "    for env_name in env_names:\n",
    "        mean_reward = evaluate_algorithm_on_env(algorithm, env_name, data)\n",
    "        print(f\"{algorithm.__name__} on {env_name}: {mean_reward}\")\n"
   ]
  }
 ],
 "metadata": {
  "kernelspec": {
   "display_name": "base",
   "language": "python",
   "name": "python3"
  },
  "language_info": {
   "codemirror_mode": {
    "name": "ipython",
    "version": 3
   },
   "file_extension": ".py",
   "mimetype": "text/x-python",
   "name": "python",
   "nbconvert_exporter": "python",
   "pygments_lexer": "ipython3",
   "version": "3.9.12"
  },
  "orig_nbformat": 4
 },
 "nbformat": 4,
 "nbformat_minor": 2
}
