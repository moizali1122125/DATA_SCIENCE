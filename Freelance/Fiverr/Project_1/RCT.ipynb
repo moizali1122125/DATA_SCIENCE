{
 "cells": [
  {
   "cell_type": "code",
   "execution_count": 1,
   "metadata": {},
   "outputs": [],
   "source": [
    "import numpy as np\n",
    "import pandas as pd"
   ]
  },
  {
   "cell_type": "markdown",
   "metadata": {},
   "source": [
    "# Data Loading"
   ]
  },
  {
   "cell_type": "code",
   "execution_count": 2,
   "metadata": {},
   "outputs": [],
   "source": [
    "fakeData = pd.read_excel('RCT_AllergyResponse.xlsx').to_numpy()\n",
    "# subject number, vaccine treatment dummy, corona positive dummy"
   ]
  },
  {
   "cell_type": "markdown",
   "metadata": {},
   "source": [
    "# Test"
   ]
  },
  {
   "cell_type": "code",
   "execution_count": 3,
   "metadata": {
    "scrolled": true
   },
   "outputs": [
    {
     "name": "stdout",
     "output_type": "stream",
     "text": [
      "-0.09033039760170962\n",
      "-0.09033039760171527\n"
     ]
    }
   ],
   "source": [
    "y = fakeData[:, 2]\n",
    "X = np.concatenate((np.ones((y.shape[0], 1)), fakeData[:, 1].reshape(-1, 1)), axis=1)\n",
    "coeff = np.linalg.lstsq(X, y, rcond=None)[0]\n",
    "residual = y - np.dot(X, coeff)\n",
    "\n",
    "# comparison of results\n",
    "print(coeff[1])\n",
    "print(np.mean(fakeData[fakeData[:, 1] == 1][:, 2]) - np.mean(fakeData[fakeData[:, 1] == 0][:, 2]))\n",
    "\n",
    "N_treated = len(fakeData[fakeData[:, 1] == 1])\n",
    "N = len(fakeData[:, 1])\n",
    "N_controlled = N - N_treated\n",
    "\n",
    "tStat = np.sqrt(N) * coeff[1] / np.sqrt( (N/N_treated + N/N_controlled) * np.var(residual, ddof=1) )"
   ]
  },
  {
   "cell_type": "code",
   "execution_count": null,
   "metadata": {},
   "outputs": [],
   "source": []
  }
 ],
 "metadata": {
  "kernelspec": {
   "display_name": "Python 3 (ipykernel)",
   "language": "python",
   "name": "python3"
  },
  "language_info": {
   "codemirror_mode": {
    "name": "ipython",
    "version": 3
   },
   "file_extension": ".py",
   "mimetype": "text/x-python",
   "name": "python",
   "nbconvert_exporter": "python",
   "pygments_lexer": "ipython3",
   "version": "3.9.13"
  }
 },
 "nbformat": 4,
 "nbformat_minor": 2
}
