{
 "cells": [
  {
   "attachments": {},
   "cell_type": "markdown",
   "metadata": {},
   "source": [
    "> # **Decision Tree**"
   ]
  },
  {
   "attachments": {},
   "cell_type": "markdown",
   "metadata": {},
   "source": [
    "## **Decision Tree Regressor**"
   ]
  },
  {
   "cell_type": "code",
   "execution_count": null,
   "metadata": {},
   "outputs": [],
   "source": [
    "import pandas as pd\n",
    "import seaborn as sns\n",
    "from sklearn.tree import DecisionTreeRegressor\n",
    "from sklearn.model_selection import train_test_split\n",
    "#Load the diamonds dataset from seaborn\n",
    "diamonds= sns.load_dataset('diamonds')\n",
    "diamonds.head(3)\n",
    "\n",
    "# Select features and target variable\n",
    "X = diamonds[['carat', 'cut', 'color', 'clarity']]\n",
    "y = diamonds ['price']\n",
    "#Encode categorical features\n",
    "X = pd.get_dummies(X)\n",
    "#Split data into training and testing sets\n",
    "X_train, X_test, y_train, y_test = train_test_split (X, y, test_size=0.2, random_state=42)\n",
    "#Train the decision tree model\n",
    "model = DecisionTreeRegressor(max_depth=3)\n",
    "model.fit(X_train, y_train)\n",
    "#Evaluate the model\n",
    "train_score = model.score(X_train, y_train)\n",
    "test_score = model.score(X_test, y_test)\n",
    "print(f'Training accuracy: {train_score:.2f}')\n",
    "print(f'Testing accuracy: {test_score:.2f}')\n",
    "\n",
    "X"
   ]
  },
  {
   "attachments": {},
   "cell_type": "markdown",
   "metadata": {},
   "source": [
    "## **Decision Tree Classifier**"
   ]
  },
  {
   "cell_type": "code",
   "execution_count": null,
   "metadata": {},
   "outputs": [],
   "source": [
    "import pandas as pd\n",
    "import seaborn as sns\n",
    "from sklearn.tree import DecisionTreeClassifier\n",
    "from sklearn.model_selection import train_test_split\n",
    "#Load the diamonds dataset from seaborn\n",
    "diamonds= sns.load_dataset('diamonds')\n",
    "diamonds.head(3)\n",
    "\n",
    "# Select features and target variable\n",
    "X = diamonds[['carat', 'price', 'color', 'clarity']]\n",
    "y = diamonds ['cut']\n",
    "#Encode categorical features\n",
    "X = pd.get_dummies(X)\n",
    "#Split data into training and testing sets\n",
    "X_train, X_test, y_train, y_test = train_test_split(X, y, test_size=0.2, random_state=42)\n",
    "#Train the decision tree model\n",
    "model = DecisionTreeClassifier()\n",
    "model.fit(X_train, y_train)\n",
    "#Evaluate the model\n",
    "train_score = model.score(X_train, y_train)\n",
    "test_score = model.score(X_test, y_test)\n",
    "print(f'Training accuracy: {train_score:.2f}')\n",
    "print(f'Testing accuracy: {test_score:.2f}')"
   ]
  },
  {
   "attachments": {},
   "cell_type": "markdown",
   "metadata": {},
   "source": [
    ">"
   ]
  },
  {
   "cell_type": "code",
   "execution_count": null,
   "metadata": {},
   "outputs": [],
   "source": [
    "import pandas as pd\n",
    "import seaborn as sns\n",
    "from sklearn.model_selection import train_test_split\n",
    "from sklearn.tree import DecisionTreeClassifier\n",
    "from sklearn.metrics import accuracy_score\n",
    "# Load the diamonds dataset\n",
    "diamonds = sns.load_dataset('diamonds')\n",
    "# Convert categorical variables to numerical\n",
    "diamonds[\"cut\"] = diamonds['cut'].astype('category').cat.codes\n",
    "diamonds [\"color\"] = diamonds['color'].astype('category').cat.codes\n",
    "diamonds [\"clarity\"] = diamonds['clarity'].astype(\"category\").cat.codes\n",
    "diamonds.head(3)\n",
    "\n",
    "#SpLit the data into training and testing sets\n",
    "X = diamonds.drop(columns= [\"cut\"])\n",
    "y = diamonds[\"cut\"]\n",
    "X_train, X_test, y_train, y_test = train_test_split(X, y, test_size=0.3, random_state=1)\n",
    "# Initialize the decis ion tree classifier\n",
    "clf = DecisionTreeClassifier(random_state=1)\n",
    "#Train the model on the train ing data\n",
    "clf.fit(X_train, y_train)\n",
    "# Make predictions on the testing data\n",
    "y_pred = clf.predict(X_test)\n",
    "#Evaluate the accu racy of the model\n",
    "accuracy = accuracy_score(y_test, y_pred)\n",
    "print(\"Accuracy:\", accuracy)"
   ]
  }
 ],
 "metadata": {
  "kernelspec": {
   "display_name": "base",
   "language": "python",
   "name": "python3"
  },
  "language_info": {
   "codemirror_mode": {
    "name": "ipython",
    "version": 3
   },
   "file_extension": ".py",
   "mimetype": "text/x-python",
   "name": "python",
   "nbconvert_exporter": "python",
   "pygments_lexer": "ipython3",
   "version": "3.9.12"
  },
  "orig_nbformat": 4
 },
 "nbformat": 4,
 "nbformat_minor": 2
}
