{
 "cells": [
  {
   "attachments": {},
   "cell_type": "markdown",
   "metadata": {},
   "source": [
    "> # **Random Forest**"
   ]
  },
  {
   "attachments": {},
   "cell_type": "markdown",
   "metadata": {},
   "source": [
    "## **Random Forest Regressor**"
   ]
  },
  {
   "cell_type": "code",
   "execution_count": 5,
   "metadata": {},
   "outputs": [
    {
     "name": "stdout",
     "output_type": "stream",
     "text": [
      "R2:  0.9812877669138073\n",
      "mse:  287042.2024387708\n"
     ]
    }
   ],
   "source": [
    "import pandas as pd\n",
    "import seaborn as sns\n",
    "from sklearn.model_selection import train_test_split\n",
    "from sklearn.ensemble import RandomForestRegressor\n",
    "from sklearn.metrics import r2_score, mean_squared_error\n",
    "# Load the dianonds dataset\n",
    "diamonds = sns.load_dataset('diamonds')\n",
    "# Convert categorical variables to numerical\n",
    "diamonds[\"cut\"] = diamonds[\"cut\"].astype('category').cat.codes\n",
    "diamonds[\"color\"] = diamonds[\"color\"].astype('category').cat.codes\n",
    "diamonds[\"clarity\"] = diamonds[\"clarity\"].astype('category').cat.codes\n",
    "# Split the data into training nnd testing sets\n",
    "X = diamonds.drop(columns=[\"price\"])\n",
    "y = diamonds[\"price\"]\n",
    "X_train,X_test,y_train,y_test = train_test_split(X, y, test_size=0.3, random_state=1)\n",
    "# Initialize the randan forest regressnr\n",
    "rf = RandomForestRegressor(n_estimators=100, random_state=1)\n",
    "\n",
    "# Train the model an the training data\n",
    "rf.fit(X_train, y_train)\n",
    "# Make predict ions on the testing dete\n",
    "y_pred = rf.predict(X_test)\n",
    "# Evaluate the model\n",
    "r2 = r2_score(y_test, y_pred)\n",
    "mse = mean_squared_error(y_test, y_pred)\n",
    "print(\"R2: \", r2)\n",
    "print(\"mse: \", mse)\n"
   ]
  },
  {
   "attachments": {},
   "cell_type": "markdown",
   "metadata": {},
   "source": [
    "### **2- Random Forest Classifier**"
   ]
  },
  {
   "cell_type": "code",
   "execution_count": 6,
   "metadata": {},
   "outputs": [
    {
     "name": "stdout",
     "output_type": "stream",
     "text": [
      "Accuracy Score:  0.7861821777283401\n"
     ]
    }
   ],
   "source": [
    "import pandas as pd\n",
    "import seaborn as sns\n",
    "from sklearn.model_selection import train_test_split\n",
    "from sklearn.ensemble import RandomForestClassifier\n",
    "from sklearn.metrics import accuracy_score\n",
    "# Load the dianonds dataset\n",
    "diamonds = sns.load_dataset('diamonds')\n",
    "# Convert categorical variables to numerical\n",
    "diamonds[\"cut\"] = diamonds[\"cut\"].astype('category').cat.codes\n",
    "diamonds[\"color\"] = diamonds[\"color\"].astype('category').cat.codes\n",
    "diamonds[\"clarity\"] = diamonds[\"clarity\"].astype('category').cat.codes\n",
    "# Split the data into training nnd testing sets\n",
    "X = diamonds.drop(columns=[\"cut\"])\n",
    "y = diamonds[\"cut\"]\n",
    "X_train,X_test,y_train,y_test = train_test_split(X, y, test_size=0.3, random_state=1)\n",
    "# Initialize the randan forest regressnr\n",
    "rf = RandomForestClassifier(n_estimators=100, random_state=1)\n",
    "\n",
    "# Train the model an the training data\n",
    "rf.fit(X_train, y_train)\n",
    "# Make predict ions on the testing dete\n",
    "y_pred = rf.predict(X_test)\n",
    "# Evaluate the model\n",
    "accuracy = accuracy_score(y_test, y_pred)\n",
    "print(\"Accuracy Score: \", accuracy)\n"
   ]
  }
 ],
 "metadata": {
  "kernelspec": {
   "display_name": "base",
   "language": "python",
   "name": "python3"
  },
  "language_info": {
   "codemirror_mode": {
    "name": "ipython",
    "version": 3
   },
   "file_extension": ".py",
   "mimetype": "text/x-python",
   "name": "python",
   "nbconvert_exporter": "python",
   "pygments_lexer": "ipython3",
   "version": "3.9.12"
  },
  "orig_nbformat": 4
 },
 "nbformat": 4,
 "nbformat_minor": 2
}
