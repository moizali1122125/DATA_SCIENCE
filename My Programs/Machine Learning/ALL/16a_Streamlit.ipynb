{
 "cells": [
  {
   "attachments": {},
   "cell_type": "markdown",
   "metadata": {},
   "source": [
    "> # **Streamlit App**"
   ]
  },
  {
   "attachments": {},
   "cell_type": "markdown",
   "metadata": {},
   "source": [
    "1. Create a conda environment\n",
    "2. install scikit-learn and streamlit\n",
    "3. Install dependencies pandas, numpy, seaborn\n",
    "4. save the model with joblib\n",
    "5. make the streamlit app\n",
    "6. run the app"
   ]
  },
  {
   "cell_type": "code",
   "execution_count": 1,
   "metadata": {},
   "outputs": [
    {
     "data": {
      "text/plain": [
       "['19b_model.pkl']"
      ]
     },
     "execution_count": 1,
     "metadata": {},
     "output_type": "execute_result"
    }
   ],
   "source": [
    "import pandas as pd\n",
    "import matplotlib.pyplot as plt\n",
    "import seaborn as sns\n",
    "from sklearn.ensemble import RandomForestRegressor\n",
    "from sklearn.model_selection import train_test_split\n",
    "import joblib\n",
    "\n",
    "# Load the dataset\n",
    "df = sns.load_dataset(\"diamonds\")\n",
    "\n",
    "# Convert categorical variables to numerical\n",
    "df[\"cut\"] = df[\"cut\"].astype(\"category\").cat.codes\n",
    "df[\"color\"] = df[\"color\"].astype(\"category\").cat.codes\n",
    "df[\"clarity\"] = df[\"clarity\"].astype(\"category\").cat.codes\n",
    "\n",
    "\n",
    "# Extract features and labels\n",
    "X = df[['carat', 'cut', 'color', 'clarity']]\n",
    "y = df[\"price\"]\n",
    "\n",
    "# Split the data into training and testing sets\n",
    "X_train, X_test, y_train, y_test = train_test_split(X, y, test_size=0.3, random_state=42)\n",
    "\n",
    "# Train a random forest regression model\n",
    "model = RandomForestRegressor(n_estimators=180, random_state=42)\n",
    "model.fit(X_train, y_train)\n",
    "\n",
    "# Save the model\n",
    "joblib.dump(model, \"19b_model.pkl\")\n",
    "\n",
    "# Load the saved model and make predictions\n",
    "#loaded_model = joblib.load(\"model.pkl\")\n",
    "#y_pred = loaded_model.predict(X_test)\n",
    "\n",
    "# Evaluate the model on the testing set\n",
    "#print(\"R^2 score:\", loaded_model.score(X_test, y_test))\n"
   ]
  }
 ],
 "metadata": {
  "kernelspec": {
   "display_name": "base",
   "language": "python",
   "name": "python3"
  },
  "language_info": {
   "codemirror_mode": {
    "name": "ipython",
    "version": 3
   },
   "file_extension": ".py",
   "mimetype": "text/x-python",
   "name": "python",
   "nbconvert_exporter": "python",
   "pygments_lexer": "ipython3",
   "version": "3.9.12"
  },
  "orig_nbformat": 4
 },
 "nbformat": 4,
 "nbformat_minor": 2
}
