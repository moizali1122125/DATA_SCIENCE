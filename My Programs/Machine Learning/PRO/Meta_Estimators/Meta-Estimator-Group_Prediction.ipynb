{
 "cells": [
  {
   "attachments": {},
   "cell_type": "markdown",
   "metadata": {},
   "source": [
    "> # **Group Prediction with Meta-Estimators**"
   ]
  },
  {
   "cell_type": "code",
   "execution_count": null,
   "metadata": {},
   "outputs": [],
   "source": [
    "import numpy as np\n",
    "import pandas as pd\n",
    "import matplotlib.pylab as plt\n",
    "from sklearn.linear_model import LinearRegression\n",
    "from sklearn.pipeline import Pipeline, FeatureUnion\n",
    "from sklearn.preprocessing import OneHotEncoder, StandardScaler\n",
    "from sklearn.metrics import mean_absolute_error,mean_squared_error\n",
    "from sklego.datasets import load_chicken\n",
    "from sklego.preprocessing import ColumnSelector"
   ]
  },
  {
   "cell_type": "code",
   "execution_count": null,
   "metadata": {},
   "outputs": [],
   "source": [
    "df = load_chicken(as_frame=True)\n",
    "df.sample(10)"
   ]
  },
  {
   "cell_type": "code",
   "execution_count": null,
   "metadata": {},
   "outputs": [],
   "source": [
    "def plot_model(model):\n",
    "    df = load_chicken (as_frame=True)\n",
    "    model.fit(df[['diet', 'time']], df['weight'])\n",
    "    metric_df = df[['diet', 'time', 'weight']].assign(pred=lambda df: model.predict(df[['diet', 'time']]))\n",
    "    print(metric_df)\n",
    "    print (metric_df.shape)\n",
    "    metric = mean_absolute_error(metric_df['weight'], metric_df['pred'])\n",
    "    plt.figure(figsize=(12, 4))\n",
    "    # plt.scatter(df['time'], df['weight'])\n",
    "    for i in [1, 2, 3, 4]:\n",
    "        pltr = metric_df[['time', 'diet', 'pred']].drop_duplicates().loc[lambda df: df['diet'] == i]\n",
    "        print (pltr.head())\n",
    "        print (pltr.shape)\n",
    "        plt.plot(pltr['time'], pltr['pred'], color='.rbgy' [i])\n",
    "    plt.title(f'linear model per group, MAE: {np.round(metric, 2)}');"
   ]
  },
  {
   "cell_type": "code",
   "execution_count": null,
   "metadata": {},
   "outputs": [],
   "source": [
    "feature_pipeline = Pipeline([\n",
    "    (\"datagrab\", FeatureUnion([\n",
    "        (\"discrete\", Pipeline([\n",
    "            (\"grab\", ColumnSelector(\"diet\")),\n",
    "            (\"encode\", OneHotEncoder())\n",
    "        ])),\n",
    "        (\"continuous\", Pipeline([\n",
    "            (\"grab\", ColumnSelector(\"time\")),\n",
    "            (\"standardize\", StandardScaler())\n",
    "        ]))\n",
    "    ]))\n",
    "])\n",
    "\n",
    "pipe = Pipeline([\n",
    "    (\"transform\", feature_pipeline),\n",
    "    (\"model\", LinearRegression())])\n",
    "\n",
    "plot_model(pipe)"
   ]
  },
  {
   "attachments": {},
   "cell_type": "markdown",
   "metadata": {},
   "source": [
    "### *We also use this code instead of feature_pipeline (Better MAE)*"
   ]
  },
  {
   "cell_type": "code",
   "execution_count": null,
   "metadata": {},
   "outputs": [],
   "source": [
    "from sklego.meta import GroupedPredictor\n",
    "mod = GroupedPredictor (LinearRegression(), groups=[\"diet\"])\n",
    "plot_model(mod)"
   ]
  }
 ],
 "metadata": {
  "kernelspec": {
   "display_name": "base",
   "language": "python",
   "name": "python3"
  },
  "language_info": {
   "codemirror_mode": {
    "name": "ipython",
    "version": 3
   },
   "file_extension": ".py",
   "mimetype": "text/x-python",
   "name": "python",
   "nbconvert_exporter": "python",
   "pygments_lexer": "ipython3",
   "version": "3.9.12"
  },
  "orig_nbformat": 4,
  "vscode": {
   "interpreter": {
    "hash": "19d1d53a962d236aa061289c2ac16dc8e6d9648c89fe79f459ae9a3493bc67b4"
   }
  }
 },
 "nbformat": 4,
 "nbformat_minor": 2
}
