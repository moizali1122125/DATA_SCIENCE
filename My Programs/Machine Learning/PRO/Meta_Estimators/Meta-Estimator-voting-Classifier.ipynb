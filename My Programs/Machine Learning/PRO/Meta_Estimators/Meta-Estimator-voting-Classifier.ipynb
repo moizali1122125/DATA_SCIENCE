{
 "cells": [
  {
   "attachments": {},
   "cell_type": "markdown",
   "metadata": {},
   "source": [
    "> # **Meta Estimator Voting Classifier**"
   ]
  },
  {
   "attachments": {},
   "cell_type": "markdown",
   "metadata": {},
   "source": [
    "### This Estimator vote between different Models and Select them best."
   ]
  },
  {
   "attachments": {},
   "cell_type": "markdown",
   "metadata": {},
   "source": [
    "## **1_Hard Estimator**\n",
    "### This will select best model by voting like (KNN:3 OR DT:2 (This will select KNN))"
   ]
  },
  {
   "cell_type": "code",
   "execution_count": null,
   "metadata": {},
   "outputs": [],
   "source": [
    "import matplotlib.pyplot as plt\n",
    "from sklearn.tree import DecisionTreeClassifier\n",
    "from sklearn.neighbors import KNeighborsClassifier\n",
    "from sklearn.linear_model import LogisticRegression\n",
    "from sklearn.ensemble import VotingClassifier\n",
    "from sklearn.datasets import make_classification"
   ]
  },
  {
   "cell_type": "code",
   "execution_count": null,
   "metadata": {},
   "outputs": [],
   "source": [
    "X,y = make_classification(n_samples=2000,n_features=2,n_redundant=0,random_state=21)\n",
    "plt.scatter(x=X[:,0], y=X[:,1] , c=y, s=40, edgecolors='silver') "
   ]
  },
  {
   "cell_type": "code",
   "execution_count": null,
   "metadata": {},
   "outputs": [],
   "source": [
    "clf1 = LogisticRegression().fit(X,y)\n",
    "clf2 = KNeighborsClassifier().fit(X,y)\n",
    "clf3 = DecisionTreeClassifier().fit(X,y)\n",
    "\n",
    "clf4 = VotingClassifier(\n",
    "    estimators=[('LogisticRegression:', clf1),\n",
    "                ('KNN:', clf2),\n",
    "                ('DT:', clf3)],\n",
    "                voting = 'hard')"
   ]
  },
  {
   "cell_type": "code",
   "execution_count": null,
   "metadata": {},
   "outputs": [],
   "source": [
    "clf1.predict(X)\n",
    "clf1.score(X,y)"
   ]
  },
  {
   "cell_type": "code",
   "execution_count": null,
   "metadata": {},
   "outputs": [],
   "source": [
    "clf2.predict(X)\n",
    "clf2.score(X,y)"
   ]
  },
  {
   "cell_type": "code",
   "execution_count": null,
   "metadata": {},
   "outputs": [],
   "source": [
    "clf3.predict(X)\n",
    "clf3.score(X,y)"
   ]
  },
  {
   "cell_type": "code",
   "execution_count": null,
   "metadata": {},
   "outputs": [],
   "source": [
    "clf4.fit(X,y)\n",
    "clf4.predict(X)\n",
    "clf4.score(X,y)"
   ]
  },
  {
   "attachments": {},
   "cell_type": "markdown",
   "metadata": {},
   "source": [
    "## **2_Soft Estimator**\n",
    "### This will select best model by percentage of chances like (I have a Dog pic or a polar bear pic The model say Dog is match 75% features or Polar bear match 50% features Then select best.)"
   ]
  },
  {
   "cell_type": "code",
   "execution_count": null,
   "metadata": {},
   "outputs": [],
   "source": [
    "Clf1 = LogisticRegression().fit(X,y)\n",
    "Clf2 = KNeighborsClassifier().fit(X,y)\n",
    "Clf3 = DecisionTreeClassifier().fit(X,y)\n",
    "\n",
    "Clf4 = VotingClassifier(\n",
    "    estimators=[('LogisticRegression:', Clf1),\n",
    "                ('KNN:', Clf2),\n",
    "                ('DT:', Clf3)],\n",
    "                voting = 'soft',\n",
    "                weights = [1,1,4])                  # Give priority"
   ]
  },
  {
   "cell_type": "code",
   "execution_count": null,
   "metadata": {},
   "outputs": [],
   "source": [
    "Clf1.predict(X)\n",
    "Clf1.score(X,y)"
   ]
  },
  {
   "cell_type": "code",
   "execution_count": null,
   "metadata": {},
   "outputs": [],
   "source": [
    "Clf2.predict(X)\n",
    "Clf2.score(X,y)"
   ]
  },
  {
   "cell_type": "code",
   "execution_count": null,
   "metadata": {},
   "outputs": [],
   "source": [
    "Clf3.predict(X)\n",
    "Clf3.score(X,y)"
   ]
  },
  {
   "cell_type": "code",
   "execution_count": null,
   "metadata": {},
   "outputs": [],
   "source": [
    "Clf4.fit(X,y)\n",
    "Clf4.predict(X)\n",
    "Clf4.score(X,y)"
   ]
  },
  {
   "cell_type": "code",
   "execution_count": null,
   "metadata": {},
   "outputs": [],
   "source": [
    "def make_plots():\n",
    "    plt.figure(figsize=(16, 4))\n",
    "    plt.subplot(141)\n",
    "    plt.scatter(X[:, 0], X[:, 1], c=y, s=5)\n",
    "    plt.title(\"original data\")\n",
    "    plt.subplot(142)\n",
    "    plt.scatter(X[:, 0], X[:, 1], c=Clf1.predict_proba(X)[:, 1], s=10)\n",
    "    plt.title(\"Logistic Regression\")\n",
    "    plt.subplot(143)\n",
    "    plt.scatter(X[:, 0], X[:, 1], c=Clf2.predict_proba(X)[:, 1], s=10)\n",
    "    plt.title(\"KNN\")\n",
    "    plt.subplot(144)\n",
    "    plt.scatter(X[:, 0], X[:, 1], c=Clf3.predict_proba(X)[:, 1], s=10)\n",
    "    plt.title(\"Voting Classifer\")\n",
    "make_plots()"
   ]
  }
 ],
 "metadata": {
  "kernelspec": {
   "display_name": "base",
   "language": "python",
   "name": "python3"
  },
  "language_info": {
   "codemirror_mode": {
    "name": "ipython",
    "version": 3
   },
   "file_extension": ".py",
   "mimetype": "text/x-python",
   "name": "python",
   "nbconvert_exporter": "python",
   "pygments_lexer": "ipython3",
   "version": "3.9.12 (main, Apr  4 2022, 05:22:27) [MSC v.1916 64 bit (AMD64)]"
  },
  "orig_nbformat": 4,
  "vscode": {
   "interpreter": {
    "hash": "19d1d53a962d236aa061289c2ac16dc8e6d9648c89fe79f459ae9a3493bc67b4"
   }
  }
 },
 "nbformat": 4,
 "nbformat_minor": 2
}
