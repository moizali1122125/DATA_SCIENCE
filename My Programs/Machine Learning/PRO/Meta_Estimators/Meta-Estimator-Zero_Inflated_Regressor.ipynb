{
 "cells": [
  {
   "attachments": {},
   "cell_type": "markdown",
   "metadata": {},
   "source": [
    "> # **Meta_Estimator of Zero Inflated Regressor**\n",
    "> ### We use this when we have Classification and Regression columns for prediction & we compare "
   ]
  },
  {
   "cell_type": "code",
   "execution_count": null,
   "metadata": {},
   "outputs": [],
   "source": [
    "import numpy as np\n",
    "import pandas as pd\n",
    "from sklearn.linear_model import LogisticRegression, Ridge \n",
    "from sklearn.model_selection import cross_val_score \n",
    "from sklego.meta import ZeroInflatedRegressor\n",
    "\n",
    "df = (pd.DataFrame({'df':pd.date_range('2018-01-01', '2021-01-01')})\n",
    "      .assign(x=lambda df: np.random.normal(0,1, df.shape[0]))                      # 0 is mean OR 1 is standard deviation OR normal mean normal distribution\n",
    "      .assign(weekend = lambda d: (df['df'].dt.weekday >= 5).astype(np.int16))      #1~4 (0), 5,6 (1)\n",
    "      .assign(y = lambda df: np.where(df['weekend'], 0, 1.5 + 0.87 * df['x'] + np.random.normal(0, 0.2, df.shape[0]))))\n",
    "df.head(5)"
   ]
  },
  {
   "cell_type": "code",
   "execution_count": null,
   "metadata": {},
   "outputs": [],
   "source": [
    "X,y = df[['x', 'weekend']].values, df['y'].values"
   ]
  },
  {
   "cell_type": "code",
   "execution_count": null,
   "metadata": {},
   "outputs": [],
   "source": [
    "zir = ZeroInflatedRegressor(\n",
    "    classifier = LogisticRegression(),\n",
    "    regressor=Ridge())         #linear regression iak form (loss function)\n",
    "\n",
    "lr = Ridge (random_state=0)\n",
    "\n",
    "print('ZIR r²:', cross_val_score(zir, X, y).mean())\n",
    "print(' LR r²:', cross_val_score(lr, X, y).mean())"
   ]
  }
 ],
 "metadata": {
  "kernelspec": {
   "display_name": "base",
   "language": "python",
   "name": "python3"
  },
  "language_info": {
   "codemirror_mode": {
    "name": "ipython",
    "version": 3
   },
   "file_extension": ".py",
   "mimetype": "text/x-python",
   "name": "python",
   "nbconvert_exporter": "python",
   "pygments_lexer": "ipython3",
   "version": "3.9.12 (main, Apr  4 2022, 05:22:27) [MSC v.1916 64 bit (AMD64)]"
  },
  "orig_nbformat": 4,
  "vscode": {
   "interpreter": {
    "hash": "19d1d53a962d236aa061289c2ac16dc8e6d9648c89fe79f459ae9a3493bc67b4"
   }
  }
 },
 "nbformat": 4,
 "nbformat_minor": 2
}
