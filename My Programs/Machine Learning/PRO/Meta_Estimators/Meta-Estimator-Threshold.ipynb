{
 "cells": [
  {
   "attachments": {},
   "cell_type": "markdown",
   "metadata": {},
   "source": [
    "> # **Meta Estimator in sk-lego Threshold**\n",
    ">\n",
    "> ## Use for changing model line (LogisticRegres (sionsigmoid))  position "
   ]
  },
  {
   "cell_type": "code",
   "execution_count": null,
   "metadata": {},
   "outputs": [],
   "source": [
    "import pandas as pd\n",
    "import numpy as np\n",
    "import matplotlib.pyplot as plt\n",
    "\n",
    "from sklearn.datasets import make_classification\n",
    "from sklearn.pipeline import Pipeline\n",
    "from sklearn.linear_model import LogisticRegression\n",
    "from sklearn.model_selection import GridSearchCV\n",
    "from sklearn.metrics import precision_score, recall_score, accuracy_score, make_scorer\n",
    "\n",
    "from sklego.meta import Thresholder\n",
    "X,y = make_classification(n_samples=2000,n_features=2,n_redundant=0,random_state=21)\n",
    "plt.scatter(x=X[:,0], y=X[:,1] , c=y, s=40, edgecolors='silver') "
   ]
  },
  {
   "cell_type": "code",
   "execution_count": null,
   "metadata": {},
   "outputs": [],
   "source": [
    "m1 = Thresholder(LogisticRegression(solver='lbfgs'), threshold = 0.1).fit(X,y)  # This solver is default\n",
    "m2 = Thresholder(LogisticRegression(solver='lbfgs'), threshold = 0.9).fit(X,y)\n",
    "\n",
    "plt.figure(figsize=(12, 4))\n",
    "plt.subplot(131)\n",
    "plt.scatter (X[:, 0], X[:, 1], c=y, s=5)\n",
    "plt.title(\"original data\")\n",
    "plt.subplot(132)\n",
    "plt.scatter(X[:, 0], X[:, 1], c=m1.predict(X), s=5)\n",
    "plt.title(\"threshold=0.1\")\n",
    "plt.subplot(133)\n",
    "plt.scatter (X[:, 0], X[:, 1], c=m2.predict(X), s=5)\n",
    "plt.title(\"threshold=0.9\");"
   ]
  },
  {
   "cell_type": "code",
   "execution_count": null,
   "metadata": {},
   "outputs": [],
   "source": [
    "pipe = Pipeline([('model', Thresholder(LogisticRegression(solver='lbfgs'), threshold = 0.1))])\n",
    "\n",
    "mod = GridSearchCV(estimator=pipe,                 \n",
    "                   param_grid = {'model__threshold':np.linspace(0.1, 0.9, 50)},  # Start with 0.1-0.9  within 50 points inside\n",
    "                   scoring = {'precision': make_scorer(precision_score),\n",
    "                              'recall': make_scorer(recall_score),\n",
    "                              'accuracy': make_scorer(accuracy_score)},\n",
    "                   refit = 'precision',\n",
    "                   cv = 5)\n",
    "mod.fit(X,y)"
   ]
  },
  {
   "cell_type": "code",
   "execution_count": null,
   "metadata": {},
   "outputs": [],
   "source": [
    "mod.predict(X)"
   ]
  },
  {
   "cell_type": "code",
   "execution_count": null,
   "metadata": {},
   "outputs": [],
   "source": [
    "df_results = pd.DataFrame(mod.cv_results_)"
   ]
  },
  {
   "cell_type": "code",
   "execution_count": null,
   "metadata": {},
   "outputs": [],
   "source": [
    "# Plotting the results\n",
    "plt.figure(figsize=(12, 4))\n",
    "plt.plot(df_results[\"param_model__threshold\"], df_results[\"mean_test_precision\"], label=\"precision\")\n",
    "plt.plot(df_results[\"param_model__threshold\"], df_results[\"mean_test_recall\"], label=\"recall\") \n",
    "plt.plot(df_results[\"param_model__threshold\"], df_results[\"mean_test_accuracy\"], label=\"accuracy\")\n",
    "plt.legend()\n",
    "plt.title(\"performance\")\n",
    "plt.plot()"
   ]
  },
  {
   "attachments": {},
   "cell_type": "markdown",
   "metadata": {},
   "source": [
    "### *After this plotting We find the best position for threshold **(where all lines joint)***"
   ]
  }
 ],
 "metadata": {
  "kernelspec": {
   "display_name": "base",
   "language": "python",
   "name": "python3"
  },
  "language_info": {
   "codemirror_mode": {
    "name": "ipython",
    "version": 3
   },
   "file_extension": ".py",
   "mimetype": "text/x-python",
   "name": "python",
   "nbconvert_exporter": "python",
   "pygments_lexer": "ipython3",
   "version": "3.9.12 (main, Apr  4 2022, 05:22:27) [MSC v.1916 64 bit (AMD64)]"
  },
  "orig_nbformat": 4,
  "vscode": {
   "interpreter": {
    "hash": "19d1d53a962d236aa061289c2ac16dc8e6d9648c89fe79f459ae9a3493bc67b4"
   }
  }
 },
 "nbformat": 4,
 "nbformat_minor": 2
}
