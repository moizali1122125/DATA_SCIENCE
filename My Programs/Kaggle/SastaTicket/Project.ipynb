{
 "cells": [
  {
   "cell_type": "markdown",
   "metadata": {},
   "source": [
    "> ## Exploratory Data Analysis"
   ]
  },
  {
   "cell_type": "code",
   "execution_count": 2,
   "metadata": {},
   "outputs": [],
   "source": [
    "import pandas as pd\n",
    "import numpy as np\n",
    "import seaborn as sns\n",
    "import matplotlib.pyplot as plt"
   ]
  },
  {
   "cell_type": "code",
   "execution_count": 3,
   "metadata": {},
   "outputs": [
    {
     "data": {
      "text/plain": [
       "(5000, 14)"
      ]
     },
     "execution_count": 3,
     "metadata": {},
     "output_type": "execute_result"
    }
   ],
   "source": [
    "df = pd.read_csv('train.csv')\n",
    "df_test  = pd.read_csv('test.csv')\n",
    "\n",
    "df.shape"
   ]
  },
  {
   "cell_type": "code",
   "execution_count": 4,
   "metadata": {},
   "outputs": [
    {
     "data": {
      "text/plain": [
       "Index(['Unnamed: 0.2', 'Unnamed: 0', 'f1', 'f2', 'f3', 'f4', 'f5', 'f6', 'f7',\n",
       "       'f8', 'f9', 'f10', 'Unnamed: 0.1', 'target'],\n",
       "      dtype='object')"
      ]
     },
     "execution_count": 4,
     "metadata": {},
     "output_type": "execute_result"
    }
   ],
   "source": [
    "df.columns"
   ]
  },
  {
   "cell_type": "markdown",
   "metadata": {},
   "source": [
    "## Finding unique values in categorical lists"
   ]
  },
  {
   "cell_type": "code",
   "execution_count": 5,
   "metadata": {},
   "outputs": [
    {
     "name": "stdout",
     "output_type": "stream",
     "text": [
      "f2 ['x']\n",
      "**************************************\n",
      "f3 ['y']\n",
      "**************************************\n",
      "f6 ['gamma' 'alpha' 'beta' 'omega']\n",
      "**************************************\n",
      "f8 [ 0. 35. 20. 15. 32. 40. 45.]\n",
      "**************************************\n",
      "f9 [0 1 2]\n",
      "**************************************\n",
      "f10 ['c-2' 'a-9' 'c-4' 'a-23' 'b-1' 'a-5' 'b-9' 'a-7' 'd-1' 'c-6' 'a-1' 'd-5'\n",
      " 'b-69' 'b-19' 'd-3' 'b-319' 'b-369' 'b-67' 'b-73']\n",
      "**************************************\n"
     ]
    }
   ],
   "source": [
    "cat_list = ['f2','f3','f6','f8','f9','f10']\n",
    "\n",
    "# to find unique value in each column\n",
    "for i in cat_list:\n",
    "    print(i,df[i].unique())\n",
    "    print('**************************************')"
   ]
  },
  {
   "cell_type": "markdown",
   "metadata": {},
   "source": [
    "### Remove Columns"
   ]
  },
  {
   "cell_type": "code",
   "execution_count": 6,
   "metadata": {},
   "outputs": [
    {
     "data": {
      "text/html": [
       "<div>\n",
       "<style scoped>\n",
       "    .dataframe tbody tr th:only-of-type {\n",
       "        vertical-align: middle;\n",
       "    }\n",
       "\n",
       "    .dataframe tbody tr th {\n",
       "        vertical-align: top;\n",
       "    }\n",
       "\n",
       "    .dataframe thead th {\n",
       "        text-align: right;\n",
       "    }\n",
       "</style>\n",
       "<table border=\"1\" class=\"dataframe\">\n",
       "  <thead>\n",
       "    <tr style=\"text-align: right;\">\n",
       "      <th></th>\n",
       "      <th>f1</th>\n",
       "      <th>f4</th>\n",
       "      <th>f5</th>\n",
       "      <th>f6</th>\n",
       "      <th>f7</th>\n",
       "      <th>f8</th>\n",
       "      <th>f9</th>\n",
       "      <th>target</th>\n",
       "    </tr>\n",
       "  </thead>\n",
       "  <tbody>\n",
       "    <tr>\n",
       "      <th>0</th>\n",
       "      <td>2021-01-08 12:43:27.828728+00:00</td>\n",
       "      <td>2021-01-23 05:00:00+00:00</td>\n",
       "      <td>2021-01-23 07:00:00+00:00</td>\n",
       "      <td>gamma</td>\n",
       "      <td>True</td>\n",
       "      <td>0.0</td>\n",
       "      <td>0</td>\n",
       "      <td>7400.0</td>\n",
       "    </tr>\n",
       "    <tr>\n",
       "      <th>1</th>\n",
       "      <td>2021-07-01 04:45:11.397541+00:00</td>\n",
       "      <td>2021-07-01 13:00:00+00:00</td>\n",
       "      <td>2021-07-01 15:00:00+00:00</td>\n",
       "      <td>alpha</td>\n",
       "      <td>True</td>\n",
       "      <td>35.0</td>\n",
       "      <td>1</td>\n",
       "      <td>15377.0</td>\n",
       "    </tr>\n",
       "    <tr>\n",
       "      <th>2</th>\n",
       "      <td>2021-06-24 11:28:47.565115+00:00</td>\n",
       "      <td>2021-07-29 14:00:00+00:00</td>\n",
       "      <td>2021-07-29 16:00:00+00:00</td>\n",
       "      <td>gamma</td>\n",
       "      <td>True</td>\n",
       "      <td>20.0</td>\n",
       "      <td>1</td>\n",
       "      <td>6900.0</td>\n",
       "    </tr>\n",
       "    <tr>\n",
       "      <th>3</th>\n",
       "      <td>2021-06-05 11:09:48.655927+00:00</td>\n",
       "      <td>2021-06-09 16:00:00+00:00</td>\n",
       "      <td>2021-06-09 18:00:00+00:00</td>\n",
       "      <td>alpha</td>\n",
       "      <td>True</td>\n",
       "      <td>15.0</td>\n",
       "      <td>1</td>\n",
       "      <td>9707.0</td>\n",
       "    </tr>\n",
       "    <tr>\n",
       "      <th>4</th>\n",
       "      <td>2021-07-29 09:53:51.065306+00:00</td>\n",
       "      <td>2021-08-23 05:00:00+00:00</td>\n",
       "      <td>2021-08-23 06:55:00+00:00</td>\n",
       "      <td>beta</td>\n",
       "      <td>True</td>\n",
       "      <td>20.0</td>\n",
       "      <td>0</td>\n",
       "      <td>6500.0</td>\n",
       "    </tr>\n",
       "  </tbody>\n",
       "</table>\n",
       "</div>"
      ],
      "text/plain": [
       "                                 f1                         f4  \\\n",
       "0  2021-01-08 12:43:27.828728+00:00  2021-01-23 05:00:00+00:00   \n",
       "1  2021-07-01 04:45:11.397541+00:00  2021-07-01 13:00:00+00:00   \n",
       "2  2021-06-24 11:28:47.565115+00:00  2021-07-29 14:00:00+00:00   \n",
       "3  2021-06-05 11:09:48.655927+00:00  2021-06-09 16:00:00+00:00   \n",
       "4  2021-07-29 09:53:51.065306+00:00  2021-08-23 05:00:00+00:00   \n",
       "\n",
       "                          f5     f6    f7    f8  f9   target  \n",
       "0  2021-01-23 07:00:00+00:00  gamma  True   0.0   0   7400.0  \n",
       "1  2021-07-01 15:00:00+00:00  alpha  True  35.0   1  15377.0  \n",
       "2  2021-07-29 16:00:00+00:00  gamma  True  20.0   1   6900.0  \n",
       "3  2021-06-09 18:00:00+00:00  alpha  True  15.0   1   9707.0  \n",
       "4  2021-08-23 06:55:00+00:00   beta  True  20.0   0   6500.0  "
      ]
     },
     "execution_count": 6,
     "metadata": {},
     "output_type": "execute_result"
    }
   ],
   "source": [
    "df.drop(['Unnamed: 0','Unnamed: 0.1','Unnamed: 0.2','f2','f3','f10'],axis=1,inplace=True)\n",
    "df.head()"
   ]
  },
  {
   "cell_type": "markdown",
   "metadata": {},
   "source": [
    "### Type Casting"
   ]
  },
  {
   "cell_type": "code",
   "execution_count": 7,
   "metadata": {},
   "outputs": [
    {
     "data": {
      "text/html": [
       "<div>\n",
       "<style scoped>\n",
       "    .dataframe tbody tr th:only-of-type {\n",
       "        vertical-align: middle;\n",
       "    }\n",
       "\n",
       "    .dataframe tbody tr th {\n",
       "        vertical-align: top;\n",
       "    }\n",
       "\n",
       "    .dataframe thead th {\n",
       "        text-align: right;\n",
       "    }\n",
       "</style>\n",
       "<table border=\"1\" class=\"dataframe\">\n",
       "  <thead>\n",
       "    <tr style=\"text-align: right;\">\n",
       "      <th></th>\n",
       "      <th>time_to_dep(s)</th>\n",
       "      <th>travel_time(s)</th>\n",
       "      <th>f1</th>\n",
       "      <th>f4</th>\n",
       "      <th>f5</th>\n",
       "      <th>f6</th>\n",
       "      <th>f7</th>\n",
       "      <th>f8</th>\n",
       "      <th>f9</th>\n",
       "      <th>target</th>\n",
       "    </tr>\n",
       "  </thead>\n",
       "  <tbody>\n",
       "    <tr>\n",
       "      <th>0</th>\n",
       "      <td>1268192.0</td>\n",
       "      <td>7200.0</td>\n",
       "      <td>2021-01-08 12:43:27.828728+00:00</td>\n",
       "      <td>2021-01-23 05:00:00+00:00</td>\n",
       "      <td>2021-01-23 07:00:00+00:00</td>\n",
       "      <td>gamma</td>\n",
       "      <td>True</td>\n",
       "      <td>0.0</td>\n",
       "      <td>0</td>\n",
       "      <td>7400.0</td>\n",
       "    </tr>\n",
       "    <tr>\n",
       "      <th>1</th>\n",
       "      <td>29688.0</td>\n",
       "      <td>7200.0</td>\n",
       "      <td>2021-07-01 04:45:11.397541+00:00</td>\n",
       "      <td>2021-07-01 13:00:00+00:00</td>\n",
       "      <td>2021-07-01 15:00:00+00:00</td>\n",
       "      <td>alpha</td>\n",
       "      <td>True</td>\n",
       "      <td>35.0</td>\n",
       "      <td>1</td>\n",
       "      <td>15377.0</td>\n",
       "    </tr>\n",
       "    <tr>\n",
       "      <th>2</th>\n",
       "      <td>3033072.0</td>\n",
       "      <td>7200.0</td>\n",
       "      <td>2021-06-24 11:28:47.565115+00:00</td>\n",
       "      <td>2021-07-29 14:00:00+00:00</td>\n",
       "      <td>2021-07-29 16:00:00+00:00</td>\n",
       "      <td>gamma</td>\n",
       "      <td>True</td>\n",
       "      <td>20.0</td>\n",
       "      <td>1</td>\n",
       "      <td>6900.0</td>\n",
       "    </tr>\n",
       "    <tr>\n",
       "      <th>3</th>\n",
       "      <td>363011.0</td>\n",
       "      <td>7200.0</td>\n",
       "      <td>2021-06-05 11:09:48.655927+00:00</td>\n",
       "      <td>2021-06-09 16:00:00+00:00</td>\n",
       "      <td>2021-06-09 18:00:00+00:00</td>\n",
       "      <td>alpha</td>\n",
       "      <td>True</td>\n",
       "      <td>15.0</td>\n",
       "      <td>1</td>\n",
       "      <td>9707.0</td>\n",
       "    </tr>\n",
       "    <tr>\n",
       "      <th>4</th>\n",
       "      <td>2142368.0</td>\n",
       "      <td>6900.0</td>\n",
       "      <td>2021-07-29 09:53:51.065306+00:00</td>\n",
       "      <td>2021-08-23 05:00:00+00:00</td>\n",
       "      <td>2021-08-23 06:55:00+00:00</td>\n",
       "      <td>beta</td>\n",
       "      <td>True</td>\n",
       "      <td>20.0</td>\n",
       "      <td>0</td>\n",
       "      <td>6500.0</td>\n",
       "    </tr>\n",
       "  </tbody>\n",
       "</table>\n",
       "</div>"
      ],
      "text/plain": [
       "   time_to_dep(s)  travel_time(s)                               f1  \\\n",
       "0       1268192.0          7200.0 2021-01-08 12:43:27.828728+00:00   \n",
       "1         29688.0          7200.0 2021-07-01 04:45:11.397541+00:00   \n",
       "2       3033072.0          7200.0 2021-06-24 11:28:47.565115+00:00   \n",
       "3        363011.0          7200.0 2021-06-05 11:09:48.655927+00:00   \n",
       "4       2142368.0          6900.0 2021-07-29 09:53:51.065306+00:00   \n",
       "\n",
       "                         f4                        f5     f6    f7    f8  f9  \\\n",
       "0 2021-01-23 05:00:00+00:00 2021-01-23 07:00:00+00:00  gamma  True   0.0   0   \n",
       "1 2021-07-01 13:00:00+00:00 2021-07-01 15:00:00+00:00  alpha  True  35.0   1   \n",
       "2 2021-07-29 14:00:00+00:00 2021-07-29 16:00:00+00:00  gamma  True  20.0   1   \n",
       "3 2021-06-09 16:00:00+00:00 2021-06-09 18:00:00+00:00  alpha  True  15.0   1   \n",
       "4 2021-08-23 05:00:00+00:00 2021-08-23 06:55:00+00:00   beta  True  20.0   0   \n",
       "\n",
       "    target  \n",
       "0   7400.0  \n",
       "1  15377.0  \n",
       "2   6900.0  \n",
       "3   9707.0  \n",
       "4   6500.0  "
      ]
     },
     "execution_count": 7,
     "metadata": {},
     "output_type": "execute_result"
    }
   ],
   "source": [
    "# First Method\n",
    "from datetime import date, datetime\n",
    "\n",
    "df['f1'] = pd.to_datetime(df['f1'])\n",
    "df['f4'] = pd.to_datetime(df['f4'])\n",
    "df['f5'] = pd.to_datetime(df['f5'])\n",
    "\n",
    "df.insert(0,'time_to_dep(s)',((df['f4']-df['f1']).astype('timedelta64[s]')),True)\n",
    "df.insert(1,'travel_time(s)',((df['f5']-df['f4']).astype('timedelta64[s]')),True)\n",
    "\n",
    "df.head()\n",
    "# also remove f1+f4+f5    Because i already collected data"
   ]
  },
  {
   "cell_type": "code",
   "execution_count": 8,
   "metadata": {},
   "outputs": [
    {
     "data": {
      "text/plain": [
       "\"\\n# functions to calculate time\\ndef convert(seconds):\\n    seconds  = seconds %  (24 * 3600)\\n    hour     = seconds // 3600\\n    seconds %= 3600 \\n    minutes  = seconds // 60 \\n    seconds %= 60\\n    return '%d:%02d:%02d' % (hour,minutes,seconds)\\n    \\n# Column addition\\ndf['time_1] = df['time_to_dep(s)'].apply(convert)\\ndf['time_2] = df['travel_time(s)'].apply(convert)\\n\""
      ]
     },
     "execution_count": 8,
     "metadata": {},
     "output_type": "execute_result"
    }
   ],
   "source": [
    "'''\n",
    "# Second Method \n",
    "date_format_str = '%Y/%m/%d %H:%M:%S.%f'\n",
    "\n",
    "df['f1'] = pd.to_datetime(df['f1'])\n",
    "df['f4'] = pd.to_datetime(df['f4'])\n",
    "\n",
    "f1 = pd.to_datetime(df['f1'], date_format_str)\n",
    "f4 = pd.to_datetime(df['f4'], date_format_str)\n",
    "diff = f4-f1\n",
    "df['delta'] = diff\n",
    "'''\n",
    "'''\n",
    "# functions to calculate time\n",
    "def convert(seconds):\n",
    "    seconds  = seconds %  (24 * 3600)\n",
    "    hour     = seconds // 3600\n",
    "    seconds %= 3600 \n",
    "    minutes  = seconds // 60 \n",
    "    seconds %= 60\n",
    "    return '%d:%02d:%02d' % (hour,minutes,seconds)\n",
    "    \n",
    "# Column addition\n",
    "df['time_1] = df['time_to_dep(s)'].apply(convert)\n",
    "df['time_2] = df['travel_time(s)'].apply(convert)\n",
    "'''"
   ]
  },
  {
   "cell_type": "code",
   "execution_count": 9,
   "metadata": {},
   "outputs": [],
   "source": [
    "cat_cols = ['f6','f7','f8','f9']  # Cetagorical\n",
    "num_cols = ['time_to_dep(s)',\"travel_time(s)\"] # Numaric"
   ]
  },
  {
   "cell_type": "markdown",
   "metadata": {},
   "source": [
    "### Plotting Cetagorical"
   ]
  },
  {
   "cell_type": "code",
   "execution_count": 10,
   "metadata": {},
   "outputs": [
    {
     "data": {
      "text/plain": [
       "'\\nc = 1\\nplt.figure(figsize=(10,30))\\nfor i in cat_cols:\\n    plt.subplot(6,3,c)\\n    sns.countplot(df[i])\\n  # plt.xticks(rotaion=90)\\n  # plt.tight_layout(pad=3.0)\\n    c = c+1\\n'"
      ]
     },
     "execution_count": 10,
     "metadata": {},
     "output_type": "execute_result"
    }
   ],
   "source": [
    "'''\n",
    "c = 1\n",
    "plt.figure(figsize=(10,30))\n",
    "for i in cat_cols:\n",
    "    plt.subplot(6,3,c)\n",
    "    sns.countplot(df[i])\n",
    "  # plt.xticks(rotaion=90)\n",
    "  # plt.tight_layout(pad=3.0)\n",
    "    c = c+1\n",
    "'''"
   ]
  },
  {
   "cell_type": "markdown",
   "metadata": {},
   "source": [
    "### Plotting Numaric"
   ]
  },
  {
   "cell_type": "code",
   "execution_count": 11,
   "metadata": {},
   "outputs": [
    {
     "name": "stderr",
     "output_type": "stream",
     "text": [
      "C:\\Users\\MOIZ\\AppData\\Local\\Temp\\ipykernel_9260\\3686694817.py:5: UserWarning: \n",
      "\n",
      "`distplot` is a deprecated function and will be removed in seaborn v0.14.0.\n",
      "\n",
      "Please adapt your code to use either `displot` (a figure-level function with\n",
      "similar flexibility) or `histplot` (an axes-level function for histograms).\n",
      "\n",
      "For a guide to updating your code to use the new functions, please see\n",
      "https://gist.github.com/mwaskom/de44147ed2974457ad6372750bbe5751\n",
      "\n",
      "  sns.distplot(df[i])\n",
      "C:\\Users\\MOIZ\\AppData\\Local\\Temp\\ipykernel_9260\\3686694817.py:5: UserWarning: \n",
      "\n",
      "`distplot` is a deprecated function and will be removed in seaborn v0.14.0.\n",
      "\n",
      "Please adapt your code to use either `displot` (a figure-level function with\n",
      "similar flexibility) or `histplot` (an axes-level function for histograms).\n",
      "\n",
      "For a guide to updating your code to use the new functions, please see\n",
      "https://gist.github.com/mwaskom/de44147ed2974457ad6372750bbe5751\n",
      "\n",
      "  sns.distplot(df[i])\n"
     ]
    },
    {
     "data": {
      "image/png": "[encoded data removed]",
      "text/plain": [
       "<Figure size 1000x3000 with 2 Axes>"
      ]
     },
     "metadata": {},
     "output_type": "display_data"
    }
   ],
   "source": [
    "c = 1\n",
    "plt.figure(figsize=(10,30))\n",
    "for i in num_cols:\n",
    "    plt.subplot(6,3,c)\n",
    "    sns.distplot(df[i])\n",
    "  # plt.xticks(rotaion=90)\n",
    "  # plt.tight_layout(pad=3.0)\n",
    "    c = c+1"
   ]
  },
  {
   "cell_type": "code",
   "execution_count": 12,
   "metadata": {},
   "outputs": [
    {
     "data": {
      "image/png": "[encoded data removed]",
      "text/plain": [
       "<Figure size 1000x3000 with 2 Axes>"
      ]
     },
     "metadata": {},
     "output_type": "display_data"
    }
   ],
   "source": [
    "c = 1\n",
    "plt.figure(figsize=(10,30))\n",
    "for i in num_cols:\n",
    "    plt.subplot(6,3,c)\n",
    "    sns.boxplot(df[i])\n",
    "  # plt.xticks(rotaion=90)\n",
    "  # plt.tight_layout(pad=3.0)\n",
    "    c = c+1"
   ]
  },
  {
   "cell_type": "markdown",
   "metadata": {},
   "source": [
    "Plotting Target(y)"
   ]
  },
  {
   "cell_type": "code",
   "execution_count": 13,
   "metadata": {},
   "outputs": [
    {
     "data": {
      "text/plain": [
       "<seaborn.axisgrid.FacetGrid at 0x1c86ac6a7f0>"
      ]
     },
     "execution_count": 13,
     "metadata": {},
     "output_type": "execute_result"
    },
    {
     "data": {
      "image/png": "[encoded data removed]",
      "text/plain": [
       "<Figure size 500x500 with 1 Axes>"
      ]
     },
     "metadata": {},
     "output_type": "display_data"
    }
   ],
   "source": [
    "sns.displot(df.target)"
   ]
  },
  {
   "cell_type": "code",
   "execution_count": 14,
   "metadata": {},
   "outputs": [
    {
     "data": {
      "text/plain": [
       "<AxesSubplot: >"
      ]
     },
     "execution_count": 14,
     "metadata": {},
     "output_type": "execute_result"
    },
    {
     "data": {
      "image/png": "[encoded data removed]",
      "text/plain": [
       "<Figure size 640x480 with 1 Axes>"
      ]
     },
     "metadata": {},
     "output_type": "display_data"
    }
   ],
   "source": [
    "sns.boxplot(df.target)\n",
    "\n",
    "# Remove outlayers according to data"
   ]
  },
  {
   "cell_type": "markdown",
   "metadata": {},
   "source": [
    "### Skew & Kutosis"
   ]
  },
  {
   "cell_type": "code",
   "execution_count": 15,
   "metadata": {},
   "outputs": [
    {
     "name": "stderr",
     "output_type": "stream",
     "text": [
      "C:\\Users\\MOIZ\\AppData\\Local\\Temp\\ipykernel_9260\\3481392468.py:1: FutureWarning: The default value of numeric_only in DataFrame.skew is deprecated. In a future version, it will default to False. In addition, specifying 'numeric_only=None' is deprecated. Select only valid columns or specify the value of numeric_only to silence this warning.\n",
      "  df.skew()\n",
      "C:\\Users\\MOIZ\\AppData\\Local\\Temp\\ipykernel_9260\\3481392468.py:2: FutureWarning: The default value of numeric_only in DataFrame.kurt is deprecated. In a future version, it will default to False. In addition, specifying 'numeric_only=None' is deprecated. Select only valid columns or specify the value of numeric_only to silence this warning.\n",
      "  df.kurtosis()\n"
     ]
    },
    {
     "data": {
      "text/plain": [
       "time_to_dep(s)     20.796049\n",
       "travel_time(s)      5.504109\n",
       "f7                134.031335\n",
       "f8                  0.046374\n",
       "f9                 -0.310364\n",
       "target              6.344666\n",
       "dtype: float64"
      ]
     },
     "execution_count": 15,
     "metadata": {},
     "output_type": "execute_result"
    }
   ],
   "source": [
    "df.skew()\n",
    "df.kurtosis()\n",
    "\n",
    "# Remove outlayers by analyzing this"
   ]
  },
  {
   "cell_type": "markdown",
   "metadata": {},
   "source": [
    "> # **Encoding of Variables**"
   ]
  },
  {
   "cell_type": "code",
   "execution_count": 16,
   "metadata": {},
   "outputs": [
    {
     "data": {
      "text/html": [
       "<div>\n",
       "<style scoped>\n",
       "    .dataframe tbody tr th:only-of-type {\n",
       "        vertical-align: middle;\n",
       "    }\n",
       "\n",
       "    .dataframe tbody tr th {\n",
       "        vertical-align: top;\n",
       "    }\n",
       "\n",
       "    .dataframe thead th {\n",
       "        text-align: right;\n",
       "    }\n",
       "</style>\n",
       "<table border=\"1\" class=\"dataframe\">\n",
       "  <thead>\n",
       "    <tr style=\"text-align: right;\">\n",
       "      <th></th>\n",
       "      <th>time_to_dep(s)</th>\n",
       "      <th>travel_time(s)</th>\n",
       "      <th>f6</th>\n",
       "      <th>f7</th>\n",
       "      <th>f8</th>\n",
       "      <th>f9</th>\n",
       "      <th>target</th>\n",
       "    </tr>\n",
       "  </thead>\n",
       "  <tbody>\n",
       "    <tr>\n",
       "      <th>0</th>\n",
       "      <td>1268192.0</td>\n",
       "      <td>7200.0</td>\n",
       "      <td>gamma</td>\n",
       "      <td>True</td>\n",
       "      <td>0.0</td>\n",
       "      <td>0</td>\n",
       "      <td>7400.0</td>\n",
       "    </tr>\n",
       "    <tr>\n",
       "      <th>1</th>\n",
       "      <td>29688.0</td>\n",
       "      <td>7200.0</td>\n",
       "      <td>alpha</td>\n",
       "      <td>True</td>\n",
       "      <td>35.0</td>\n",
       "      <td>1</td>\n",
       "      <td>15377.0</td>\n",
       "    </tr>\n",
       "    <tr>\n",
       "      <th>2</th>\n",
       "      <td>3033072.0</td>\n",
       "      <td>7200.0</td>\n",
       "      <td>gamma</td>\n",
       "      <td>True</td>\n",
       "      <td>20.0</td>\n",
       "      <td>1</td>\n",
       "      <td>6900.0</td>\n",
       "    </tr>\n",
       "    <tr>\n",
       "      <th>3</th>\n",
       "      <td>363011.0</td>\n",
       "      <td>7200.0</td>\n",
       "      <td>alpha</td>\n",
       "      <td>True</td>\n",
       "      <td>15.0</td>\n",
       "      <td>1</td>\n",
       "      <td>9707.0</td>\n",
       "    </tr>\n",
       "    <tr>\n",
       "      <th>4</th>\n",
       "      <td>2142368.0</td>\n",
       "      <td>6900.0</td>\n",
       "      <td>beta</td>\n",
       "      <td>True</td>\n",
       "      <td>20.0</td>\n",
       "      <td>0</td>\n",
       "      <td>6500.0</td>\n",
       "    </tr>\n",
       "  </tbody>\n",
       "</table>\n",
       "</div>"
      ],
      "text/plain": [
       "   time_to_dep(s)  travel_time(s)     f6    f7    f8  f9   target\n",
       "0       1268192.0          7200.0  gamma  True   0.0   0   7400.0\n",
       "1         29688.0          7200.0  alpha  True  35.0   1  15377.0\n",
       "2       3033072.0          7200.0  gamma  True  20.0   1   6900.0\n",
       "3        363011.0          7200.0  alpha  True  15.0   1   9707.0\n",
       "4       2142368.0          6900.0   beta  True  20.0   0   6500.0"
      ]
     },
     "execution_count": 16,
     "metadata": {},
     "output_type": "execute_result"
    }
   ],
   "source": [
    "df.drop(['f1','f4','f5'],axis=1,inplace=True)\n",
    "df.head()"
   ]
  },
  {
   "cell_type": "markdown",
   "metadata": {},
   "source": [
    "### Convert into (0,1,2) for Machine Learning"
   ]
  },
  {
   "cell_type": "code",
   "execution_count": 17,
   "metadata": {},
   "outputs": [
    {
     "data": {
      "text/html": [
       "<div>\n",
       "<style scoped>\n",
       "    .dataframe tbody tr th:only-of-type {\n",
       "        vertical-align: middle;\n",
       "    }\n",
       "\n",
       "    .dataframe tbody tr th {\n",
       "        vertical-align: top;\n",
       "    }\n",
       "\n",
       "    .dataframe thead th {\n",
       "        text-align: right;\n",
       "    }\n",
       "</style>\n",
       "<table border=\"1\" class=\"dataframe\">\n",
       "  <thead>\n",
       "    <tr style=\"text-align: right;\">\n",
       "      <th></th>\n",
       "      <th>time_to_dep(s)</th>\n",
       "      <th>travel_time(s)</th>\n",
       "      <th>f6</th>\n",
       "      <th>f7</th>\n",
       "      <th>f8</th>\n",
       "      <th>f9</th>\n",
       "      <th>target</th>\n",
       "    </tr>\n",
       "  </thead>\n",
       "  <tbody>\n",
       "    <tr>\n",
       "      <th>4922</th>\n",
       "      <td>1034175.0</td>\n",
       "      <td>7200.0</td>\n",
       "      <td>2</td>\n",
       "      <td>1</td>\n",
       "      <td>2</td>\n",
       "      <td>2</td>\n",
       "      <td>14130.0</td>\n",
       "    </tr>\n",
       "    <tr>\n",
       "      <th>4979</th>\n",
       "      <td>297640.0</td>\n",
       "      <td>7200.0</td>\n",
       "      <td>0</td>\n",
       "      <td>1</td>\n",
       "      <td>1</td>\n",
       "      <td>1</td>\n",
       "      <td>7900.0</td>\n",
       "    </tr>\n",
       "    <tr>\n",
       "      <th>4360</th>\n",
       "      <td>429049.0</td>\n",
       "      <td>7200.0</td>\n",
       "      <td>2</td>\n",
       "      <td>1</td>\n",
       "      <td>2</td>\n",
       "      <td>1</td>\n",
       "      <td>8750.0</td>\n",
       "    </tr>\n",
       "    <tr>\n",
       "      <th>1800</th>\n",
       "      <td>500660.0</td>\n",
       "      <td>7200.0</td>\n",
       "      <td>0</td>\n",
       "      <td>1</td>\n",
       "      <td>4</td>\n",
       "      <td>1</td>\n",
       "      <td>5996.0</td>\n",
       "    </tr>\n",
       "    <tr>\n",
       "      <th>1815</th>\n",
       "      <td>674149.0</td>\n",
       "      <td>7800.0</td>\n",
       "      <td>0</td>\n",
       "      <td>1</td>\n",
       "      <td>0</td>\n",
       "      <td>0</td>\n",
       "      <td>8739.0</td>\n",
       "    </tr>\n",
       "    <tr>\n",
       "      <th>797</th>\n",
       "      <td>245614.0</td>\n",
       "      <td>6900.0</td>\n",
       "      <td>1</td>\n",
       "      <td>0</td>\n",
       "      <td>2</td>\n",
       "      <td>0</td>\n",
       "      <td>8697.0</td>\n",
       "    </tr>\n",
       "    <tr>\n",
       "      <th>324</th>\n",
       "      <td>741754.0</td>\n",
       "      <td>7200.0</td>\n",
       "      <td>0</td>\n",
       "      <td>1</td>\n",
       "      <td>0</td>\n",
       "      <td>0</td>\n",
       "      <td>8739.0</td>\n",
       "    </tr>\n",
       "    <tr>\n",
       "      <th>1413</th>\n",
       "      <td>1295362.0</td>\n",
       "      <td>7200.0</td>\n",
       "      <td>0</td>\n",
       "      <td>1</td>\n",
       "      <td>2</td>\n",
       "      <td>1</td>\n",
       "      <td>10545.0</td>\n",
       "    </tr>\n",
       "    <tr>\n",
       "      <th>4615</th>\n",
       "      <td>1519533.0</td>\n",
       "      <td>6900.0</td>\n",
       "      <td>1</td>\n",
       "      <td>1</td>\n",
       "      <td>2</td>\n",
       "      <td>0</td>\n",
       "      <td>7222.0</td>\n",
       "    </tr>\n",
       "    <tr>\n",
       "      <th>1977</th>\n",
       "      <td>3217094.0</td>\n",
       "      <td>7200.0</td>\n",
       "      <td>0</td>\n",
       "      <td>1</td>\n",
       "      <td>4</td>\n",
       "      <td>1</td>\n",
       "      <td>8605.0</td>\n",
       "    </tr>\n",
       "  </tbody>\n",
       "</table>\n",
       "</div>"
      ],
      "text/plain": [
       "      time_to_dep(s)  travel_time(s)  f6  f7  f8  f9   target\n",
       "4922       1034175.0          7200.0   2   1   2   2  14130.0\n",
       "4979        297640.0          7200.0   0   1   1   1   7900.0\n",
       "4360        429049.0          7200.0   2   1   2   1   8750.0\n",
       "1800        500660.0          7200.0   0   1   4   1   5996.0\n",
       "1815        674149.0          7800.0   0   1   0   0   8739.0\n",
       "797         245614.0          6900.0   1   0   2   0   8697.0\n",
       "324         741754.0          7200.0   0   1   0   0   8739.0\n",
       "1413       1295362.0          7200.0   0   1   2   1  10545.0\n",
       "4615       1519533.0          6900.0   1   1   2   0   7222.0\n",
       "1977       3217094.0          7200.0   0   1   4   1   8605.0"
      ]
     },
     "execution_count": 17,
     "metadata": {},
     "output_type": "execute_result"
    }
   ],
   "source": [
    "from sklearn.preprocessing import LabelEncoder\n",
    "df['f6'] = LabelEncoder().fit_transform(df['f6'])\n",
    "df['f7'] = LabelEncoder().fit_transform(df['f7'])\n",
    "df['f8'] = LabelEncoder().fit_transform(df['f8'])\n",
    "\n",
    "df.sample(10)"
   ]
  },
  {
   "cell_type": "code",
   "execution_count": 18,
   "metadata": {},
   "outputs": [
    {
     "data": {
      "text/html": [
       "<div>\n",
       "<style scoped>\n",
       "    .dataframe tbody tr th:only-of-type {\n",
       "        vertical-align: middle;\n",
       "    }\n",
       "\n",
       "    .dataframe tbody tr th {\n",
       "        vertical-align: top;\n",
       "    }\n",
       "\n",
       "    .dataframe thead th {\n",
       "        text-align: right;\n",
       "    }\n",
       "</style>\n",
       "<table border=\"1\" class=\"dataframe\">\n",
       "  <thead>\n",
       "    <tr style=\"text-align: right;\">\n",
       "      <th></th>\n",
       "      <th>time_to_dep(s)</th>\n",
       "      <th>travel_time(s)</th>\n",
       "      <th>f6</th>\n",
       "      <th>f7</th>\n",
       "      <th>f8</th>\n",
       "      <th>f9</th>\n",
       "      <th>target</th>\n",
       "    </tr>\n",
       "  </thead>\n",
       "  <tbody>\n",
       "    <tr>\n",
       "      <th>count</th>\n",
       "      <td>5.000000e+03</td>\n",
       "      <td>5000.000000</td>\n",
       "      <td>5000.000000</td>\n",
       "      <td>5000.000000</td>\n",
       "      <td>5000.000000</td>\n",
       "      <td>5000.000000</td>\n",
       "      <td>5000.000000</td>\n",
       "    </tr>\n",
       "    <tr>\n",
       "      <th>mean</th>\n",
       "      <td>1.349212e+06</td>\n",
       "      <td>7159.836000</td>\n",
       "      <td>0.953400</td>\n",
       "      <td>0.992800</td>\n",
       "      <td>2.292000</td>\n",
       "      <td>0.944600</td>\n",
       "      <td>10104.351800</td>\n",
       "    </tr>\n",
       "    <tr>\n",
       "      <th>std</th>\n",
       "      <td>1.679384e+06</td>\n",
       "      <td>169.613345</td>\n",
       "      <td>0.948371</td>\n",
       "      <td>0.084555</td>\n",
       "      <td>1.247817</td>\n",
       "      <td>0.607951</td>\n",
       "      <td>3359.936118</td>\n",
       "    </tr>\n",
       "    <tr>\n",
       "      <th>min</th>\n",
       "      <td>2.003000e+03</td>\n",
       "      <td>6900.000000</td>\n",
       "      <td>0.000000</td>\n",
       "      <td>0.000000</td>\n",
       "      <td>0.000000</td>\n",
       "      <td>0.000000</td>\n",
       "      <td>4990.000000</td>\n",
       "    </tr>\n",
       "    <tr>\n",
       "      <th>25%</th>\n",
       "      <td>3.606870e+05</td>\n",
       "      <td>7140.000000</td>\n",
       "      <td>0.000000</td>\n",
       "      <td>1.000000</td>\n",
       "      <td>2.000000</td>\n",
       "      <td>1.000000</td>\n",
       "      <td>7796.000000</td>\n",
       "    </tr>\n",
       "    <tr>\n",
       "      <th>50%</th>\n",
       "      <td>8.634945e+05</td>\n",
       "      <td>7200.000000</td>\n",
       "      <td>1.000000</td>\n",
       "      <td>1.000000</td>\n",
       "      <td>2.000000</td>\n",
       "      <td>1.000000</td>\n",
       "      <td>9403.000000</td>\n",
       "    </tr>\n",
       "    <tr>\n",
       "      <th>75%</th>\n",
       "      <td>1.698816e+06</td>\n",
       "      <td>7200.000000</td>\n",
       "      <td>2.000000</td>\n",
       "      <td>1.000000</td>\n",
       "      <td>3.000000</td>\n",
       "      <td>1.000000</td>\n",
       "      <td>11245.000000</td>\n",
       "    </tr>\n",
       "    <tr>\n",
       "      <th>max</th>\n",
       "      <td>1.916464e+07</td>\n",
       "      <td>7800.000000</td>\n",
       "      <td>3.000000</td>\n",
       "      <td>1.000000</td>\n",
       "      <td>6.000000</td>\n",
       "      <td>2.000000</td>\n",
       "      <td>33720.000000</td>\n",
       "    </tr>\n",
       "  </tbody>\n",
       "</table>\n",
       "</div>"
      ],
      "text/plain": [
       "       time_to_dep(s)  travel_time(s)           f6           f7           f8  \\\n",
       "count    5.000000e+03     5000.000000  5000.000000  5000.000000  5000.000000   \n",
       "mean     1.349212e+06     7159.836000     0.953400     0.992800     2.292000   \n",
       "std      1.679384e+06      169.613345     0.948371     0.084555     1.247817   \n",
       "min      2.003000e+03     6900.000000     0.000000     0.000000     0.000000   \n",
       "25%      3.606870e+05     7140.000000     0.000000     1.000000     2.000000   \n",
       "50%      8.634945e+05     7200.000000     1.000000     1.000000     2.000000   \n",
       "75%      1.698816e+06     7200.000000     2.000000     1.000000     3.000000   \n",
       "max      1.916464e+07     7800.000000     3.000000     1.000000     6.000000   \n",
       "\n",
       "                f9        target  \n",
       "count  5000.000000   5000.000000  \n",
       "mean      0.944600  10104.351800  \n",
       "std       0.607951   3359.936118  \n",
       "min       0.000000   4990.000000  \n",
       "25%       1.000000   7796.000000  \n",
       "50%       1.000000   9403.000000  \n",
       "75%       1.000000  11245.000000  \n",
       "max       2.000000  33720.000000  "
      ]
     },
     "execution_count": 18,
     "metadata": {},
     "output_type": "execute_result"
    }
   ],
   "source": [
    "df.describe()"
   ]
  },
  {
   "cell_type": "markdown",
   "metadata": {},
   "source": [
    "### Scaling Data (Only in Numaric For Normalizing)"
   ]
  },
  {
   "cell_type": "code",
   "execution_count": 19,
   "metadata": {},
   "outputs": [
    {
     "data": {
      "text/plain": [
       "\"\\nfrom sklearn.preprocessing import StandardScaler\\ndf['time_to_dep(s)'] = StandardScaler().fit_transform(df['time_to_dep(s)'])\\ndf['travel_time(s)'] = StandardScaler().fit_transform(df['travel_time(s)'])\\ndf['target'] = StandardScaler().fit_transform(df['target'])\\n\""
      ]
     },
     "execution_count": 19,
     "metadata": {},
     "output_type": "execute_result"
    }
   ],
   "source": [
    "'''\n",
    "from sklearn.preprocessing import StandardScaler\n",
    "df['time_to_dep(s)'] = StandardScaler().fit_transform(df['time_to_dep(s)'])\n",
    "df['travel_time(s)'] = StandardScaler().fit_transform(df['travel_time(s)'])\n",
    "df['target'] = StandardScaler().fit_transform(df['target'])\n",
    "'''"
   ]
  },
  {
   "cell_type": "markdown",
   "metadata": {},
   "source": [
    "> # **Machine Learning**"
   ]
  },
  {
   "cell_type": "code",
   "execution_count": 20,
   "metadata": {},
   "outputs": [],
   "source": [
    "X = df[['time_to_dep(s)','travel_time(s)','f6','f7','f8','f9']]\n",
    "y = df['target']"
   ]
  },
  {
   "cell_type": "code",
   "execution_count": 21,
   "metadata": {},
   "outputs": [],
   "source": [
    "from sklearn.linear_model import LinearRegression\n",
    "from sklearn.tree import DecisionTreeClassifier\n",
    "from sklearn.svm import SVR\n",
    "from sklearn.neighbors import KNeighborsClassifier\n",
    "\n",
    "from sklearn.model_selection import train_test_split\n",
    "from sklearn.metrics import r2_score, mean_absolute_error, mean_squared_error"
   ]
  },
  {
   "cell_type": "code",
   "execution_count": 22,
   "metadata": {},
   "outputs": [],
   "source": [
    "lr = LinearRegression()\n",
    "dt = DecisionTreeClassifier()\n",
    "svr = SVR()\n",
    "knn = KNeighborsClassifier()"
   ]
  },
  {
   "cell_type": "code",
   "execution_count": 23,
   "metadata": {},
   "outputs": [
    {
     "name": "stdout",
     "output_type": "stream",
     "text": [
      "LinearRegression()\n",
      "R2_Score is:  0.0824576968227253\n",
      "Mean Absolute Error is:  2175.6552919422875\n",
      "Mean Squared Error is:  9604880.483617561\n",
      "Root Mean Squared Error is:  3099.1741615497444\n",
      "***************************************************************************\n",
      "SVR()\n",
      "R2_Score is:  -0.06121290745272212\n",
      "Mean Absolute Error is:  2234.394635530172\n",
      "Mean Squared Error is:  11108831.830924733\n",
      "Root Mean Squared Error is:  3332.991423770054\n",
      "***************************************************************************\n"
     ]
    }
   ],
   "source": [
    "from statistics import mean\n",
    "\n",
    "\n",
    "X_train,X_test,y_train,y_test=train_test_split(X,y,test_size=0.2,random_state=42)\n",
    "\n",
    "for i in [lr,dt,svr,knn]:\n",
    "    i.fit(X_train,y_train)\n",
    "    pred = i.predict(X_test)\n",
    "    test_score = r2_score(y_test,pred)\n",
    "    train_score= r2_score(y_train, i.predict(X_train))\n",
    "    if abs(train_score-test_score) <=0.1 :\n",
    "        print(i)\n",
    "        print('R2_Score is: ',r2_score(y_test,pred))\n",
    "        print('Mean Absolute Error is: ',mean_absolute_error(y_test,pred))\n",
    "        print('Mean Squared Error is: ',mean_squared_error(y_test,pred))\n",
    "        print('Root Mean Squared Error is: ',mean_squared_error(y_test,pred, squared=False))\n",
    "        print('***************************************************************************')"
   ]
  },
  {
   "cell_type": "code",
   "execution_count": 24,
   "metadata": {},
   "outputs": [],
   "source": [
    "lr = LinearRegression().fit(X,y)\n",
    "pred = lr.predict(X_test)"
   ]
  },
  {
   "cell_type": "code",
   "execution_count": 25,
   "metadata": {},
   "outputs": [],
   "source": [
    "# To Save Prediction\n",
    "res = pd.DataFrame(pred)\n",
    "res.index = X_test.index    # Its important for comparison\n",
    "res.columns = ['prediction']\n",
    "res.to_csv = ('prediction_results.csv')"
   ]
  }
 ],
 "metadata": {
  "kernelspec": {
   "display_name": "base",
   "language": "python",
   "name": "python3"
  },
  "language_info": {
   "codemirror_mode": {
    "name": "ipython",
    "version": 3
   },
   "file_extension": ".py",
   "mimetype": "text/x-python",
   "name": "python",
   "nbconvert_exporter": "python",
   "pygments_lexer": "ipython3",
   "version": "3.9.12"
  },
  "orig_nbformat": 4,
  "vscode": {
   "interpreter": {
    "hash": "19d1d53a962d236aa061289c2ac16dc8e6d9648c89fe79f459ae9a3493bc67b4"
   }
  }
 },
 "nbformat": 4,
 "nbformat_minor": 2
}
