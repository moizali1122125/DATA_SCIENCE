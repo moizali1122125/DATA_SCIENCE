{
 "cells": [
  {
   "cell_type": "code",
   "execution_count": 49,
   "metadata": {},
   "outputs": [
    {
     "data": {
      "text/html": [
       "<div>\n",
       "<style scoped>\n",
       "    .dataframe tbody tr th:only-of-type {\n",
       "        vertical-align: middle;\n",
       "    }\n",
       "\n",
       "    .dataframe tbody tr th {\n",
       "        vertical-align: top;\n",
       "    }\n",
       "\n",
       "    .dataframe thead th {\n",
       "        text-align: right;\n",
       "    }\n",
       "</style>\n",
       "<table border=\"1\" class=\"dataframe\">\n",
       "  <thead>\n",
       "    <tr style=\"text-align: right;\">\n",
       "      <th></th>\n",
       "      <th>ID</th>\n",
       "      <th>Pakistan</th>\n",
       "      <th>Height (cm)</th>\n",
       "      <th>India</th>\n",
       "      <th>height (cm)</th>\n",
       "    </tr>\n",
       "  </thead>\n",
       "  <tbody>\n",
       "    <tr>\n",
       "      <th>0</th>\n",
       "      <td>1</td>\n",
       "      <td>asif ali</td>\n",
       "      <td>171</td>\n",
       "      <td>kl rahul</td>\n",
       "      <td>185</td>\n",
       "    </tr>\n",
       "    <tr>\n",
       "      <th>1</th>\n",
       "      <td>2</td>\n",
       "      <td>babar azam</td>\n",
       "      <td>180</td>\n",
       "      <td>rohit sharma</td>\n",
       "      <td>174</td>\n",
       "    </tr>\n",
       "    <tr>\n",
       "      <th>2</th>\n",
       "      <td>3</td>\n",
       "      <td>fakhar zaman</td>\n",
       "      <td>180</td>\n",
       "      <td>shreyas lyer</td>\n",
       "      <td>178</td>\n",
       "    </tr>\n",
       "    <tr>\n",
       "      <th>3</th>\n",
       "      <td>4</td>\n",
       "      <td>haider ali</td>\n",
       "      <td>183</td>\n",
       "      <td>suryakumar yadav</td>\n",
       "      <td>180</td>\n",
       "    </tr>\n",
       "    <tr>\n",
       "      <th>4</th>\n",
       "      <td>5</td>\n",
       "      <td>khushdil shah</td>\n",
       "      <td>176</td>\n",
       "      <td>virat kohli</td>\n",
       "      <td>175</td>\n",
       "    </tr>\n",
       "    <tr>\n",
       "      <th>5</th>\n",
       "      <td>6</td>\n",
       "      <td>iftikhar ahmed</td>\n",
       "      <td>178</td>\n",
       "      <td>axal patel</td>\n",
       "      <td>184</td>\n",
       "    </tr>\n",
       "    <tr>\n",
       "      <th>6</th>\n",
       "      <td>7</td>\n",
       "      <td>mohammad nawaz</td>\n",
       "      <td>178</td>\n",
       "      <td>deepak hooda</td>\n",
       "      <td>180</td>\n",
       "    </tr>\n",
       "    <tr>\n",
       "      <th>7</th>\n",
       "      <td>8</td>\n",
       "      <td>shahdab khan</td>\n",
       "      <td>178</td>\n",
       "      <td>hardik pandya</td>\n",
       "      <td>183</td>\n",
       "    </tr>\n",
       "    <tr>\n",
       "      <th>8</th>\n",
       "      <td>9</td>\n",
       "      <td>muhammad haris</td>\n",
       "      <td>163</td>\n",
       "      <td>ravichandran ashwin</td>\n",
       "      <td>188</td>\n",
       "    </tr>\n",
       "    <tr>\n",
       "      <th>9</th>\n",
       "      <td>10</td>\n",
       "      <td>muhammad rizwan</td>\n",
       "      <td>170</td>\n",
       "      <td>dinesh karthik</td>\n",
       "      <td>170</td>\n",
       "    </tr>\n",
       "    <tr>\n",
       "      <th>10</th>\n",
       "      <td>11</td>\n",
       "      <td>haris rauf</td>\n",
       "      <td>180</td>\n",
       "      <td>rishabh pant</td>\n",
       "      <td>170</td>\n",
       "    </tr>\n",
       "    <tr>\n",
       "      <th>11</th>\n",
       "      <td>12</td>\n",
       "      <td>muhammad hasnain</td>\n",
       "      <td>185</td>\n",
       "      <td>arshdeep singh</td>\n",
       "      <td>190</td>\n",
       "    </tr>\n",
       "    <tr>\n",
       "      <th>12</th>\n",
       "      <td>13</td>\n",
       "      <td>muhammad wasim</td>\n",
       "      <td>188</td>\n",
       "      <td>bhuvneshwar kumar</td>\n",
       "      <td>175</td>\n",
       "    </tr>\n",
       "    <tr>\n",
       "      <th>13</th>\n",
       "      <td>14</td>\n",
       "      <td>naseem shah</td>\n",
       "      <td>178</td>\n",
       "      <td>harshal patel</td>\n",
       "      <td>175</td>\n",
       "    </tr>\n",
       "    <tr>\n",
       "      <th>14</th>\n",
       "      <td>15</td>\n",
       "      <td>shaheen afridi</td>\n",
       "      <td>198</td>\n",
       "      <td>muhammad shami</td>\n",
       "      <td>178</td>\n",
       "    </tr>\n",
       "    <tr>\n",
       "      <th>15</th>\n",
       "      <td>16</td>\n",
       "      <td>shahnwaz dhani</td>\n",
       "      <td>188</td>\n",
       "      <td>ravi bishnoi</td>\n",
       "      <td>170</td>\n",
       "    </tr>\n",
       "  </tbody>\n",
       "</table>\n",
       "</div>"
      ],
      "text/plain": [
       "    ID          Pakistan  Height (cm)                 India  height (cm)\n",
       "0    1          asif ali          171              kl rahul          185\n",
       "1    2        babar azam          180          rohit sharma          174\n",
       "2    3      fakhar zaman          180          shreyas lyer          178\n",
       "3    4        haider ali          183      suryakumar yadav          180\n",
       "4    5     khushdil shah          176           virat kohli          175\n",
       "5    6    iftikhar ahmed          178            axal patel          184\n",
       "6    7    mohammad nawaz          178          deepak hooda          180\n",
       "7    8      shahdab khan          178         hardik pandya          183\n",
       "8    9    muhammad haris          163   ravichandran ashwin          188\n",
       "9   10   muhammad rizwan          170        dinesh karthik          170\n",
       "10  11        haris rauf          180          rishabh pant          170\n",
       "11  12  muhammad hasnain          185        arshdeep singh          190\n",
       "12  13    muhammad wasim          188    bhuvneshwar kumar           175\n",
       "13  14       naseem shah          178         harshal patel          175\n",
       "14  15    shaheen afridi          198        muhammad shami          178\n",
       "15  16    shahnwaz dhani          188          ravi bishnoi          170"
      ]
     },
     "execution_count": 49,
     "metadata": {},
     "output_type": "execute_result"
    }
   ],
   "source": [
    "import pandas as pd\n",
    "import numpy as np\n",
    "import seaborn as sns\n",
    "import matplotlib.pyplot as plt\n",
    "df = pd.read_excel('E:\\\\W O R K\\\\Data-Science\\\\My Programs\\\\Microsoft 365\\\\cricket.xlsx')\n",
    "df.head(16)"
   ]
  },
  {
   "cell_type": "code",
   "execution_count": 50,
   "metadata": {},
   "outputs": [
    {
     "data": {
      "text/plain": [
       "<AxesSubplot: xlabel='Height (cm)', ylabel='Count'>"
      ]
     },
     "execution_count": 50,
     "metadata": {},
     "output_type": "execute_result"
    },
    {
     "data": {
      "image/png": "[encoded data removed]",
      "text/plain": [
       "<Figure size 640x480 with 1 Axes>"
      ]
     },
     "metadata": {},
     "output_type": "display_data"
    }
   ],
   "source": [
    "sns.histplot(df['Height (cm)'])"
   ]
  },
  {
   "cell_type": "code",
   "execution_count": 51,
   "metadata": {},
   "outputs": [
    {
     "data": {
      "text/plain": [
       "<AxesSubplot: xlabel='height (cm)', ylabel='Count'>"
      ]
     },
     "execution_count": 51,
     "metadata": {},
     "output_type": "execute_result"
    },
    {
     "data": {
      "image/png": "[encoded data removed]",
      "text/plain": [
       "<Figure size 640x480 with 1 Axes>"
      ]
     },
     "metadata": {},
     "output_type": "display_data"
    }
   ],
   "source": [
    "sns.histplot(df['height (cm)'])"
   ]
  },
  {
   "cell_type": "code",
   "execution_count": 52,
   "metadata": {},
   "outputs": [
    {
     "name": "stdout",
     "output_type": "stream",
     "text": [
      "stat =  0.9579069018363953\n",
      "p =  0.6240184903144836\n",
      "The data is normal\n"
     ]
    }
   ],
   "source": [
    "from scipy.stats import shapiro\n",
    "\n",
    "stat,p = shapiro(df['Height (cm)'])\n",
    "print('stat = ', stat)\n",
    "print('p = ', p)\n",
    "if p> 0.05:\n",
    "    print('The data is normal')\n",
    "else:\n",
    "    print('The data is not normal')\n"
   ]
  },
  {
   "cell_type": "code",
   "execution_count": 53,
   "metadata": {},
   "outputs": [
    {
     "name": "stdout",
     "output_type": "stream",
     "text": [
      "stat =  0.9466257095336914\n",
      "p =  0.4381874203681946\n",
      "The data is normal\n"
     ]
    }
   ],
   "source": [
    "from scipy.stats import shapiro\n",
    "\n",
    "stat,p = shapiro(df['height (cm)'])\n",
    "print('stat = ', stat)\n",
    "print('p = ', p)\n",
    "if p> 0.05:\n",
    "    print('The data is normal')\n",
    "else:\n",
    "    print('The data is not normal')\n"
   ]
  },
  {
   "cell_type": "markdown",
   "metadata": {},
   "source": [
    "### As a rule of thumb, we can assume the populations have equal variances if the ratio of the larger sample variance to the smaller sample variance is less than 4:1. \n"
   ]
  },
  {
   "cell_type": "code",
   "execution_count": 54,
   "metadata": {},
   "outputs": [],
   "source": [
    "group1=df['Height (cm)']\n",
    "group2=df['height (cm)']"
   ]
  },
  {
   "cell_type": "code",
   "execution_count": 55,
   "metadata": {},
   "outputs": [
    {
     "name": "stdout",
     "output_type": "stream",
     "text": [
      "61.609375 37.12109375\n"
     ]
    }
   ],
   "source": [
    "print(np.var(group1), np.var(group2))"
   ]
  },
  {
   "cell_type": "markdown",
   "metadata": {},
   "source": [
    "### The ratio of the larger sample variance to the smaller sample variance is 61.60 / 37.12 = 1.65, which is less than 4. This means we can assume that the population variances are equal.\n",
    "\n",
    "## Thus, we can proceed to perform the two sample t-test with equal variances:"
   ]
  },
  {
   "cell_type": "code",
   "execution_count": 56,
   "metadata": {},
   "outputs": [
    {
     "name": "stdout",
     "output_type": "stream",
     "text": [
      "Stats =  0.46286426027739114\n",
      "P =  0.6468017732537799\n",
      "There is no significant difference\n"
     ]
    }
   ],
   "source": [
    "from scipy.stats import ttest_ind\n",
    "\n",
    "stats, p = ttest_ind(group1,group2,equal_var=True) \n",
    "print(\"Stats = \",stats)\n",
    "print(\"P = \",p)\n",
    "if p>0.05:\n",
    "    print('There is no significant difference')\n",
    "else:\n",
    "    print('There is significant difference')\n"
   ]
  },
  {
   "cell_type": "code",
   "execution_count": 79,
   "metadata": {},
   "outputs": [
    {
     "data": {
      "text/plain": [
       "179.625"
      ]
     },
     "execution_count": 79,
     "metadata": {},
     "output_type": "execute_result"
    }
   ],
   "source": [
    "p = df['Height (cm)'].mean()\n",
    "p"
   ]
  },
  {
   "cell_type": "code",
   "execution_count": 80,
   "metadata": {},
   "outputs": [
    {
     "data": {
      "text/plain": [
       "178.4375"
      ]
     },
     "execution_count": 80,
     "metadata": {},
     "output_type": "execute_result"
    }
   ],
   "source": [
    "i = df['height (cm)'].mean()\n",
    "i"
   ]
  }
 ],
 "metadata": {
  "kernelspec": {
   "display_name": "Python 3.9.12 ('base')",
   "language": "python",
   "name": "python3"
  },
  "language_info": {
   "codemirror_mode": {
    "name": "ipython",
    "version": 3
   },
   "file_extension": ".py",
   "mimetype": "text/x-python",
   "name": "python",
   "nbconvert_exporter": "python",
   "pygments_lexer": "ipython3",
   "version": "3.9.12"
  },
  "orig_nbformat": 4,
  "vscode": {
   "interpreter": {
    "hash": "19d1d53a962d236aa061289c2ac16dc8e6d9648c89fe79f459ae9a3493bc67b4"
   }
  }
 },
 "nbformat": 4,
 "nbformat_minor": 2
}
