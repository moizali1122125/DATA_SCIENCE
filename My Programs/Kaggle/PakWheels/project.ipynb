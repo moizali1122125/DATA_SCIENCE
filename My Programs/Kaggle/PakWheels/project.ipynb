{
 "cells": [
  {
   "cell_type": "code",
   "execution_count": 29,
   "metadata": {},
   "outputs": [],
   "source": [
    "import pandas as pd\n",
    "import seaborn as sns\n",
    "import numpy as np\n",
    "import matplotlib.pyplot as plt\n",
    "import plotly.express as px"
   ]
  },
  {
   "cell_type": "code",
   "execution_count": 30,
   "metadata": {},
   "outputs": [
    {
     "data": {
      "text/html": [
       "<div>\n",
       "<style scoped>\n",
       "    .dataframe tbody tr th:only-of-type {\n",
       "        vertical-align: middle;\n",
       "    }\n",
       "\n",
       "    .dataframe tbody tr th {\n",
       "        vertical-align: top;\n",
       "    }\n",
       "\n",
       "    .dataframe thead th {\n",
       "        text-align: right;\n",
       "    }\n",
       "</style>\n",
       "<table border=\"1\" class=\"dataframe\">\n",
       "  <thead>\n",
       "    <tr style=\"text-align: right;\">\n",
       "      <th></th>\n",
       "      <th>web-scraper-order</th>\n",
       "      <th>web-scraper-start-url</th>\n",
       "      <th>title</th>\n",
       "      <th>title-href</th>\n",
       "      <th>model</th>\n",
       "      <th>running</th>\n",
       "      <th>fuel_type</th>\n",
       "      <th>gear_type</th>\n",
       "      <th>registered_in</th>\n",
       "      <th>color</th>\n",
       "      <th>...</th>\n",
       "      <th>last_update</th>\n",
       "      <th>ad_ref_no</th>\n",
       "      <th>car_features</th>\n",
       "      <th>posted_location</th>\n",
       "      <th>dealer_information</th>\n",
       "      <th>price</th>\n",
       "      <th>seller_comments_desc</th>\n",
       "      <th>images1-src</th>\n",
       "      <th>image2-src</th>\n",
       "      <th>device</th>\n",
       "    </tr>\n",
       "  </thead>\n",
       "  <tbody>\n",
       "    <tr>\n",
       "      <th>0</th>\n",
       "      <td>1671309883-45</td>\n",
       "      <td>https://www.pakwheels.com/used-cars/search/-/?...</td>\n",
       "      <td>Suzuki Wagon R  2020 VXR for Sale</td>\n",
       "      <td>https://www.pakwheels.com/used-cars/suzuki-wag...</td>\n",
       "      <td>2020</td>\n",
       "      <td>39,265 km</td>\n",
       "      <td>Petrol</td>\n",
       "      <td>Manual</td>\n",
       "      <td>Islamabad</td>\n",
       "      <td>White</td>\n",
       "      <td>...</td>\n",
       "      <td>Nov 03, 2022</td>\n",
       "      <td>6812591</td>\n",
       "      <td>[{\"car_features\":\"AM/FM Radio\"},{\"car_features...</td>\n",
       "      <td>D-12, Islamabad Islamabad</td>\n",
       "      <td>Ashar Warsi\\n      Member Since Oct 19, 2016</td>\n",
       "      <td>PKR 20.75 lacs\\n                \\n            ...</td>\n",
       "      <td>100% original condition, bumper to bumper genu...</td>\n",
       "      <td>https://cache4.pakwheels.com/ad_pictures/7481/...</td>\n",
       "      <td>https://cache2.pakwheels.com/ad_pictures/7481/...</td>\n",
       "      <td>Added via Phone</td>\n",
       "    </tr>\n",
       "    <tr>\n",
       "      <th>1</th>\n",
       "      <td>1671309886-46</td>\n",
       "      <td>https://www.pakwheels.com/used-cars/search/-/?...</td>\n",
       "      <td>Suzuki Mehran  2017 VX Euro II for Sale</td>\n",
       "      <td>https://www.pakwheels.com/used-cars/suzuki-meh...</td>\n",
       "      <td>2017</td>\n",
       "      <td>50,000 km</td>\n",
       "      <td>Petrol</td>\n",
       "      <td>Manual</td>\n",
       "      <td>Sindh</td>\n",
       "      <td>Gold</td>\n",
       "      <td>...</td>\n",
       "      <td>Nov 03, 2022</td>\n",
       "      <td>6603411</td>\n",
       "      <td>[{\"car_features\":\"AM/FM Radio\"},{\"car_features...</td>\n",
       "      <td>Abul Hassan Isphani Road, Karachi Sindh</td>\n",
       "      <td>Pw User16518695137\\n      Member Since May 07,...</td>\n",
       "      <td>PKR 8 lacs\\n                \\n                ...</td>\n",
       "      <td>mehran 2017 euro 2 \\nfirst owner\\nneat and cle...</td>\n",
       "      <td>https://cache2.pakwheels.com/ad_pictures/7181/...</td>\n",
       "      <td>https://cache2.pakwheels.com/ad_pictures/7181/...</td>\n",
       "      <td>Added via Phone</td>\n",
       "    </tr>\n",
       "  </tbody>\n",
       "</table>\n",
       "<p>2 rows × 23 columns</p>\n",
       "</div>"
      ],
      "text/plain": [
       "  web-scraper-order                              web-scraper-start-url  \\\n",
       "0     1671309883-45  https://www.pakwheels.com/used-cars/search/-/?...   \n",
       "1     1671309886-46  https://www.pakwheels.com/used-cars/search/-/?...   \n",
       "\n",
       "                                     title  \\\n",
       "0        Suzuki Wagon R  2020 VXR for Sale   \n",
       "1  Suzuki Mehran  2017 VX Euro II for Sale   \n",
       "\n",
       "                                          title-href  model    running  \\\n",
       "0  https://www.pakwheels.com/used-cars/suzuki-wag...   2020  39,265 km   \n",
       "1  https://www.pakwheels.com/used-cars/suzuki-meh...   2017  50,000 km   \n",
       "\n",
       "  fuel_type gear_type registered_in  color  ...   last_update ad_ref_no  \\\n",
       "0    Petrol    Manual     Islamabad  White  ...  Nov 03, 2022   6812591   \n",
       "1    Petrol    Manual         Sindh   Gold  ...  Nov 03, 2022   6603411   \n",
       "\n",
       "                                        car_features  \\\n",
       "0  [{\"car_features\":\"AM/FM Radio\"},{\"car_features...   \n",
       "1  [{\"car_features\":\"AM/FM Radio\"},{\"car_features...   \n",
       "\n",
       "                           posted_location  \\\n",
       "0                D-12, Islamabad Islamabad   \n",
       "1  Abul Hassan Isphani Road, Karachi Sindh   \n",
       "\n",
       "                                  dealer_information  \\\n",
       "0       Ashar Warsi\\n      Member Since Oct 19, 2016   \n",
       "1  Pw User16518695137\\n      Member Since May 07,...   \n",
       "\n",
       "                                               price  \\\n",
       "0  PKR 20.75 lacs\\n                \\n            ...   \n",
       "1  PKR 8 lacs\\n                \\n                ...   \n",
       "\n",
       "                                seller_comments_desc  \\\n",
       "0  100% original condition, bumper to bumper genu...   \n",
       "1  mehran 2017 euro 2 \\nfirst owner\\nneat and cle...   \n",
       "\n",
       "                                         images1-src  \\\n",
       "0  https://cache4.pakwheels.com/ad_pictures/7481/...   \n",
       "1  https://cache2.pakwheels.com/ad_pictures/7181/...   \n",
       "\n",
       "                                          image2-src           device  \n",
       "0  https://cache2.pakwheels.com/ad_pictures/7481/...  Added via Phone  \n",
       "1  https://cache2.pakwheels.com/ad_pictures/7181/...  Added via Phone  \n",
       "\n",
       "[2 rows x 23 columns]"
      ]
     },
     "execution_count": 30,
     "metadata": {},
     "output_type": "execute_result"
    }
   ],
   "source": [
    "data = pd.read_csv('data.csv')\n",
    "data.head(2)"
   ]
  },
  {
   "cell_type": "code",
   "execution_count": 31,
   "metadata": {},
   "outputs": [
    {
     "data": {
      "text/plain": [
       "(75647, 23)"
      ]
     },
     "execution_count": 31,
     "metadata": {},
     "output_type": "execute_result"
    }
   ],
   "source": [
    "data.shape"
   ]
  },
  {
   "cell_type": "code",
   "execution_count": 32,
   "metadata": {},
   "outputs": [
    {
     "name": "stdout",
     "output_type": "stream",
     "text": [
      "web-scraper-order\n",
      "web-scraper-start-url\n",
      "title\n",
      "title-href\n",
      "model\n",
      "running\n",
      "fuel_type\n",
      "gear_type\n",
      "registered_in\n",
      "color\n",
      "assembly\n",
      "engine_capacity\n",
      "body_type\n",
      "last_update\n",
      "ad_ref_no\n",
      "car_features\n",
      "posted_location\n",
      "dealer_information\n",
      "price\n",
      "seller_comments_desc\n",
      "images1-src\n",
      "image2-src\n",
      "device\n"
     ]
    }
   ],
   "source": [
    "for col in data.columns:\n",
    "    print(col)"
   ]
  },
  {
   "cell_type": "code",
   "execution_count": 33,
   "metadata": {},
   "outputs": [],
   "source": [
    "df = data"
   ]
  },
  {
   "cell_type": "code",
   "execution_count": 34,
   "metadata": {},
   "outputs": [
    {
     "name": "stdout",
     "output_type": "stream",
     "text": [
      "0         2075000.0\n",
      "1          800000.0\n",
      "2         1750000.0\n",
      "3         3300000.0\n",
      "4         1160000.0\n",
      "            ...    \n",
      "75642     1350000.0\n",
      "75643    12200000.0\n",
      "75644     2550000.0\n",
      "75645     1645000.0\n",
      "75646     2545000.0\n",
      "Name: new_price, Length: 75647, dtype: float64\n"
     ]
    }
   ],
   "source": [
    "# Define function to convert string to number\n",
    "def convert_to_number(string):\n",
    "    if string.startswith('PKR'):\n",
    "        if 'lacs' in string:\n",
    "            return float(string.split()[1]) * 100000\n",
    "        elif 'crore' in string:\n",
    "            return float(string.split()[1]) * 10000000\n",
    "        else:\n",
    "            return None\n",
    "    else:\n",
    "        return None\n",
    "\n",
    "# Apply function to column and create new column with numeric values\n",
    "df['new_price'] = df['price'].apply(convert_to_number)\n",
    "\n",
    "# Show updated column\n",
    "print(df['new_price'])"
   ]
  },
  {
   "cell_type": "code",
   "execution_count": 35,
   "metadata": {},
   "outputs": [],
   "source": [
    "df = df.dropna()"
   ]
  },
  {
   "cell_type": "code",
   "execution_count": 36,
   "metadata": {},
   "outputs": [
    {
     "name": "stderr",
     "output_type": "stream",
     "text": [
      "C:\\Users\\MOIZ\\AppData\\Local\\Temp\\ipykernel_3320\\886039933.py:1: SettingWithCopyWarning: \n",
      "A value is trying to be set on a copy of a slice from a DataFrame.\n",
      "Try using .loc[row_indexer,col_indexer] = value instead\n",
      "\n",
      "See the caveats in the documentation: https://pandas.pydata.org/pandas-docs/stable/user_guide/indexing.html#returning-a-view-versus-a-copy\n",
      "  df['engine_capacity'] = df['engine_capacity'].str.replace('cc', '')\n",
      "C:\\Users\\MOIZ\\AppData\\Local\\Temp\\ipykernel_3320\\886039933.py:2: SettingWithCopyWarning: \n",
      "A value is trying to be set on a copy of a slice from a DataFrame.\n",
      "Try using .loc[row_indexer,col_indexer] = value instead\n",
      "\n",
      "See the caveats in the documentation: https://pandas.pydata.org/pandas-docs/stable/user_guide/indexing.html#returning-a-view-versus-a-copy\n",
      "  df['running'] = df['running'].str.replace(',', '')\n",
      "C:\\Users\\MOIZ\\AppData\\Local\\Temp\\ipykernel_3320\\886039933.py:3: SettingWithCopyWarning: \n",
      "A value is trying to be set on a copy of a slice from a DataFrame.\n",
      "Try using .loc[row_indexer,col_indexer] = value instead\n",
      "\n",
      "See the caveats in the documentation: https://pandas.pydata.org/pandas-docs/stable/user_guide/indexing.html#returning-a-view-versus-a-copy\n",
      "  df['running'] = df['running'].str.replace('km', '')\n",
      "C:\\Users\\MOIZ\\AppData\\Local\\Temp\\ipykernel_3320\\886039933.py:6: SettingWithCopyWarning: \n",
      "A value is trying to be set on a copy of a slice from a DataFrame\n",
      "\n",
      "See the caveats in the documentation: https://pandas.pydata.org/pandas-docs/stable/user_guide/indexing.html#returning-a-view-versus-a-copy\n",
      "  df.rename(columns={'engine_capacity':'engine_capacity (cc)'},inplace=True)\n",
      "C:\\Users\\MOIZ\\AppData\\Local\\Temp\\ipykernel_3320\\886039933.py:7: SettingWithCopyWarning: \n",
      "A value is trying to be set on a copy of a slice from a DataFrame\n",
      "\n",
      "See the caveats in the documentation: https://pandas.pydata.org/pandas-docs/stable/user_guide/indexing.html#returning-a-view-versus-a-copy\n",
      "  df.rename(columns={'running':'running (km)'},inplace=True)\n"
     ]
    }
   ],
   "source": [
    "df['engine_capacity'] = df['engine_capacity'].str.replace('cc', '')\n",
    "df['running'] = df['running'].str.replace(',', '')\n",
    "df['running'] = df['running'].str.replace('km', '')\n",
    "\n",
    "\n",
    "df.rename(columns={'engine_capacity':'engine_capacity (cc)'},inplace=True)\n",
    "df.rename(columns={'running':'running (km)'},inplace=True)\n",
    "\n",
    "df = df[~df['engine_capacity (cc)'].str.contains('kWh')]\n",
    "\n",
    "df = df.astype({'running (km)':'int64'})\n",
    "df = df.astype({'engine_capacity (cc)':'int64'})\n",
    "df = df.astype({'new_price':'int64'})\n",
    "\n",
    "df.drop(['title','price','last_update','seller_comments_desc','device','posted_location','dealer_information','ad_ref_no','car_features','title-href','web-scraper-order','web-scraper-start-url','images1-src','image2-src'],inplace=True,axis=1)"
   ]
  },
  {
   "cell_type": "code",
   "execution_count": 37,
   "metadata": {},
   "outputs": [],
   "source": [
    "from sklearn.preprocessing import LabelEncoder\n",
    "le = LabelEncoder()\n",
    "df['fuel_type'] = le.fit_transform(df['fuel_type'])\n",
    "df['gear_type'] = le.fit_transform(df['gear_type'])\n",
    "df['assembly']  = le.fit_transform(df['assembly'])\n",
    "df['color']     = le.fit_transform(df['color'])\n",
    "df['body_type'] = le.fit_transform(df['body_type'])\n",
    "df['registered_in'] = le.fit_transform(df['registered_in'])"
   ]
  },
  {
   "cell_type": "code",
   "execution_count": 38,
   "metadata": {},
   "outputs": [],
   "source": [
    "df.drop_duplicates(inplace=True)"
   ]
  },
  {
   "cell_type": "code",
   "execution_count": 39,
   "metadata": {},
   "outputs": [
    {
     "data": {
      "text/html": [
       "<div>\n",
       "<style scoped>\n",
       "    .dataframe tbody tr th:only-of-type {\n",
       "        vertical-align: middle;\n",
       "    }\n",
       "\n",
       "    .dataframe tbody tr th {\n",
       "        vertical-align: top;\n",
       "    }\n",
       "\n",
       "    .dataframe thead th {\n",
       "        text-align: right;\n",
       "    }\n",
       "</style>\n",
       "<table border=\"1\" class=\"dataframe\">\n",
       "  <thead>\n",
       "    <tr style=\"text-align: right;\">\n",
       "      <th></th>\n",
       "      <th>model</th>\n",
       "      <th>running (km)</th>\n",
       "      <th>fuel_type</th>\n",
       "      <th>gear_type</th>\n",
       "      <th>registered_in</th>\n",
       "      <th>color</th>\n",
       "      <th>assembly</th>\n",
       "      <th>engine_capacity (cc)</th>\n",
       "      <th>body_type</th>\n",
       "      <th>new_price</th>\n",
       "    </tr>\n",
       "  </thead>\n",
       "  <tbody>\n",
       "    <tr>\n",
       "      <th>0</th>\n",
       "      <td>2020</td>\n",
       "      <td>39265</td>\n",
       "      <td>4</td>\n",
       "      <td>1</td>\n",
       "      <td>21</td>\n",
       "      <td>276</td>\n",
       "      <td>1</td>\n",
       "      <td>1000</td>\n",
       "      <td>7</td>\n",
       "      <td>2075000</td>\n",
       "    </tr>\n",
       "    <tr>\n",
       "      <th>1</th>\n",
       "      <td>2017</td>\n",
       "      <td>50000</td>\n",
       "      <td>4</td>\n",
       "      <td>1</td>\n",
       "      <td>57</td>\n",
       "      <td>69</td>\n",
       "      <td>1</td>\n",
       "      <td>796</td>\n",
       "      <td>7</td>\n",
       "      <td>800000</td>\n",
       "    </tr>\n",
       "    <tr>\n",
       "      <th>4</th>\n",
       "      <td>2004</td>\n",
       "      <td>120000</td>\n",
       "      <td>4</td>\n",
       "      <td>1</td>\n",
       "      <td>21</td>\n",
       "      <td>237</td>\n",
       "      <td>0</td>\n",
       "      <td>1300</td>\n",
       "      <td>15</td>\n",
       "      <td>1160000</td>\n",
       "    </tr>\n",
       "    <tr>\n",
       "      <th>6</th>\n",
       "      <td>2022</td>\n",
       "      <td>1</td>\n",
       "      <td>4</td>\n",
       "      <td>1</td>\n",
       "      <td>63</td>\n",
       "      <td>276</td>\n",
       "      <td>1</td>\n",
       "      <td>660</td>\n",
       "      <td>7</td>\n",
       "      <td>2250000</td>\n",
       "    </tr>\n",
       "    <tr>\n",
       "      <th>7</th>\n",
       "      <td>2004</td>\n",
       "      <td>65000</td>\n",
       "      <td>4</td>\n",
       "      <td>1</td>\n",
       "      <td>24</td>\n",
       "      <td>247</td>\n",
       "      <td>1</td>\n",
       "      <td>1000</td>\n",
       "      <td>7</td>\n",
       "      <td>690000</td>\n",
       "    </tr>\n",
       "  </tbody>\n",
       "</table>\n",
       "</div>"
      ],
      "text/plain": [
       "   model  running (km)  fuel_type  gear_type  registered_in  color  assembly  \\\n",
       "0   2020         39265          4          1             21    276         1   \n",
       "1   2017         50000          4          1             57     69         1   \n",
       "4   2004        120000          4          1             21    237         0   \n",
       "6   2022             1          4          1             63    276         1   \n",
       "7   2004         65000          4          1             24    247         1   \n",
       "\n",
       "   engine_capacity (cc)  body_type  new_price  \n",
       "0                  1000          7    2075000  \n",
       "1                   796          7     800000  \n",
       "4                  1300         15    1160000  \n",
       "6                   660          7    2250000  \n",
       "7                  1000          7     690000  "
      ]
     },
     "execution_count": 39,
     "metadata": {},
     "output_type": "execute_result"
    }
   ],
   "source": [
    "df.head()"
   ]
  },
  {
   "cell_type": "code",
   "execution_count": 40,
   "metadata": {},
   "outputs": [
    {
     "name": "stderr",
     "output_type": "stream",
     "text": [
      "C:\\Users\\MOIZ\\AppData\\Roaming\\Python\\Python39\\site-packages\\pandas\\core\\internals\\blocks.py:351: RuntimeWarning: divide by zero encountered in log10\n",
      "  result = func(self.values, **kwargs)\n"
     ]
    }
   ],
   "source": [
    "df = np.log10(df)"
   ]
  },
  {
   "cell_type": "code",
   "execution_count": 42,
   "metadata": {},
   "outputs": [
    {
     "name": "stderr",
     "output_type": "stream",
     "text": [
      "C:\\Users\\MOIZ\\AppData\\Roaming\\Python\\Python39\\site-packages\\scipy\\stats\\_morestats.py:1800: UserWarning: p-value may not be accurate for N > 5000.\n",
      "  warnings.warn(\"p-value may not be accurate for N > 5000.\")\n"
     ]
    },
    {
     "name": "stdout",
     "output_type": "stream",
     "text": [
      "stat =  nan\n",
      "p =  1.0\n",
      "The data is normal\n"
     ]
    }
   ],
   "source": [
    "from scipy.stats import shapiro\n",
    "\n",
    "stat,p = shapiro(df)\n",
    "print('stat = ', stat)\n",
    "print('p = ', p)\n",
    "if p> 0.05:\n",
    "    print('The data is normal')\n",
    "else:\n",
    "    print('The data is not normal')\n"
   ]
  },
  {
   "cell_type": "code",
   "execution_count": 43,
   "metadata": {},
   "outputs": [
    {
     "name": "stderr",
     "output_type": "stream",
     "text": [
      "C:\\Users\\MOIZ\\AppData\\Roaming\\Python\\Python39\\site-packages\\numpy\\core\\fromnumeric.py:3462: FutureWarning: In a future version, DataFrame.mean(axis=None) will return a scalar mean over the entire DataFrame. To retain the old behavior, use 'frame.mean(axis=0)' or just 'frame.mean()'\n",
      "  return mean(axis=axis, dtype=dtype, out=out, **kwargs)\n",
      "C:\\Users\\MOIZ\\AppData\\Local\\Temp\\ipykernel_3320\\2139521461.py:13: MatplotlibDeprecationWarning: The seaborn styles shipped by Matplotlib are deprecated since 3.6, as they no longer correspond to the styles shipped by seaborn. However, they will remain available as 'seaborn-v0_8-<style>'. Alternatively, directly use the seaborn API instead.\n",
      "  plt.style.use('seaborn')\n"
     ]
    },
    {
     "data": {
      "text/plain": [
       "<matplotlib.collections.PathCollection at 0x127239ea880>"
      ]
     },
     "execution_count": 43,
     "metadata": {},
     "output_type": "execute_result"
    },
    {
     "data": {
      "image/png": "[encoded data removed]",
      "text/plain": [
       "<Figure size 500x500 with 1 Axes>"
      ]
     },
     "metadata": {},
     "output_type": "display_data"
    }
   ],
   "source": [
    "# Normal Distribution\n",
    "def pdf(x):\n",
    "    mean = np.mean(x)\n",
    "    std = np.std(x)\n",
    "    y_out = 1/(std * np.sqrt(2 * np.pi))* np.exp(-(x-mean)**2/(2 * std**2))\n",
    "    return y_out\n",
    "\n",
    "# To generate an array of x\n",
    "x = df\n",
    "y = pdf(x)\n",
    "\n",
    "# Plotting the normal_curve/bell_curve or gaussian distribution\n",
    "plt.style.use('seaborn')\n",
    "plt.figure(figsize=(5,5))\n",
    "plt.plot(x,y,color='blue',linestyle='dashed')\n",
    "\n",
    "plt.scatter(x,y,marker='o',s=25,color='red')"
   ]
  }
 ],
 "metadata": {
  "kernelspec": {
   "display_name": "base",
   "language": "python",
   "name": "python3"
  },
  "language_info": {
   "codemirror_mode": {
    "name": "ipython",
    "version": 3
   },
   "file_extension": ".py",
   "mimetype": "text/x-python",
   "name": "python",
   "nbconvert_exporter": "python",
   "pygments_lexer": "ipython3",
   "version": "3.9.12"
  },
  "orig_nbformat": 4,
  "vscode": {
   "interpreter": {
    "hash": "19d1d53a962d236aa061289c2ac16dc8e6d9648c89fe79f459ae9a3493bc67b4"
   }
  }
 },
 "nbformat": 4,
 "nbformat_minor": 2
}
