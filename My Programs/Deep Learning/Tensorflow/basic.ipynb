{
 "cells": [
  {
   "cell_type": "code",
   "execution_count": null,
   "metadata": {},
   "outputs": [],
   "source": [
    "import tensorflow as tf"
   ]
  }
 ],
 "metadata": {
  "kernelspec": {
   "display_name": "Python 3.10.7 64-bit",
   "language": "python",
   "name": "python3"
  },
  "language_info": {
   "name": "python",
   "version": "3.10.7"
  },
  "orig_nbformat": 4,
  "vscode": {
   "interpreter": {
    "hash": "60299a94f21f85bc871941c8cc573f2d59f9f1d6bb54c32bd9367e47c51a1635"
   }
  }
 },
 "nbformat": 4,
 "nbformat_minor": 2
}
