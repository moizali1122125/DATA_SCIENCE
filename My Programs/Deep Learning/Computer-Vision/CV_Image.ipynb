{
 "cells": [
  {
   "cell_type": "markdown",
   "metadata": {},
   "source": [
    "> # **1_Computer Vision(CV) Image**"
   ]
  },
  {
   "cell_type": "markdown",
   "metadata": {},
   "source": [
    "# Image CV"
   ]
  },
  {
   "cell_type": "code",
   "execution_count": null,
   "metadata": {},
   "outputs": [],
   "source": [
    "import numpy as np\n",
    "import cv2 as cv\n",
    "from cv2 import cvtColor\n",
    "import sys\n",
    "img = cv.imread('Resources/rbg.jpg')\n",
    "img = cv.resize(img,(800,600)) \n",
    "img = cvtColor(img, cv.COLOR_BGR2GRAY)     \n",
    "cv.imshow('MyPic', img)\n",
    "cv.waitKey(0)              \n",
    "cv.destroyAllWindows()"
   ]
  },
  {
   "cell_type": "markdown",
   "metadata": {},
   "source": [
    "For changing Pic size :"
   ]
  },
  {
   "cell_type": "code",
   "execution_count": null,
   "metadata": {},
   "outputs": [],
   "source": [
    "resized_img = cv.resize(img,(800,600))"
   ]
  },
  {
   "cell_type": "markdown",
   "metadata": {},
   "source": [
    "For setting Pic showing time :"
   ]
  },
  {
   "cell_type": "code",
   "execution_count": null,
   "metadata": {},
   "outputs": [],
   "source": [
    "cv.waitKey(0)  "
   ]
  },
  {
   "cell_type": "markdown",
   "metadata": {},
   "source": [
    "For changing colors :"
   ]
  },
  {
   "cell_type": "code",
   "execution_count": null,
   "metadata": {},
   "outputs": [],
   "source": [
    "from cv2 import cvtColor\n",
    "img = cvtColor(img, cv.color_BGR2GRAY)"
   ]
  },
  {
   "cell_type": "markdown",
   "metadata": {},
   "source": [
    "Black & White :"
   ]
  },
  {
   "cell_type": "code",
   "execution_count": null,
   "metadata": {},
   "outputs": [],
   "source": [
    "(thresh, b_w) = cv.threshold(img,127,255,cv.THRESH_BINARY)"
   ]
  },
  {
   "cell_type": "markdown",
   "metadata": {},
   "source": [
    "For converting into Blur"
   ]
  },
  {
   "cell_type": "code",
   "execution_count": null,
   "metadata": {},
   "outputs": [],
   "source": [
    "cv.GaussianBlur(img, (23,23),0) # Every time Odd number"
   ]
  },
  {
   "cell_type": "markdown",
   "metadata": {},
   "source": [
    "For Edge detection :"
   ]
  },
  {
   "cell_type": "code",
   "execution_count": null,
   "metadata": {},
   "outputs": [],
   "source": [
    "edge_img = cv.Canny(img, 48,48)"
   ]
  },
  {
   "cell_type": "markdown",
   "metadata": {},
   "source": [
    "For thikness of lines :"
   ]
  },
  {
   "cell_type": "code",
   "execution_count": null,
   "metadata": {},
   "outputs": [],
   "source": [
    "mat_kernel = np.ones((7,7), np.uint8)  # uint is bit rate\n",
    "# for adding np  Replace (7,7) with  (mat_kernel)\n",
    "dilated_img = cv.dilate(edge_img, (7,7), iterations=1 ) # apply after Edge Detection # iterations is layer of paint"
   ]
  },
  {
   "cell_type": "markdown",
   "metadata": {},
   "source": [
    "For thinner outline :"
   ]
  },
  {
   "cell_type": "code",
   "execution_count": null,
   "metadata": {},
   "outputs": [],
   "source": [
    "mat_kernel = np.ones((7,7), np.uint8)  # uint is bit rate\n",
    "# for adding np  Replace (7,7) with  (mat_kernel)\n",
    "cv.erode(dilated_img, (7,7), iterations=1 ) # apply after Edge Detection # iterations is layer of paint"
   ]
  },
  {
   "cell_type": "markdown",
   "metadata": {},
   "source": [
    "For Cropping :   USE NUMPY NOT CV"
   ]
  },
  {
   "cell_type": "code",
   "execution_count": null,
   "metadata": {},
   "outputs": [],
   "source": [
    "print('The size of our image is: ', img.shape)\n",
    "cropped_img = img[0:200,200:300]    # First value is height or 2nd is width"
   ]
  },
  {
   "cell_type": "markdown",
   "metadata": {},
   "source": [
    "For saving Pic after changing color"
   ]
  },
  {
   "cell_type": "code",
   "execution_count": null,
   "metadata": {},
   "outputs": [],
   "source": [
    "cv.imwrite('Resources/Edited_Pic.png', img)"
   ]
  },
  {
   "cell_type": "markdown",
   "metadata": {},
   "source": [
    "For Combining Pictures"
   ]
  },
  {
   "cell_type": "code",
   "execution_count": null,
   "metadata": {},
   "outputs": [],
   "source": [
    "# 1- Horizontal stack Image\n",
    "hor_img = np.hstack((img ,img))\n",
    "\n",
    "# 2- Vertical stack Image\n",
    "ver_img = np.vstack((img, img))"
   ]
  },
  {
   "cell_type": "markdown",
   "metadata": {},
   "source": [
    "## Perspective Menuplating"
   ]
  },
  {
   "cell_type": "code",
   "execution_count": null,
   "metadata": {},
   "outputs": [],
   "source": [
    "import numpy as np\n",
    "import cv2 as cv\n",
    "img = cv.imread('Resources/perspective.jpg')\n",
    "print(img.shape)\n",
    "# Defining Points\n",
    "point1 = np.float32([[233,196],[82,471], [522,169],[715,482]])\n",
    "height = 574   # according to img.shape\n",
    "width = 529    # 2nd\n",
    "point2 = np.float32([[0.0],[width,0], [0,height],[width,height]])\n",
    "   \n",
    "matrix = cv.getPerspectiveTransform(point1, point2)\n",
    "out_img = cv.warpPerspective(img,matrix, (width,height))\n",
    "\n",
    "cv.imshow('Original', img)\n",
    "cv.imshow('Transform', out_img)\n",
    "cv.waitKey(0)\n",
    "cv.destroyAllWindows()"
   ]
  },
  {
   "cell_type": "code",
   "execution_count": null,
   "metadata": {},
   "outputs": [],
   "source": [
    "# Coordinates of an image or video \n",
    "# step-1\n",
    "import numpy as np\n",
    "import cv2 as cv\n",
    "\n",
    "def find_coord(event, x, y, float, params):\n",
    "# Make Button to find the position of object:\n",
    "\n",
    "    if event == cv.EVENT_LBUTTONDOWN:\n",
    "        # Left mouse click\n",
    "        print(x,'',y)\n",
    "        # how ot define or print on the same image or window\n",
    "        font = cv.FONT_HERSHEY_PLAIN\n",
    "        cv.putText(img, str(x)+ ','+ str(y),(x,y),font,1, (255,0,179), thickness=2)\n",
    "        # then show the text on image and image itself\n",
    "        cv.imshow('Image', img)\n",
    "\n",
    "# Make Button for knowing the object color values\n",
    "    if event == cv.EVENT_RBUTTONDOWN:\n",
    "        print(x,'',y)\n",
    "        font = cv.FONT_HERSHEY_SIMPLEX\n",
    "        b =  img(y,x,0)\n",
    "        g =  img(y,x,1)\n",
    "        r =  img(y,x,2)\n",
    "        cv.putText(img, str(b)+','+str(g)+','+str(r), (x,y),font,1,(255,0,0), thickness=2)\n",
    "        cv.imshow(\"Image\", img)\n",
    "\n",
    "# final function to read an display\n",
    "if __name__=='__main__':\n",
    "    # reading an image\n",
    "    img = cv.imread('Resources/perspective.jpg', 1)\n",
    "    # display the image\n",
    "    cv.imshow('Image', img)\n",
    "    # setting call back runction\n",
    "    cv.setMouseCallback('Image', find_coord)\n",
    "\n",
    "    cv.waitKey(0)\n",
    "    cv.destroyAllWindows()"
   ]
  },
  {
   "cell_type": "markdown",
   "metadata": {},
   "source": [
    "## Select specific part by: \n",
    "### HSV = (HUE,SATURATION,VALUE)"
   ]
  },
  {
   "cell_type": "code",
   "execution_count": null,
   "metadata": {},
   "outputs": [],
   "source": [
    "import numpy as np\n",
    "import cv2 as cv\n",
    "from cv2 import imshow\n",
    "# sliders\n",
    "def slider():\n",
    "    pass\n",
    "path = 'Resources/my.jpg'\n",
    "cv.namedWindow('Bars')\n",
    "cv.resizeWindow('Bars', 700,300)\n",
    "cv.createTrackbar('Hue Min', 'Bars', 0,179,slider)\n",
    "cv.createTrackbar('Hue Max', 'Bars', 179,179,slider)\n",
    "cv.createTrackbar('Sat Min', 'Bars', 0,255,slider)\n",
    "cv.createTrackbar('Sat Max', 'Bars', 255,255,slider)\n",
    "cv.createTrackbar('Val Min', 'Bars', 0,255,slider)\n",
    "cv.createTrackbar('Val Max', 'Bars', 255,255,slider)\n",
    "\n",
    "while True:\n",
    "    # Convert in hsv = (Hue, Saturation, value)\n",
    "    img = cv.imread(path)\n",
    "    hsv_img = cv.cvtColor(img, cv.COLOR_BGR2HSV)\n",
    "    hue_min = cv.getTrackbarPos('Hue Min', 'Bars')\n",
    "    hue_max = cv.getTrackbarPos('Hue Max', 'Bars')\n",
    "    sat_min = cv.getTrackbarPos('Sat Min', 'Bars')\n",
    "    sat_max = cv.getTrackbarPos('Sat Max', 'Bars')\n",
    "    val_min = cv.getTrackbarPos('Val Min', 'Bars')\n",
    "    val_max = cv.getTrackbarPos('Val Max', 'Bars')\n",
    "    print(hue_min,hue_max,sat_min,sat_max,val_min,val_max)\n",
    "    # to see these changes inside an image\n",
    "    lower = np.array([hue_min,sat_min,val_min])\n",
    "    upper = np.array([hue_max,sat_max,val_max])\n",
    "    mask_img = cv.inRange(hsv_img, lower, upper)\n",
    "    out_img = cv.bitwise_and(img ,img, mask = mask_img)\n",
    "    \n",
    "    cv.imshow('Original', img)\n",
    "    cv.imshow('HSV', hsv_img)\n",
    "    cv.imshow('Mask',mask_img)\n",
    "    cv.imshow('Final Output',out_img)\n",
    "    if cv.waitKey(1) & 0xFF == ord('q'):\n",
    "        break\n",
    "cv.waitKey(0)\n",
    "cv.destroyAllWindows()"
   ]
  }
 ],
 "metadata": {
  "kernelspec": {
   "display_name": "Python 3.10.4 64-bit",
   "language": "python",
   "name": "python3"
  },
  "language_info": {
   "codemirror_mode": {
    "name": "ipython",
    "version": 3
   },
   "file_extension": ".py",
   "mimetype": "text/x-python",
   "name": "python",
   "nbconvert_exporter": "python",
   "pygments_lexer": "ipython3",
   "version": "3.10.4"
  },
  "orig_nbformat": 4,
  "vscode": {
   "interpreter": {
    "hash": "26f0cee8e9d2305157331b4d6943f95a5720c24a0c94f9638f02d1b1d5e0a1b2"
   }
  }
 },
 "nbformat": 4,
 "nbformat_minor": 2
}
