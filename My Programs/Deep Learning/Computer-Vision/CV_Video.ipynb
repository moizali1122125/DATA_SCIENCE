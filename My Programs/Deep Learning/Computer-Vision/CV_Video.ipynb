{
 "cells": [
  {
   "cell_type": "markdown",
   "metadata": {},
   "source": [
    "> # **2_Computer Vision(CV)  Video**"
   ]
  },
  {
   "cell_type": "code",
   "execution_count": null,
   "metadata": {},
   "outputs": [],
   "source": [
    "import cv2 as cv\n",
    "cap = cv.VideoCapture('Resources/video.mp4')\n",
    "if (cap.isOpened()==False):\n",
    "    print('Error in uploading video')\n",
    "while(cap.isOpened()):\n",
    "    ret, frame= cap.read()\n",
    "    if ret == True:\n",
    "        cv.imshow('video', frame)\n",
    "        if cv.waitKey(0) & 0xFF == ord('q'):\n",
    "            break\n",
    "    else:\n",
    "        break\n",
    "    cap.release()\n",
    "    cv.destroyAllWindows()"
   ]
  },
  {
   "cell_type": "markdown",
   "metadata": {},
   "source": [
    "For changing video color :"
   ]
  },
  {
   "cell_type": "code",
   "execution_count": null,
   "metadata": {},
   "outputs": [],
   "source": [
    "grayframe = cv.cvtColor(frame, cv.COLOR_BGR2GRAY)\n",
    "(thresh, b_w) = cv.threshold(grayframe,127,255,cv.THRESH_BINARY)"
   ]
  },
  {
   "cell_type": "markdown",
   "metadata": {},
   "source": [
    "For changing shape :"
   ]
  },
  {
   "cell_type": "code",
   "execution_count": null,
   "metadata": {},
   "outputs": [],
   "source": [
    "cap.set(10, 100)    # 10 is the key to set brightness\n",
    "cap.set(3,  640)    # 3 is the key to set width\n",
    "cap.set(4,  480)    # 4 is the key to st height"
   ]
  },
  {
   "cell_type": "markdown",
   "metadata": {},
   "source": [
    "For making Resolution function :"
   ]
  },
  {
   "cell_type": "code",
   "execution_count": null,
   "metadata": {},
   "outputs": [],
   "source": [
    "def hd_resolution():\n",
    "    cap.set(3, 1280)\n",
    "    cap.set(4, 720)\n",
    "hd_resolution()"
   ]
  },
  {
   "cell_type": "markdown",
   "metadata": {},
   "source": [
    "For saving Edited Video :"
   ]
  },
  {
   "cell_type": "code",
   "execution_count": null,
   "metadata": {},
   "outputs": [],
   "source": [
    "import cv2 as cv\n",
    "# Read the frames from video\n",
    "cap = cv.VideoCapture('Resources/video.mp4')    # Not enter path for WEBCAM & enter numbers example (0) for 1st webcam\n",
    "# Writing format, codec, video writer object and file output\n",
    "frame_width = int(cap.get(3))\n",
    "frame_height = int(cap.get(4))\n",
    "out = cv.VideoWriter('Resources/Out_video.avi', cv.VideoWriter_fourcc('M','J','P','G'),10,(frame_width,frame_height)) # isColor=False\n",
    "\n",
    "while (True):\n",
    "    # Capture frame by frame\n",
    "    (ret, frame) = cap.read()\n",
    "    # Change Colors        \n",
    "    grayframe = cv.cvtColor(frame, cv.COLOR_BGR2GRAY)\n",
    "    (thresh, b_w) = cv.threshold(grayframe,127,255,cv.THRESH_BINARY)\n",
    "\n",
    "    if ret == True:\n",
    "        out.write(b_w)\n",
    "        # To display frame\n",
    "        cv.imshow('Video', b_w)\n",
    "        # For exit button\n",
    "        if cv.waitKey(1) & 0xFF == ord('q'):\n",
    "            break\n",
    "    else:\n",
    "        break\n",
    "cap.release()\n",
    "cv.destroyAllWindows()"
   ]
  },
  {
   "cell_type": "markdown",
   "metadata": {},
   "source": [
    "## For exporting Frames of video"
   ]
  },
  {
   "cell_type": "code",
   "execution_count": 3,
   "metadata": {},
   "outputs": [],
   "source": [
    "import numpy as np \n",
    "import cv2 as cv\n",
    "cap = cv.VideoCapture('Resources/video.mp4')\n",
    "\n",
    "frameNr = 0\n",
    "\n",
    "while (True):\n",
    "    success, frame = cap.read()\n",
    "    if success:\n",
    "        cv.imwrite(f'Resources/Frames/frame_{frameNr}.jpg',frame)\n",
    "    else:\n",
    "        break\n",
    "    frameNr = frameNr+1\n",
    "cap.release()"
   ]
  }
 ],
 "metadata": {
  "kernelspec": {
   "display_name": "Python 3.10.4 64-bit",
   "language": "python",
   "name": "python3"
  },
  "language_info": {
   "codemirror_mode": {
    "name": "ipython",
    "version": 3
   },
   "file_extension": ".py",
   "mimetype": "text/x-python",
   "name": "python",
   "nbconvert_exporter": "python",
   "pygments_lexer": "ipython3",
   "version": "3.10.4"
  },
  "orig_nbformat": 4,
  "vscode": {
   "interpreter": {
    "hash": "26f0cee8e9d2305157331b4d6943f95a5720c24a0c94f9638f02d1b1d5e0a1b2"
   }
  }
 },
 "nbformat": 4,
 "nbformat_minor": 2
}
