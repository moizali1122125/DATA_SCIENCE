{
 "cells": [
  {
   "cell_type": "markdown",
   "metadata": {},
   "source": [
    "> # **4_Drawing**"
   ]
  },
  {
   "cell_type": "code",
   "execution_count": 18,
   "metadata": {},
   "outputs": [
    {
     "name": "stdout",
     "output_type": "stream",
     "text": [
      "The size of our canvas is:  (600, 600)\n"
     ]
    }
   ],
   "source": [
    "import cv2 as cv\n",
    "import numpy as np\n",
    "\n",
    "# Draw a canvas\n",
    "img = np.zeros((600,600))   # 0 for Black or 1 for white\n",
    "# print size\n",
    "print('The size of our canvas is: ', img.shape)\n",
    "# adding colors in canvas\n",
    "colored_img = np.zeros((600,600,3), np.uint8)\n",
    "colored_img[:] = 255,0,255  #change RGB number \n",
    "colored_img[150:230,100:500] = 255,0,255 # for selective part\n",
    "\n",
    "# adding line\n",
    "cv.line(colored_img,(0,0),(300,300),(255,0,0),3) # 3 is thickness or (0,0) is starting point\n",
    "# rectangle\n",
    "cv.rectangle(colored_img,(50,100),(300,400), (255,240,0),3)  # replace 3 with cv.FILLED  for filling the rectangle\n",
    "# circle\n",
    "cv.circle(colored_img,(400,300),50,(255,100,0), cv.FILLED)\n",
    "# TEXT\n",
    "cv.putText(colored_img,'MOIZ ALI',(200,500), cv.FONT_HERSHEY_COMPLEX,1,(255,255,0),1)\n",
    "\n",
    "cv.imshow('wall', colored_img)\n",
    "cv.waitKey(0)\n",
    "cv.destroyAllWindows()"
   ]
  }
 ],
 "metadata": {
  "kernelspec": {
   "display_name": "Python 3.10.4 64-bit",
   "language": "python",
   "name": "python3"
  },
  "language_info": {
   "codemirror_mode": {
    "name": "ipython",
    "version": 3
   },
   "file_extension": ".py",
   "mimetype": "text/x-python",
   "name": "python",
   "nbconvert_exporter": "python",
   "pygments_lexer": "ipython3",
   "version": "3.10.4"
  },
  "orig_nbformat": 4,
  "vscode": {
   "interpreter": {
    "hash": "26f0cee8e9d2305157331b4d6943f95a5720c24a0c94f9638f02d1b1d5e0a1b2"
   }
  }
 },
 "nbformat": 4,
 "nbformat_minor": 2
}
