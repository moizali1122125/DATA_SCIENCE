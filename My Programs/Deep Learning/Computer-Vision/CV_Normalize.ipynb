{
 "cells": [
  {
   "cell_type": "markdown",
   "metadata": {},
   "source": [
    "> # **3_Normalization CV**"
   ]
  },
  {
   "cell_type": "code",
   "execution_count": null,
   "metadata": {},
   "outputs": [],
   "source": [
    "from __future__ import print_function\n",
    "import cv2 as cv\n",
    "import argparse\n",
    "parser = argparse.ArgumentParser(description='Code for Histogram Equalization tutorial.')\n",
    "parser.add_argument('--input', help='Path to input image.', default='lena.jpg')\n",
    "args = parser.parse_args()\n",
    "src = cv.imread(cv.samples.findFile(args.input))\n",
    "if src is None:\n",
    "    print('Could not open or find the image:', args.input)\n",
    "    exit(0)\n",
    "src = cv.cvtColor(src, cv.COLOR_BGR2GRAY)\n",
    "dst = cv.equalizeHist(src)\n",
    "cv.imshow('Source image', src)\n",
    "cv.imshow('Equalized Image', dst)\n",
    "cv.waitKey()\n"
   ]
  }
 ],
 "metadata": {
  "kernelspec": {
   "display_name": "Python 3.10.4 64-bit",
   "language": "python",
   "name": "python3"
  },
  "language_info": {
   "name": "python",
   "version": "3.10.4"
  },
  "orig_nbformat": 4,
  "vscode": {
   "interpreter": {
    "hash": "26f0cee8e9d2305157331b4d6943f95a5720c24a0c94f9638f02d1b1d5e0a1b2"
   }
  }
 },
 "nbformat": 4,
 "nbformat_minor": 2
}
