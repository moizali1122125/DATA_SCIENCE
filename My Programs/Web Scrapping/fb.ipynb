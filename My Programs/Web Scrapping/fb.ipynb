{
 "cells": [
  {
   "cell_type": "code",
   "execution_count": 16,
   "metadata": {},
   "outputs": [
    {
     "ename": "ImportError",
     "evalue": "cannot import name 'username' from 'secrets' (c:\\ProgramData\\Miniconda3\\lib\\secrets.py)",
     "output_type": "error",
     "traceback": [
      "\u001b[1;31m---------------------------------------------------------------------------\u001b[0m",
      "\u001b[1;31mImportError\u001b[0m                               Traceback (most recent call last)",
      "Cell \u001b[1;32mIn[16], line 3\u001b[0m\n\u001b[0;32m      1\u001b[0m \u001b[39mimport\u001b[39;00m \u001b[39mrequests\u001b[39;00m\n\u001b[0;32m      2\u001b[0m \u001b[39mfrom\u001b[39;00m \u001b[39mbs4\u001b[39;00m \u001b[39mimport\u001b[39;00m BeautifulSoup\n\u001b[1;32m----> 3\u001b[0m \u001b[39mfrom\u001b[39;00m \u001b[39msecrets\u001b[39;00m \u001b[39mimport\u001b[39;00m username, password\n\u001b[0;32m      5\u001b[0m \u001b[39mclass\u001b[39;00m \u001b[39mFaceBookBot\u001b[39;00m():\n\u001b[0;32m      6\u001b[0m     login_basic_url \u001b[39m=\u001b[39m \u001b[39m'\u001b[39m\u001b[39mhttps://mbasic.facebook.com/login\u001b[39m\u001b[39m'\u001b[39m\n",
      "\u001b[1;31mImportError\u001b[0m: cannot import name 'username' from 'secrets' (c:\\ProgramData\\Miniconda3\\lib\\secrets.py)"
     ]
    }
   ],
   "source": [
    "import requests\n",
    "from bs4 import BeautifulSoup\n",
    "from secrets import username, password\n",
    "\n",
    "class FaceBookBot():\n",
    "    login_basic_url = 'https://mbasic.facebook.com/login'\n",
    "    login_mobile_url = 'https://m.facebook.com/login'\n",
    "    payload = {\n",
    "            'email': username,\n",
    "            'pass': password\n",
    "        }\n",
    "    post_ID = \"\"\n",
    "\n",
    "    def parse_html(self, request_url):\n",
    "        with requests.Session() as session:\n",
    "            post = session.post(self.login_basic_url, data=self.payload)\n",
    "            parsed_html = session.get(request_url)\n",
    "        return parsed_html\n",
    "\n",
    "    def post_content(self):\n",
    "        REQUEST_URL = f'https://mbasic.facebook.com/story.php?story_fbid={self.post_ID}&id=415518858611168'\n",
    "        \n",
    "        soup = BeautifulSoup(self.parse_html(REQUEST_URL).content, \"html.parser\")\n",
    "        content = soup.find_all('p')\n",
    "        post_content = []\n",
    "        for lines in content:\n",
    "            post_content.append(lines.text)\n",
    "        \n",
    "        post_content = ' '.join(post_content)    \n",
    "        return post_content\n",
    "\n",
    "    def date_posted(self):\n",
    "        REQUEST_URL = f'https://mbasic.facebook.com/story.php?story_fbid={self.post_ID}&id=415518858611168'\n",
    "        \n",
    "        soup = BeautifulSoup(self.parse_html(REQUEST_URL).content, \"html.parser\")\n",
    "        date_posted = soup.find('abbr')\n",
    "        return date_posted.text\n",
    "\n",
    "    def post_likes(self):\n",
    "        limit = 200\n",
    "        REQUEST_URL = f'https://mbasic.facebook.com/ufi/reaction/profile/browser/fetch/?limit={limit}&total_count=17&ft_ent_identifier={self.post_ID}'\n",
    "\n",
    "        soup = BeautifulSoup(self.parse_html(REQUEST_URL).content, \"html.parser\")\n",
    "        names = soup.find_all('h3')\n",
    "        people_who_liked = []\n",
    "        for name in names:\n",
    "            people_who_liked.append(name.text)\n",
    "        people_who_liked = [i for i in people_who_liked if i] \n",
    "        return people_who_liked\n",
    "\n",
    "    def post_shares(self):        \n",
    "        REQUEST_URL = f'https://m.facebook.com/browse/shares?id={self.post_ID}'\n",
    "        \n",
    "        with requests.Session() as session:\n",
    "            post = session.post(self.login_mobile_url, data=self.payload)\n",
    "            parsed_html = session.get(REQUEST_URL)\n",
    "        \n",
    "        soup = BeautifulSoup(parsed_html.content, \"html.parser\")\n",
    "        names = soup.find_all('span')\n",
    "        people_who_shared = []\n",
    "        for name in names:\n",
    "            people_who_shared.append(name.text)\n",
    "        return people_who_shared"
   ]
  },
  {
   "cell_type": "code",
   "execution_count": null,
   "metadata": {},
   "outputs": [
    {
     "ename": "NameError",
     "evalue": "name 'FaceBookBot' is not defined",
     "output_type": "error",
     "traceback": [
      "\u001b[1;31m---------------------------------------------------------------------------\u001b[0m",
      "\u001b[1;31mNameError\u001b[0m                                 Traceback (most recent call last)",
      "Cell \u001b[1;32mIn[15], line 1\u001b[0m\n\u001b[1;32m----> 1\u001b[0m bot \u001b[39m=\u001b[39m FaceBookBot()\n",
      "\u001b[1;31mNameError\u001b[0m: name 'FaceBookBot' is not defined"
     ]
    }
   ],
   "source": [
    "bot = FaceBookBot()\n",
    "bot.post_ID"
   ]
  }
 ],
 "metadata": {
  "kernelspec": {
   "display_name": "base",
   "language": "python",
   "name": "python3"
  },
  "language_info": {
   "codemirror_mode": {
    "name": "ipython",
    "version": 3
   },
   "file_extension": ".py",
   "mimetype": "text/x-python",
   "name": "python",
   "nbconvert_exporter": "python",
   "pygments_lexer": "ipython3",
   "version": "3.9.12 (main, Apr  4 2022, 05:22:27) [MSC v.1916 64 bit (AMD64)]"
  },
  "orig_nbformat": 4,
  "vscode": {
   "interpreter": {
    "hash": "19d1d53a962d236aa061289c2ac16dc8e6d9648c89fe79f459ae9a3493bc67b4"
   }
  }
 },
 "nbformat": 4,
 "nbformat_minor": 2
}
