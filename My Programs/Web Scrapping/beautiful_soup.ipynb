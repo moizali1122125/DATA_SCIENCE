{
 "cells": [
  {
   "cell_type": "code",
   "execution_count": null,
   "metadata": {},
   "outputs": [],
   "source": [
    "import requests\n",
    "from bs4 import BeautifulSoup"
   ]
  },
  {
   "cell_type": "markdown",
   "metadata": {},
   "source": [
    "Coingecko Website link"
   ]
  },
  {
   "cell_type": "code",
   "execution_count": null,
   "metadata": {},
   "outputs": [],
   "source": [
    "url = 'https://www.coingecko.com/'"
   ]
  },
  {
   "cell_type": "code",
   "execution_count": null,
   "metadata": {},
   "outputs": [],
   "source": [
    "response = requests.get(url)\n",
    "response.status_code     # if 200 thats mean accept request"
   ]
  },
  {
   "cell_type": "code",
   "execution_count": null,
   "metadata": {},
   "outputs": [],
   "source": [
    "soup = BeautifulSoup(response.content,'html.parser')\n",
    "soup"
   ]
  },
  {
   "cell_type": "markdown",
   "metadata": {},
   "source": [
    "Open website inspect and find Data area and copy (For example: {class=\"coingecko-table\"})"
   ]
  },
  {
   "cell_type": "code",
   "execution_count": null,
   "metadata": {},
   "outputs": [],
   "source": [
    "results = soup.find('div',{'class':\"coingecko-table\"}).find('tbody').find_all('tr')"
   ]
  },
  {
   "cell_type": "code",
   "execution_count": null,
   "metadata": {},
   "outputs": [],
   "source": [
    "len(results)   # all selected"
   ]
  },
  {
   "cell_type": "markdown",
   "metadata": {},
   "source": [
    "After inspect Click on Upper left arrow button on Inspect page"
   ]
  },
  {
   "cell_type": "markdown",
   "metadata": {},
   "source": [
    "### Inspect: **Name**"
   ]
  },
  {
   "cell_type": "code",
   "execution_count": null,
   "metadata": {},
   "outputs": [],
   "source": [
    "results[0].find('a',{'class':'d-lg-none font-bold tw-w-12'})#.get_text().strip()"
   ]
  },
  {
   "cell_type": "markdown",
   "metadata": {},
   "source": [
    "### Inspect: **Price**"
   ]
  },
  {
   "cell_type": "code",
   "execution_count": null,
   "metadata": {},
   "outputs": [],
   "source": [
    "results[0].find('td',{'class':'td-price price text-right pl-0'})#.get_text().strip()"
   ]
  },
  {
   "cell_type": "markdown",
   "metadata": {},
   "source": [
    "### Inspect: **24 Volume**"
   ]
  },
  {
   "cell_type": "code",
   "execution_count": null,
   "metadata": {},
   "outputs": [],
   "source": [
    "results[0].find('td',{'class':'td-liquidity_score lit text-right col-market'}).get_text().strip()"
   ]
  },
  {
   "cell_type": "markdown",
   "metadata": {},
   "source": [
    "### Inspect: **Market Cap**"
   ]
  },
  {
   "cell_type": "code",
   "execution_count": null,
   "metadata": {},
   "outputs": [],
   "source": [
    "results[0].find('td',{'class':'td-market_cap cap col-market cap-price text-right'}).get_text().strip() "
   ]
  },
  {
   "cell_type": "markdown",
   "metadata": {},
   "source": [
    "## For Inspecting all (100) Data"
   ]
  },
  {
   "cell_type": "markdown",
   "metadata": {},
   "source": [
    "Creating a empty list"
   ]
  },
  {
   "cell_type": "code",
   "execution_count": null,
   "metadata": {},
   "outputs": [],
   "source": [
    "names = []\n",
    "price = []\n",
    "volume_24h=[]\n",
    "market_cap=[]\n",
    "for result in results:\n",
    "     try:\n",
    "          names.append(result.find('a',{'class':'d-lg-none font-bold tw-w-12'}).get_text().strip())\n",
    "     except:\n",
    "          names.append('n/a')   \n",
    "     try:\n",
    "          price.append(result.find('td',{'class':'td-price price text-right pl-0'}).get_text().strip())\n",
    "     except:\n",
    "          price.append('n/a')\n",
    "     try:\n",
    "          volume_24h.append(result.find('td',{'class':'td-liquidity_score lit text-right col-market'}).get_text().strip())\n",
    "     except:\n",
    "          volume_24h.append('n/a')\n",
    "     try:    \n",
    "          market_cap.append(result.find('td',{'class':'td-market_cap cap col-market cap-price text-right'}).get_text().strip())   \n",
    "     except:\n",
    "          market_cap.append('n/a')"
   ]
  },
  {
   "cell_type": "markdown",
   "metadata": {},
   "source": [
    "## Creating DataFrame"
   ]
  },
  {
   "cell_type": "code",
   "execution_count": null,
   "metadata": {},
   "outputs": [],
   "source": [
    "crypto_df = pd.DataFrame({'Coin'       : names,\n",
    "                          'Price'      : price,\n",
    "                          '24H_Volume' : volume_24h,\n",
    "                          'Market_Cap' : market_cap  })\n",
    "crypto_df.head()"
   ]
  },
  {
   "cell_type": "markdown",
   "metadata": {},
   "source": [
    "For Saving Data Into CSV file"
   ]
  },
  {
   "cell_type": "code",
   "execution_count": null,
   "metadata": {},
   "outputs": [],
   "source": [
    "# crypto_df.to_csv('crypto_df.csv', index=False)"
   ]
  },
  {
   "cell_type": "markdown",
   "metadata": {},
   "source": [
    "## For Scrapping Multiple Pages of Website"
   ]
  },
  {
   "cell_type": "code",
   "execution_count": null,
   "metadata": {},
   "outputs": [],
   "source": [
    "names = []\n",
    "price = []\n",
    "volume_24h=[]\n",
    "market_cap=[]\n",
    "for i in range(1,15):\n",
    "     url = 'https://www.coingecko.com/page=' + str(i)\n",
    "     # Requesting WebSite\n",
    "     response = requests.get(url)\n",
    "     # Creating Soup Object\n",
    "     soup = BeautifulSoup(response.content,'html.parser')\n",
    "     \n",
    "     for result in results:\n",
    "         try:\n",
    "              names.append(result.find('a',{'class':'d-lg-none font-bold tw-w-12'}).get_text().strip())\n",
    "         except:\n",
    "              names.append('n/a')   \n",
    "         try:\n",
    "              price.append(result.find('td',{'class':'td-price price text-right pl-0'}).get_text().strip())\n",
    "         except:\n",
    "              price.append('n/a')\n",
    "         try:\n",
    "              volume_24h.append(result.find('td',{'class':'td-liquidity_score lit text-right col-market'}).get_text().strip())\n",
    "         except:\n",
    "              volume_24h.append('n/a')\n",
    "         try:    \n",
    "              market_cap.append(result.find('td',{'class':'td-market_cap cap col-market cap-price text-right'}).get_text().strip())   \n",
    "         except:\n",
    "              market_cap.append('n/a')"
   ]
  },
  {
   "cell_type": "code",
   "execution_count": null,
   "metadata": {},
   "outputs": [],
   "source": [
    "multiple_page_df = pd.DataFrame({'Coin'       : names,\n",
    "                                 'Price'      : price,\n",
    "                                 '24H_Volume' : volume_24h,\n",
    "                                 'Market_Cap' : market_cap  })\n",
    "multiple_page_df.head()"
   ]
  },
  {
   "cell_type": "markdown",
   "metadata": {},
   "source": [
    "For Saving Data Into CSV file"
   ]
  },
  {
   "cell_type": "code",
   "execution_count": null,
   "metadata": {},
   "outputs": [],
   "source": [
    "# crypto_df.to_csv('crypto_df.csv', index=False)"
   ]
  }
 ],
 "metadata": {
  "kernelspec": {
   "display_name": "base",
   "language": "python",
   "name": "python3"
  },
  "language_info": {
   "codemirror_mode": {
    "name": "ipython",
    "version": 3
   },
   "file_extension": ".py",
   "mimetype": "text/x-python",
   "name": "python",
   "nbconvert_exporter": "python",
   "pygments_lexer": "ipython3",
   "version": "3.9.12"
  },
  "orig_nbformat": 4,
  "vscode": {
   "interpreter": {
    "hash": "19d1d53a962d236aa061289c2ac16dc8e6d9648c89fe79f459ae9a3493bc67b4"
   }
  }
 },
 "nbformat": 4,
 "nbformat_minor": 2
}
