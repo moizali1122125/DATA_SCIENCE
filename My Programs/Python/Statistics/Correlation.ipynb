{
 "cells": [
  {
   "cell_type": "markdown",
   "metadata": {},
   "source": [
    "# **Correlation**\n",
    "\n",
    "For Example:\n",
    "\n",
    "1. One variable could cause or depend on the values of another variable.\n",
    "2. One variable could be lightly associated with another variable.\n",
    "3. Two variables could depend on a third unknown variable.\n",
    "   \n",
    ". Positive Correlation: Both variables change in the same direction.\n",
    "\n",
    ". Neutral Correlation: No relationship in the change of the variables.\n",
    "\n",
    ". Negative Correlation: Variables change in opposite directions.\n",
    "\n",
    "### Covariance:\n",
    ". Variables can be related by a linear relationship. This is arelationship that is consistently additive across the two data samples.\n",
    "\n",
    ". This relationship can be summarized between two variables, called the covariance.\n",
    "\n",
    ". The sign of the covariance can be interpreted as whether the two variables change in the same direction (POSITIVE) or change in different directions (NEGATIVE).\n",
    "\n",
    ". The magnitude of the covariance is not easily interpreted. A Covariance value of zero indicates that both variables are completely independent.\n",
    "\n",
    "\n",
    ". Types:\n",
    "\n",
    "    Pearson's r     (For normal data)\n",
    "\n",
    "    Spearman's rho  (For not normal data)\n",
    "\n",
    "    Kendall's tau   (For ranking)"
   ]
  },
  {
   "cell_type": "code",
   "execution_count": null,
   "metadata": {},
   "outputs": [],
   "source": [
    "import pandas as pd\n",
    "import numpy as np\n",
    "import seaborn as sns\n",
    "import matplotlib.pyplot as plt\n",
    "\n",
    "kashti = sns.load_dataset('titanic')\n",
    "phool = sns.load_dataset('iris')"
   ]
  },
  {
   "cell_type": "code",
   "execution_count": null,
   "metadata": {},
   "outputs": [],
   "source": [
    "# Both are numaric\n",
    "# Covariance\n",
    "np.cov(kashti['age'],kashti['fare'])"
   ]
  },
  {
   "cell_type": "code",
   "execution_count": null,
   "metadata": {},
   "outputs": [],
   "source": [
    "x = [1.23, 2.12, 3.34, 4.5]\n",
    "y = [2.56, 2.89, 3.76, 3.95]\n",
    "# Find Covariance with respect to columns\n",
    "cov_mat = np.stack((x,y), axis=0)\n",
    "# cov_mat\n",
    "print(np.cov(cov_mat))"
   ]
  },
  {
   "cell_type": "markdown",
   "metadata": {},
   "source": [
    "## Correlation instead of Covariance"
   ]
  },
  {
   "cell_type": "code",
   "execution_count": null,
   "metadata": {},
   "outputs": [],
   "source": [
    "kashti.info()"
   ]
  },
  {
   "cell_type": "markdown",
   "metadata": {},
   "source": [
    "Simple Correlation"
   ]
  },
  {
   "cell_type": "code",
   "execution_count": null,
   "metadata": {},
   "outputs": [],
   "source": [
    "kashti.corr()"
   ]
  },
  {
   "cell_type": "markdown",
   "metadata": {},
   "source": [
    "1_Pearson's Correlation (For Normal Data)"
   ]
  },
  {
   "cell_type": "code",
   "execution_count": null,
   "metadata": {},
   "outputs": [],
   "source": [
    "corr1 = kashti.corr(method='pearson')"
   ]
  },
  {
   "cell_type": "markdown",
   "metadata": {},
   "source": [
    "2_Spearman's Correlation (For Not-Normal Data)"
   ]
  },
  {
   "cell_type": "code",
   "execution_count": null,
   "metadata": {},
   "outputs": [],
   "source": [
    "corr2 = kashti.corr(method='spearman')"
   ]
  },
  {
   "cell_type": "markdown",
   "metadata": {},
   "source": [
    "3_Kendall Correlation (For Ranking)"
   ]
  },
  {
   "cell_type": "code",
   "execution_count": null,
   "metadata": {},
   "outputs": [],
   "source": [
    "corr3 = kashti.corr(method='kendall')"
   ]
  },
  {
   "cell_type": "markdown",
   "metadata": {},
   "source": [
    "### Positive Correlation "
   ]
  },
  {
   "cell_type": "code",
   "execution_count": null,
   "metadata": {},
   "outputs": [],
   "source": [
    "# corr1    p < 0.5\n",
    "sns.regplot(kashti['adult_male'],kashti['alone'], data=kashti)"
   ]
  },
  {
   "cell_type": "code",
   "execution_count": null,
   "metadata": {},
   "outputs": [],
   "source": [
    "sns.regplot(phool['sepal_length'],phool['petal_length'],data=phool)"
   ]
  },
  {
   "cell_type": "markdown",
   "metadata": {},
   "source": [
    "### Negative Correlation"
   ]
  },
  {
   "cell_type": "code",
   "execution_count": null,
   "metadata": {},
   "outputs": [],
   "source": [
    "sns.regplot(kashti['parch'],kashti['alone'],data=kashti)"
   ]
  },
  {
   "cell_type": "markdown",
   "metadata": {},
   "source": [
    "ANOTHER WAY TO SHOW IN GRAPHS"
   ]
  },
  {
   "cell_type": "code",
   "execution_count": null,
   "metadata": {},
   "outputs": [],
   "source": [
    "sns.heatmap(corr1,annot=True)"
   ]
  },
  {
   "cell_type": "code",
   "execution_count": null,
   "metadata": {},
   "outputs": [],
   "source": [
    "corr1.style.background_gradient(cmap='coolwarm')"
   ]
  },
  {
   "cell_type": "code",
   "execution_count": null,
   "metadata": {},
   "outputs": [],
   "source": [
    "sns.pairplot(corr1)"
   ]
  },
  {
   "cell_type": "markdown",
   "metadata": {},
   "source": [
    "## For Culculating Correlation"
   ]
  },
  {
   "cell_type": "code",
   "execution_count": null,
   "metadata": {},
   "outputs": [],
   "source": [
    "# Also Do With other types\n",
    "from scipy.stats import pearsonr\n",
    "corr1, _ = pearsonr(phool['sepal_length'],phool['petal_length'])\n",
    "print('Pearsons Correlation: %3.f' % corr1) "
   ]
  },
  {
   "attachments": {},
   "cell_type": "markdown",
   "metadata": {},
   "source": [
    "## For printing 10 most correlated columns"
   ]
  },
  {
   "cell_type": "code",
   "execution_count": null,
   "metadata": {},
   "outputs": [],
   "source": [
    "df_num_corr = df_num.corr()['SalePrice'][:-1] # -1 because the latest row is SalePrice\n",
    "golden_features_list = df_num_corr[abs(df_num_corr) > 0.5].sort_values(ascending=False)\n",
    "print(\"There is {} strongly correlated values with SalePrice:\\n{}\".format(len(golden_features_list), golden_features_list))"
   ]
  }
 ],
 "metadata": {
  "kernelspec": {
   "display_name": "Python 3.10.4 64-bit",
   "language": "python",
   "name": "python3"
  },
  "language_info": {
   "codemirror_mode": {
    "name": "ipython",
    "version": 3
   },
   "file_extension": ".py",
   "mimetype": "text/x-python",
   "name": "python",
   "nbconvert_exporter": "python",
   "pygments_lexer": "ipython3",
   "version": "3.10.4"
  },
  "orig_nbformat": 4,
  "vscode": {
   "interpreter": {
    "hash": "26f0cee8e9d2305157331b4d6943f95a5720c24a0c94f9638f02d1b1d5e0a1b2"
   }
  }
 },
 "nbformat": 4,
 "nbformat_minor": 2
}
