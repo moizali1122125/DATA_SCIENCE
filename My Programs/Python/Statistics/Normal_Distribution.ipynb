{
 "cells": [
  {
   "cell_type": "markdown",
   "metadata": {},
   "source": [
    "> # **Normal Distribution**"
   ]
  },
  {
   "cell_type": "code",
   "execution_count": null,
   "metadata": {},
   "outputs": [],
   "source": [
    "import numpy as np\n",
    "import pandas as pd\n",
    "import seaborn as sns\n",
    "import matplotlib.pyplot as plt"
   ]
  },
  {
   "cell_type": "code",
   "execution_count": null,
   "metadata": {},
   "outputs": [],
   "source": [
    "# Normal Distribution\n",
    "def pdf(x):\n",
    "    mean = np.mean(x)\n",
    "    std = np.std(x)\n",
    "    y_out = 1/(std * np.sqrt(2 * np.pi))* np.exp(-(x-mean)**2/(2 * std**2))\n",
    "    return y_out\n",
    "\n",
    "# To generate an array of x\n",
    "x = np.arange(-2,2,0.1)\n",
    "y = pdf(x)\n",
    "\n",
    "# Plotting the normal_curve/bell_curve or gaussian distribution\n",
    "plt.style.use('seaborn')\n",
    "plt.figure(figsize=(5,5))\n",
    "plt.plot(x,y,color='blue',linestyle='dashed')\n",
    "\n",
    "plt.scatter(x,y,marker='o',s=25,color='red')"
   ]
  },
  {
   "cell_type": "markdown",
   "metadata": {},
   "source": [
    "## Normal distribution and its tests"
   ]
  },
  {
   "cell_type": "markdown",
   "metadata": {},
   "source": [
    "1. import datasets\n",
    "2. subsetting a dataset\n",
    "3. visual test for normal distribution\n",
    "  1. Histogram\n",
    "  2. qq-norm plot\n",
    "4. statistical test\n",
    "  3. "
   ]
  },
  {
   "cell_type": "code",
   "execution_count": null,
   "metadata": {},
   "outputs": [],
   "source": [
    "df = sns.load_dataset('titanic')\n",
    "df = df[['sex','age','fare']]\n",
    "df.head()"
   ]
  },
  {
   "cell_type": "code",
   "execution_count": null,
   "metadata": {},
   "outputs": [],
   "source": [
    "# Histogram test\n",
    "sns.histplot(df['sex'])\n",
    "sns.histplot(df['age'])\n",
    "sns.histplot(df['fare'])"
   ]
  },
  {
   "cell_type": "code",
   "execution_count": null,
   "metadata": {},
   "outputs": [],
   "source": [
    "# qq-plot\n",
    "# pip install statsmodels\n",
    "from statsmodels.graphics.gofplots import qqplot\n",
    "\n",
    "# q-q norm plot\n",
    "qqplot(df['age'])"
   ]
  },
  {
   "attachments": {},
   "cell_type": "markdown",
   "metadata": {},
   "source": [
    "# Normality Tests\n",
    "### There are many statistical tests that we can use to quantify whether a sample of data looks as though it was drawn from a Gaussian distribution.\n",
    "### Each test makes different assumptions and considers different aspects of the data.\n",
    "### We will look 3 commonly used tests in this section that you can apply to your own data samples.\n",
    "1. Shapiro-Wilk Test  (ONLY THIS IS ENOUGH)\n",
    "2. D Agostino's K^2 Test\n",
    "3. Anderson-Darling Test\n",
    "### p <= alpha : Reject HO, Not Normal\n",
    "### p >  alpha : Fail to reject Ho, Normal"
   ]
  },
  {
   "cell_type": "markdown",
   "metadata": {},
   "source": [
    "## 1- Shapiro-Wilk Test"
   ]
  },
  {
   "cell_type": "code",
   "execution_count": null,
   "metadata": {},
   "outputs": [],
   "source": [
    "from scipy.stats import shapiro\n",
    "\n",
    "stat,p = shapiro(df['age'])\n",
    "print('stat = ', stat)\n",
    "print('p = ', p)\n",
    "if p> 0.05:\n",
    "    print('The data is normal')\n",
    "else:\n",
    "    print('The data is not normal')\n"
   ]
  },
  {
   "cell_type": "markdown",
   "metadata": {},
   "source": [
    "## 2_ D Agostino's K^2 Test"
   ]
  },
  {
   "cell_type": "code",
   "execution_count": null,
   "metadata": {},
   "outputs": [],
   "source": [
    "from scipy.stats import normaltest\n",
    "\n",
    "stat,p = normaltest(df['age'])\n",
    "print('stat = ', stat)\n",
    "print('p = ', p)\n",
    "if p> 0.05:\n",
    "    print('The data is normal')\n",
    "else:\n",
    "    print('The data is not normal')\n"
   ]
  },
  {
   "cell_type": "markdown",
   "metadata": {},
   "source": [
    "## 3_ Anderson-Darling Test"
   ]
  },
  {
   "cell_type": "code",
   "execution_count": null,
   "metadata": {},
   "outputs": [],
   "source": [
    "from re import S\n",
    "from scipy.stats import anderson\n",
    "\n",
    "result = anderson(df['age'])\n",
    "print('stat=%.3f'% (result.statistic))\n",
    "for i in range(len(result.critical_values)):\n",
    "    s1, cv = result.significance_level[i], result.critical_values[i]\n",
    "    if result.statistic < cv:\n",
    "        print('The data is normal at the %.1f%% level'% (s1))\n",
    "    else:\n",
    "        print('The data is not normal at the %.1f%% level'% (s1))"
   ]
  }
 ],
 "metadata": {
  "kernelspec": {
   "display_name": "base",
   "language": "python",
   "name": "python3"
  },
  "language_info": {
   "codemirror_mode": {
    "name": "ipython",
    "version": 3
   },
   "file_extension": ".py",
   "mimetype": "text/x-python",
   "name": "python",
   "nbconvert_exporter": "python",
   "pygments_lexer": "ipython3",
   "version": "3.9.12 (main, Apr  4 2022, 05:22:27) [MSC v.1916 64 bit (AMD64)]"
  },
  "orig_nbformat": 4,
  "vscode": {
   "interpreter": {
    "hash": "19d1d53a962d236aa061289c2ac16dc8e6d9648c89fe79f459ae9a3493bc67b4"
   }
  }
 },
 "nbformat": 4,
 "nbformat_minor": 2
}
