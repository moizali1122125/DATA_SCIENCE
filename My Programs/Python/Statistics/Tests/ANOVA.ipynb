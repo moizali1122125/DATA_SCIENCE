{
 "cells": [
  {
   "cell_type": "markdown",
   "metadata": {},
   "source": [
    "> # **1_One-Way_ANOVA**"
   ]
  },
  {
   "cell_type": "code",
   "execution_count": null,
   "metadata": {},
   "outputs": [],
   "source": [
    "import pandas as pd\n",
    "import numpy as np\n",
    "import seaborn as sns\n",
    "import matplotlib.pyplot as plt"
   ]
  },
  {
   "cell_type": "code",
   "execution_count": null,
   "metadata": {},
   "outputs": [],
   "source": [
    "df = sns.load_dataset('titanic')\n",
    "df.head()"
   ]
  },
  {
   "cell_type": "code",
   "execution_count": null,
   "metadata": {},
   "outputs": [],
   "source": [
    "# Comparition between 2 categorical variable for one conitinous\n",
    "# Compare male&female age is applied T-Test\n",
    "sns.boxplot(x='sex', y='age',data=df) "
   ]
  },
  {
   "cell_type": "code",
   "execution_count": null,
   "metadata": {},
   "outputs": [],
   "source": [
    "# More than 2 groups(male&female) is applied ANOVA\n",
    "# For Example (first class,2nd class,3rd class)\n",
    "sns.boxplot(x='class', y='age',data=df) "
   ]
  },
  {
   "cell_type": "code",
   "execution_count": null,
   "metadata": {},
   "outputs": [],
   "source": [
    "phool = sns.load_dataset('iris')\n",
    "print(phool.sample(15))\n",
    "print(phool.columns)\n",
    "print(phool.describe())"
   ]
  },
  {
   "cell_type": "code",
   "execution_count": null,
   "metadata": {},
   "outputs": [],
   "source": [
    "sns.boxplot(x='species',y='sepal_length',data=phool)"
   ]
  },
  {
   "cell_type": "code",
   "execution_count": null,
   "metadata": {},
   "outputs": [],
   "source": [
    "import statsmodels.api as sm\n",
    "from statsmodels.formula.api import ols\n",
    "\n",
    "# ONE-WAY_ANOVA\n",
    "mod = ols('sepal_length ~ species',data=phool).fit() # Numaric first(sepal_length){~ = telda}\n",
    "aov_table = sm.stats.anova_lm(mod,type=2)\n",
    "print(aov_table)\n",
    "\n",
    "# if p < 0.5 all 3 are significant difference"
   ]
  },
  {
   "cell_type": "markdown",
   "metadata": {},
   "source": [
    "### i- Bonferroni TEST"
   ]
  },
  {
   "cell_type": "code",
   "execution_count": null,
   "metadata": {},
   "outputs": [],
   "source": [
    "# Pair_wise comparison\n",
    "pair_t = mod.t_test_pairwise('species',method='bonferroni') # also use sidak\n",
    "pair_t.result_frame"
   ]
  },
  {
   "cell_type": "markdown",
   "metadata": {},
   "source": [
    "### ii- Tukey hsd TEST"
   ]
  },
  {
   "cell_type": "code",
   "execution_count": null,
   "metadata": {},
   "outputs": [],
   "source": [
    "import pingouin as pg\n",
    "# First culculate ANOVA table\n",
    "aov = pg.anova(dv='sepal_length',between='species',data=phool, detailed=True)# first continous then cetagorical \n",
    "print(aov)\n",
    "# Tukey HSD\n",
    "pt = pg.pairwise_tukey(dv='sepal_length',between='species',data=phool)\n",
    "print(pt)"
   ]
  },
  {
   "cell_type": "markdown",
   "metadata": {},
   "source": [
    "> # **2_Two-Way_ANOVA**"
   ]
  },
  {
   "cell_type": "code",
   "execution_count": null,
   "metadata": {},
   "outputs": [],
   "source": [
    "import pandas as pd\n",
    "import numpy as np\n",
    "import seaborn as sns\n",
    "import matplotlib.pyplot as plt\n",
    "\n",
    "df = pd.DataFrame({'water': np.repeat(['daily','weekly'], 15),\n",
    "                    'sun' : np.tile(np.repeat(['low','medium','high'],5),2),\n",
    "                    'height': [6,6,6,5,6,5,5,6,4,5,\n",
    "                               6,6,7,8,7,3,4,4,4,5,\n",
    "                               4,4,4,4,4,5,6,6,7,8]})\n",
    "df.sample(10)\n",
    "\n",
    "# Two way ANOVA  (Water+Sun)\n",
    "# Cetagorical variable 2(water&sun{5(all variable)}) or 1(continous)"
   ]
  },
  {
   "cell_type": "code",
   "execution_count": null,
   "metadata": {},
   "outputs": [],
   "source": [
    "sns.boxplot(df['sun'], df['height']) # hue=df['water']"
   ]
  },
  {
   "cell_type": "code",
   "execution_count": null,
   "metadata": {},
   "outputs": [],
   "source": [
    "import statsmodels.api as sm\n",
    "from statsmodels.formula.api import ols\n",
    "\n",
    "# ONE-WAY_ANOVA\n",
    "mod = ols('height ~ sun',data=df).fit() \n",
    "aov_table = sm.stats.anova_lm(mod,type=2)\n",
    "print(aov_table)\n",
    "# TWO-WAY_ANOVA\n",
    "mod = ols('height ~ C(sun)+C(water)+C(sun):C(water)',data=df).fit() \n",
    "aov_table = sm.stats.anova_lm(mod,type=2)\n",
    "print(aov_table)\n",
    "\n",
    "# if p < 0.5 all are significant difference"
   ]
  },
  {
   "cell_type": "markdown",
   "metadata": {},
   "source": [
    "Another way for doing this (TWO-WAY_ANOVA)"
   ]
  },
  {
   "cell_type": "code",
   "execution_count": null,
   "metadata": {},
   "outputs": [],
   "source": [
    "import pingouin as pg\n",
    "# First culculate ANOVA table\n",
    "aov = pg.anova(dv='height',between=['sun','water'],data=df, detailed=True)# first continous then cetagorical \n",
    "print(aov)\n",
    "# Tukey HSD\n",
    "pt = pg.pairwise_tukey(dv='height',between=['sun','water'],data=df)\n",
    "print(pt)"
   ]
  },
  {
   "cell_type": "code",
   "execution_count": null,
   "metadata": {},
   "outputs": [],
   "source": [
    "# qq norm plot \n",
    "res = mod.resid\n",
    "fig = sm.qqplot(res,line='s')\n",
    "plt.show()"
   ]
  },
  {
   "cell_type": "markdown",
   "metadata": {},
   "source": [
    "> # **2_MANOVA**"
   ]
  },
  {
   "cell_type": "code",
   "execution_count": null,
   "metadata": {},
   "outputs": [],
   "source": [
    "import pandas as pd\n",
    "import numpy as np\n",
    "import seaborn as sns\n",
    "import matplotlib.pyplot as plt\n",
    "from statsmodels.multivariate.manova import MANOVA"
   ]
  },
  {
   "cell_type": "code",
   "execution_count": null,
   "metadata": {},
   "outputs": [],
   "source": [
    "df = sns.load_dataset('iris')\n",
    "df.columns"
   ]
  },
  {
   "cell_type": "code",
   "execution_count": null,
   "metadata": {},
   "outputs": [],
   "source": [
    "mova = MANOVA.from_formula('sepal_length + sepal_width + petal_length + petal_width ~ species', data=df)\n",
    "print(mova.mv_test())"
   ]
  }
 ],
 "metadata": {
  "kernelspec": {
   "display_name": "Python 3.10.4 64-bit",
   "language": "python",
   "name": "python3"
  },
  "language_info": {
   "codemirror_mode": {
    "name": "ipython",
    "version": 3
   },
   "file_extension": ".py",
   "mimetype": "text/x-python",
   "name": "python",
   "nbconvert_exporter": "python",
   "pygments_lexer": "ipython3",
   "version": "3.10.4"
  },
  "orig_nbformat": 4,
  "vscode": {
   "interpreter": {
    "hash": "26f0cee8e9d2305157331b4d6943f95a5720c24a0c94f9638f02d1b1d5e0a1b2"
   }
  }
 },
 "nbformat": 4,
 "nbformat_minor": 2
}
