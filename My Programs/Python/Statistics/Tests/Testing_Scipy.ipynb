{
 "cells": [
  {
   "cell_type": "markdown",
   "metadata": {},
   "source": [
    "> # 1- **Shapiro Wilk Test**\n",
    "### Tests whether a data sample has a Gaussian distribution(Normality Test).\n",
    "## *Assumptions*\n",
    "### 1- Observaions in each sample are independent and identically distributed (iid).\n",
    "### 2- Interpretaion\n",
    "### i- H0(null hypothysis):The sample has a Gaussian/Normal distributions.\n",
    "### ii- H1(null hypothysis):The sample does not have a Gaussian/Normal distribution."
   ]
  },
  {
   "cell_type": "code",
   "execution_count": null,
   "metadata": {},
   "outputs": [],
   "source": [
    "#Example of the Shapiro with Normality Test\n",
    "from scipy.stats import shapiro\n",
    "data = [0.353, 3.517, 0.125, -7.545, -0.555, -1.536, 3.350, -1.578, -3.537, -1.579]\n",
    "stat,p = shapiro(data)\n",
    "print('stat = ', stat)\n",
    "print('p = ', p)\n",
    "if p> 0.05:\n",
    "    print('The data is normal')\n",
    "else:\n",
    "    print('The data is not normal')\n"
   ]
  },
  {
   "cell_type": "code",
   "execution_count": null,
   "metadata": {},
   "outputs": [],
   "source": [
    "import pandas as pd\n",
    "import numpy as np\n",
    "import seaborn as sns\n",
    "import matplotlib.pyplot as plt\n",
    "ks =  sns.load_dataset(\"titanic\")\n",
    "ks = ks.dropna()     #Normalize data by droping NULL\n",
    "#sns.histplot(ks['age'])\n",
    "sns.boxplot(ks['age'])"
   ]
  },
  {
   "cell_type": "markdown",
   "metadata": {},
   "source": [
    "> # 2- **Correlation Test**\n",
    "## 1- Pearson's Correlation Coefficient\n",
    "### Tests whether two samples have a linear relationship (Aik value ka increase hone sa dosra increase ho rha ha)\n",
    "## *Assumptions*\n",
    "### 1- Observations in each sample are independent and identically sistributed (iid).\n",
    "### 2- Observations in each sample are normally distributed.\n",
    "### 3- Observatiosn in each sample have the same variance.\n",
    "\n",
    "### i- H0: The two samples are independent.\\\n",
    "### ii- H1: There is a dependency between the samples."
   ]
  },
  {
   "cell_type": "code",
   "execution_count": null,
   "metadata": {},
   "outputs": [],
   "source": [
    "from scipy.stats import pearsonr\n",
    "data1 = [0.873, 2.817, 0.121, -0.945, -0.055, -1.436, 0.360, -1.478, -1.637, -1.869]\n",
    "data2 = [1.142, -0.432, -0.938, -0.729, -0.846, 0.157, 0.500, 1.183, -1.075, -0.169]\n",
    "stat, p = pearsonr(data1,data2)\n",
    "print('stat = ', stat)\n",
    "print('p = ', p)\n",
    "if p>0.05:\n",
    "    print(\"Probably independent (No Correlation)\")\n",
    "else:\n",
    "    print(\"Probably dependent (Correlation exists)\")"
   ]
  },
  {
   "cell_type": "markdown",
   "metadata": {},
   "source": [
    "# 2- Spearsman's Rank Test\n",
    "### *Non paramatric (No  Normal distribution)*\n",
    "### Tests whether two samples have a monotonic relationship.\n",
    "## *Assumptions*\n",
    "### 1- Observations in each sample are independent and indentically distributed (iid).\n",
    "### 2- Interpretation.\n",
    "\n",
    "### i- H0: The two samples are independent.\n",
    "### ii- H1: There is a dependency between the samples."
   ]
  },
  {
   "cell_type": "code",
   "execution_count": null,
   "metadata": {},
   "outputs": [],
   "source": [
    "from scipy.stats import spearmanr\n",
    "data1 = [0.873, 2.817, 0.121, -0.945, -0.055, -1.436, 0.360, -1.478, -1.637, -1.869]\n",
    "data2 = [1.142, -0.432, -0.938, -0.729, -0.846, 0.157, 0.500, 1.183, -1.075, -0.169]\n",
    "stat, p = spearmanr(data1,data2)\n",
    "print('stat = ', stat)\n",
    "print('p = ', p)\n",
    "if p>0.05:\n",
    "    print(\"Probably independent (No Correlation)\")\n",
    "else:\n",
    "    print(\"Probably dependent (Correlation exists)\")"
   ]
  },
  {
   "cell_type": "markdown",
   "metadata": {},
   "source": [
    "> # 3- **Chi-Squared Test**\n",
    "### Tests whether two categorical variables are related or independent\n",
    "## *Assumptions*\n",
    "### 1- Observations used in the calculation of the contingency table are independent 25 or more examples in each cell of the continge table. \n",
    "### 2- Interpretqaion.\n",
    "### i- H0: The two samples are independent.\n",
    "### ii- H1: There is a dependency between the samples."
   ]
  },
  {
   "cell_type": "code",
   "execution_count": null,
   "metadata": {},
   "outputs": [],
   "source": [
    "from scipy.stats import chi2_contingency\n",
    "table = [[10, 20, 30],[6, 9, 17]]\n",
    "stat, p, dof, expected = chi2_contingency(table)\n",
    "print('stat = ', stat)\n",
    "print('p', p)\n",
    "if p>0.05:\n",
    "    print(\"Probably independent\")\n",
    "else: \n",
    "    print(\"Probably dependent\")"
   ]
  },
  {
   "cell_type": "markdown",
   "metadata": {},
   "source": [
    "> # 4- **Parametric Statistical Hypothesis Test**\n",
    "## 1- Student t-Test\n",
    "### Tests whether the means of two independent samples are significantly different.\n",
    "## *Assumptions*\n",
    "### 1- Observations in each sample are independent and identically distributed (iid).\n",
    "### 2- Observations in each sample are normally distributed.\n",
    "### 3- Observationsin each sample have the same variance.\n",
    "### 4- Interpretation.\n",
    "### i- H0: The means of the samples are equal.\n",
    "### i- H1: The means of the samples are uneual."
   ]
  },
  {
   "cell_type": "code",
   "execution_count": null,
   "metadata": {},
   "outputs": [],
   "source": [
    "# Example of the student t-Test\n",
    "from scipy.stats import ttest_ind\n",
    "data1 = [0.873, 2.817, 0.121, -0.945, -0.055, -1.436, 0.360, -1.478, -1.637, -1.869]\n",
    "data2 = [1.142, -0.432, -0.938, -0.729, -0.846, 0.157, 0.500, 1.183, -1.075, -0.169]\n",
    "stat, p = ttest_ind(data1,data2)\n",
    "print('stat = ', stat)\n",
    "print('p = ', p)\n",
    "if p>0.05:\n",
    "    print(\"Probably the same data set\")\n",
    "else:\n",
    "    print(\"Probably different data set\")"
   ]
  },
  {
   "cell_type": "markdown",
   "metadata": {},
   "source": [
    "## 2- Paired Student's Test\n",
    "### Tests whether the means of two paired samples are significantly different.\n",
    "## **Assumptions**\n",
    "### 1- Observations in each sample are independent and identically distributed (iid).\n",
    "### 2- Observaitons in each sample are normally distributed.\n",
    "### 3- Observations in each sample have the same variance.\n",
    "### 4- Observations across each sample are paired.\n",
    "### 5- Interpretaions.\n",
    "### i- H0: The maeans of the samples are equal.\n",
    "### ii- H1: The means of the samples are unequal."
   ]
  },
  {
   "cell_type": "code",
   "execution_count": null,
   "metadata": {},
   "outputs": [],
   "source": [
    "# Example of the Paired Student's t-Test\n",
    "from scipy.stats import ttest_rel\n",
    "data1 = [0.873, 2.817, 0.121, -0.945, -0.055, -1.436, 0.360, -1.478, -1.637, -1.869]\n",
    "data2 = [1.142, -0.432, -0.938, -0.729, -0.846, 0.157, 0.500, 1.183, -1.075, -0.169]\n",
    "stat, p = ttest_rel(data1,data2)\n",
    "print('stat = ', stat)\n",
    "print('p = ', p)\n",
    "if p>0.05:\n",
    "    print(\"Probably the same data set\")\n",
    "else:\n",
    "    print(\"Probably different data set\")"
   ]
  },
  {
   "cell_type": "markdown",
   "metadata": {},
   "source": [
    "> # 5- **Analysis of Variance Test (ANOVA)**\n",
    "### Tests whether the means of two or more independent samples are significantly different.\n",
    "## *Assumptions*\n",
    "### 1- Observations in each sample are independent and identically distributed (iid).\n",
    "### 2- Observaitons in each sample are normally distributed.\n",
    "### 3- Observations in each sample have the same variance.\n",
    "### 4- Interpretaions.\n",
    "### i- H0: The means of the samples are equal.\n",
    "### ii- H1: One or more of the means of the samples are unequal."
   ]
  },
  {
   "cell_type": "code",
   "execution_count": null,
   "metadata": {},
   "outputs": [],
   "source": [
    "# Example of the ANOVA\n",
    "from scipy.stats import f_oneway\n",
    "data1 = [0.873, 2.817, 0.121, -0.945, -0.055, -1.436, 0.360, -1.478, -1.637, -1.869]\n",
    "data2 = [1.142, -0.432, -0.938, -0.729, -0.846, 0.157, 0.500, 1.183, -1.075, -0.169]\n",
    "data3 = [0.353, 3.517, 0.125, -7.545, -0.555, -1.536, 3.350, -1.578, -3.537, -1.579]\n",
    "stat, p = f_oneway(data1,data2,data3)\n",
    "print('stat = ', stat)\n",
    "print('p = ', p)\n",
    "if p>0.05:\n",
    "    print(\"Probably the same data set\")\n",
    "else:\n",
    "    print(\"Probably different data set\")"
   ]
  }
 ],
 "metadata": {
  "kernelspec": {
   "display_name": "Python 3.10.4 64-bit",
   "language": "python",
   "name": "python3"
  },
  "language_info": {
   "codemirror_mode": {
    "name": "ipython",
    "version": 3
   },
   "file_extension": ".py",
   "mimetype": "text/x-python",
   "name": "python",
   "nbconvert_exporter": "python",
   "pygments_lexer": "ipython3",
   "version": "3.10.4"
  },
  "orig_nbformat": 4,
  "vscode": {
   "interpreter": {
    "hash": "26f0cee8e9d2305157331b4d6943f95a5720c24a0c94f9638f02d1b1d5e0a1b2"
   }
  }
 },
 "nbformat": 4,
 "nbformat_minor": 2
}
