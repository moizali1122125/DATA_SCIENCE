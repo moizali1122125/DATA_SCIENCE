{
 "cells": [
  {
   "cell_type": "markdown",
   "metadata": {},
   "source": [
    "> # Student_T-Test\n",
    "1. One-Sample T-Test\n",
    "2. Two-Sample T-Test\n",
    "   1. Un-paired or Independent T-Test\n",
    "   2. Paired or Dependent T-Test\n"
   ]
  },
  {
   "cell_type": "markdown",
   "metadata": {},
   "source": [
    "### 1- One-Sample T-Test\n",
    "### Assumptions\n",
    ". Observations in sample is independent and identically distributed\n",
    "\n",
    ". Observations in sample is normally distributed\n",
    "### Interpretation\n",
    ". HO : The means of the samples are equal to the known value\n",
    "\n",
    ". H1 : The means of the samples are unequal to the known value"
   ]
  },
  {
   "cell_type": "code",
   "execution_count": null,
   "metadata": {},
   "outputs": [],
   "source": [
    "import seaborn as sns\n",
    "import pandas as pd\n",
    "from scipy.stats import ttest_1samp\n",
    "\n",
    "df = sns.load_dataset('titanic')\n",
    "df.head()"
   ]
  },
  {
   "cell_type": "code",
   "execution_count": null,
   "metadata": {},
   "outputs": [],
   "source": [
    "df1 = df[['sex','age','fare']]\n",
    "df1.describe()"
   ]
  },
  {
   "cell_type": "code",
   "execution_count": null,
   "metadata": {},
   "outputs": [],
   "source": [
    "# Check the age and compare with a known value of 45 years\n",
    "ttest_1samp(df1['age'], 50)\n",
    "\n",
    "stats, p = ttest_1samp(df1['age'], 50 ) # Only with unknown value\n",
    "print(\"Stats = \",stats)\n",
    "print(\"P = \",p)\n",
    "if p>0.05:\n",
    "    print('There is no significant difference')\n",
    "else:\n",
    "    print('There is significant difference')\n"
   ]
  },
  {
   "cell_type": "markdown",
   "metadata": {},
   "source": [
    "### 1- Two-Sample T-Test\n",
    "### **Independent Student T-Test**\n",
    "### Assumptions\n",
    ". Observations in each sample are independent and identically distributed\n",
    "\n",
    ". Observations in each sample are normally distributed\n",
    "\n",
    ". Observations in each sample have the same variance\n",
    "### Interpretation\n",
    ". HO : The means of the samples are equal\n",
    "\n",
    ". H1 : The means of the samples are unequal"
   ]
  },
  {
   "cell_type": "code",
   "execution_count": null,
   "metadata": {},
   "outputs": [],
   "source": [
    "# We will compare\n",
    "df_male = df1.loc[df['sex']=='male']\n",
    "df_female = df1.loc[df['sex']=='female']\n",
    "\n",
    "from scipy.stats import ttest_ind\n",
    "stats, p = ttest_ind(df_male['age'],df_female['age']) \n",
    "print(\"Stats = \",stats)\n",
    "print(\"P = \",p)\n",
    "if p>0.05:\n",
    "    print('There is no significant difference')\n",
    "else:\n",
    "    print('There is significant difference')\n"
   ]
  },
  {
   "cell_type": "markdown",
   "metadata": {},
   "source": [
    "### 1- Two-Sample T-Test\n",
    "### **Dependent Student T-Test**\n",
    "### Assumptions\n",
    ". Observations in each sample are independent and identically distributed\n",
    "\n",
    ". Observations in each sample are normally distributed\n",
    "\n",
    ". Observations in each sample have the same variance\n",
    "\n",
    ". Observations across each sample are paired\n",
    "### Interpretation\n",
    ". HO : The means of the samples are equal\n",
    "\n",
    ". H1 : The means of the samples are unequal"
   ]
  },
  {
   "cell_type": "code",
   "execution_count": null,
   "metadata": {},
   "outputs": [],
   "source": [
    "# Select only male data\n",
    "df_male = df.loc[df['sex']=='male']\n",
    "\n",
    "# Select only two classes \n",
    "df_male_first = df_male.loc[df_male['class']=='First']\n",
    "df_male_second = df_male.loc[df_male['class']=='Second']\n",
    "df_male_third = df_male.loc[df_male['class']=='Third']"
   ]
  },
  {
   "cell_type": "code",
   "execution_count": null,
   "metadata": {},
   "outputs": [],
   "source": [
    "df_1st = df_male_first.sample(n=100)\n",
    "df_2nd = df_male_second.sample(n=100)\n",
    "df_3rd = df_male_third.sample(n=100)"
   ]
  },
  {
   "cell_type": "code",
   "execution_count": null,
   "metadata": {},
   "outputs": [],
   "source": [
    "from scipy.stats import ttest_rel\n",
    "# Apply test to compare class 1 and class 3\n",
    "stats, p = ttest_rel(df_1st['age'],df_3rd['age']) \n",
    "print(\"Stats = \",stats)\n",
    "print(\"P = \",p)\n",
    "if p>0.05:\n",
    "    print('There is no significant difference')\n",
    "else:\n",
    "    print('There is significant difference')\n"
   ]
  }
 ],
 "metadata": {
  "kernelspec": {
   "display_name": "Python 3.10.4 64-bit",
   "language": "python",
   "name": "python3"
  },
  "language_info": {
   "codemirror_mode": {
    "name": "ipython",
    "version": 3
   },
   "file_extension": ".py",
   "mimetype": "text/x-python",
   "name": "python",
   "nbconvert_exporter": "python",
   "pygments_lexer": "ipython3",
   "version": "3.10.4"
  },
  "orig_nbformat": 4,
  "vscode": {
   "interpreter": {
    "hash": "26f0cee8e9d2305157331b4d6943f95a5720c24a0c94f9638f02d1b1d5e0a1b2"
   }
  }
 },
 "nbformat": 4,
 "nbformat_minor": 2
}
