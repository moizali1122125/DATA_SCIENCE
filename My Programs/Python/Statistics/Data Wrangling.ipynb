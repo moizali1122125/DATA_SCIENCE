{
 "cells": [
  {
   "cell_type": "markdown",
   "metadata": {},
   "source": [
    "># DATA WRANGLING"
   ]
  },
  {
   "cell_type": "code",
   "execution_count": 4,
   "metadata": {},
   "outputs": [],
   "source": [
    "import pandas as pd\n",
    "import numpy as np\n",
    "import seaborn as sns"
   ]
  },
  {
   "cell_type": "code",
   "execution_count": 8,
   "metadata": {},
   "outputs": [],
   "source": [
    "kashti = sns.load_dataset('titanic')\n",
    "ks1 = kashti\n",
    "ks2 = kashti\n",
    "ks  = kashti"
   ]
  },
  {
   "cell_type": "code",
   "execution_count": null,
   "metadata": {},
   "outputs": [],
   "source": [
    "# simple operations (Math Operator)\n",
    "(kashti['age']+12).head(10)"
   ]
  },
  {
   "cell_type": "markdown",
   "metadata": {},
   "source": [
    "># Dealing with missing values\n",
    "### 1- In a data set missing values are either? or N/A or NaN, or 0 or a blank cell.\n",
    "### 2-  Jab kabhi data na ho kisi aik row main kisi b aik parameter ka.\n",
    "\n",
    "># STEPS:\n",
    "### 1- Koshish karen dobara data collect kar lain agar kahin ghalti hy.\n",
    "### 2- Missing value wala variable (column) hi nikal dain agar data per effect nahi hota ya simple row or data entry remove kar den.\n",
    "### 3- Replace the missing values:\n",
    "##    1. How?\n",
    "###      1. Average value of entire variable or similar data point.\n",
    "###      2. Frequencey or MODE replacement.\n",
    "###      3. Replace based on other functions(Data sampler knows that).\n",
    "###      4. ML Algortihm can also used.\n",
    "###      5. Leave it like that \n",
    "##    2. Why?\n",
    "###      1. Its better because no data is lost.\n",
    "###      2. Less accurate."
   ]
  },
  {
   "cell_type": "code",
   "execution_count": null,
   "metadata": {},
   "outputs": [],
   "source": [
    "# Where exactly missing values are?\n",
    "kashti.isnull().sum()"
   ]
  },
  {
   "cell_type": "code",
   "execution_count": null,
   "metadata": {},
   "outputs": [],
   "source": [
    "# Use drop.na method\n",
    "print(kashti.shape)\n",
    "kashti.dropna(subset=['deck'], axis=0, inplace=True)\n",
    "# This will remove specifically OR \n",
    "# inplace=True modifies the data frame"
   ]
  },
  {
   "cell_type": "code",
   "execution_count": null,
   "metadata": {},
   "outputs": [],
   "source": [
    "# Drop whole null in DATA\n",
    "kashti.dropna()\n",
    "# Drop whole null in DATA + update \n",
    "kashti= kashti.dropna()"
   ]
  },
  {
   "cell_type": "code",
   "execution_count": 16,
   "metadata": {},
   "outputs": [
    {
     "data": {
      "text/plain": [
       "(891, 15)"
      ]
     },
     "execution_count": 16,
     "metadata": {},
     "output_type": "execute_result"
    }
   ],
   "source": [
    "kashti.shape"
   ]
  },
  {
   "cell_type": "markdown",
   "metadata": {},
   "source": [
    "> ## Replacing missing values with the average of that column"
   ]
  },
  {
   "cell_type": "code",
   "execution_count": null,
   "metadata": {},
   "outputs": [],
   "source": [
    "# Finding an average (mean)\n",
    "mean = ks1['age'].mean()\n",
    "print(mean)"
   ]
  },
  {
   "cell_type": "code",
   "execution_count": null,
   "metadata": {},
   "outputs": [],
   "source": [
    "# Replacing NaN with mean of the data (updating as well)\n",
    "ks1['age'] = ks1['age'].replace(np.nan , mean)\n"
   ]
  },
  {
   "cell_type": "markdown",
   "metadata": {},
   "source": [
    "> # Data Formating \n",
    "\n",
    "### 1- Data ko aik common standard per lana\n",
    "### 2- Ensures data is consitent and understandable\n",
    "### Easy to gater\n",
    "### Easy to workwith\n",
    "### 1 Lahore(LHR)\n",
    "### 2 Sadiqabad(SDK)\n",
    "### 3 Convert g to kg or similar uni for all.\n",
    "### 4 One standard unit in each column"
   ]
  },
  {
   "cell_type": "code",
   "execution_count": 18,
   "metadata": {},
   "outputs": [],
   "source": [
    "kashti.dtypes\n",
    "kashti['survived']= kashti['survived'].astype(\"int64\")"
   ]
  },
  {
   "cell_type": "code",
   "execution_count": null,
   "metadata": {},
   "outputs": [],
   "source": [
    "ks1['age']=ks1['age']*365\n",
    "ks1.head(10)"
   ]
  },
  {
   "cell_type": "code",
   "execution_count": null,
   "metadata": {},
   "outputs": [],
   "source": [
    "ks1.rename(columns={\"age\":\"AGE\"}, inplace=True)\n",
    "ks1.head(10)"
   ]
  },
  {
   "cell_type": "markdown",
   "metadata": {},
   "source": [
    "> # Method of Normalization\n",
    "### 1- Simple feature scaling \n",
    "        x(new) = x(old) / x(max)\n",
    "### 2- Min-Max method\n",
    "### 3- Z-score (standard score) {-3 to +3}\n",
    "### 4- Log transformation"
   ]
  },
  {
   "cell_type": "code",
   "execution_count": null,
   "metadata": {},
   "outputs": [],
   "source": [
    "ks4 =kashti[['AGE', 'fare']]\n",
    "ks4.head()"
   ]
  },
  {
   "cell_type": "code",
   "execution_count": null,
   "metadata": {},
   "outputs": [],
   "source": [
    "# Simple feature scalling \n",
    "ks4['fare'] = ks4['fare']/ks4['fare'].max()\n",
    "ks4.head()"
   ]
  },
  {
   "cell_type": "code",
   "execution_count": null,
   "metadata": {},
   "outputs": [],
   "source": [
    "# Min - Max method\n",
    "ks4['fare'] = (ks4['fare']-ks4['fare'].min())/(ks4['fare'].max()-ks4['fare'].min())\n",
    "ks4.head()"
   ]
  },
  {
   "cell_type": "code",
   "execution_count": null,
   "metadata": {},
   "outputs": [],
   "source": [
    "# Z-score method\n",
    "ks4['fare']=(ks4['fare']-ks4['fare'].mean())/ks4['fare'].std()\n",
    "ks4.head()"
   ]
  },
  {
   "cell_type": "code",
   "execution_count": null,
   "metadata": {},
   "outputs": [],
   "source": [
    "# log transformation \n",
    "ks['fare']=np.log(ks['fare'])\n",
    "ks.head()"
   ]
  },
  {
   "cell_type": "markdown",
   "metadata": {},
   "source": [
    "># Binning \n",
    "### 1- Grouping of values into smaller number of values (bins)\n",
    "### 2- Convert numeric into categories (He,She) or 1-10, 11-20 ETC\n",
    "### 3- To have better understanding of groups: LOW vs MID vs HIGH"
   ]
  },
  {
   "cell_type": "code",
   "execution_count": null,
   "metadata": {},
   "outputs": [],
   "source": [
    "bins = np.linspace(min(kashti['AGE']), max(kashti['AGE']), 15000)\n",
    "AGE_groups = ['Bachay','Jawan','Borhe']\n",
    "kashti['AGE'] = pd.cut(kashti['AGE'],bins,labels=AGE_groups,include_lowest=True)\n",
    "kashti['AGE']"
   ]
  },
  {
   "cell_type": "markdown",
   "metadata": {},
   "source": [
    "> # **Converting categories into dummies**\n",
    "### Easy to use for computation (ML)\n",
    "### Male_Female(0,1)"
   ]
  },
  {
   "cell_type": "code",
   "execution_count": null,
   "metadata": {},
   "outputs": [],
   "source": [
    "pd.get_dummies(ks1['sex'])"
   ]
  }
 ],
 "metadata": {
  "kernelspec": {
   "display_name": "Python 3.10.4 64-bit",
   "language": "python",
   "name": "python3"
  },
  "language_info": {
   "codemirror_mode": {
    "name": "ipython",
    "version": 3
   },
   "file_extension": ".py",
   "mimetype": "text/x-python",
   "name": "python",
   "nbconvert_exporter": "python",
   "pygments_lexer": "ipython3",
   "version": "3.10.4"
  },
  "orig_nbformat": 4,
  "vscode": {
   "interpreter": {
    "hash": "26f0cee8e9d2305157331b4d6943f95a5720c24a0c94f9638f02d1b1d5e0a1b2"
   }
  }
 },
 "nbformat": 4,
 "nbformat_minor": 2
}
