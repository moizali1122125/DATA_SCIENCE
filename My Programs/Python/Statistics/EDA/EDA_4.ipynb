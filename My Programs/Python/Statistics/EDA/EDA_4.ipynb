{
 "cells": [
  {
   "cell_type": "markdown",
   "id": "b450c458",
   "metadata": {
    "id": "as4SYNnBxbyo",
    "papermill": {
     "duration": 0.037698,
     "end_time": "2022-07-02T16:37:00.330648",
     "exception": false,
     "start_time": "2022-07-02T16:37:00.292950",
     "status": "completed"
    },
    "tags": []
   },
   "source": [
    "# **Exploratory Data Analysis** :          \n",
    "\n",
    "Exploratory data analysis (EDA) is used to analyze and investigate data sets and summarize their main characteristics, often employing data visualization methods. It helps determine how best to manipulate data sources to get the answers you need, making it easier for data scientists to discover patterns, spot anomalies, test a hypothesis, or check assumptions.\n",
    "\n",
    "---\n",
    "\n",
    "\n",
    "> Here we are using the Google Playstore dataset, which \n",
    "contains details about the Apps in playstore, there are more than 10,0000+ Apps in the playstore.The size of the dataset is 210Mb.\n",
    "\n",
    "\n",
    "\n",
    "> The main objective of this project is to deliver insights to understand customer demands better and thus help developers to popularize the product.\n",
    "\n",
    "\n",
    "\n",
    "\n",
    "\n",
    "> The dataset we are using is taken from the Kaggle, the link of the dataset is given below\n",
    "\n",
    "\n",
    "\n",
    "> ↪ *Exploratory Data Analysis on Google playstore dataset*\n",
    "\n",
    "\n",
    "> ↪ *Dataset link*🔗 [*kaggle link*](https://www.kaggle.com/datasets/gauthamp10/google-playstore-apps)\n",
    "\n",
    "\n",
    "\n",
    " \n",
    "\n",
    "\n",
    "\n"
   ]
  },
  {
   "cell_type": "markdown",
   "id": "75c0801d",
   "metadata": {
    "id": "yqxK6tzzyOgG",
    "papermill": {
     "duration": 0.037849,
     "end_time": "2022-07-02T16:37:00.399686",
     "exception": false,
     "start_time": "2022-07-02T16:37:00.361837",
     "status": "completed"
    },
    "tags": []
   },
   "source": [
    "## Importing the dependecies"
   ]
  },
  {
   "cell_type": "code",
   "execution_count": 1,
   "id": "a8bd9e84",
   "metadata": {
    "execution": {
     "iopub.execute_input": "2022-07-02T16:37:00.463924Z",
     "iopub.status.busy": "2022-07-02T16:37:00.463527Z",
     "iopub.status.idle": "2022-07-02T16:37:01.500740Z",
     "shell.execute_reply": "2022-07-02T16:37:01.499811Z"
    },
    "id": "GO-vO6Azxbgw",
    "papermill": {
     "duration": 1.070378,
     "end_time": "2022-07-02T16:37:01.503490",
     "exception": false,
     "start_time": "2022-07-02T16:37:00.433112",
     "status": "completed"
    },
    "tags": []
   },
   "outputs": [],
   "source": [
    "import pandas as pd\n",
    "import numpy as np\n",
    "import matplotlib.pyplot as plt\n",
    "import seaborn as sns\n",
    "%matplotlib inline"
   ]
  },
  {
   "cell_type": "markdown",
   "id": "5ba44ef3",
   "metadata": {
    "id": "iLtehJ6Ns8VK",
    "papermill": {
     "duration": 0.028712,
     "end_time": "2022-07-02T16:37:01.561446",
     "exception": false,
     "start_time": "2022-07-02T16:37:01.532734",
     "status": "completed"
    },
    "tags": []
   },
   "source": [
    "## Downloading the dataset\n",
    " ↪ using opendatsets"
   ]
  },
  {
   "cell_type": "markdown",
   "id": "56887d3c",
   "metadata": {
    "id": "f5qQxpYLtdZ6",
    "papermill": {
     "duration": 0.02871,
     "end_time": "2022-07-02T16:37:01.618907",
     "exception": false,
     "start_time": "2022-07-02T16:37:01.590197",
     "status": "completed"
    },
    "tags": []
   },
   "source": [
    "# Data Preparation and Cleaing\n",
    " ↪ Load the csv file with the pandas\n",
    " \n",
    " ↪ creating the dataframe and understanding the data present in the dataset\n",
    " \n",
    " ↪ Dealing with the missing data and the incorrect records"
   ]
  },
  {
   "cell_type": "code",
   "execution_count": 2,
   "id": "6429f941",
   "metadata": {
    "execution": {
     "iopub.execute_input": "2022-07-02T16:37:01.678961Z",
     "iopub.status.busy": "2022-07-02T16:37:01.678558Z",
     "iopub.status.idle": "2022-07-02T16:37:29.933905Z",
     "shell.execute_reply": "2022-07-02T16:37:29.932894Z"
    },
    "id": "nXwHWTnyzjmc",
    "papermill": {
     "duration": 28.288729,
     "end_time": "2022-07-02T16:37:29.936661",
     "exception": false,
     "start_time": "2022-07-02T16:37:01.647932",
     "status": "completed"
    },
    "tags": []
   },
   "outputs": [],
   "source": [
    "df = pd.read_csv('../input/google-playstore-apps/Google-Playstore.csv')"
   ]
  },
  {
   "cell_type": "markdown",
   "id": "ab7d9269",
   "metadata": {
    "id": "8C5sJrKSz7gU",
    "papermill": {
     "duration": 0.028935,
     "end_time": "2022-07-02T16:37:29.994658",
     "exception": false,
     "start_time": "2022-07-02T16:37:29.965723",
     "status": "completed"
    },
    "tags": []
   },
   "source": [
    " viewing the first 5 rows of the datset"
   ]
  },
  {
   "cell_type": "code",
   "execution_count": 3,
   "id": "450978b7",
   "metadata": {
    "execution": {
     "iopub.execute_input": "2022-07-02T16:37:30.054959Z",
     "iopub.status.busy": "2022-07-02T16:37:30.054596Z",
     "iopub.status.idle": "2022-07-02T16:37:30.098669Z",
     "shell.execute_reply": "2022-07-02T16:37:30.097900Z"
    },
    "id": "obAFALT01IXp",
    "outputId": "d40a3198-e3f2-48a4-bcac-f3eb3efb0efb",
    "papermill": {
     "duration": 0.076624,
     "end_time": "2022-07-02T16:37:30.101033",
     "exception": false,
     "start_time": "2022-07-02T16:37:30.024409",
     "status": "completed"
    },
    "tags": []
   },
   "outputs": [
    {
     "data": {
      "text/html": [
       "<div>\n",
       "<style scoped>\n",
       "    .dataframe tbody tr th:only-of-type {\n",
       "        vertical-align: middle;\n",
       "    }\n",
       "\n",
       "    .dataframe tbody tr th {\n",
       "        vertical-align: top;\n",
       "    }\n",
       "\n",
       "    .dataframe thead th {\n",
       "        text-align: right;\n",
       "    }\n",
       "</style>\n",
       "<table border=\"1\" class=\"dataframe\">\n",
       "  <thead>\n",
       "    <tr style=\"text-align: right;\">\n",
       "      <th></th>\n",
       "      <th>App Name</th>\n",
       "      <th>App Id</th>\n",
       "      <th>Category</th>\n",
       "      <th>Rating</th>\n",
       "      <th>Rating Count</th>\n",
       "      <th>Installs</th>\n",
       "      <th>Minimum Installs</th>\n",
       "      <th>Maximum Installs</th>\n",
       "      <th>Free</th>\n",
       "      <th>Price</th>\n",
       "      <th>...</th>\n",
       "      <th>Developer Website</th>\n",
       "      <th>Developer Email</th>\n",
       "      <th>Released</th>\n",
       "      <th>Last Updated</th>\n",
       "      <th>Content Rating</th>\n",
       "      <th>Privacy Policy</th>\n",
       "      <th>Ad Supported</th>\n",
       "      <th>In App Purchases</th>\n",
       "      <th>Editors Choice</th>\n",
       "      <th>Scraped Time</th>\n",
       "    </tr>\n",
       "  </thead>\n",
       "  <tbody>\n",
       "    <tr>\n",
       "      <th>0</th>\n",
       "      <td>Gakondo</td>\n",
       "      <td>com.ishakwe.gakondo</td>\n",
       "      <td>Adventure</td>\n",
       "      <td>0.0</td>\n",
       "      <td>0.0</td>\n",
       "      <td>10+</td>\n",
       "      <td>10.0</td>\n",
       "      <td>15</td>\n",
       "      <td>True</td>\n",
       "      <td>0.0</td>\n",
       "      <td>...</td>\n",
       "      <td>https://beniyizibyose.tk/#/</td>\n",
       "      <td>jean21101999@gmail.com</td>\n",
       "      <td>Feb 26, 2020</td>\n",
       "      <td>Feb 26, 2020</td>\n",
       "      <td>Everyone</td>\n",
       "      <td>https://beniyizibyose.tk/projects/</td>\n",
       "      <td>False</td>\n",
       "      <td>False</td>\n",
       "      <td>False</td>\n",
       "      <td>2021-06-15 20:19:35</td>\n",
       "    </tr>\n",
       "    <tr>\n",
       "      <th>1</th>\n",
       "      <td>Ampere Battery Info</td>\n",
       "      <td>com.webserveis.batteryinfo</td>\n",
       "      <td>Tools</td>\n",
       "      <td>4.4</td>\n",
       "      <td>64.0</td>\n",
       "      <td>5,000+</td>\n",
       "      <td>5000.0</td>\n",
       "      <td>7662</td>\n",
       "      <td>True</td>\n",
       "      <td>0.0</td>\n",
       "      <td>...</td>\n",
       "      <td>https://webserveis.netlify.app/</td>\n",
       "      <td>webserveis@gmail.com</td>\n",
       "      <td>May 21, 2020</td>\n",
       "      <td>May 06, 2021</td>\n",
       "      <td>Everyone</td>\n",
       "      <td>https://dev4phones.wordpress.com/licencia-de-uso/</td>\n",
       "      <td>True</td>\n",
       "      <td>False</td>\n",
       "      <td>False</td>\n",
       "      <td>2021-06-15 20:19:35</td>\n",
       "    </tr>\n",
       "    <tr>\n",
       "      <th>2</th>\n",
       "      <td>Vibook</td>\n",
       "      <td>com.doantiepvien.crm</td>\n",
       "      <td>Productivity</td>\n",
       "      <td>0.0</td>\n",
       "      <td>0.0</td>\n",
       "      <td>50+</td>\n",
       "      <td>50.0</td>\n",
       "      <td>58</td>\n",
       "      <td>True</td>\n",
       "      <td>0.0</td>\n",
       "      <td>...</td>\n",
       "      <td>NaN</td>\n",
       "      <td>vnacrewit@gmail.com</td>\n",
       "      <td>Aug 9, 2019</td>\n",
       "      <td>Aug 19, 2019</td>\n",
       "      <td>Everyone</td>\n",
       "      <td>https://www.vietnamairlines.com/vn/en/terms-an...</td>\n",
       "      <td>False</td>\n",
       "      <td>False</td>\n",
       "      <td>False</td>\n",
       "      <td>2021-06-15 20:19:35</td>\n",
       "    </tr>\n",
       "    <tr>\n",
       "      <th>3</th>\n",
       "      <td>Smart City Trichy Public Service Vehicles 17UC...</td>\n",
       "      <td>cst.stJoseph.ug17ucs548</td>\n",
       "      <td>Communication</td>\n",
       "      <td>5.0</td>\n",
       "      <td>5.0</td>\n",
       "      <td>10+</td>\n",
       "      <td>10.0</td>\n",
       "      <td>19</td>\n",
       "      <td>True</td>\n",
       "      <td>0.0</td>\n",
       "      <td>...</td>\n",
       "      <td>http://www.climatesmarttech.com/</td>\n",
       "      <td>climatesmarttech2@gmail.com</td>\n",
       "      <td>Sep 10, 2018</td>\n",
       "      <td>Oct 13, 2018</td>\n",
       "      <td>Everyone</td>\n",
       "      <td>NaN</td>\n",
       "      <td>True</td>\n",
       "      <td>False</td>\n",
       "      <td>False</td>\n",
       "      <td>2021-06-15 20:19:35</td>\n",
       "    </tr>\n",
       "    <tr>\n",
       "      <th>4</th>\n",
       "      <td>GROW.me</td>\n",
       "      <td>com.horodyski.grower</td>\n",
       "      <td>Tools</td>\n",
       "      <td>0.0</td>\n",
       "      <td>0.0</td>\n",
       "      <td>100+</td>\n",
       "      <td>100.0</td>\n",
       "      <td>478</td>\n",
       "      <td>True</td>\n",
       "      <td>0.0</td>\n",
       "      <td>...</td>\n",
       "      <td>http://www.horodyski.com.pl</td>\n",
       "      <td>rmilekhorodyski@gmail.com</td>\n",
       "      <td>Feb 21, 2020</td>\n",
       "      <td>Nov 12, 2018</td>\n",
       "      <td>Everyone</td>\n",
       "      <td>http://www.horodyski.com.pl</td>\n",
       "      <td>False</td>\n",
       "      <td>False</td>\n",
       "      <td>False</td>\n",
       "      <td>2021-06-15 20:19:35</td>\n",
       "    </tr>\n",
       "  </tbody>\n",
       "</table>\n",
       "<p>5 rows × 24 columns</p>\n",
       "</div>"
      ],
      "text/plain": [
       "                                            App Name  \\\n",
       "0                                            Gakondo   \n",
       "1                                Ampere Battery Info   \n",
       "2                                             Vibook   \n",
       "3  Smart City Trichy Public Service Vehicles 17UC...   \n",
       "4                                            GROW.me   \n",
       "\n",
       "                       App Id       Category  Rating  Rating Count Installs  \\\n",
       "0         com.ishakwe.gakondo      Adventure     0.0           0.0      10+   \n",
       "1  com.webserveis.batteryinfo          Tools     4.4          64.0   5,000+   \n",
       "2        com.doantiepvien.crm   Productivity     0.0           0.0      50+   \n",
       "3     cst.stJoseph.ug17ucs548  Communication     5.0           5.0      10+   \n",
       "4        com.horodyski.grower          Tools     0.0           0.0     100+   \n",
       "\n",
       "   Minimum Installs  Maximum Installs  Free  Price  ...  \\\n",
       "0              10.0                15  True    0.0  ...   \n",
       "1            5000.0              7662  True    0.0  ...   \n",
       "2              50.0                58  True    0.0  ...   \n",
       "3              10.0                19  True    0.0  ...   \n",
       "4             100.0               478  True    0.0  ...   \n",
       "\n",
       "                  Developer Website              Developer Email  \\\n",
       "0       https://beniyizibyose.tk/#/       jean21101999@gmail.com   \n",
       "1   https://webserveis.netlify.app/         webserveis@gmail.com   \n",
       "2                               NaN          vnacrewit@gmail.com   \n",
       "3  http://www.climatesmarttech.com/  climatesmarttech2@gmail.com   \n",
       "4       http://www.horodyski.com.pl    rmilekhorodyski@gmail.com   \n",
       "\n",
       "       Released  Last Updated Content Rating  \\\n",
       "0  Feb 26, 2020  Feb 26, 2020       Everyone   \n",
       "1  May 21, 2020  May 06, 2021       Everyone   \n",
       "2   Aug 9, 2019  Aug 19, 2019       Everyone   \n",
       "3  Sep 10, 2018  Oct 13, 2018       Everyone   \n",
       "4  Feb 21, 2020  Nov 12, 2018       Everyone   \n",
       "\n",
       "                                      Privacy Policy Ad Supported  \\\n",
       "0                 https://beniyizibyose.tk/projects/        False   \n",
       "1  https://dev4phones.wordpress.com/licencia-de-uso/         True   \n",
       "2  https://www.vietnamairlines.com/vn/en/terms-an...        False   \n",
       "3                                                NaN         True   \n",
       "4                        http://www.horodyski.com.pl        False   \n",
       "\n",
       "  In App Purchases Editors Choice         Scraped Time  \n",
       "0            False          False  2021-06-15 20:19:35  \n",
       "1            False          False  2021-06-15 20:19:35  \n",
       "2            False          False  2021-06-15 20:19:35  \n",
       "3            False          False  2021-06-15 20:19:35  \n",
       "4            False          False  2021-06-15 20:19:35  \n",
       "\n",
       "[5 rows x 24 columns]"
      ]
     },
     "execution_count": 3,
     "metadata": {},
     "output_type": "execute_result"
    }
   ],
   "source": [
    "df.head(5)"
   ]
  },
  {
   "cell_type": "markdown",
   "id": "2c776e9b",
   "metadata": {
    "id": "t6TsWwT61VDV",
    "papermill": {
     "duration": 0.028944,
     "end_time": "2022-07-02T16:37:30.159431",
     "exception": false,
     "start_time": "2022-07-02T16:37:30.130487",
     "status": "completed"
    },
    "tags": []
   },
   "source": [
    "Let's see what are the columns were given in the Google-Playstore dataset"
   ]
  },
  {
   "cell_type": "code",
   "execution_count": 4,
   "id": "3e0a7036",
   "metadata": {
    "execution": {
     "iopub.execute_input": "2022-07-02T16:37:30.220237Z",
     "iopub.status.busy": "2022-07-02T16:37:30.219569Z",
     "iopub.status.idle": "2022-07-02T16:37:30.225889Z",
     "shell.execute_reply": "2022-07-02T16:37:30.225194Z"
    },
    "id": "gegd0VaX1Qei",
    "outputId": "6ec72661-17bb-4c91-a926-2985322ea142",
    "papermill": {
     "duration": 0.038818,
     "end_time": "2022-07-02T16:37:30.227700",
     "exception": false,
     "start_time": "2022-07-02T16:37:30.188882",
     "status": "completed"
    },
    "tags": []
   },
   "outputs": [
    {
     "data": {
      "text/plain": [
       "Index(['App Name', 'App Id', 'Category', 'Rating', 'Rating Count', 'Installs',\n",
       "       'Minimum Installs', 'Maximum Installs', 'Free', 'Price', 'Currency',\n",
       "       'Size', 'Minimum Android', 'Developer Id', 'Developer Website',\n",
       "       'Developer Email', 'Released', 'Last Updated', 'Content Rating',\n",
       "       'Privacy Policy', 'Ad Supported', 'In App Purchases', 'Editors Choice',\n",
       "       'Scraped Time'],\n",
       "      dtype='object')"
      ]
     },
     "execution_count": 4,
     "metadata": {},
     "output_type": "execute_result"
    }
   ],
   "source": [
    "df.columns"
   ]
  },
  {
   "cell_type": "markdown",
   "id": "31c7eaad",
   "metadata": {
    "id": "kLiomWl_0MCi",
    "papermill": {
     "duration": 0.029086,
     "end_time": "2022-07-02T16:37:30.286482",
     "exception": false,
     "start_time": "2022-07-02T16:37:30.257396",
     "status": "completed"
    },
    "tags": []
   },
   "source": [
    "let's see the shape of the dataset"
   ]
  },
  {
   "cell_type": "code",
   "execution_count": 5,
   "id": "31d32865",
   "metadata": {
    "execution": {
     "iopub.execute_input": "2022-07-02T16:37:30.346767Z",
     "iopub.status.busy": "2022-07-02T16:37:30.346033Z",
     "iopub.status.idle": "2022-07-02T16:37:30.352767Z",
     "shell.execute_reply": "2022-07-02T16:37:30.351882Z"
    },
    "id": "gDrpcryE17un",
    "outputId": "97d06751-0ceb-45e9-d6cd-cf0c2fbbe4d4",
    "papermill": {
     "duration": 0.039138,
     "end_time": "2022-07-02T16:37:30.354881",
     "exception": false,
     "start_time": "2022-07-02T16:37:30.315743",
     "status": "completed"
    },
    "tags": []
   },
   "outputs": [
    {
     "data": {
      "text/plain": [
       "(2312944, 24)"
      ]
     },
     "execution_count": 5,
     "metadata": {},
     "output_type": "execute_result"
    }
   ],
   "source": [
    "df.shape"
   ]
  },
  {
   "cell_type": "code",
   "execution_count": 6,
   "id": "080ccb0e",
   "metadata": {
    "execution": {
     "iopub.execute_input": "2022-07-02T16:37:30.416129Z",
     "iopub.status.busy": "2022-07-02T16:37:30.415432Z",
     "iopub.status.idle": "2022-07-02T16:37:30.436799Z",
     "shell.execute_reply": "2022-07-02T16:37:30.434829Z"
    },
    "id": "bSo-UZFX2RGD",
    "outputId": "75fbceba-be2d-4a01-e566-28cbe5c65b62",
    "papermill": {
     "duration": 0.054791,
     "end_time": "2022-07-02T16:37:30.439225",
     "exception": false,
     "start_time": "2022-07-02T16:37:30.384434",
     "status": "completed"
    },
    "tags": []
   },
   "outputs": [
    {
     "name": "stdout",
     "output_type": "stream",
     "text": [
      "<class 'pandas.core.frame.DataFrame'>\n",
      "RangeIndex: 2312944 entries, 0 to 2312943\n",
      "Data columns (total 24 columns):\n",
      " #   Column             Dtype  \n",
      "---  ------             -----  \n",
      " 0   App Name           object \n",
      " 1   App Id             object \n",
      " 2   Category           object \n",
      " 3   Rating             float64\n",
      " 4   Rating Count       float64\n",
      " 5   Installs           object \n",
      " 6   Minimum Installs   float64\n",
      " 7   Maximum Installs   int64  \n",
      " 8   Free               bool   \n",
      " 9   Price              float64\n",
      " 10  Currency           object \n",
      " 11  Size               object \n",
      " 12  Minimum Android    object \n",
      " 13  Developer Id       object \n",
      " 14  Developer Website  object \n",
      " 15  Developer Email    object \n",
      " 16  Released           object \n",
      " 17  Last Updated       object \n",
      " 18  Content Rating     object \n",
      " 19  Privacy Policy     object \n",
      " 20  Ad Supported       bool   \n",
      " 21  In App Purchases   bool   \n",
      " 22  Editors Choice     bool   \n",
      " 23  Scraped Time       object \n",
      "dtypes: bool(4), float64(4), int64(1), object(15)\n",
      "memory usage: 361.8+ MB\n"
     ]
    }
   ],
   "source": [
    "df.info()"
   ]
  },
  {
   "cell_type": "markdown",
   "id": "edfed709",
   "metadata": {
    "id": "kQPidhl81kQq",
    "papermill": {
     "duration": 0.030386,
     "end_time": "2022-07-02T16:37:30.499456",
     "exception": false,
     "start_time": "2022-07-02T16:37:30.469070",
     "status": "completed"
    },
    "tags": []
   },
   "source": [
    "## Observation:\n",
    "\n",
    "---\n",
    "1. The dataset having   2312944 rows and 24 columns \n",
    "2. The columns in the dataset are:\n",
    " \n",
    "        'App Name', 'App Id', 'Category', 'Rating', 'Rating Count, Installs','Minimum Installs', 'Maximum Installs', 'Free', 'Price', \n",
    "        'Currency','Size', 'Minimum Android', 'Developer Id', 'Developer Website','Developer Email', 'Released', 'Last Updated', \n",
    "        'Content Rating','Privacy Policy', 'Ad Supported', 'In App Purchases', 'Editors Choice','Scraped Time'\n"
   ]
  },
  {
   "cell_type": "markdown",
   "id": "9bc5e1fc",
   "metadata": {
    "id": "gQI3Ov0DbbK7",
    "papermill": {
     "duration": 0.029076,
     "end_time": "2022-07-02T16:37:30.558438",
     "exception": false,
     "start_time": "2022-07-02T16:37:30.529362",
     "status": "completed"
    },
    "tags": []
   },
   "source": [
    "## Descriptive statistics"
   ]
  },
  {
   "cell_type": "code",
   "execution_count": 7,
   "id": "9f93f5d0",
   "metadata": {
    "execution": {
     "iopub.execute_input": "2022-07-02T16:37:30.619972Z",
     "iopub.status.busy": "2022-07-02T16:37:30.619299Z",
     "iopub.status.idle": "2022-07-02T16:37:31.195374Z",
     "shell.execute_reply": "2022-07-02T16:37:31.194174Z"
    },
    "id": "hc3px6XK1iVD",
    "outputId": "4b0153f0-4dd2-45f5-9340-c33c4af660de",
    "papermill": {
     "duration": 0.60982,
     "end_time": "2022-07-02T16:37:31.197573",
     "exception": false,
     "start_time": "2022-07-02T16:37:30.587753",
     "status": "completed"
    },
    "tags": []
   },
   "outputs": [
    {
     "data": {
      "text/html": [
       "<div>\n",
       "<style scoped>\n",
       "    .dataframe tbody tr th:only-of-type {\n",
       "        vertical-align: middle;\n",
       "    }\n",
       "\n",
       "    .dataframe tbody tr th {\n",
       "        vertical-align: top;\n",
       "    }\n",
       "\n",
       "    .dataframe thead th {\n",
       "        text-align: right;\n",
       "    }\n",
       "</style>\n",
       "<table border=\"1\" class=\"dataframe\">\n",
       "  <thead>\n",
       "    <tr style=\"text-align: right;\">\n",
       "      <th></th>\n",
       "      <th>Rating</th>\n",
       "      <th>Rating Count</th>\n",
       "      <th>Minimum Installs</th>\n",
       "      <th>Maximum Installs</th>\n",
       "      <th>Price</th>\n",
       "    </tr>\n",
       "  </thead>\n",
       "  <tbody>\n",
       "    <tr>\n",
       "      <th>count</th>\n",
       "      <td>2.290061e+06</td>\n",
       "      <td>2.290061e+06</td>\n",
       "      <td>2.312837e+06</td>\n",
       "      <td>2.312944e+06</td>\n",
       "      <td>2.312944e+06</td>\n",
       "    </tr>\n",
       "    <tr>\n",
       "      <th>mean</th>\n",
       "      <td>2.203152e+00</td>\n",
       "      <td>2.864839e+03</td>\n",
       "      <td>1.834452e+05</td>\n",
       "      <td>3.202017e+05</td>\n",
       "      <td>1.034992e-01</td>\n",
       "    </tr>\n",
       "    <tr>\n",
       "      <th>std</th>\n",
       "      <td>2.106223e+00</td>\n",
       "      <td>2.121626e+05</td>\n",
       "      <td>1.513144e+07</td>\n",
       "      <td>2.355495e+07</td>\n",
       "      <td>2.633127e+00</td>\n",
       "    </tr>\n",
       "    <tr>\n",
       "      <th>min</th>\n",
       "      <td>0.000000e+00</td>\n",
       "      <td>0.000000e+00</td>\n",
       "      <td>0.000000e+00</td>\n",
       "      <td>0.000000e+00</td>\n",
       "      <td>0.000000e+00</td>\n",
       "    </tr>\n",
       "    <tr>\n",
       "      <th>25%</th>\n",
       "      <td>0.000000e+00</td>\n",
       "      <td>0.000000e+00</td>\n",
       "      <td>5.000000e+01</td>\n",
       "      <td>8.400000e+01</td>\n",
       "      <td>0.000000e+00</td>\n",
       "    </tr>\n",
       "    <tr>\n",
       "      <th>50%</th>\n",
       "      <td>2.900000e+00</td>\n",
       "      <td>6.000000e+00</td>\n",
       "      <td>5.000000e+02</td>\n",
       "      <td>6.950000e+02</td>\n",
       "      <td>0.000000e+00</td>\n",
       "    </tr>\n",
       "    <tr>\n",
       "      <th>75%</th>\n",
       "      <td>4.300000e+00</td>\n",
       "      <td>4.200000e+01</td>\n",
       "      <td>5.000000e+03</td>\n",
       "      <td>7.354000e+03</td>\n",
       "      <td>0.000000e+00</td>\n",
       "    </tr>\n",
       "    <tr>\n",
       "      <th>max</th>\n",
       "      <td>5.000000e+00</td>\n",
       "      <td>1.385576e+08</td>\n",
       "      <td>1.000000e+10</td>\n",
       "      <td>1.205763e+10</td>\n",
       "      <td>4.000000e+02</td>\n",
       "    </tr>\n",
       "  </tbody>\n",
       "</table>\n",
       "</div>"
      ],
      "text/plain": [
       "             Rating  Rating Count  Minimum Installs  Maximum Installs  \\\n",
       "count  2.290061e+06  2.290061e+06      2.312837e+06      2.312944e+06   \n",
       "mean   2.203152e+00  2.864839e+03      1.834452e+05      3.202017e+05   \n",
       "std    2.106223e+00  2.121626e+05      1.513144e+07      2.355495e+07   \n",
       "min    0.000000e+00  0.000000e+00      0.000000e+00      0.000000e+00   \n",
       "25%    0.000000e+00  0.000000e+00      5.000000e+01      8.400000e+01   \n",
       "50%    2.900000e+00  6.000000e+00      5.000000e+02      6.950000e+02   \n",
       "75%    4.300000e+00  4.200000e+01      5.000000e+03      7.354000e+03   \n",
       "max    5.000000e+00  1.385576e+08      1.000000e+10      1.205763e+10   \n",
       "\n",
       "              Price  \n",
       "count  2.312944e+06  \n",
       "mean   1.034992e-01  \n",
       "std    2.633127e+00  \n",
       "min    0.000000e+00  \n",
       "25%    0.000000e+00  \n",
       "50%    0.000000e+00  \n",
       "75%    0.000000e+00  \n",
       "max    4.000000e+02  "
      ]
     },
     "execution_count": 7,
     "metadata": {},
     "output_type": "execute_result"
    }
   ],
   "source": [
    "df.describe()"
   ]
  },
  {
   "cell_type": "markdown",
   "id": "465716d9",
   "metadata": {
    "id": "4rgNuh-i4in_",
    "papermill": {
     "duration": 0.029391,
     "end_time": "2022-07-02T16:37:31.257163",
     "exception": false,
     "start_time": "2022-07-02T16:37:31.227772",
     "status": "completed"
    },
    "tags": []
   },
   "source": [
    "## Observation :    \n",
    "\n",
    "---\n",
    "1. we have 5 numerical columns in our dataset\n"
   ]
  },
  {
   "cell_type": "markdown",
   "id": "dd500d38",
   "metadata": {
    "id": "JGdspPDn3kqb",
    "papermill": {
     "duration": 0.029672,
     "end_time": "2022-07-02T16:37:31.316863",
     "exception": false,
     "start_time": "2022-07-02T16:37:31.287191",
     "status": "completed"
    },
    "tags": []
   },
   "source": [
    "To look the entire columns we can use pandas functon pd.set_option()"
   ]
  },
  {
   "cell_type": "code",
   "execution_count": 8,
   "id": "aeb2bb72",
   "metadata": {
    "execution": {
     "iopub.execute_input": "2022-07-02T16:37:31.378527Z",
     "iopub.status.busy": "2022-07-02T16:37:31.377776Z",
     "iopub.status.idle": "2022-07-02T16:37:31.382916Z",
     "shell.execute_reply": "2022-07-02T16:37:31.382202Z"
    },
    "id": "4lpvCohUy-a2",
    "papermill": {
     "duration": 0.038312,
     "end_time": "2022-07-02T16:37:31.384957",
     "exception": false,
     "start_time": "2022-07-02T16:37:31.346645",
     "status": "completed"
    },
    "tags": []
   },
   "outputs": [],
   "source": [
    " pd.set_option('display.max_columns', None)"
   ]
  },
  {
   "cell_type": "code",
   "execution_count": 9,
   "id": "7b90ccde",
   "metadata": {
    "execution": {
     "iopub.execute_input": "2022-07-02T16:37:31.446994Z",
     "iopub.status.busy": "2022-07-02T16:37:31.446341Z",
     "iopub.status.idle": "2022-07-02T16:37:31.471486Z",
     "shell.execute_reply": "2022-07-02T16:37:31.470727Z"
    },
    "id": "YwL6AaEf1wNX",
    "outputId": "49f2a080-73d6-4d9c-86ff-3000486a34a4",
    "papermill": {
     "duration": 0.058542,
     "end_time": "2022-07-02T16:37:31.473463",
     "exception": false,
     "start_time": "2022-07-02T16:37:31.414921",
     "status": "completed"
    },
    "tags": []
   },
   "outputs": [
    {
     "data": {
      "text/html": [
       "<div>\n",
       "<style scoped>\n",
       "    .dataframe tbody tr th:only-of-type {\n",
       "        vertical-align: middle;\n",
       "    }\n",
       "\n",
       "    .dataframe tbody tr th {\n",
       "        vertical-align: top;\n",
       "    }\n",
       "\n",
       "    .dataframe thead th {\n",
       "        text-align: right;\n",
       "    }\n",
       "</style>\n",
       "<table border=\"1\" class=\"dataframe\">\n",
       "  <thead>\n",
       "    <tr style=\"text-align: right;\">\n",
       "      <th></th>\n",
       "      <th>App Name</th>\n",
       "      <th>App Id</th>\n",
       "      <th>Category</th>\n",
       "      <th>Rating</th>\n",
       "      <th>Rating Count</th>\n",
       "      <th>Installs</th>\n",
       "      <th>Minimum Installs</th>\n",
       "      <th>Maximum Installs</th>\n",
       "      <th>Free</th>\n",
       "      <th>Price</th>\n",
       "      <th>Currency</th>\n",
       "      <th>Size</th>\n",
       "      <th>Minimum Android</th>\n",
       "      <th>Developer Id</th>\n",
       "      <th>Developer Website</th>\n",
       "      <th>Developer Email</th>\n",
       "      <th>Released</th>\n",
       "      <th>Last Updated</th>\n",
       "      <th>Content Rating</th>\n",
       "      <th>Privacy Policy</th>\n",
       "      <th>Ad Supported</th>\n",
       "      <th>In App Purchases</th>\n",
       "      <th>Editors Choice</th>\n",
       "      <th>Scraped Time</th>\n",
       "    </tr>\n",
       "  </thead>\n",
       "  <tbody>\n",
       "    <tr>\n",
       "      <th>0</th>\n",
       "      <td>Gakondo</td>\n",
       "      <td>com.ishakwe.gakondo</td>\n",
       "      <td>Adventure</td>\n",
       "      <td>0.0</td>\n",
       "      <td>0.0</td>\n",
       "      <td>10+</td>\n",
       "      <td>10.0</td>\n",
       "      <td>15</td>\n",
       "      <td>True</td>\n",
       "      <td>0.0</td>\n",
       "      <td>USD</td>\n",
       "      <td>10M</td>\n",
       "      <td>7.1 and up</td>\n",
       "      <td>Jean Confident Irénée NIYIZIBYOSE</td>\n",
       "      <td>https://beniyizibyose.tk/#/</td>\n",
       "      <td>jean21101999@gmail.com</td>\n",
       "      <td>Feb 26, 2020</td>\n",
       "      <td>Feb 26, 2020</td>\n",
       "      <td>Everyone</td>\n",
       "      <td>https://beniyizibyose.tk/projects/</td>\n",
       "      <td>False</td>\n",
       "      <td>False</td>\n",
       "      <td>False</td>\n",
       "      <td>2021-06-15 20:19:35</td>\n",
       "    </tr>\n",
       "    <tr>\n",
       "      <th>1</th>\n",
       "      <td>Ampere Battery Info</td>\n",
       "      <td>com.webserveis.batteryinfo</td>\n",
       "      <td>Tools</td>\n",
       "      <td>4.4</td>\n",
       "      <td>64.0</td>\n",
       "      <td>5,000+</td>\n",
       "      <td>5000.0</td>\n",
       "      <td>7662</td>\n",
       "      <td>True</td>\n",
       "      <td>0.0</td>\n",
       "      <td>USD</td>\n",
       "      <td>2.9M</td>\n",
       "      <td>5.0 and up</td>\n",
       "      <td>Webserveis</td>\n",
       "      <td>https://webserveis.netlify.app/</td>\n",
       "      <td>webserveis@gmail.com</td>\n",
       "      <td>May 21, 2020</td>\n",
       "      <td>May 06, 2021</td>\n",
       "      <td>Everyone</td>\n",
       "      <td>https://dev4phones.wordpress.com/licencia-de-uso/</td>\n",
       "      <td>True</td>\n",
       "      <td>False</td>\n",
       "      <td>False</td>\n",
       "      <td>2021-06-15 20:19:35</td>\n",
       "    </tr>\n",
       "    <tr>\n",
       "      <th>2</th>\n",
       "      <td>Vibook</td>\n",
       "      <td>com.doantiepvien.crm</td>\n",
       "      <td>Productivity</td>\n",
       "      <td>0.0</td>\n",
       "      <td>0.0</td>\n",
       "      <td>50+</td>\n",
       "      <td>50.0</td>\n",
       "      <td>58</td>\n",
       "      <td>True</td>\n",
       "      <td>0.0</td>\n",
       "      <td>USD</td>\n",
       "      <td>3.7M</td>\n",
       "      <td>4.0.3 and up</td>\n",
       "      <td>Cabin Crew</td>\n",
       "      <td>NaN</td>\n",
       "      <td>vnacrewit@gmail.com</td>\n",
       "      <td>Aug 9, 2019</td>\n",
       "      <td>Aug 19, 2019</td>\n",
       "      <td>Everyone</td>\n",
       "      <td>https://www.vietnamairlines.com/vn/en/terms-an...</td>\n",
       "      <td>False</td>\n",
       "      <td>False</td>\n",
       "      <td>False</td>\n",
       "      <td>2021-06-15 20:19:35</td>\n",
       "    </tr>\n",
       "    <tr>\n",
       "      <th>3</th>\n",
       "      <td>Smart City Trichy Public Service Vehicles 17UC...</td>\n",
       "      <td>cst.stJoseph.ug17ucs548</td>\n",
       "      <td>Communication</td>\n",
       "      <td>5.0</td>\n",
       "      <td>5.0</td>\n",
       "      <td>10+</td>\n",
       "      <td>10.0</td>\n",
       "      <td>19</td>\n",
       "      <td>True</td>\n",
       "      <td>0.0</td>\n",
       "      <td>USD</td>\n",
       "      <td>1.8M</td>\n",
       "      <td>4.0.3 and up</td>\n",
       "      <td>Climate Smart Tech2</td>\n",
       "      <td>http://www.climatesmarttech.com/</td>\n",
       "      <td>climatesmarttech2@gmail.com</td>\n",
       "      <td>Sep 10, 2018</td>\n",
       "      <td>Oct 13, 2018</td>\n",
       "      <td>Everyone</td>\n",
       "      <td>NaN</td>\n",
       "      <td>True</td>\n",
       "      <td>False</td>\n",
       "      <td>False</td>\n",
       "      <td>2021-06-15 20:19:35</td>\n",
       "    </tr>\n",
       "    <tr>\n",
       "      <th>4</th>\n",
       "      <td>GROW.me</td>\n",
       "      <td>com.horodyski.grower</td>\n",
       "      <td>Tools</td>\n",
       "      <td>0.0</td>\n",
       "      <td>0.0</td>\n",
       "      <td>100+</td>\n",
       "      <td>100.0</td>\n",
       "      <td>478</td>\n",
       "      <td>True</td>\n",
       "      <td>0.0</td>\n",
       "      <td>USD</td>\n",
       "      <td>6.2M</td>\n",
       "      <td>4.1 and up</td>\n",
       "      <td>Rafal Milek-Horodyski</td>\n",
       "      <td>http://www.horodyski.com.pl</td>\n",
       "      <td>rmilekhorodyski@gmail.com</td>\n",
       "      <td>Feb 21, 2020</td>\n",
       "      <td>Nov 12, 2018</td>\n",
       "      <td>Everyone</td>\n",
       "      <td>http://www.horodyski.com.pl</td>\n",
       "      <td>False</td>\n",
       "      <td>False</td>\n",
       "      <td>False</td>\n",
       "      <td>2021-06-15 20:19:35</td>\n",
       "    </tr>\n",
       "  </tbody>\n",
       "</table>\n",
       "</div>"
      ],
      "text/plain": [
       "                                            App Name  \\\n",
       "0                                            Gakondo   \n",
       "1                                Ampere Battery Info   \n",
       "2                                             Vibook   \n",
       "3  Smart City Trichy Public Service Vehicles 17UC...   \n",
       "4                                            GROW.me   \n",
       "\n",
       "                       App Id       Category  Rating  Rating Count Installs  \\\n",
       "0         com.ishakwe.gakondo      Adventure     0.0           0.0      10+   \n",
       "1  com.webserveis.batteryinfo          Tools     4.4          64.0   5,000+   \n",
       "2        com.doantiepvien.crm   Productivity     0.0           0.0      50+   \n",
       "3     cst.stJoseph.ug17ucs548  Communication     5.0           5.0      10+   \n",
       "4        com.horodyski.grower          Tools     0.0           0.0     100+   \n",
       "\n",
       "   Minimum Installs  Maximum Installs  Free  Price Currency  Size  \\\n",
       "0              10.0                15  True    0.0      USD   10M   \n",
       "1            5000.0              7662  True    0.0      USD  2.9M   \n",
       "2              50.0                58  True    0.0      USD  3.7M   \n",
       "3              10.0                19  True    0.0      USD  1.8M   \n",
       "4             100.0               478  True    0.0      USD  6.2M   \n",
       "\n",
       "  Minimum Android                       Developer Id  \\\n",
       "0      7.1 and up  Jean Confident Irénée NIYIZIBYOSE   \n",
       "1      5.0 and up                         Webserveis   \n",
       "2    4.0.3 and up                         Cabin Crew   \n",
       "3    4.0.3 and up                Climate Smart Tech2   \n",
       "4      4.1 and up              Rafal Milek-Horodyski   \n",
       "\n",
       "                  Developer Website              Developer Email  \\\n",
       "0       https://beniyizibyose.tk/#/       jean21101999@gmail.com   \n",
       "1   https://webserveis.netlify.app/         webserveis@gmail.com   \n",
       "2                               NaN          vnacrewit@gmail.com   \n",
       "3  http://www.climatesmarttech.com/  climatesmarttech2@gmail.com   \n",
       "4       http://www.horodyski.com.pl    rmilekhorodyski@gmail.com   \n",
       "\n",
       "       Released  Last Updated Content Rating  \\\n",
       "0  Feb 26, 2020  Feb 26, 2020       Everyone   \n",
       "1  May 21, 2020  May 06, 2021       Everyone   \n",
       "2   Aug 9, 2019  Aug 19, 2019       Everyone   \n",
       "3  Sep 10, 2018  Oct 13, 2018       Everyone   \n",
       "4  Feb 21, 2020  Nov 12, 2018       Everyone   \n",
       "\n",
       "                                      Privacy Policy  Ad Supported  \\\n",
       "0                 https://beniyizibyose.tk/projects/         False   \n",
       "1  https://dev4phones.wordpress.com/licencia-de-uso/          True   \n",
       "2  https://www.vietnamairlines.com/vn/en/terms-an...         False   \n",
       "3                                                NaN          True   \n",
       "4                        http://www.horodyski.com.pl         False   \n",
       "\n",
       "   In App Purchases  Editors Choice         Scraped Time  \n",
       "0             False           False  2021-06-15 20:19:35  \n",
       "1             False           False  2021-06-15 20:19:35  \n",
       "2             False           False  2021-06-15 20:19:35  \n",
       "3             False           False  2021-06-15 20:19:35  \n",
       "4             False           False  2021-06-15 20:19:35  "
      ]
     },
     "execution_count": 9,
     "metadata": {},
     "output_type": "execute_result"
    }
   ],
   "source": [
    "df.head()"
   ]
  },
  {
   "cell_type": "markdown",
   "id": "20b1909b",
   "metadata": {
    "id": "d0bV15j54q9N",
    "papermill": {
     "duration": 0.030202,
     "end_time": "2022-07-02T16:37:31.534201",
     "exception": false,
     "start_time": "2022-07-02T16:37:31.503999",
     "status": "completed"
    },
    "tags": []
   },
   "source": [
    "## Missing values in the data\n"
   ]
  },
  {
   "cell_type": "code",
   "execution_count": 10,
   "id": "a6b951f6",
   "metadata": {
    "execution": {
     "iopub.execute_input": "2022-07-02T16:37:31.597745Z",
     "iopub.status.busy": "2022-07-02T16:37:31.597105Z",
     "iopub.status.idle": "2022-07-02T16:37:35.260516Z",
     "shell.execute_reply": "2022-07-02T16:37:35.259473Z"
    },
    "id": "abm62Wai3Xlv",
    "outputId": "710a16a8-1725-4e8a-8389-eca9337f3c81",
    "papermill": {
     "duration": 3.698524,
     "end_time": "2022-07-02T16:37:35.262922",
     "exception": false,
     "start_time": "2022-07-02T16:37:31.564398",
     "status": "completed"
    },
    "tags": []
   },
   "outputs": [
    {
     "data": {
      "text/plain": [
       "Developer Website    760835\n",
       "Privacy Policy       420953\n",
       "Released              71053\n",
       "Rating                22883\n",
       "Rating Count          22883\n",
       "Minimum Android        6530\n",
       "Size                    196\n",
       "Currency                135\n",
       "Installs                107\n",
       "Minimum Installs        107\n",
       "Developer Id             33\n",
       "Developer Email          31\n",
       "App Name                  2\n",
       "App Id                    0\n",
       "Price                     0\n",
       "Free                      0\n",
       "Maximum Installs          0\n",
       "Last Updated              0\n",
       "Content Rating            0\n",
       "Category                  0\n",
       "Ad Supported              0\n",
       "In App Purchases          0\n",
       "Editors Choice            0\n",
       "Scraped Time              0\n",
       "dtype: int64"
      ]
     },
     "execution_count": 10,
     "metadata": {},
     "output_type": "execute_result"
    }
   ],
   "source": [
    "df.isnull().sum().sort_values(ascending = False)"
   ]
  },
  {
   "cell_type": "markdown",
   "id": "967dc1ad",
   "metadata": {
    "id": "NbA5TVMAY-rK",
    "papermill": {
     "duration": 0.030235,
     "end_time": "2022-07-02T16:37:35.324475",
     "exception": false,
     "start_time": "2022-07-02T16:37:35.294240",
     "status": "completed"
    },
    "tags": []
   },
   "source": [
    "# **Exploratory Analysis and Visualization**"
   ]
  },
  {
   "cell_type": "markdown",
   "id": "4489cbbe",
   "metadata": {
    "id": "LE9ystPMTbPO",
    "papermill": {
     "duration": 0.030388,
     "end_time": "2022-07-02T16:37:35.385340",
     "exception": false,
     "start_time": "2022-07-02T16:37:35.354952",
     "status": "completed"
    },
    "tags": []
   },
   "source": [
    "## Let's plot the missing null values"
   ]
  },
  {
   "cell_type": "code",
   "execution_count": 11,
   "id": "6fdd9b8c",
   "metadata": {
    "execution": {
     "iopub.execute_input": "2022-07-02T16:37:35.449134Z",
     "iopub.status.busy": "2022-07-02T16:37:35.448576Z",
     "iopub.status.idle": "2022-07-02T16:38:32.091936Z",
     "shell.execute_reply": "2022-07-02T16:38:32.090798Z"
    },
    "id": "Mf53xyb3Q2JX",
    "outputId": "39556d20-aaae-40c8-dd8b-bb70650299b4",
    "papermill": {
     "duration": 56.67837,
     "end_time": "2022-07-02T16:38:32.094214",
     "exception": false,
     "start_time": "2022-07-02T16:37:35.415844",
     "status": "completed"
    },
    "tags": []
   },
   "outputs": [
    {
     "data": {
      "text/plain": [
       "Text(0.5, 1.0, 'Missing null values')"
      ]
     },
     "execution_count": 11,
     "metadata": {},
     "output_type": "execute_result"
    },
    {
     "data": {
      "image/png": "[encoded data removed]",
      "text/plain": [
       "<Figure size 1440x432 with 1 Axes>"
      ]
     },
     "metadata": {
      "needs_background": "light"
     },
     "output_type": "display_data"
    }
   ],
   "source": [
    "import matplotlib\n",
    "matplotlib.rcParams['figure.figsize'] = (20,6)\n",
    "sns.heatmap(df.isnull(),yticklabels = False, cbar = False , cmap = 'viridis')\n",
    "plt.title(\"Missing null values\")"
   ]
  },
  {
   "cell_type": "markdown",
   "id": "b00b412d",
   "metadata": {
    "id": "Cp2KbbaSLY2S",
    "papermill": {
     "duration": 0.031206,
     "end_time": "2022-07-02T16:38:32.157760",
     "exception": false,
     "start_time": "2022-07-02T16:38:32.126554",
     "status": "completed"
    },
    "tags": []
   },
   "source": [
    "Let's see the missing percentage in data"
   ]
  },
  {
   "cell_type": "code",
   "execution_count": 12,
   "id": "18f9f7d1",
   "metadata": {
    "execution": {
     "iopub.execute_input": "2022-07-02T16:38:32.224155Z",
     "iopub.status.busy": "2022-07-02T16:38:32.223455Z",
     "iopub.status.idle": "2022-07-02T16:38:36.069583Z",
     "shell.execute_reply": "2022-07-02T16:38:36.068470Z"
    },
    "id": "raZ3n6SwLckX",
    "outputId": "3bcd25fd-db8e-4838-cfcd-925c545dfa1d",
    "papermill": {
     "duration": 3.882589,
     "end_time": "2022-07-02T16:38:36.072022",
     "exception": false,
     "start_time": "2022-07-02T16:38:32.189433",
     "status": "completed"
    },
    "tags": []
   },
   "outputs": [
    {
     "data": {
      "text/plain": [
       "Developer Website    3.289466e-01\n",
       "Privacy Policy       1.819988e-01\n",
       "Released             3.071972e-02\n",
       "Rating               9.893452e-03\n",
       "Rating Count         9.893452e-03\n",
       "Minimum Android      2.823242e-03\n",
       "Size                 8.474049e-05\n",
       "Currency             5.836717e-05\n",
       "Installs             4.626139e-05\n",
       "Minimum Installs     4.626139e-05\n",
       "Developer Id         1.426753e-05\n",
       "Developer Email      1.340283e-05\n",
       "App Name             8.646988e-07\n",
       "App Id               0.000000e+00\n",
       "Price                0.000000e+00\n",
       "Free                 0.000000e+00\n",
       "Maximum Installs     0.000000e+00\n",
       "Last Updated         0.000000e+00\n",
       "Content Rating       0.000000e+00\n",
       "Category             0.000000e+00\n",
       "Ad Supported         0.000000e+00\n",
       "In App Purchases     0.000000e+00\n",
       "Editors Choice       0.000000e+00\n",
       "Scraped Time         0.000000e+00\n",
       "dtype: float64"
      ]
     },
     "execution_count": 12,
     "metadata": {},
     "output_type": "execute_result"
    }
   ],
   "source": [
    "missing_percentage = df.isnull().sum().sort_values(ascending = False)/len(df)\n",
    "missing_percentage"
   ]
  },
  {
   "cell_type": "markdown",
   "id": "67ef7973",
   "metadata": {
    "id": "VaHcPqnhCqFP",
    "papermill": {
     "duration": 0.031114,
     "end_time": "2022-07-02T16:38:36.134667",
     "exception": false,
     "start_time": "2022-07-02T16:38:36.103553",
     "status": "completed"
    },
    "tags": []
   },
   "source": [
    "## Let's plot the missing percentage of null values"
   ]
  },
  {
   "cell_type": "code",
   "execution_count": 13,
   "id": "f2585c82",
   "metadata": {
    "execution": {
     "iopub.execute_input": "2022-07-02T16:38:36.199433Z",
     "iopub.status.busy": "2022-07-02T16:38:36.199003Z",
     "iopub.status.idle": "2022-07-02T16:38:36.465919Z",
     "shell.execute_reply": "2022-07-02T16:38:36.465152Z"
    },
    "id": "kGhMk6NbMJKh",
    "outputId": "948bf242-1f9a-4136-bb1a-cd1b6e5b7288",
    "papermill": {
     "duration": 0.30206,
     "end_time": "2022-07-02T16:38:36.468091",
     "exception": false,
     "start_time": "2022-07-02T16:38:36.166031",
     "status": "completed"
    },
    "tags": []
   },
   "outputs": [
    {
     "data": {
      "text/plain": [
       "Text(0.5, 1.0, 'Missig percentage of null values')"
      ]
     },
     "execution_count": 13,
     "metadata": {},
     "output_type": "execute_result"
    },
    {
     "data": {
      "image/png": "[encoded data removed]",
      "text/plain": [
       "<Figure size 1440x432 with 1 Axes>"
      ]
     },
     "metadata": {
      "needs_background": "light"
     },
     "output_type": "display_data"
    }
   ],
   "source": [
    "missing_percentage = missing_percentage[missing_percentage != 0] # Only the missing data\n",
    "import matplotlib\n",
    "matplotlib.rcParams['figure.figsize'] = (20,6)\n",
    "missing_percentage.plot(kind = 'barh')\n",
    "plt.title(\"Missig percentage of null values\")"
   ]
  },
  {
   "cell_type": "markdown",
   "id": "8658a5a7",
   "metadata": {
    "id": "wwsHcOHG7LP9",
    "papermill": {
     "duration": 0.031855,
     "end_time": "2022-07-02T16:38:36.533322",
     "exception": false,
     "start_time": "2022-07-02T16:38:36.501467",
     "status": "completed"
    },
    "tags": []
   },
   "source": [
    "## Observation : \n",
    "\n",
    "\n",
    "Dealing with the null values\n",
    "\n",
    "\n",
    "1. The columns having highest percentage of null values are :\n",
    "* Developer Website  \n",
    "* Privacy Policy\n",
    "\n",
    "these two are not that much helpful if we want we can drop these columns and in the further steps we drop and add some features in the dataset after the Analysis.\n",
    "\n",
    "2. we can drop the small null values for the columns\n",
    "\n",
    "* Size                 \n",
    "* Currency             \n",
    "* Installs             \n",
    "* Minimum Installs     \n",
    "* Developer Id         \n",
    "* Developer Email\n",
    "\n",
    "3. Rating,Rating Count,Released are important column so it is good to fill the null values.\n",
    "\n",
    "* Rating \n",
    "* Rating count\n",
    "* Minimum Andriod \n",
    "* Released \n",
    "\n"
   ]
  },
  {
   "cell_type": "markdown",
   "id": "27f96150",
   "metadata": {
    "id": "4aDY61PeWD4F",
    "papermill": {
     "duration": 0.031874,
     "end_time": "2022-07-02T16:38:36.597325",
     "exception": false,
     "start_time": "2022-07-02T16:38:36.565451",
     "status": "completed"
    },
    "tags": []
   },
   "source": [
    "## from observation 2 droping the null values of the columns got selected "
   ]
  },
  {
   "cell_type": "code",
   "execution_count": 14,
   "id": "8265ac52",
   "metadata": {
    "execution": {
     "iopub.execute_input": "2022-07-02T16:38:36.664174Z",
     "iopub.status.busy": "2022-07-02T16:38:36.663478Z",
     "iopub.status.idle": "2022-07-02T16:38:39.299458Z",
     "shell.execute_reply": "2022-07-02T16:38:39.298263Z"
    },
    "id": "qmeL7fx69hIj",
    "papermill": {
     "duration": 2.67255,
     "end_time": "2022-07-02T16:38:39.302338",
     "exception": false,
     "start_time": "2022-07-02T16:38:36.629788",
     "status": "completed"
    },
    "tags": []
   },
   "outputs": [],
   "source": [
    "df.dropna(subset = ['App Name','Size','Currency','Installs','Minimum Installs','Developer Id','Developer Email'], inplace = True)"
   ]
  },
  {
   "cell_type": "code",
   "execution_count": 15,
   "id": "82afcb4e",
   "metadata": {
    "execution": {
     "iopub.execute_input": "2022-07-02T16:38:39.383404Z",
     "iopub.status.busy": "2022-07-02T16:38:39.382598Z",
     "iopub.status.idle": "2022-07-02T16:38:43.044457Z",
     "shell.execute_reply": "2022-07-02T16:38:43.043225Z"
    },
    "id": "s6KWBnQvXF1r",
    "outputId": "82ff2b50-de40-4776-a39f-fee7b324c0a2",
    "papermill": {
     "duration": 3.707751,
     "end_time": "2022-07-02T16:38:43.046972",
     "exception": false,
     "start_time": "2022-07-02T16:38:39.339221",
     "status": "completed"
    },
    "tags": []
   },
   "outputs": [
    {
     "data": {
      "text/plain": [
       "App Name                  0\n",
       "App Id                    0\n",
       "Category                  0\n",
       "Rating                22572\n",
       "Rating Count          22572\n",
       "Installs                  0\n",
       "Minimum Installs          0\n",
       "Maximum Installs          0\n",
       "Free                      0\n",
       "Price                     0\n",
       "Currency                  0\n",
       "Size                      0\n",
       "Minimum Android        6530\n",
       "Developer Id              0\n",
       "Developer Website    760716\n",
       "Developer Email           0\n",
       "Released              70748\n",
       "Last Updated              0\n",
       "Content Rating            0\n",
       "Privacy Policy       420845\n",
       "Ad Supported              0\n",
       "In App Purchases          0\n",
       "Editors Choice            0\n",
       "Scraped Time              0\n",
       "dtype: int64"
      ]
     },
     "execution_count": 15,
     "metadata": {},
     "output_type": "execute_result"
    }
   ],
   "source": [
    "df.isnull().sum()"
   ]
  },
  {
   "cell_type": "markdown",
   "id": "3361b69d",
   "metadata": {
    "id": "pvDM-NBhseqi",
    "papermill": {
     "duration": 0.033286,
     "end_time": "2022-07-02T16:38:43.113527",
     "exception": false,
     "start_time": "2022-07-02T16:38:43.080241",
     "status": "completed"
    },
    "tags": []
   },
   "source": [
    "## Now let's start cleaning the each row"
   ]
  },
  {
   "cell_type": "markdown",
   "id": "7868bc88",
   "metadata": {
    "id": "V6JvnnJNuvtd",
    "papermill": {
     "duration": 0.032363,
     "end_time": "2022-07-02T16:38:43.179219",
     "exception": false,
     "start_time": "2022-07-02T16:38:43.146856",
     "status": "completed"
    },
    "tags": []
   },
   "source": [
    "checking any duplicates in the App Name"
   ]
  },
  {
   "cell_type": "code",
   "execution_count": 16,
   "id": "e9f51b98",
   "metadata": {
    "execution": {
     "iopub.execute_input": "2022-07-02T16:38:43.247171Z",
     "iopub.status.busy": "2022-07-02T16:38:43.246479Z",
     "iopub.status.idle": "2022-07-02T16:38:44.426774Z",
     "shell.execute_reply": "2022-07-02T16:38:44.425633Z"
    },
    "id": "gbkMxNOYu0MC",
    "outputId": "4dce6a1a-8d19-4211-e630-537441dcfd03",
    "papermill": {
     "duration": 1.217712,
     "end_time": "2022-07-02T16:38:44.429523",
     "exception": false,
     "start_time": "2022-07-02T16:38:43.211811",
     "status": "completed"
    },
    "tags": []
   },
   "outputs": [
    {
     "data": {
      "text/plain": [
       "True"
      ]
     },
     "execution_count": 16,
     "metadata": {},
     "output_type": "execute_result"
    }
   ],
   "source": [
    "boolean = df['App Name'].duplicated().any()\n",
    "boolean"
   ]
  },
  {
   "cell_type": "code",
   "execution_count": 17,
   "id": "c779c827",
   "metadata": {
    "execution": {
     "iopub.execute_input": "2022-07-02T16:38:44.511567Z",
     "iopub.status.busy": "2022-07-02T16:38:44.510880Z",
     "iopub.status.idle": "2022-07-02T16:38:48.154042Z",
     "shell.execute_reply": "2022-07-02T16:38:48.152899Z"
    },
    "id": "0fCLVYC4uNdy",
    "outputId": "5d7585ae-1885-4350-84b2-45d6af8a6d64",
    "papermill": {
     "duration": 3.687298,
     "end_time": "2022-07-02T16:38:48.156432",
     "exception": false,
     "start_time": "2022-07-02T16:38:44.469134",
     "status": "completed"
    },
    "tags": []
   },
   "outputs": [
    {
     "data": {
      "text/plain": [
       "Tic Tac Toe                     382\n",
       "Calculator                      261\n",
       "Flashlight                      256\n",
       "BMI Calculator                  201\n",
       "Age Calculator                  190\n",
       "                               ... \n",
       "Foodiz Resto                      1\n",
       "Astra OtoReward                   1\n",
       "MedTerm Dictionary                1\n",
       "Urban garden and sowing.          1\n",
       "Biliyor Musun - Sonsuz Yarış      1\n",
       "Name: App Name, Length: 2177593, dtype: int64"
      ]
     },
     "execution_count": 17,
     "metadata": {},
     "output_type": "execute_result"
    }
   ],
   "source": [
    "df['App Name'].value_counts()"
   ]
  },
  {
   "cell_type": "markdown",
   "id": "98ce6bd9",
   "metadata": {
    "id": "jU6uMUCPvC8n",
    "papermill": {
     "duration": 0.032406,
     "end_time": "2022-07-02T16:38:48.221837",
     "exception": false,
     "start_time": "2022-07-02T16:38:48.189431",
     "status": "completed"
    },
    "tags": []
   },
   "source": [
    "from the above cell output we can see that App Name column has multiple rows. Let's check out that data in those rows is identical or not"
   ]
  },
  {
   "cell_type": "code",
   "execution_count": 18,
   "id": "a469db02",
   "metadata": {
    "execution": {
     "iopub.execute_input": "2022-07-02T16:38:48.289978Z",
     "iopub.status.busy": "2022-07-02T16:38:48.289573Z",
     "iopub.status.idle": "2022-07-02T16:38:48.674730Z",
     "shell.execute_reply": "2022-07-02T16:38:48.673664Z"
    },
    "id": "-Dz-KOgNZggQ",
    "outputId": "41aaf640-0208-4068-961b-03291f4d22c0",
    "papermill": {
     "duration": 0.422179,
     "end_time": "2022-07-02T16:38:48.677237",
     "exception": false,
     "start_time": "2022-07-02T16:38:48.255058",
     "status": "completed"
    },
    "tags": []
   },
   "outputs": [
    {
     "data": {
      "text/html": [
       "<div>\n",
       "<style scoped>\n",
       "    .dataframe tbody tr th:only-of-type {\n",
       "        vertical-align: middle;\n",
       "    }\n",
       "\n",
       "    .dataframe tbody tr th {\n",
       "        vertical-align: top;\n",
       "    }\n",
       "\n",
       "    .dataframe thead th {\n",
       "        text-align: right;\n",
       "    }\n",
       "</style>\n",
       "<table border=\"1\" class=\"dataframe\">\n",
       "  <thead>\n",
       "    <tr style=\"text-align: right;\">\n",
       "      <th></th>\n",
       "      <th>App Name</th>\n",
       "      <th>App Id</th>\n",
       "      <th>Category</th>\n",
       "      <th>Rating</th>\n",
       "      <th>Rating Count</th>\n",
       "      <th>Installs</th>\n",
       "      <th>Minimum Installs</th>\n",
       "      <th>Maximum Installs</th>\n",
       "      <th>Free</th>\n",
       "      <th>Price</th>\n",
       "      <th>Currency</th>\n",
       "      <th>Size</th>\n",
       "      <th>Minimum Android</th>\n",
       "      <th>Developer Id</th>\n",
       "      <th>Developer Website</th>\n",
       "      <th>Developer Email</th>\n",
       "      <th>Released</th>\n",
       "      <th>Last Updated</th>\n",
       "      <th>Content Rating</th>\n",
       "      <th>Privacy Policy</th>\n",
       "      <th>Ad Supported</th>\n",
       "      <th>In App Purchases</th>\n",
       "      <th>Editors Choice</th>\n",
       "      <th>Scraped Time</th>\n",
       "    </tr>\n",
       "  </thead>\n",
       "  <tbody>\n",
       "    <tr>\n",
       "      <th>3918</th>\n",
       "      <td>Tic Tac Toe</td>\n",
       "      <td>com.dev.atte.tic_tac_toe</td>\n",
       "      <td>Puzzle</td>\n",
       "      <td>0.0</td>\n",
       "      <td>0.0</td>\n",
       "      <td>10+</td>\n",
       "      <td>10.0</td>\n",
       "      <td>30</td>\n",
       "      <td>True</td>\n",
       "      <td>0.0</td>\n",
       "      <td>USD</td>\n",
       "      <td>3.4M</td>\n",
       "      <td>4.0 and up</td>\n",
       "      <td>ATTE AKA FRANCOIS</td>\n",
       "      <td>https://ne2ad32ee.app-ads-txt.com</td>\n",
       "      <td>dev.atte.francois@gmail.com</td>\n",
       "      <td>May 18, 2018</td>\n",
       "      <td>May 18, 2018</td>\n",
       "      <td>Everyone</td>\n",
       "      <td>NaN</td>\n",
       "      <td>True</td>\n",
       "      <td>False</td>\n",
       "      <td>False</td>\n",
       "      <td>2021-06-15 20:23:22</td>\n",
       "    </tr>\n",
       "    <tr>\n",
       "      <th>13758</th>\n",
       "      <td>Tic Tac Toe</td>\n",
       "      <td>com.md.tictactoe</td>\n",
       "      <td>Board</td>\n",
       "      <td>0.0</td>\n",
       "      <td>0.0</td>\n",
       "      <td>10+</td>\n",
       "      <td>10.0</td>\n",
       "      <td>31</td>\n",
       "      <td>True</td>\n",
       "      <td>0.0</td>\n",
       "      <td>USD</td>\n",
       "      <td>34M</td>\n",
       "      <td>4.3 and up</td>\n",
       "      <td>Smart Digital Tools</td>\n",
       "      <td>NaN</td>\n",
       "      <td>msms.zaman@gmail.com</td>\n",
       "      <td>Nov 2, 2020</td>\n",
       "      <td>Nov 18, 2020</td>\n",
       "      <td>Everyone</td>\n",
       "      <td>https://smartdailytools.blogspot.com/2020/09/p...</td>\n",
       "      <td>True</td>\n",
       "      <td>False</td>\n",
       "      <td>False</td>\n",
       "      <td>2021-06-15 20:32:58</td>\n",
       "    </tr>\n",
       "    <tr>\n",
       "      <th>25351</th>\n",
       "      <td>Tic Tac Toe</td>\n",
       "      <td>com.sthirumuru.tictactoenew</td>\n",
       "      <td>Board</td>\n",
       "      <td>4.2</td>\n",
       "      <td>11.0</td>\n",
       "      <td>5,000+</td>\n",
       "      <td>5000.0</td>\n",
       "      <td>6379</td>\n",
       "      <td>True</td>\n",
       "      <td>0.0</td>\n",
       "      <td>USD</td>\n",
       "      <td>7.4M</td>\n",
       "      <td>7.0 and up</td>\n",
       "      <td>Sundeep Reddy Thirumuru</td>\n",
       "      <td>NaN</td>\n",
       "      <td>sundeep.thirumuru@gmail.com</td>\n",
       "      <td>Apr 13, 2021</td>\n",
       "      <td>Jun 03, 2021</td>\n",
       "      <td>Everyone</td>\n",
       "      <td>NaN</td>\n",
       "      <td>True</td>\n",
       "      <td>False</td>\n",
       "      <td>False</td>\n",
       "      <td>2021-06-15 20:44:27</td>\n",
       "    </tr>\n",
       "    <tr>\n",
       "      <th>28142</th>\n",
       "      <td>Tic Tac Toe</td>\n",
       "      <td>com.fsk00x.TicTacToe</td>\n",
       "      <td>Board</td>\n",
       "      <td>0.0</td>\n",
       "      <td>0.0</td>\n",
       "      <td>500+</td>\n",
       "      <td>500.0</td>\n",
       "      <td>922</td>\n",
       "      <td>True</td>\n",
       "      <td>0.0</td>\n",
       "      <td>USD</td>\n",
       "      <td>8.6M</td>\n",
       "      <td>4.1 and up</td>\n",
       "      <td>SteadFast Games</td>\n",
       "      <td>NaN</td>\n",
       "      <td>devmethyl@outlook.com</td>\n",
       "      <td>Feb 13, 2020</td>\n",
       "      <td>Feb 13, 2020</td>\n",
       "      <td>Everyone</td>\n",
       "      <td>NaN</td>\n",
       "      <td>True</td>\n",
       "      <td>False</td>\n",
       "      <td>False</td>\n",
       "      <td>2021-06-15 20:47:17</td>\n",
       "    </tr>\n",
       "    <tr>\n",
       "      <th>30962</th>\n",
       "      <td>Tic Tac Toe</td>\n",
       "      <td>net.snatchdreams.tictactoe</td>\n",
       "      <td>Puzzle</td>\n",
       "      <td>0.0</td>\n",
       "      <td>0.0</td>\n",
       "      <td>10+</td>\n",
       "      <td>10.0</td>\n",
       "      <td>38</td>\n",
       "      <td>True</td>\n",
       "      <td>0.0</td>\n",
       "      <td>USD</td>\n",
       "      <td>927k</td>\n",
       "      <td>4.0 and up</td>\n",
       "      <td>SnatchDreams</td>\n",
       "      <td>https://www.snatchdreams.net</td>\n",
       "      <td>snatchdreams@gmail.com</td>\n",
       "      <td>Jul 16, 2017</td>\n",
       "      <td>Oct 16, 2019</td>\n",
       "      <td>Everyone</td>\n",
       "      <td>https://www.snatchdreams.net/privacy/tic-tac-toe/</td>\n",
       "      <td>True</td>\n",
       "      <td>False</td>\n",
       "      <td>False</td>\n",
       "      <td>2021-06-15 20:50:12</td>\n",
       "    </tr>\n",
       "    <tr>\n",
       "      <th>...</th>\n",
       "      <td>...</td>\n",
       "      <td>...</td>\n",
       "      <td>...</td>\n",
       "      <td>...</td>\n",
       "      <td>...</td>\n",
       "      <td>...</td>\n",
       "      <td>...</td>\n",
       "      <td>...</td>\n",
       "      <td>...</td>\n",
       "      <td>...</td>\n",
       "      <td>...</td>\n",
       "      <td>...</td>\n",
       "      <td>...</td>\n",
       "      <td>...</td>\n",
       "      <td>...</td>\n",
       "      <td>...</td>\n",
       "      <td>...</td>\n",
       "      <td>...</td>\n",
       "      <td>...</td>\n",
       "      <td>...</td>\n",
       "      <td>...</td>\n",
       "      <td>...</td>\n",
       "      <td>...</td>\n",
       "      <td>...</td>\n",
       "    </tr>\n",
       "    <tr>\n",
       "      <th>2272773</th>\n",
       "      <td>Tic Tac Toe</td>\n",
       "      <td>com.tictactoe.MobileAppsPro</td>\n",
       "      <td>Board</td>\n",
       "      <td>3.8</td>\n",
       "      <td>9269.0</td>\n",
       "      <td>500,000+</td>\n",
       "      <td>500000.0</td>\n",
       "      <td>800662</td>\n",
       "      <td>True</td>\n",
       "      <td>0.0</td>\n",
       "      <td>USD</td>\n",
       "      <td>2.3M</td>\n",
       "      <td>2.3 and up</td>\n",
       "      <td>Mobile Apps Pro</td>\n",
       "      <td>NaN</td>\n",
       "      <td>smartyka@gmail.com</td>\n",
       "      <td>Jan 9, 2015</td>\n",
       "      <td>May 20, 2015</td>\n",
       "      <td>Everyone</td>\n",
       "      <td>http://mobileappspro.yolasite.com</td>\n",
       "      <td>True</td>\n",
       "      <td>False</td>\n",
       "      <td>False</td>\n",
       "      <td>2021-06-16 12:23:56</td>\n",
       "    </tr>\n",
       "    <tr>\n",
       "      <th>2281376</th>\n",
       "      <td>Tic Tac Toe</td>\n",
       "      <td>com.erjainam.tictactoe.release</td>\n",
       "      <td>Board</td>\n",
       "      <td>0.0</td>\n",
       "      <td>0.0</td>\n",
       "      <td>50+</td>\n",
       "      <td>50.0</td>\n",
       "      <td>50</td>\n",
       "      <td>True</td>\n",
       "      <td>0.0</td>\n",
       "      <td>USD</td>\n",
       "      <td>3.5M</td>\n",
       "      <td>5.0 and up</td>\n",
       "      <td>Jainam Jhaveri</td>\n",
       "      <td>https://erjainam.com</td>\n",
       "      <td>engineerjainam@gmail.com</td>\n",
       "      <td>Sep 2, 2018</td>\n",
       "      <td>Sep 02, 2018</td>\n",
       "      <td>Everyone</td>\n",
       "      <td>https://docs.google.com/document/d/1Tyi5D3VxZu...</td>\n",
       "      <td>True</td>\n",
       "      <td>False</td>\n",
       "      <td>False</td>\n",
       "      <td>2021-06-16 12:31:30</td>\n",
       "    </tr>\n",
       "    <tr>\n",
       "      <th>2282023</th>\n",
       "      <td>Tic Tac Toe</td>\n",
       "      <td>com.swapworld.tic_tac_toe</td>\n",
       "      <td>Board</td>\n",
       "      <td>4.7</td>\n",
       "      <td>7.0</td>\n",
       "      <td>10+</td>\n",
       "      <td>10.0</td>\n",
       "      <td>34</td>\n",
       "      <td>True</td>\n",
       "      <td>0.0</td>\n",
       "      <td>USD</td>\n",
       "      <td>5.3M</td>\n",
       "      <td>4.1 and up</td>\n",
       "      <td>Cybertron's Hogwarts</td>\n",
       "      <td>http://prudhvikchirunomula.pythonanywhere.com/</td>\n",
       "      <td>prudhvik.1996@gmail.com</td>\n",
       "      <td>Sep 4, 2019</td>\n",
       "      <td>Sep 17, 2019</td>\n",
       "      <td>Everyone</td>\n",
       "      <td>NaN</td>\n",
       "      <td>False</td>\n",
       "      <td>False</td>\n",
       "      <td>False</td>\n",
       "      <td>2021-06-16 12:32:05</td>\n",
       "    </tr>\n",
       "    <tr>\n",
       "      <th>2299121</th>\n",
       "      <td>Tic Tac Toe</td>\n",
       "      <td>com.infuse.tictactoe</td>\n",
       "      <td>Board</td>\n",
       "      <td>4.8</td>\n",
       "      <td>20.0</td>\n",
       "      <td>100+</td>\n",
       "      <td>100.0</td>\n",
       "      <td>462</td>\n",
       "      <td>True</td>\n",
       "      <td>0.0</td>\n",
       "      <td>USD</td>\n",
       "      <td>2.1M</td>\n",
       "      <td>2.2 and up</td>\n",
       "      <td>Infuse Apps</td>\n",
       "      <td>http://www.infuseapps.com</td>\n",
       "      <td>infuseandroidapps@gmail.com</td>\n",
       "      <td>Jan 18, 2015</td>\n",
       "      <td>Jan 18, 2015</td>\n",
       "      <td>Everyone</td>\n",
       "      <td>NaN</td>\n",
       "      <td>True</td>\n",
       "      <td>False</td>\n",
       "      <td>False</td>\n",
       "      <td>2021-06-16 12:47:11</td>\n",
       "    </tr>\n",
       "    <tr>\n",
       "      <th>2310375</th>\n",
       "      <td>Tic Tac Toe</td>\n",
       "      <td>com.justmailtoavi.avinashk.threet</td>\n",
       "      <td>Puzzle</td>\n",
       "      <td>4.7</td>\n",
       "      <td>10.0</td>\n",
       "      <td>100+</td>\n",
       "      <td>100.0</td>\n",
       "      <td>173</td>\n",
       "      <td>True</td>\n",
       "      <td>0.0</td>\n",
       "      <td>USD</td>\n",
       "      <td>1.7M</td>\n",
       "      <td>4.4 and up</td>\n",
       "      <td>RentMyTent</td>\n",
       "      <td>NaN</td>\n",
       "      <td>justmailtoavi@gmail.com</td>\n",
       "      <td>Mar 30, 2016</td>\n",
       "      <td>Apr 01, 2016</td>\n",
       "      <td>Everyone</td>\n",
       "      <td>NaN</td>\n",
       "      <td>False</td>\n",
       "      <td>False</td>\n",
       "      <td>False</td>\n",
       "      <td>2021-06-16 12:57:05</td>\n",
       "    </tr>\n",
       "  </tbody>\n",
       "</table>\n",
       "<p>382 rows × 24 columns</p>\n",
       "</div>"
      ],
      "text/plain": [
       "            App Name                             App Id Category  Rating  \\\n",
       "3918     Tic Tac Toe           com.dev.atte.tic_tac_toe   Puzzle     0.0   \n",
       "13758    Tic Tac Toe                   com.md.tictactoe    Board     0.0   \n",
       "25351    Tic Tac Toe        com.sthirumuru.tictactoenew    Board     4.2   \n",
       "28142    Tic Tac Toe               com.fsk00x.TicTacToe    Board     0.0   \n",
       "30962    Tic Tac Toe         net.snatchdreams.tictactoe   Puzzle     0.0   \n",
       "...              ...                                ...      ...     ...   \n",
       "2272773  Tic Tac Toe        com.tictactoe.MobileAppsPro    Board     3.8   \n",
       "2281376  Tic Tac Toe     com.erjainam.tictactoe.release    Board     0.0   \n",
       "2282023  Tic Tac Toe          com.swapworld.tic_tac_toe    Board     4.7   \n",
       "2299121  Tic Tac Toe               com.infuse.tictactoe    Board     4.8   \n",
       "2310375  Tic Tac Toe  com.justmailtoavi.avinashk.threet   Puzzle     4.7   \n",
       "\n",
       "         Rating Count  Installs  Minimum Installs  Maximum Installs  Free  \\\n",
       "3918              0.0       10+              10.0                30  True   \n",
       "13758             0.0       10+              10.0                31  True   \n",
       "25351            11.0    5,000+            5000.0              6379  True   \n",
       "28142             0.0      500+             500.0               922  True   \n",
       "30962             0.0       10+              10.0                38  True   \n",
       "...               ...       ...               ...               ...   ...   \n",
       "2272773        9269.0  500,000+          500000.0            800662  True   \n",
       "2281376           0.0       50+              50.0                50  True   \n",
       "2282023           7.0       10+              10.0                34  True   \n",
       "2299121          20.0      100+             100.0               462  True   \n",
       "2310375          10.0      100+             100.0               173  True   \n",
       "\n",
       "         Price Currency  Size Minimum Android             Developer Id  \\\n",
       "3918       0.0      USD  3.4M      4.0 and up        ATTE AKA FRANCOIS   \n",
       "13758      0.0      USD   34M      4.3 and up      Smart Digital Tools   \n",
       "25351      0.0      USD  7.4M      7.0 and up  Sundeep Reddy Thirumuru   \n",
       "28142      0.0      USD  8.6M      4.1 and up          SteadFast Games   \n",
       "30962      0.0      USD  927k      4.0 and up             SnatchDreams   \n",
       "...        ...      ...   ...             ...                      ...   \n",
       "2272773    0.0      USD  2.3M      2.3 and up          Mobile Apps Pro   \n",
       "2281376    0.0      USD  3.5M      5.0 and up           Jainam Jhaveri   \n",
       "2282023    0.0      USD  5.3M      4.1 and up     Cybertron's Hogwarts   \n",
       "2299121    0.0      USD  2.1M      2.2 and up              Infuse Apps   \n",
       "2310375    0.0      USD  1.7M      4.4 and up               RentMyTent   \n",
       "\n",
       "                                      Developer Website  \\\n",
       "3918                  https://ne2ad32ee.app-ads-txt.com   \n",
       "13758                                               NaN   \n",
       "25351                                               NaN   \n",
       "28142                                               NaN   \n",
       "30962                      https://www.snatchdreams.net   \n",
       "...                                                 ...   \n",
       "2272773                                             NaN   \n",
       "2281376                            https://erjainam.com   \n",
       "2282023  http://prudhvikchirunomula.pythonanywhere.com/   \n",
       "2299121                       http://www.infuseapps.com   \n",
       "2310375                                             NaN   \n",
       "\n",
       "                     Developer Email      Released  Last Updated  \\\n",
       "3918     dev.atte.francois@gmail.com  May 18, 2018  May 18, 2018   \n",
       "13758           msms.zaman@gmail.com   Nov 2, 2020  Nov 18, 2020   \n",
       "25351    sundeep.thirumuru@gmail.com  Apr 13, 2021  Jun 03, 2021   \n",
       "28142          devmethyl@outlook.com  Feb 13, 2020  Feb 13, 2020   \n",
       "30962         snatchdreams@gmail.com  Jul 16, 2017  Oct 16, 2019   \n",
       "...                              ...           ...           ...   \n",
       "2272773           smartyka@gmail.com   Jan 9, 2015  May 20, 2015   \n",
       "2281376     engineerjainam@gmail.com   Sep 2, 2018  Sep 02, 2018   \n",
       "2282023      prudhvik.1996@gmail.com   Sep 4, 2019  Sep 17, 2019   \n",
       "2299121  infuseandroidapps@gmail.com  Jan 18, 2015  Jan 18, 2015   \n",
       "2310375      justmailtoavi@gmail.com  Mar 30, 2016  Apr 01, 2016   \n",
       "\n",
       "        Content Rating                                     Privacy Policy  \\\n",
       "3918          Everyone                                                NaN   \n",
       "13758         Everyone  https://smartdailytools.blogspot.com/2020/09/p...   \n",
       "25351         Everyone                                                NaN   \n",
       "28142         Everyone                                                NaN   \n",
       "30962         Everyone  https://www.snatchdreams.net/privacy/tic-tac-toe/   \n",
       "...                ...                                                ...   \n",
       "2272773       Everyone                  http://mobileappspro.yolasite.com   \n",
       "2281376       Everyone  https://docs.google.com/document/d/1Tyi5D3VxZu...   \n",
       "2282023       Everyone                                                NaN   \n",
       "2299121       Everyone                                                NaN   \n",
       "2310375       Everyone                                                NaN   \n",
       "\n",
       "         Ad Supported  In App Purchases  Editors Choice         Scraped Time  \n",
       "3918             True             False           False  2021-06-15 20:23:22  \n",
       "13758            True             False           False  2021-06-15 20:32:58  \n",
       "25351            True             False           False  2021-06-15 20:44:27  \n",
       "28142            True             False           False  2021-06-15 20:47:17  \n",
       "30962            True             False           False  2021-06-15 20:50:12  \n",
       "...               ...               ...             ...                  ...  \n",
       "2272773          True             False           False  2021-06-16 12:23:56  \n",
       "2281376          True             False           False  2021-06-16 12:31:30  \n",
       "2282023         False             False           False  2021-06-16 12:32:05  \n",
       "2299121          True             False           False  2021-06-16 12:47:11  \n",
       "2310375         False             False           False  2021-06-16 12:57:05  \n",
       "\n",
       "[382 rows x 24 columns]"
      ]
     },
     "execution_count": 18,
     "metadata": {},
     "output_type": "execute_result"
    }
   ],
   "source": [
    "df[df['App Name'] == 'Tic Tac Toe']"
   ]
  },
  {
   "cell_type": "code",
   "execution_count": 19,
   "id": "2294086b",
   "metadata": {
    "execution": {
     "iopub.execute_input": "2022-07-02T16:38:48.747244Z",
     "iopub.status.busy": "2022-07-02T16:38:48.746172Z",
     "iopub.status.idle": "2022-07-02T16:38:49.937504Z",
     "shell.execute_reply": "2022-07-02T16:38:49.936335Z"
    },
    "id": "qF5RNNo4wqZ7",
    "outputId": "95656a19-56d8-4915-d90e-27647af0864c",
    "papermill": {
     "duration": 1.228699,
     "end_time": "2022-07-02T16:38:49.939870",
     "exception": false,
     "start_time": "2022-07-02T16:38:48.711171",
     "status": "completed"
    },
    "tags": []
   },
   "outputs": [
    {
     "data": {
      "text/plain": [
       "False"
      ]
     },
     "execution_count": 19,
     "metadata": {},
     "output_type": "execute_result"
    }
   ],
   "source": [
    "df['App Id'].duplicated().any()"
   ]
  },
  {
   "cell_type": "code",
   "execution_count": 20,
   "id": "8b6e6c44",
   "metadata": {
    "execution": {
     "iopub.execute_input": "2022-07-02T16:38:50.010212Z",
     "iopub.status.busy": "2022-07-02T16:38:50.009843Z",
     "iopub.status.idle": "2022-07-02T16:38:53.599231Z",
     "shell.execute_reply": "2022-07-02T16:38:53.598142Z"
    },
    "id": "xIeyV2p8w5Gi",
    "outputId": "f316b63c-75e3-491a-d2b8-3968c3028256",
    "papermill": {
     "duration": 3.627345,
     "end_time": "2022-07-02T16:38:53.601540",
     "exception": false,
     "start_time": "2022-07-02T16:38:49.974195",
     "status": "completed"
    },
    "tags": []
   },
   "outputs": [
    {
     "data": {
      "text/plain": [
       "com.ishakwe.gakondo                    1\n",
       "com.avai.amp.dewtour                   1\n",
       "com.myhomebuy                          1\n",
       "com.apocalipseescatologia.app          1\n",
       "com.puzzlegame.wordconnect             1\n",
       "                                      ..\n",
       "id.compro.virtualcompetition           1\n",
       "com.fitivity.basketball_point_guard    1\n",
       "smartgr.gardenshower.ideas             1\n",
       "com.euroland.mobiletools.ae_nbad       1\n",
       "com.yyazilim.biliyormusun              1\n",
       "Name: App Id, Length: 2312548, dtype: int64"
      ]
     },
     "execution_count": 20,
     "metadata": {},
     "output_type": "execute_result"
    }
   ],
   "source": [
    "df['App Id'].value_counts()"
   ]
  },
  {
   "cell_type": "markdown",
   "id": "ecd1c0d6",
   "metadata": {
    "id": "lHojgL8nwbR9",
    "papermill": {
     "duration": 0.033672,
     "end_time": "2022-07-02T16:38:53.669182",
     "exception": false,
     "start_time": "2022-07-02T16:38:53.635510",
     "status": "completed"
    },
    "tags": []
   },
   "source": [
    "   \n",
    "1. we have the Apps with the same names but with the unique App IDs so the Apps are differed based on the App IDs"
   ]
  },
  {
   "cell_type": "markdown",
   "id": "41cc7fa1",
   "metadata": {
    "id": "NpXmyR9uy13H",
    "papermill": {
     "duration": 0.033575,
     "end_time": "2022-07-02T16:38:53.736563",
     "exception": false,
     "start_time": "2022-07-02T16:38:53.702988",
     "status": "completed"
    },
    "tags": []
   },
   "source": [
    "## let's Explore the numerical columns\n",
    "\n",
    "\n",
    "\n"
   ]
  },
  {
   "cell_type": "code",
   "execution_count": 21,
   "id": "131b0cdf",
   "metadata": {
    "execution": {
     "iopub.execute_input": "2022-07-02T16:38:53.806519Z",
     "iopub.status.busy": "2022-07-02T16:38:53.806115Z",
     "iopub.status.idle": "2022-07-02T16:38:54.005344Z",
     "shell.execute_reply": "2022-07-02T16:38:54.004182Z"
    },
    "id": "UgIK7q_3v704",
    "outputId": "394437cd-e63b-4ae3-f70e-4521c8276a1b",
    "papermill": {
     "duration": 0.237081,
     "end_time": "2022-07-02T16:38:54.007634",
     "exception": false,
     "start_time": "2022-07-02T16:38:53.770553",
     "status": "completed"
    },
    "tags": []
   },
   "outputs": [
    {
     "data": {
      "text/plain": [
       "array(['10+', '5,000+', '50+', '100+', '1,000+', '500+', '50,000+',\n",
       "       '10,000+', '1+', '500,000+', '100,000+', '5+', '10,000,000+',\n",
       "       '1,000,000+', '5,000,000+', '0+', '100,000,000+', '50,000,000+',\n",
       "       '1,000,000,000+', '500,000,000+', '5,000,000,000+',\n",
       "       '10,000,000,000+'], dtype=object)"
      ]
     },
     "execution_count": 21,
     "metadata": {},
     "output_type": "execute_result"
    }
   ],
   "source": [
    "df['Installs'].unique()"
   ]
  },
  {
   "cell_type": "markdown",
   "id": "2c9d51ad",
   "metadata": {
    "id": "cxLofEG3fV9j",
    "papermill": {
     "duration": 0.033732,
     "end_time": "2022-07-02T16:38:54.075528",
     "exception": false,
     "start_time": "2022-07-02T16:38:54.041796",
     "status": "completed"
    },
    "tags": []
   },
   "source": [
    "It is in the object type, we need to change it into the int type"
   ]
  },
  {
   "cell_type": "code",
   "execution_count": 22,
   "id": "1ccc754f",
   "metadata": {
    "execution": {
     "iopub.execute_input": "2022-07-02T16:38:54.145972Z",
     "iopub.status.busy": "2022-07-02T16:38:54.145325Z",
     "iopub.status.idle": "2022-07-02T16:39:05.672576Z",
     "shell.execute_reply": "2022-07-02T16:39:05.671338Z"
    },
    "id": "KQZRz-pSyH39",
    "papermill": {
     "duration": 11.565667,
     "end_time": "2022-07-02T16:39:05.675135",
     "exception": false,
     "start_time": "2022-07-02T16:38:54.109468",
     "status": "completed"
    },
    "tags": []
   },
   "outputs": [],
   "source": [
    "df['Installs'] = df['Installs'].str.split('+').str[0]    # reomoves the + symbol\n",
    "df['Installs'].replace(',','', regex=True, inplace=True) #replace the commas ',' in the install column\n",
    "df['Installs'] = df['Installs'].astype(int)              # converting it to the int type"
   ]
  },
  {
   "cell_type": "code",
   "execution_count": 23,
   "id": "26c4e918",
   "metadata": {
    "execution": {
     "iopub.execute_input": "2022-07-02T16:39:05.746709Z",
     "iopub.status.busy": "2022-07-02T16:39:05.746074Z",
     "iopub.status.idle": "2022-07-02T16:39:05.767777Z",
     "shell.execute_reply": "2022-07-02T16:39:05.766663Z"
    },
    "id": "qEH-b4Wd0oYg",
    "outputId": "66364d65-9648-4f82-8d36-79f098bf99ab",
    "papermill": {
     "duration": 0.059623,
     "end_time": "2022-07-02T16:39:05.769922",
     "exception": false,
     "start_time": "2022-07-02T16:39:05.710299",
     "status": "completed"
    },
    "tags": []
   },
   "outputs": [
    {
     "data": {
      "text/plain": [
       "array([         10,        5000,          50,         100,        1000,\n",
       "               500,       50000,       10000,           1,      500000,\n",
       "            100000,           5,    10000000,     1000000,     5000000,\n",
       "                 0,   100000000,    50000000,  1000000000,   500000000,\n",
       "        5000000000, 10000000000])"
      ]
     },
     "execution_count": 23,
     "metadata": {},
     "output_type": "execute_result"
    }
   ],
   "source": [
    "df['Installs'].unique()"
   ]
  },
  {
   "cell_type": "code",
   "execution_count": 24,
   "id": "1d41b3ea",
   "metadata": {
    "execution": {
     "iopub.execute_input": "2022-07-02T16:39:05.841761Z",
     "iopub.status.busy": "2022-07-02T16:39:05.841018Z",
     "iopub.status.idle": "2022-07-02T16:39:06.027537Z",
     "shell.execute_reply": "2022-07-02T16:39:06.026445Z"
    },
    "id": "iAFyZytO4HsD",
    "outputId": "c53cf07f-c24e-41de-f6a8-a6ea5d77a8bb",
    "papermill": {
     "duration": 0.225588,
     "end_time": "2022-07-02T16:39:06.030248",
     "exception": false,
     "start_time": "2022-07-02T16:39:05.804660",
     "status": "completed"
    },
    "tags": []
   },
   "outputs": [
    {
     "data": {
      "text/plain": [
       "array(['USD', 'XXX', 'CAD', 'EUR', 'INR', 'VND', 'GBP', 'BRL', 'KRW',\n",
       "       'TRY', 'RUB', 'SGD', 'AUD', 'PKR', 'ZAR'], dtype=object)"
      ]
     },
     "execution_count": 24,
     "metadata": {},
     "output_type": "execute_result"
    }
   ],
   "source": [
    "df['Currency'].unique()"
   ]
  },
  {
   "cell_type": "code",
   "execution_count": 25,
   "id": "c3176f68",
   "metadata": {
    "execution": {
     "iopub.execute_input": "2022-07-02T16:39:06.103113Z",
     "iopub.status.busy": "2022-07-02T16:39:06.102396Z",
     "iopub.status.idle": "2022-07-02T16:39:06.290733Z",
     "shell.execute_reply": "2022-07-02T16:39:06.289612Z"
    },
    "id": "ZKLG6yzq457o",
    "outputId": "9eac64a4-3145-420f-c2dc-02f0629d0185",
    "papermill": {
     "duration": 0.227214,
     "end_time": "2022-07-02T16:39:06.292937",
     "exception": false,
     "start_time": "2022-07-02T16:39:06.065723",
     "status": "completed"
    },
    "tags": []
   },
   "outputs": [
    {
     "data": {
      "text/plain": [
       "array(['10M', '2.9M', '3.7M', ..., '405M', '3.2k', '512M'], dtype=object)"
      ]
     },
     "execution_count": 25,
     "metadata": {},
     "output_type": "execute_result"
    }
   ],
   "source": [
    "df['Size'].unique()"
   ]
  },
  {
   "cell_type": "markdown",
   "id": "987318ef",
   "metadata": {
    "id": "YrxU4VHXF6lu",
    "papermill": {
     "duration": 0.035518,
     "end_time": "2022-07-02T16:39:06.363885",
     "exception": false,
     "start_time": "2022-07-02T16:39:06.328367",
     "status": "completed"
    },
    "tags": []
   },
   "source": [
    "The Size of data can be in GB, MB and KB let's convert the data into the size in MB"
   ]
  },
  {
   "cell_type": "code",
   "execution_count": 26,
   "id": "5cf33038",
   "metadata": {
    "execution": {
     "iopub.execute_input": "2022-07-02T16:39:06.436506Z",
     "iopub.status.busy": "2022-07-02T16:39:06.435867Z",
     "iopub.status.idle": "2022-07-02T16:39:08.214587Z",
     "shell.execute_reply": "2022-07-02T16:39:08.213348Z"
    },
    "id": "eegy_rmGCp-O",
    "papermill": {
     "duration": 1.81752,
     "end_time": "2022-07-02T16:39:08.217357",
     "exception": false,
     "start_time": "2022-07-02T16:39:06.399837",
     "status": "completed"
    },
    "tags": []
   },
   "outputs": [],
   "source": [
    "df['Size'] = df['Size'].apply(lambda x: str(x).replace('M', '') if 'M' in str(x) else x)"
   ]
  },
  {
   "cell_type": "code",
   "execution_count": 27,
   "id": "764b73bb",
   "metadata": {
    "execution": {
     "iopub.execute_input": "2022-07-02T16:39:08.290210Z",
     "iopub.status.busy": "2022-07-02T16:39:08.289251Z",
     "iopub.status.idle": "2022-07-02T16:39:08.293974Z",
     "shell.execute_reply": "2022-07-02T16:39:08.293171Z"
    },
    "id": "yjMEy9PAjaCa",
    "papermill": {
     "duration": 0.043566,
     "end_time": "2022-07-02T16:39:08.296200",
     "exception": false,
     "start_time": "2022-07-02T16:39:08.252634",
     "status": "completed"
    },
    "tags": []
   },
   "outputs": [],
   "source": [
    "#df['Size'] = df['Size'].apply(lambda x: float(str(x).replace('k', '')) / 1000 if 'k' in str(x) else x)"
   ]
  },
  {
   "cell_type": "markdown",
   "id": "c83ad986",
   "metadata": {
    "id": "n_QbzbT3G9Nr",
    "papermill": {
     "duration": 0.034516,
     "end_time": "2022-07-02T16:39:08.368502",
     "exception": false,
     "start_time": "2022-07-02T16:39:08.333986",
     "status": "completed"
    },
    "tags": []
   },
   "source": [
    "here we get a missmatched value with the data\n",
    "we got the value 1,018 we can drop it or we can assume as it may be a '.' (dot) the would incorrectly added to the dataset. so let assume it as dot for now and repalce the ',' with the dot '.'"
   ]
  },
  {
   "cell_type": "code",
   "execution_count": 28,
   "id": "f40ae73c",
   "metadata": {
    "execution": {
     "iopub.execute_input": "2022-07-02T16:39:08.440330Z",
     "iopub.status.busy": "2022-07-02T16:39:08.439918Z",
     "iopub.status.idle": "2022-07-02T16:39:09.424934Z",
     "shell.execute_reply": "2022-07-02T16:39:09.423738Z"
    },
    "id": "CMlwii5PDdLZ",
    "papermill": {
     "duration": 1.024191,
     "end_time": "2022-07-02T16:39:09.427599",
     "exception": false,
     "start_time": "2022-07-02T16:39:08.403408",
     "status": "completed"
    },
    "tags": []
   },
   "outputs": [],
   "source": [
    "df['Size'] = df['Size'].apply(lambda x: str(x).replace(',', '.') if ',' in str(x) else x)"
   ]
  },
  {
   "cell_type": "markdown",
   "id": "5f311cbf",
   "metadata": {
    "id": "SvU2F1n-ISz9",
    "papermill": {
     "duration": 0.03526,
     "end_time": "2022-07-02T16:39:09.498297",
     "exception": false,
     "start_time": "2022-07-02T16:39:09.463037",
     "status": "completed"
    },
    "tags": []
   },
   "source": [
    "conversion of kbs to mb"
   ]
  },
  {
   "cell_type": "code",
   "execution_count": 29,
   "id": "672f2730",
   "metadata": {
    "execution": {
     "iopub.execute_input": "2022-07-02T16:39:09.571895Z",
     "iopub.status.busy": "2022-07-02T16:39:09.571224Z",
     "iopub.status.idle": "2022-07-02T16:39:10.589890Z",
     "shell.execute_reply": "2022-07-02T16:39:10.588872Z"
    },
    "id": "x1i0PAmjDJ8R",
    "papermill": {
     "duration": 1.058333,
     "end_time": "2022-07-02T16:39:10.592405",
     "exception": false,
     "start_time": "2022-07-02T16:39:09.534072",
     "status": "completed"
    },
    "tags": []
   },
   "outputs": [],
   "source": [
    "df['Size'] = df['Size'].apply(lambda x: float(str(x).replace('k', '')) / 1000 if 'k' in str(x) else x)"
   ]
  },
  {
   "cell_type": "code",
   "execution_count": 30,
   "id": "41e3f62a",
   "metadata": {
    "execution": {
     "iopub.execute_input": "2022-07-02T16:39:10.665716Z",
     "iopub.status.busy": "2022-07-02T16:39:10.665042Z",
     "iopub.status.idle": "2022-07-02T16:39:10.669747Z",
     "shell.execute_reply": "2022-07-02T16:39:10.668808Z"
    },
    "id": "bn3flkzsjX5L",
    "papermill": {
     "duration": 0.043351,
     "end_time": "2022-07-02T16:39:10.671875",
     "exception": false,
     "start_time": "2022-07-02T16:39:10.628524",
     "status": "completed"
    },
    "tags": []
   },
   "outputs": [],
   "source": [
    "#df['Size'] = df['Size'].apply(lambda x: float(x))"
   ]
  },
  {
   "cell_type": "markdown",
   "id": "afbff73e",
   "metadata": {
    "id": "uIbnE8ULHd_5",
    "papermill": {
     "duration": 0.034932,
     "end_time": "2022-07-02T16:39:10.741806",
     "exception": false,
     "start_time": "2022-07-02T16:39:10.706874",
     "status": "completed"
    },
    "tags": []
   },
   "source": [
    "we get an another missmatch value in the data set which is 'Varies with device' it means the size of the App may vaies with the device---> but here I am assuming it as 0"
   ]
  },
  {
   "cell_type": "code",
   "execution_count": 31,
   "id": "1b70b9aa",
   "metadata": {
    "execution": {
     "iopub.execute_input": "2022-07-02T16:39:10.814364Z",
     "iopub.status.busy": "2022-07-02T16:39:10.813497Z",
     "iopub.status.idle": "2022-07-02T16:39:11.846292Z",
     "shell.execute_reply": "2022-07-02T16:39:11.844848Z"
    },
    "id": "1UklmUziEEz9",
    "papermill": {
     "duration": 1.072475,
     "end_time": "2022-07-02T16:39:11.849211",
     "exception": false,
     "start_time": "2022-07-02T16:39:10.776736",
     "status": "completed"
    },
    "tags": []
   },
   "outputs": [],
   "source": [
    "df['Size'] = df['Size'].apply(lambda x: str(x).replace('Varies with device', '0') if 'Varies with device' in str(x) else x)"
   ]
  },
  {
   "cell_type": "code",
   "execution_count": 32,
   "id": "448e97fe",
   "metadata": {
    "execution": {
     "iopub.execute_input": "2022-07-02T16:39:11.922875Z",
     "iopub.status.busy": "2022-07-02T16:39:11.921759Z",
     "iopub.status.idle": "2022-07-02T16:39:11.926350Z",
     "shell.execute_reply": "2022-07-02T16:39:11.925552Z"
    },
    "id": "TL0gjS5CEbxP",
    "papermill": {
     "duration": 0.043672,
     "end_time": "2022-07-02T16:39:11.928495",
     "exception": false,
     "start_time": "2022-07-02T16:39:11.884823",
     "status": "completed"
    },
    "tags": []
   },
   "outputs": [],
   "source": [
    "#df['Size'] = df['Size'].apply(lambda x: float(x))"
   ]
  },
  {
   "cell_type": "markdown",
   "id": "69b8b8f7",
   "metadata": {
    "id": "SfVe6H2rIX3D",
    "papermill": {
     "duration": 0.035044,
     "end_time": "2022-07-02T16:39:11.999105",
     "exception": false,
     "start_time": "2022-07-02T16:39:11.964061",
     "status": "completed"
    },
    "tags": []
   },
   "source": [
    "conversion of data Gbs to Mb"
   ]
  },
  {
   "cell_type": "code",
   "execution_count": 33,
   "id": "9c9aee4c",
   "metadata": {
    "execution": {
     "iopub.execute_input": "2022-07-02T16:39:12.072714Z",
     "iopub.status.busy": "2022-07-02T16:39:12.071713Z",
     "iopub.status.idle": "2022-07-02T16:39:13.098708Z",
     "shell.execute_reply": "2022-07-02T16:39:13.097531Z"
    },
    "id": "omd4DHcYEh8e",
    "papermill": {
     "duration": 1.065954,
     "end_time": "2022-07-02T16:39:13.101458",
     "exception": false,
     "start_time": "2022-07-02T16:39:12.035504",
     "status": "completed"
    },
    "tags": []
   },
   "outputs": [],
   "source": [
    "df['Size'] = df['Size'].apply(lambda x: float(str(x).replace('G', '')) * 1000 if 'G' in str(x) else x)"
   ]
  },
  {
   "cell_type": "code",
   "execution_count": 34,
   "id": "232a3db2",
   "metadata": {
    "execution": {
     "iopub.execute_input": "2022-07-02T16:39:13.175753Z",
     "iopub.status.busy": "2022-07-02T16:39:13.175097Z",
     "iopub.status.idle": "2022-07-02T16:39:15.262020Z",
     "shell.execute_reply": "2022-07-02T16:39:15.260750Z"
    },
    "id": "boLBFi1ZEnLW",
    "papermill": {
     "duration": 2.127901,
     "end_time": "2022-07-02T16:39:15.264776",
     "exception": false,
     "start_time": "2022-07-02T16:39:13.136875",
     "status": "completed"
    },
    "tags": []
   },
   "outputs": [],
   "source": [
    "df['Size'] = df['Size'].apply(lambda x: float(x))"
   ]
  },
  {
   "cell_type": "code",
   "execution_count": 35,
   "id": "84f0225f",
   "metadata": {
    "execution": {
     "iopub.execute_input": "2022-07-02T16:39:15.353189Z",
     "iopub.status.busy": "2022-07-02T16:39:15.352796Z",
     "iopub.status.idle": "2022-07-02T16:39:15.360464Z",
     "shell.execute_reply": "2022-07-02T16:39:15.359024Z"
    },
    "id": "-Ij4GSSiDqF6",
    "outputId": "d323803f-e518-45ac-f393-65bb7f40a40a",
    "papermill": {
     "duration": 0.054784,
     "end_time": "2022-07-02T16:39:15.363000",
     "exception": false,
     "start_time": "2022-07-02T16:39:15.308216",
     "status": "completed"
    },
    "tags": []
   },
   "outputs": [
    {
     "data": {
      "text/plain": [
       "dtype('float64')"
      ]
     },
     "execution_count": 35,
     "metadata": {},
     "output_type": "execute_result"
    }
   ],
   "source": [
    "df.dtypes['Size']"
   ]
  },
  {
   "cell_type": "code",
   "execution_count": 36,
   "id": "e5d46b84",
   "metadata": {
    "execution": {
     "iopub.execute_input": "2022-07-02T16:39:15.451962Z",
     "iopub.status.busy": "2022-07-02T16:39:15.451263Z",
     "iopub.status.idle": "2022-07-02T16:39:15.458937Z",
     "shell.execute_reply": "2022-07-02T16:39:15.457816Z"
    },
    "id": "OjRQZcpJJxaH",
    "outputId": "785d3246-9133-4219-ef51-e8c69bf96fd8",
    "papermill": {
     "duration": 0.054719,
     "end_time": "2022-07-02T16:39:15.461173",
     "exception": false,
     "start_time": "2022-07-02T16:39:15.406454",
     "status": "completed"
    },
    "tags": []
   },
   "outputs": [
    {
     "data": {
      "text/plain": [
       "0            7.1 and up\n",
       "1            5.0 and up\n",
       "2          4.0.3 and up\n",
       "3          4.0.3 and up\n",
       "4            4.1 and up\n",
       "               ...     \n",
       "2312939      4.1 and up\n",
       "2312940      4.1 and up\n",
       "2312941      5.0 and up\n",
       "2312942      5.0 and up\n",
       "2312943      5.0 and up\n",
       "Name: Minimum Android, Length: 2312548, dtype: object"
      ]
     },
     "execution_count": 36,
     "metadata": {},
     "output_type": "execute_result"
    }
   ],
   "source": [
    "df['Minimum Android']"
   ]
  },
  {
   "cell_type": "code",
   "execution_count": 37,
   "id": "83a86052",
   "metadata": {
    "execution": {
     "iopub.execute_input": "2022-07-02T16:39:15.548670Z",
     "iopub.status.busy": "2022-07-02T16:39:15.548230Z",
     "iopub.status.idle": "2022-07-02T16:39:15.555888Z",
     "shell.execute_reply": "2022-07-02T16:39:15.555139Z"
    },
    "id": "e-GqJ8Jd6uIC",
    "outputId": "27f85d78-3a21-401f-8b0f-920159cb74ed",
    "papermill": {
     "duration": 0.05271,
     "end_time": "2022-07-02T16:39:15.557718",
     "exception": false,
     "start_time": "2022-07-02T16:39:15.505008",
     "status": "completed"
    },
    "tags": []
   },
   "outputs": [
    {
     "data": {
      "text/plain": [
       "0          Everyone\n",
       "1          Everyone\n",
       "2          Everyone\n",
       "3          Everyone\n",
       "4          Everyone\n",
       "             ...   \n",
       "2312939        Teen\n",
       "2312940    Everyone\n",
       "2312941    Everyone\n",
       "2312942    Everyone\n",
       "2312943    Everyone\n",
       "Name: Content Rating, Length: 2312548, dtype: object"
      ]
     },
     "execution_count": 37,
     "metadata": {},
     "output_type": "execute_result"
    }
   ],
   "source": [
    "df['Content Rating']"
   ]
  },
  {
   "cell_type": "code",
   "execution_count": 38,
   "id": "db7fa354",
   "metadata": {
    "execution": {
     "iopub.execute_input": "2022-07-02T16:39:15.632797Z",
     "iopub.status.busy": "2022-07-02T16:39:15.632412Z",
     "iopub.status.idle": "2022-07-02T16:39:15.640577Z",
     "shell.execute_reply": "2022-07-02T16:39:15.639781Z"
    },
    "id": "-QSoos6x-5iS",
    "outputId": "0af0a524-7fc1-448f-fe1a-740ca8f36894",
    "papermill": {
     "duration": 0.048986,
     "end_time": "2022-07-02T16:39:15.642599",
     "exception": false,
     "start_time": "2022-07-02T16:39:15.593613",
     "status": "completed"
    },
    "tags": []
   },
   "outputs": [
    {
     "data": {
      "text/plain": [
       "0          Feb 26, 2020\n",
       "1          May 21, 2020\n",
       "2           Aug 9, 2019\n",
       "3          Sep 10, 2018\n",
       "4          Feb 21, 2020\n",
       "               ...     \n",
       "2312939             NaN\n",
       "2312940    Jan 17, 2018\n",
       "2312941    Aug 19, 2018\n",
       "2312942     Aug 1, 2016\n",
       "2312943     Aug 9, 2019\n",
       "Name: Released, Length: 2312548, dtype: object"
      ]
     },
     "execution_count": 38,
     "metadata": {},
     "output_type": "execute_result"
    }
   ],
   "source": [
    "df['Released']"
   ]
  },
  {
   "cell_type": "code",
   "execution_count": 39,
   "id": "1f75251f",
   "metadata": {
    "execution": {
     "iopub.execute_input": "2022-07-02T16:39:15.717147Z",
     "iopub.status.busy": "2022-07-02T16:39:15.716432Z",
     "iopub.status.idle": "2022-07-02T16:39:15.725800Z",
     "shell.execute_reply": "2022-07-02T16:39:15.724563Z"
    },
    "id": "P6zNsCDGJOqd",
    "outputId": "aca94191-8261-4500-8bc8-6b205b1dad64",
    "papermill": {
     "duration": 0.04944,
     "end_time": "2022-07-02T16:39:15.728083",
     "exception": false,
     "start_time": "2022-07-02T16:39:15.678643",
     "status": "completed"
    },
    "tags": []
   },
   "outputs": [
    {
     "data": {
      "text/plain": [
       "0          Feb 26, 2020\n",
       "1          May 06, 2021\n",
       "2          Aug 19, 2019\n",
       "3          Oct 13, 2018\n",
       "4          Nov 12, 2018\n",
       "               ...     \n",
       "2312939    Jun 01, 2021\n",
       "2312940    Feb 02, 2018\n",
       "2312941    Aug 19, 2018\n",
       "2312942    May 05, 2021\n",
       "2312943    Aug 19, 2019\n",
       "Name: Last Updated, Length: 2312548, dtype: object"
      ]
     },
     "execution_count": 39,
     "metadata": {},
     "output_type": "execute_result"
    }
   ],
   "source": [
    "df['Last Updated']"
   ]
  },
  {
   "cell_type": "code",
   "execution_count": 40,
   "id": "c11dc387",
   "metadata": {
    "execution": {
     "iopub.execute_input": "2022-07-02T16:39:15.803797Z",
     "iopub.status.busy": "2022-07-02T16:39:15.803106Z",
     "iopub.status.idle": "2022-07-02T16:39:15.811395Z",
     "shell.execute_reply": "2022-07-02T16:39:15.810357Z"
    },
    "id": "IhX85BoqKbxq",
    "outputId": "ae50dcb4-286f-4c81-c5ac-22461e4dae30",
    "papermill": {
     "duration": 0.048815,
     "end_time": "2022-07-02T16:39:15.813609",
     "exception": false,
     "start_time": "2022-07-02T16:39:15.764794",
     "status": "completed"
    },
    "tags": []
   },
   "outputs": [
    {
     "data": {
      "text/plain": [
       "0                         https://beniyizibyose.tk/projects/\n",
       "1          https://dev4phones.wordpress.com/licencia-de-uso/\n",
       "2          https://www.vietnamairlines.com/vn/en/terms-an...\n",
       "3                                                        NaN\n",
       "4                                http://www.horodyski.com.pl\n",
       "                                 ...                        \n",
       "2312939               http://a.4399sy.com.hk/user/aggreement\n",
       "2312940      http://www.oru.edu/about-oru/privacy-policy.php\n",
       "2312941    https://appoworld.000webhostapp.com/datastruct...\n",
       "2312942    https://docs.google.com/document/d/1x-9reZuLRX...\n",
       "2312943    https://biliyor-musun-sons.flycricket.io/priva...\n",
       "Name: Privacy Policy, Length: 2312548, dtype: object"
      ]
     },
     "execution_count": 40,
     "metadata": {},
     "output_type": "execute_result"
    }
   ],
   "source": [
    "df['Privacy Policy']"
   ]
  },
  {
   "cell_type": "code",
   "execution_count": 41,
   "id": "e327d772",
   "metadata": {
    "execution": {
     "iopub.execute_input": "2022-07-02T16:39:15.888372Z",
     "iopub.status.busy": "2022-07-02T16:39:15.887588Z",
     "iopub.status.idle": "2022-07-02T16:39:15.895442Z",
     "shell.execute_reply": "2022-07-02T16:39:15.894608Z"
    },
    "id": "zCWg8fYcKqNR",
    "outputId": "d671cd67-3011-428b-c81c-b0a57d66907e",
    "papermill": {
     "duration": 0.047488,
     "end_time": "2022-07-02T16:39:15.897655",
     "exception": false,
     "start_time": "2022-07-02T16:39:15.850167",
     "status": "completed"
    },
    "tags": []
   },
   "outputs": [
    {
     "data": {
      "text/plain": [
       "0          2021-06-15 20:19:35\n",
       "1          2021-06-15 20:19:35\n",
       "2          2021-06-15 20:19:35\n",
       "3          2021-06-15 20:19:35\n",
       "4          2021-06-15 20:19:35\n",
       "                  ...         \n",
       "2312939    2021-06-16 12:59:18\n",
       "2312940    2021-06-16 12:59:19\n",
       "2312941    2021-06-16 12:59:19\n",
       "2312942    2021-06-16 12:59:19\n",
       "2312943    2021-06-16 12:59:19\n",
       "Name: Scraped Time, Length: 2312548, dtype: object"
      ]
     },
     "execution_count": 41,
     "metadata": {},
     "output_type": "execute_result"
    }
   ],
   "source": [
    "df['Scraped Time']"
   ]
  },
  {
   "cell_type": "code",
   "execution_count": 42,
   "id": "0ef39913",
   "metadata": {
    "execution": {
     "iopub.execute_input": "2022-07-02T16:39:15.974666Z",
     "iopub.status.busy": "2022-07-02T16:39:15.974257Z",
     "iopub.status.idle": "2022-07-02T16:39:15.982543Z",
     "shell.execute_reply": "2022-07-02T16:39:15.981722Z"
    },
    "id": "0HslnU9ejCaz",
    "outputId": "c1e86ed5-e6de-4f4b-d6ce-dfc41ce18651",
    "papermill": {
     "duration": 0.048729,
     "end_time": "2022-07-02T16:39:15.984474",
     "exception": false,
     "start_time": "2022-07-02T16:39:15.935745",
     "status": "completed"
    },
    "tags": []
   },
   "outputs": [
    {
     "data": {
      "text/plain": [
       "0          True\n",
       "1          True\n",
       "2          True\n",
       "3          True\n",
       "4          True\n",
       "           ... \n",
       "2312939    True\n",
       "2312940    True\n",
       "2312941    True\n",
       "2312942    True\n",
       "2312943    True\n",
       "Name: Free, Length: 2312548, dtype: bool"
      ]
     },
     "execution_count": 42,
     "metadata": {},
     "output_type": "execute_result"
    }
   ],
   "source": [
    "df['Free']"
   ]
  },
  {
   "cell_type": "markdown",
   "id": "53e2f59c",
   "metadata": {
    "id": "x6qL6TV_1lHl",
    "papermill": {
     "duration": 0.036474,
     "end_time": "2022-07-02T16:39:16.057940",
     "exception": false,
     "start_time": "2022-07-02T16:39:16.021466",
     "status": "completed"
    },
    "tags": []
   },
   "source": [
    "Creataing the column type for free and paid Apps by using the Free column, it's helpfull while dealing with the paid and Free Apps"
   ]
  },
  {
   "cell_type": "code",
   "execution_count": 43,
   "id": "8ef7ba31",
   "metadata": {
    "execution": {
     "iopub.execute_input": "2022-07-02T16:39:16.133768Z",
     "iopub.status.busy": "2022-07-02T16:39:16.132974Z",
     "iopub.status.idle": "2022-07-02T16:39:18.374487Z",
     "shell.execute_reply": "2022-07-02T16:39:18.373257Z"
    },
    "id": "FnMHGkHP1Nry",
    "papermill": {
     "duration": 2.28246,
     "end_time": "2022-07-02T16:39:18.377257",
     "exception": false,
     "start_time": "2022-07-02T16:39:16.094797",
     "status": "completed"
    },
    "tags": []
   },
   "outputs": [],
   "source": [
    "df['Type'] = np.where(df['Free'] == True,'Free','Paid')\n",
    "df.drop(['Free'],axis=1, inplace= True )"
   ]
  },
  {
   "cell_type": "markdown",
   "id": "148837ec",
   "metadata": {
    "id": "PfM4a8IiLoNu",
    "papermill": {
     "duration": 0.036429,
     "end_time": "2022-07-02T16:39:18.450950",
     "exception": false,
     "start_time": "2022-07-02T16:39:18.414521",
     "status": "completed"
    },
    "tags": []
   },
   "source": [
    "let's clean the Content Rating column"
   ]
  },
  {
   "cell_type": "code",
   "execution_count": 44,
   "id": "8cced3d6",
   "metadata": {
    "execution": {
     "iopub.execute_input": "2022-07-02T16:39:18.525745Z",
     "iopub.status.busy": "2022-07-02T16:39:18.525380Z",
     "iopub.status.idle": "2022-07-02T16:39:18.702230Z",
     "shell.execute_reply": "2022-07-02T16:39:18.701467Z"
    },
    "id": "I-Zmx5DCK6w0",
    "outputId": "5445df15-d411-45e5-ca4c-0c17e049a8fb",
    "papermill": {
     "duration": 0.216752,
     "end_time": "2022-07-02T16:39:18.704257",
     "exception": false,
     "start_time": "2022-07-02T16:39:18.487505",
     "status": "completed"
    },
    "tags": []
   },
   "outputs": [
    {
     "data": {
      "text/plain": [
       "array(['Everyone', 'Teen', 'Mature 17+', 'Everyone 10+',\n",
       "       'Adults only 18+', 'Unrated'], dtype=object)"
      ]
     },
     "execution_count": 44,
     "metadata": {},
     "output_type": "execute_result"
    }
   ],
   "source": [
    "df['Content Rating'].unique()"
   ]
  },
  {
   "cell_type": "code",
   "execution_count": 45,
   "id": "dd51103d",
   "metadata": {
    "execution": {
     "iopub.execute_input": "2022-07-02T16:39:18.780495Z",
     "iopub.status.busy": "2022-07-02T16:39:18.780070Z",
     "iopub.status.idle": "2022-07-02T16:39:19.150682Z",
     "shell.execute_reply": "2022-07-02T16:39:19.149865Z"
    },
    "id": "5W0lvkvVLyzd",
    "outputId": "88be1ffd-3bae-45ba-e001-837a618d48fb",
    "papermill": {
     "duration": 0.411289,
     "end_time": "2022-07-02T16:39:19.152635",
     "exception": false,
     "start_time": "2022-07-02T16:39:18.741346",
     "status": "completed"
    },
    "tags": []
   },
   "outputs": [
    {
     "data": {
      "text/plain": [
       "Everyone           2021788\n",
       "Teen                196311\n",
       "Mature 17+           60278\n",
       "Everyone 10+         33881\n",
       "Unrated                154\n",
       "Adults only 18+        136\n",
       "Name: Content Rating, dtype: int64"
      ]
     },
     "execution_count": 45,
     "metadata": {},
     "output_type": "execute_result"
    }
   ],
   "source": [
    "df['Content Rating'].value_counts()"
   ]
  },
  {
   "cell_type": "markdown",
   "id": "a202cc28",
   "metadata": {
    "id": "HsHRUnkTMOol",
    "papermill": {
     "duration": 0.038122,
     "end_time": "2022-07-02T16:39:19.229010",
     "exception": false,
     "start_time": "2022-07-02T16:39:19.190888",
     "status": "completed"
    },
    "tags": []
   },
   "source": [
    "## Observation :     \n",
    "1. we have varies Categories in the content Rating column :    \n",
    "   * Everyone\n",
    "   * Teen\n",
    "   * Mature 17+\n",
    "   * Everyone 10+\n",
    "   * Unrated\n",
    "   * Adults only 18+             \n",
    "\n",
    "Now, we makes this Categories to a simple 3 Categories for better understanding :     \n",
    "   Everyone, Teen, Adults\n",
    "    \n",
    "   * Mature 17+   ----> to Adults\n",
    "   * Everyone 10+ ----> to Teen\n",
    "   * Unrated      ----> to Everyone\n",
    "   * Adults only 18+ -> to Adults "
   ]
  },
  {
   "cell_type": "code",
   "execution_count": 46,
   "id": "3ca590bf",
   "metadata": {
    "execution": {
     "iopub.execute_input": "2022-07-02T16:39:19.306770Z",
     "iopub.status.busy": "2022-07-02T16:39:19.306366Z",
     "iopub.status.idle": "2022-07-02T16:39:19.807905Z",
     "shell.execute_reply": "2022-07-02T16:39:19.806961Z"
    },
    "id": "Q98ypU5iOZHO",
    "papermill": {
     "duration": 0.543454,
     "end_time": "2022-07-02T16:39:19.810534",
     "exception": false,
     "start_time": "2022-07-02T16:39:19.267080",
     "status": "completed"
    },
    "tags": []
   },
   "outputs": [],
   "source": [
    "df[\"Content Rating\"]=df[\"Content Rating\"].replace(\"Unrated\",\"Everyone\")\n",
    "df[\"Content Rating\"]=df[\"Content Rating\"].replace(\"Everyone 10+\",\"Teen\")\n",
    "df[\"Content Rating\"]=df[\"Content Rating\"].replace(\"Mature 17+\",\"Adults\")\n",
    "df[\"Content Rating\"]=df[\"Content Rating\"].replace(\"Adults only 18+\",\"Adults\")"
   ]
  },
  {
   "cell_type": "code",
   "execution_count": 47,
   "id": "9501ed9b",
   "metadata": {
    "execution": {
     "iopub.execute_input": "2022-07-02T16:39:19.887394Z",
     "iopub.status.busy": "2022-07-02T16:39:19.886971Z",
     "iopub.status.idle": "2022-07-02T16:39:20.063008Z",
     "shell.execute_reply": "2022-07-02T16:39:20.061900Z"
    },
    "id": "ZXZVWgtiOgxE",
    "outputId": "fdff2453-2b53-4967-e78c-bf775980c78d",
    "papermill": {
     "duration": 0.217273,
     "end_time": "2022-07-02T16:39:20.065440",
     "exception": false,
     "start_time": "2022-07-02T16:39:19.848167",
     "status": "completed"
    },
    "tags": []
   },
   "outputs": [
    {
     "data": {
      "text/plain": [
       "array(['Everyone', 'Teen', 'Adults'], dtype=object)"
      ]
     },
     "execution_count": 47,
     "metadata": {},
     "output_type": "execute_result"
    }
   ],
   "source": [
    "df['Content Rating'].unique()"
   ]
  },
  {
   "cell_type": "code",
   "execution_count": 48,
   "id": "e4fbbb67",
   "metadata": {
    "execution": {
     "iopub.execute_input": "2022-07-02T16:39:20.143390Z",
     "iopub.status.busy": "2022-07-02T16:39:20.142501Z",
     "iopub.status.idle": "2022-07-02T16:39:20.156323Z",
     "shell.execute_reply": "2022-07-02T16:39:20.154359Z"
    },
    "id": "UvBmY5v6MFWa",
    "outputId": "2f3e87eb-3b55-4fe8-8801-5a36ed36b1fd",
    "papermill": {
     "duration": 0.055345,
     "end_time": "2022-07-02T16:39:20.158638",
     "exception": false,
     "start_time": "2022-07-02T16:39:20.103293",
     "status": "completed"
    },
    "tags": []
   },
   "outputs": [
    {
     "name": "stdout",
     "output_type": "stream",
     "text": [
      "<class 'pandas.core.frame.DataFrame'>\n",
      "Int64Index: 2312548 entries, 0 to 2312943\n",
      "Data columns (total 24 columns):\n",
      " #   Column             Dtype  \n",
      "---  ------             -----  \n",
      " 0   App Name           object \n",
      " 1   App Id             object \n",
      " 2   Category           object \n",
      " 3   Rating             float64\n",
      " 4   Rating Count       float64\n",
      " 5   Installs           int64  \n",
      " 6   Minimum Installs   float64\n",
      " 7   Maximum Installs   int64  \n",
      " 8   Price              float64\n",
      " 9   Currency           object \n",
      " 10  Size               float64\n",
      " 11  Minimum Android    object \n",
      " 12  Developer Id       object \n",
      " 13  Developer Website  object \n",
      " 14  Developer Email    object \n",
      " 15  Released           object \n",
      " 16  Last Updated       object \n",
      " 17  Content Rating     object \n",
      " 18  Privacy Policy     object \n",
      " 19  Ad Supported       bool   \n",
      " 20  In App Purchases   bool   \n",
      " 21  Editors Choice     bool   \n",
      " 22  Scraped Time       object \n",
      " 23  Type               object \n",
      "dtypes: bool(3), float64(5), int64(2), object(14)\n",
      "memory usage: 394.8+ MB\n"
     ]
    }
   ],
   "source": [
    "df.info()"
   ]
  },
  {
   "cell_type": "code",
   "execution_count": 49,
   "id": "a974a4eb",
   "metadata": {
    "execution": {
     "iopub.execute_input": "2022-07-02T16:39:20.237614Z",
     "iopub.status.busy": "2022-07-02T16:39:20.237186Z",
     "iopub.status.idle": "2022-07-02T16:39:20.276288Z",
     "shell.execute_reply": "2022-07-02T16:39:20.275384Z"
    },
    "id": "U0l0KuhiT6ZT",
    "outputId": "4492bd02-6c6c-4199-b0a5-37d1e683ea30",
    "papermill": {
     "duration": 0.081196,
     "end_time": "2022-07-02T16:39:20.278340",
     "exception": false,
     "start_time": "2022-07-02T16:39:20.197144",
     "status": "completed"
    },
    "tags": []
   },
   "outputs": [
    {
     "data": {
      "text/plain": [
       "array([0. , 4.4, 5. , 4.5, 2. , 4.7, 4.9, 3.9, 3.7, 4.2, 3.4, 3.8, 4.6,\n",
       "       4.1, 2.5, 2.3, 2.1, 2.7, 4.3, 3.1, 4.8, 3.3, 4. , 2.4, 3.2, 3.6,\n",
       "       2.6, nan, 1.5, 3.5, 2.9, 1.3, 2.8, 3. , 2.2, 1.8, 1.4, 1.2, 1.9,\n",
       "       1.7, 1.6, 1. , 1.1])"
      ]
     },
     "execution_count": 49,
     "metadata": {},
     "output_type": "execute_result"
    }
   ],
   "source": [
    "df['Rating'].unique()"
   ]
  },
  {
   "cell_type": "code",
   "execution_count": 50,
   "id": "8fc07f92",
   "metadata": {
    "execution": {
     "iopub.execute_input": "2022-07-02T16:39:20.355596Z",
     "iopub.status.busy": "2022-07-02T16:39:20.355218Z",
     "iopub.status.idle": "2022-07-02T16:39:20.399447Z",
     "shell.execute_reply": "2022-07-02T16:39:20.398359Z"
    },
    "id": "ZyMZ9goSUXdx",
    "outputId": "dc5c7488-a40d-42d9-c5d7-627286366e41",
    "papermill": {
     "duration": 0.085825,
     "end_time": "2022-07-02T16:39:20.402188",
     "exception": false,
     "start_time": "2022-07-02T16:39:20.316363",
     "status": "completed"
    },
    "tags": []
   },
   "outputs": [
    {
     "data": {
      "text/plain": [
       "array([0.0000e+00, 6.4000e+01, 5.0000e+00, ..., 8.7553e+04, 7.5960e+04,\n",
       "       7.8351e+04])"
      ]
     },
     "execution_count": 50,
     "metadata": {},
     "output_type": "execute_result"
    }
   ],
   "source": [
    "df['Rating Count'].unique()"
   ]
  },
  {
   "cell_type": "markdown",
   "id": "b797332e",
   "metadata": {
    "id": "hXoRl5y8VWEl",
    "papermill": {
     "duration": 0.037744,
     "end_time": "2022-07-02T16:39:20.478715",
     "exception": false,
     "start_time": "2022-07-02T16:39:20.440971",
     "status": "completed"
    },
    "tags": []
   },
   "source": [
    "let's change the Rating Count to certain ranges for the better understanding the data"
   ]
  },
  {
   "cell_type": "code",
   "execution_count": 51,
   "id": "86b43bc2",
   "metadata": {
    "execution": {
     "iopub.execute_input": "2022-07-02T16:39:20.558035Z",
     "iopub.status.busy": "2022-07-02T16:39:20.557657Z",
     "iopub.status.idle": "2022-07-02T16:39:20.576968Z",
     "shell.execute_reply": "2022-07-02T16:39:20.575899Z"
    },
    "id": "f2g7PSKHV_6p",
    "outputId": "71774cf9-b671-4760-9271-cfaeee89d5b5",
    "papermill": {
     "duration": 0.06249,
     "end_time": "2022-07-02T16:39:20.579339",
     "exception": false,
     "start_time": "2022-07-02T16:39:20.516849",
     "status": "completed"
    },
    "tags": []
   },
   "outputs": [
    {
     "data": {
      "text/plain": [
       "138557570.0"
      ]
     },
     "execution_count": 51,
     "metadata": {},
     "output_type": "execute_result"
    }
   ],
   "source": [
    "df['Rating Count'].max()"
   ]
  },
  {
   "cell_type": "code",
   "execution_count": 52,
   "id": "26867d7a",
   "metadata": {
    "execution": {
     "iopub.execute_input": "2022-07-02T16:39:20.657362Z",
     "iopub.status.busy": "2022-07-02T16:39:20.656946Z",
     "iopub.status.idle": "2022-07-02T16:39:21.084060Z",
     "shell.execute_reply": "2022-07-02T16:39:21.083209Z"
    },
    "id": "bQ3BkWO4UjLP",
    "outputId": "0aad1523-28b4-49f4-93ba-77230e42f3a1",
    "papermill": {
     "duration": 0.469127,
     "end_time": "2022-07-02T16:39:21.086608",
     "exception": false,
     "start_time": "2022-07-02T16:39:20.617481",
     "status": "completed"
    },
    "tags": []
   },
   "outputs": [
    {
     "data": {
      "text/plain": [
       "Less than 10K           1192801\n",
       "NoRatingProvided        1082303\n",
       "Between 10K and 500K      35779\n",
       "More than 500K             1665\n",
       "Name: Rating Type, dtype: int64"
      ]
     },
     "execution_count": 52,
     "metadata": {},
     "output_type": "execute_result"
    }
   ],
   "source": [
    "df['Rating Type'] = 'NoRatingProvided'\n",
    "df.loc[(df['Rating Count'] > 0) & (df['Rating Count'] <= 10000.0),'Rating Type'] = 'Less than 10K'\n",
    "df.loc[(df['Rating Count'] > 10000) & (df['Rating Count'] <= 500000.0),'Rating Type'] = 'Between 10K and 500K'\n",
    "df.loc[(df['Rating Count'] > 500000) & (df['Rating Count'] <= 138557570.0),'Rating Type'] = 'More than 500K'\n",
    "df['Rating Type'].value_counts()"
   ]
  },
  {
   "cell_type": "code",
   "execution_count": 53,
   "id": "582332aa",
   "metadata": {
    "execution": {
     "iopub.execute_input": "2022-07-02T16:39:21.167921Z",
     "iopub.status.busy": "2022-07-02T16:39:21.167188Z",
     "iopub.status.idle": "2022-07-02T16:39:21.174891Z",
     "shell.execute_reply": "2022-07-02T16:39:21.173848Z"
    },
    "id": "wlMIJP6Xr-8c",
    "outputId": "199abfcc-006b-421c-ee49-306e27202a52",
    "papermill": {
     "duration": 0.05041,
     "end_time": "2022-07-02T16:39:21.177002",
     "exception": false,
     "start_time": "2022-07-02T16:39:21.126592",
     "status": "completed"
    },
    "tags": []
   },
   "outputs": [
    {
     "data": {
      "text/plain": [
       "0              NoRatingProvided\n",
       "1                 Less than 10K\n",
       "2              NoRatingProvided\n",
       "3                 Less than 10K\n",
       "4              NoRatingProvided\n",
       "                   ...         \n",
       "2312939    Between 10K and 500K\n",
       "2312940        NoRatingProvided\n",
       "2312941        NoRatingProvided\n",
       "2312942           Less than 10K\n",
       "2312943           Less than 10K\n",
       "Name: Rating Type, Length: 2312548, dtype: object"
      ]
     },
     "execution_count": 53,
     "metadata": {},
     "output_type": "execute_result"
    }
   ],
   "source": [
    "df['Rating Type']"
   ]
  },
  {
   "cell_type": "code",
   "execution_count": 54,
   "id": "2884ee34",
   "metadata": {
    "execution": {
     "iopub.execute_input": "2022-07-02T16:39:21.256426Z",
     "iopub.status.busy": "2022-07-02T16:39:21.255643Z",
     "iopub.status.idle": "2022-07-02T16:39:21.269596Z",
     "shell.execute_reply": "2022-07-02T16:39:21.267565Z"
    },
    "id": "HDeoZ7cMWW4b",
    "outputId": "4a5fedd2-9288-4d50-d5d0-30953b886b02",
    "papermill": {
     "duration": 0.056284,
     "end_time": "2022-07-02T16:39:21.272041",
     "exception": false,
     "start_time": "2022-07-02T16:39:21.215757",
     "status": "completed"
    },
    "tags": []
   },
   "outputs": [
    {
     "name": "stdout",
     "output_type": "stream",
     "text": [
      "<class 'pandas.core.frame.DataFrame'>\n",
      "Int64Index: 2312548 entries, 0 to 2312943\n",
      "Data columns (total 25 columns):\n",
      " #   Column             Dtype  \n",
      "---  ------             -----  \n",
      " 0   App Name           object \n",
      " 1   App Id             object \n",
      " 2   Category           object \n",
      " 3   Rating             float64\n",
      " 4   Rating Count       float64\n",
      " 5   Installs           int64  \n",
      " 6   Minimum Installs   float64\n",
      " 7   Maximum Installs   int64  \n",
      " 8   Price              float64\n",
      " 9   Currency           object \n",
      " 10  Size               float64\n",
      " 11  Minimum Android    object \n",
      " 12  Developer Id       object \n",
      " 13  Developer Website  object \n",
      " 14  Developer Email    object \n",
      " 15  Released           object \n",
      " 16  Last Updated       object \n",
      " 17  Content Rating     object \n",
      " 18  Privacy Policy     object \n",
      " 19  Ad Supported       bool   \n",
      " 20  In App Purchases   bool   \n",
      " 21  Editors Choice     bool   \n",
      " 22  Scraped Time       object \n",
      " 23  Type               object \n",
      " 24  Rating Type        object \n",
      "dtypes: bool(3), float64(5), int64(2), object(15)\n",
      "memory usage: 412.4+ MB\n"
     ]
    }
   ],
   "source": [
    "df.info()"
   ]
  },
  {
   "cell_type": "markdown",
   "id": "945a97eb",
   "metadata": {
    "id": "c7tZVuBKZRZh",
    "papermill": {
     "duration": 0.038483,
     "end_time": "2022-07-02T16:39:21.349588",
     "exception": false,
     "start_time": "2022-07-02T16:39:21.311105",
     "status": "completed"
    },
    "tags": []
   },
   "source": [
    "# Question and Aswers :              \n",
    "\n",
    "\n",
    "*  What are the top 10 Categories that are installed from the Google Play Store ?\n",
    "*  Which are the Categories that are getting installed the most in top 10 Categories?\n",
    "*  What is the higest rated Category ?\n",
    "\n",
    "*  Which Category has the highest Paid and Free apps ?\n",
    "*  How does the size of the Application impacts the Installation ?\n",
    "\n",
    "*  What are the Top 5 Paid Apps based With highest ratings and installs ?\n",
    "*  What are the Top 5 Free Apps based With highest      ratings and installs ?\n",
    "\n"
   ]
  },
  {
   "cell_type": "markdown",
   "id": "55f31fb9",
   "metadata": {
    "id": "KIvGBRqsaHIE",
    "papermill": {
     "duration": 0.03899,
     "end_time": "2022-07-02T16:39:21.427964",
     "exception": false,
     "start_time": "2022-07-02T16:39:21.388974",
     "status": "completed"
    },
    "tags": []
   },
   "source": [
    "## Q - What are the top 10 Categories that are installed from the Google Play Store ?"
   ]
  },
  {
   "cell_type": "code",
   "execution_count": 55,
   "id": "33adcc32",
   "metadata": {
    "execution": {
     "iopub.execute_input": "2022-07-02T16:39:21.508482Z",
     "iopub.status.busy": "2022-07-02T16:39:21.507399Z",
     "iopub.status.idle": "2022-07-02T16:39:21.712740Z",
     "shell.execute_reply": "2022-07-02T16:39:21.711582Z"
    },
    "id": "qRoA5P33ZRI2",
    "outputId": "809a31ec-f269-4c77-9a89-1f9d19eae874",
    "papermill": {
     "duration": 0.248365,
     "end_time": "2022-07-02T16:39:21.715382",
     "exception": false,
     "start_time": "2022-07-02T16:39:21.467017",
     "status": "completed"
    },
    "tags": []
   },
   "outputs": [
    {
     "data": {
      "text/plain": [
       "array(['Adventure', 'Tools', 'Productivity', 'Communication', 'Social',\n",
       "       'Libraries & Demo', 'Lifestyle', 'Personalization', 'Racing',\n",
       "       'Maps & Navigation', 'Travel & Local', 'Food & Drink',\n",
       "       'Books & Reference', 'Medical', 'Puzzle', 'Entertainment',\n",
       "       'Arcade', 'Auto & Vehicles', 'Photography', 'Health & Fitness',\n",
       "       'Education', 'Shopping', 'Board', 'Music & Audio', 'Sports',\n",
       "       'Beauty', 'Business', 'Educational', 'Finance', 'News & Magazines',\n",
       "       'Casual', 'Art & Design', 'House & Home', 'Card', 'Events',\n",
       "       'Trivia', 'Weather', 'Strategy', 'Word', 'Video Players & Editors',\n",
       "       'Action', 'Simulation', 'Music', 'Dating', 'Role Playing',\n",
       "       'Casino', 'Comics', 'Parenting'], dtype=object)"
      ]
     },
     "execution_count": 55,
     "metadata": {},
     "output_type": "execute_result"
    }
   ],
   "source": [
    "df['Category'].unique()"
   ]
  },
  {
   "cell_type": "code",
   "execution_count": 56,
   "id": "561ed2d4",
   "metadata": {
    "execution": {
     "iopub.execute_input": "2022-07-02T16:39:21.796942Z",
     "iopub.status.busy": "2022-07-02T16:39:21.796166Z",
     "iopub.status.idle": "2022-07-02T16:39:22.178058Z",
     "shell.execute_reply": "2022-07-02T16:39:22.176831Z"
    },
    "id": "EW2VwnEIZRGB",
    "papermill": {
     "duration": 0.424977,
     "end_time": "2022-07-02T16:39:22.180311",
     "exception": false,
     "start_time": "2022-07-02T16:39:21.755334",
     "status": "completed"
    },
    "tags": []
   },
   "outputs": [],
   "source": [
    "top_Category = df.Category.value_counts().reset_index().rename(columns={'Category':'Count','index':'Category'})"
   ]
  },
  {
   "cell_type": "code",
   "execution_count": 57,
   "id": "faced6d2",
   "metadata": {
    "execution": {
     "iopub.execute_input": "2022-07-02T16:39:22.261211Z",
     "iopub.status.busy": "2022-07-02T16:39:22.260357Z",
     "iopub.status.idle": "2022-07-02T16:39:22.273589Z",
     "shell.execute_reply": "2022-07-02T16:39:22.272524Z"
    },
    "id": "Ia9Ce1jTZRDn",
    "outputId": "c43879bc-ebd4-430a-f525-1592d140a38b",
    "papermill": {
     "duration": 0.05641,
     "end_time": "2022-07-02T16:39:22.275885",
     "exception": false,
     "start_time": "2022-07-02T16:39:22.219475",
     "status": "completed"
    },
    "tags": []
   },
   "outputs": [
    {
     "data": {
      "text/html": [
       "<div>\n",
       "<style scoped>\n",
       "    .dataframe tbody tr th:only-of-type {\n",
       "        vertical-align: middle;\n",
       "    }\n",
       "\n",
       "    .dataframe tbody tr th {\n",
       "        vertical-align: top;\n",
       "    }\n",
       "\n",
       "    .dataframe thead th {\n",
       "        text-align: right;\n",
       "    }\n",
       "</style>\n",
       "<table border=\"1\" class=\"dataframe\">\n",
       "  <thead>\n",
       "    <tr style=\"text-align: right;\">\n",
       "      <th></th>\n",
       "      <th>Category</th>\n",
       "      <th>Count</th>\n",
       "    </tr>\n",
       "  </thead>\n",
       "  <tbody>\n",
       "    <tr>\n",
       "      <th>0</th>\n",
       "      <td>Education</td>\n",
       "      <td>241068</td>\n",
       "    </tr>\n",
       "    <tr>\n",
       "      <th>1</th>\n",
       "      <td>Music &amp; Audio</td>\n",
       "      <td>154897</td>\n",
       "    </tr>\n",
       "    <tr>\n",
       "      <th>2</th>\n",
       "      <td>Tools</td>\n",
       "      <td>143971</td>\n",
       "    </tr>\n",
       "    <tr>\n",
       "      <th>3</th>\n",
       "      <td>Business</td>\n",
       "      <td>143749</td>\n",
       "    </tr>\n",
       "    <tr>\n",
       "      <th>4</th>\n",
       "      <td>Entertainment</td>\n",
       "      <td>138261</td>\n",
       "    </tr>\n",
       "    <tr>\n",
       "      <th>5</th>\n",
       "      <td>Lifestyle</td>\n",
       "      <td>118321</td>\n",
       "    </tr>\n",
       "    <tr>\n",
       "      <th>6</th>\n",
       "      <td>Books &amp; Reference</td>\n",
       "      <td>116716</td>\n",
       "    </tr>\n",
       "    <tr>\n",
       "      <th>7</th>\n",
       "      <td>Personalization</td>\n",
       "      <td>89207</td>\n",
       "    </tr>\n",
       "    <tr>\n",
       "      <th>8</th>\n",
       "      <td>Health &amp; Fitness</td>\n",
       "      <td>83497</td>\n",
       "    </tr>\n",
       "    <tr>\n",
       "      <th>9</th>\n",
       "      <td>Productivity</td>\n",
       "      <td>79681</td>\n",
       "    </tr>\n",
       "    <tr>\n",
       "      <th>10</th>\n",
       "      <td>Shopping</td>\n",
       "      <td>75240</td>\n",
       "    </tr>\n",
       "    <tr>\n",
       "      <th>11</th>\n",
       "      <td>Food &amp; Drink</td>\n",
       "      <td>73918</td>\n",
       "    </tr>\n",
       "    <tr>\n",
       "      <th>12</th>\n",
       "      <td>Travel &amp; Local</td>\n",
       "      <td>67279</td>\n",
       "    </tr>\n",
       "    <tr>\n",
       "      <th>13</th>\n",
       "      <td>Finance</td>\n",
       "      <td>65450</td>\n",
       "    </tr>\n",
       "    <tr>\n",
       "      <th>14</th>\n",
       "      <td>Arcade</td>\n",
       "      <td>53779</td>\n",
       "    </tr>\n",
       "    <tr>\n",
       "      <th>15</th>\n",
       "      <td>Puzzle</td>\n",
       "      <td>51151</td>\n",
       "    </tr>\n",
       "    <tr>\n",
       "      <th>16</th>\n",
       "      <td>Casual</td>\n",
       "      <td>50790</td>\n",
       "    </tr>\n",
       "    <tr>\n",
       "      <th>17</th>\n",
       "      <td>Communication</td>\n",
       "      <td>48157</td>\n",
       "    </tr>\n",
       "    <tr>\n",
       "      <th>18</th>\n",
       "      <td>Sports</td>\n",
       "      <td>47473</td>\n",
       "    </tr>\n",
       "    <tr>\n",
       "      <th>19</th>\n",
       "      <td>Social</td>\n",
       "      <td>44724</td>\n",
       "    </tr>\n",
       "    <tr>\n",
       "      <th>20</th>\n",
       "      <td>News &amp; Magazines</td>\n",
       "      <td>42799</td>\n",
       "    </tr>\n",
       "    <tr>\n",
       "      <th>21</th>\n",
       "      <td>Photography</td>\n",
       "      <td>35552</td>\n",
       "    </tr>\n",
       "    <tr>\n",
       "      <th>22</th>\n",
       "      <td>Medical</td>\n",
       "      <td>32063</td>\n",
       "    </tr>\n",
       "    <tr>\n",
       "      <th>23</th>\n",
       "      <td>Action</td>\n",
       "      <td>27539</td>\n",
       "    </tr>\n",
       "    <tr>\n",
       "      <th>24</th>\n",
       "      <td>Maps &amp; Navigation</td>\n",
       "      <td>26721</td>\n",
       "    </tr>\n",
       "    <tr>\n",
       "      <th>25</th>\n",
       "      <td>Simulation</td>\n",
       "      <td>23268</td>\n",
       "    </tr>\n",
       "    <tr>\n",
       "      <th>26</th>\n",
       "      <td>Adventure</td>\n",
       "      <td>23193</td>\n",
       "    </tr>\n",
       "    <tr>\n",
       "      <th>27</th>\n",
       "      <td>Educational</td>\n",
       "      <td>21302</td>\n",
       "    </tr>\n",
       "    <tr>\n",
       "      <th>28</th>\n",
       "      <td>Art &amp; Design</td>\n",
       "      <td>18536</td>\n",
       "    </tr>\n",
       "    <tr>\n",
       "      <th>29</th>\n",
       "      <td>Auto &amp; Vehicles</td>\n",
       "      <td>18276</td>\n",
       "    </tr>\n",
       "    <tr>\n",
       "      <th>30</th>\n",
       "      <td>House &amp; Home</td>\n",
       "      <td>14368</td>\n",
       "    </tr>\n",
       "    <tr>\n",
       "      <th>31</th>\n",
       "      <td>Video Players &amp; Editors</td>\n",
       "      <td>14014</td>\n",
       "    </tr>\n",
       "    <tr>\n",
       "      <th>32</th>\n",
       "      <td>Events</td>\n",
       "      <td>12839</td>\n",
       "    </tr>\n",
       "    <tr>\n",
       "      <th>33</th>\n",
       "      <td>Trivia</td>\n",
       "      <td>11793</td>\n",
       "    </tr>\n",
       "    <tr>\n",
       "      <th>34</th>\n",
       "      <td>Beauty</td>\n",
       "      <td>11771</td>\n",
       "    </tr>\n",
       "    <tr>\n",
       "      <th>35</th>\n",
       "      <td>Board</td>\n",
       "      <td>10587</td>\n",
       "    </tr>\n",
       "    <tr>\n",
       "      <th>36</th>\n",
       "      <td>Racing</td>\n",
       "      <td>10360</td>\n",
       "    </tr>\n",
       "    <tr>\n",
       "      <th>37</th>\n",
       "      <td>Role Playing</td>\n",
       "      <td>10008</td>\n",
       "    </tr>\n",
       "    <tr>\n",
       "      <th>38</th>\n",
       "      <td>Word</td>\n",
       "      <td>8627</td>\n",
       "    </tr>\n",
       "    <tr>\n",
       "      <th>39</th>\n",
       "      <td>Strategy</td>\n",
       "      <td>8517</td>\n",
       "    </tr>\n",
       "    <tr>\n",
       "      <th>40</th>\n",
       "      <td>Card</td>\n",
       "      <td>8175</td>\n",
       "    </tr>\n",
       "    <tr>\n",
       "      <th>41</th>\n",
       "      <td>Weather</td>\n",
       "      <td>7244</td>\n",
       "    </tr>\n",
       "    <tr>\n",
       "      <th>42</th>\n",
       "      <td>Dating</td>\n",
       "      <td>6522</td>\n",
       "    </tr>\n",
       "    <tr>\n",
       "      <th>43</th>\n",
       "      <td>Libraries &amp; Demo</td>\n",
       "      <td>5196</td>\n",
       "    </tr>\n",
       "    <tr>\n",
       "      <th>44</th>\n",
       "      <td>Casino</td>\n",
       "      <td>5076</td>\n",
       "    </tr>\n",
       "    <tr>\n",
       "      <th>45</th>\n",
       "      <td>Music</td>\n",
       "      <td>4201</td>\n",
       "    </tr>\n",
       "    <tr>\n",
       "      <th>46</th>\n",
       "      <td>Parenting</td>\n",
       "      <td>3810</td>\n",
       "    </tr>\n",
       "    <tr>\n",
       "      <th>47</th>\n",
       "      <td>Comics</td>\n",
       "      <td>2862</td>\n",
       "    </tr>\n",
       "  </tbody>\n",
       "</table>\n",
       "</div>"
      ],
      "text/plain": [
       "                   Category   Count\n",
       "0                 Education  241068\n",
       "1             Music & Audio  154897\n",
       "2                     Tools  143971\n",
       "3                  Business  143749\n",
       "4             Entertainment  138261\n",
       "5                 Lifestyle  118321\n",
       "6         Books & Reference  116716\n",
       "7           Personalization   89207\n",
       "8          Health & Fitness   83497\n",
       "9              Productivity   79681\n",
       "10                 Shopping   75240\n",
       "11             Food & Drink   73918\n",
       "12           Travel & Local   67279\n",
       "13                  Finance   65450\n",
       "14                   Arcade   53779\n",
       "15                   Puzzle   51151\n",
       "16                   Casual   50790\n",
       "17            Communication   48157\n",
       "18                   Sports   47473\n",
       "19                   Social   44724\n",
       "20         News & Magazines   42799\n",
       "21              Photography   35552\n",
       "22                  Medical   32063\n",
       "23                   Action   27539\n",
       "24        Maps & Navigation   26721\n",
       "25               Simulation   23268\n",
       "26                Adventure   23193\n",
       "27              Educational   21302\n",
       "28             Art & Design   18536\n",
       "29          Auto & Vehicles   18276\n",
       "30             House & Home   14368\n",
       "31  Video Players & Editors   14014\n",
       "32                   Events   12839\n",
       "33                   Trivia   11793\n",
       "34                   Beauty   11771\n",
       "35                    Board   10587\n",
       "36                   Racing   10360\n",
       "37             Role Playing   10008\n",
       "38                     Word    8627\n",
       "39                 Strategy    8517\n",
       "40                     Card    8175\n",
       "41                  Weather    7244\n",
       "42                   Dating    6522\n",
       "43         Libraries & Demo    5196\n",
       "44                   Casino    5076\n",
       "45                    Music    4201\n",
       "46                Parenting    3810\n",
       "47                   Comics    2862"
      ]
     },
     "execution_count": 57,
     "metadata": {},
     "output_type": "execute_result"
    }
   ],
   "source": [
    "top_Category"
   ]
  },
  {
   "cell_type": "code",
   "execution_count": 58,
   "id": "5bc78262",
   "metadata": {
    "execution": {
     "iopub.execute_input": "2022-07-02T16:39:22.358366Z",
     "iopub.status.busy": "2022-07-02T16:39:22.357224Z",
     "iopub.status.idle": "2022-07-02T16:39:24.245620Z",
     "shell.execute_reply": "2022-07-02T16:39:24.244426Z"
    },
    "id": "LfPK4kvfZRBk",
    "papermill": {
     "duration": 1.931859,
     "end_time": "2022-07-02T16:39:24.248298",
     "exception": false,
     "start_time": "2022-07-02T16:39:22.316439",
     "status": "completed"
    },
    "tags": []
   },
   "outputs": [],
   "source": [
    "Category_installs = df.groupby(['Category'])[['Installs']].sum()"
   ]
  },
  {
   "cell_type": "code",
   "execution_count": 59,
   "id": "4ad92ad2",
   "metadata": {
    "execution": {
     "iopub.execute_input": "2022-07-02T16:39:24.330203Z",
     "iopub.status.busy": "2022-07-02T16:39:24.329783Z",
     "iopub.status.idle": "2022-07-02T16:39:24.341824Z",
     "shell.execute_reply": "2022-07-02T16:39:24.340702Z"
    },
    "id": "scpi8Vpbfzc5",
    "outputId": "39a818e4-183d-4b6f-eabb-986a8e933e50",
    "papermill": {
     "duration": 0.055903,
     "end_time": "2022-07-02T16:39:24.344337",
     "exception": false,
     "start_time": "2022-07-02T16:39:24.288434",
     "status": "completed"
    },
    "tags": []
   },
   "outputs": [
    {
     "data": {
      "text/html": [
       "<div>\n",
       "<style scoped>\n",
       "    .dataframe tbody tr th:only-of-type {\n",
       "        vertical-align: middle;\n",
       "    }\n",
       "\n",
       "    .dataframe tbody tr th {\n",
       "        vertical-align: top;\n",
       "    }\n",
       "\n",
       "    .dataframe thead th {\n",
       "        text-align: right;\n",
       "    }\n",
       "</style>\n",
       "<table border=\"1\" class=\"dataframe\">\n",
       "  <thead>\n",
       "    <tr style=\"text-align: right;\">\n",
       "      <th></th>\n",
       "      <th>Installs</th>\n",
       "    </tr>\n",
       "    <tr>\n",
       "      <th>Category</th>\n",
       "      <th></th>\n",
       "    </tr>\n",
       "  </thead>\n",
       "  <tbody>\n",
       "    <tr>\n",
       "      <th>Action</th>\n",
       "      <td>17399855328</td>\n",
       "    </tr>\n",
       "    <tr>\n",
       "      <th>Adventure</th>\n",
       "      <td>5390108856</td>\n",
       "    </tr>\n",
       "    <tr>\n",
       "      <th>Arcade</th>\n",
       "      <td>14501230855</td>\n",
       "    </tr>\n",
       "    <tr>\n",
       "      <th>Art &amp; Design</th>\n",
       "      <td>1116398902</td>\n",
       "    </tr>\n",
       "    <tr>\n",
       "      <th>Auto &amp; Vehicles</th>\n",
       "      <td>1594745418</td>\n",
       "    </tr>\n",
       "    <tr>\n",
       "      <th>Beauty</th>\n",
       "      <td>404328787</td>\n",
       "    </tr>\n",
       "    <tr>\n",
       "      <th>Board</th>\n",
       "      <td>3290826164</td>\n",
       "    </tr>\n",
       "    <tr>\n",
       "      <th>Books &amp; Reference</th>\n",
       "      <td>4819175179</td>\n",
       "    </tr>\n",
       "    <tr>\n",
       "      <th>Business</th>\n",
       "      <td>5236661902</td>\n",
       "    </tr>\n",
       "    <tr>\n",
       "      <th>Card</th>\n",
       "      <td>1989318718</td>\n",
       "    </tr>\n",
       "    <tr>\n",
       "      <th>Casino</th>\n",
       "      <td>1249613989</td>\n",
       "    </tr>\n",
       "    <tr>\n",
       "      <th>Casual</th>\n",
       "      <td>16836783725</td>\n",
       "    </tr>\n",
       "    <tr>\n",
       "      <th>Comics</th>\n",
       "      <td>397602344</td>\n",
       "    </tr>\n",
       "    <tr>\n",
       "      <th>Communication</th>\n",
       "      <td>43216592414</td>\n",
       "    </tr>\n",
       "    <tr>\n",
       "      <th>Dating</th>\n",
       "      <td>643267317</td>\n",
       "    </tr>\n",
       "    <tr>\n",
       "      <th>Education</th>\n",
       "      <td>5983815847</td>\n",
       "    </tr>\n",
       "    <tr>\n",
       "      <th>Educational</th>\n",
       "      <td>4730801093</td>\n",
       "    </tr>\n",
       "    <tr>\n",
       "      <th>Entertainment</th>\n",
       "      <td>17108397933</td>\n",
       "    </tr>\n",
       "    <tr>\n",
       "      <th>Events</th>\n",
       "      <td>73016139</td>\n",
       "    </tr>\n",
       "    <tr>\n",
       "      <th>Finance</th>\n",
       "      <td>6158477105</td>\n",
       "    </tr>\n",
       "    <tr>\n",
       "      <th>Food &amp; Drink</th>\n",
       "      <td>1623441588</td>\n",
       "    </tr>\n",
       "    <tr>\n",
       "      <th>Health &amp; Fitness</th>\n",
       "      <td>4586600201</td>\n",
       "    </tr>\n",
       "    <tr>\n",
       "      <th>House &amp; Home</th>\n",
       "      <td>463801748</td>\n",
       "    </tr>\n",
       "    <tr>\n",
       "      <th>Libraries &amp; Demo</th>\n",
       "      <td>289118035</td>\n",
       "    </tr>\n",
       "    <tr>\n",
       "      <th>Lifestyle</th>\n",
       "      <td>5997921096</td>\n",
       "    </tr>\n",
       "    <tr>\n",
       "      <th>Maps &amp; Navigation</th>\n",
       "      <td>2683038830</td>\n",
       "    </tr>\n",
       "    <tr>\n",
       "      <th>Medical</th>\n",
       "      <td>657119650</td>\n",
       "    </tr>\n",
       "    <tr>\n",
       "      <th>Music</th>\n",
       "      <td>1630600862</td>\n",
       "    </tr>\n",
       "    <tr>\n",
       "      <th>Music &amp; Audio</th>\n",
       "      <td>14239401798</td>\n",
       "    </tr>\n",
       "    <tr>\n",
       "      <th>News &amp; Magazines</th>\n",
       "      <td>4548786357</td>\n",
       "    </tr>\n",
       "    <tr>\n",
       "      <th>Parenting</th>\n",
       "      <td>244133966</td>\n",
       "    </tr>\n",
       "    <tr>\n",
       "      <th>Personalization</th>\n",
       "      <td>9252971243</td>\n",
       "    </tr>\n",
       "    <tr>\n",
       "      <th>Photography</th>\n",
       "      <td>18998958963</td>\n",
       "    </tr>\n",
       "    <tr>\n",
       "      <th>Productivity</th>\n",
       "      <td>28313922253</td>\n",
       "    </tr>\n",
       "    <tr>\n",
       "      <th>Puzzle</th>\n",
       "      <td>10796411002</td>\n",
       "    </tr>\n",
       "    <tr>\n",
       "      <th>Racing</th>\n",
       "      <td>9208081547</td>\n",
       "    </tr>\n",
       "    <tr>\n",
       "      <th>Role Playing</th>\n",
       "      <td>4765977334</td>\n",
       "    </tr>\n",
       "    <tr>\n",
       "      <th>Shopping</th>\n",
       "      <td>7108586169</td>\n",
       "    </tr>\n",
       "    <tr>\n",
       "      <th>Simulation</th>\n",
       "      <td>11689990564</td>\n",
       "    </tr>\n",
       "    <tr>\n",
       "      <th>Social</th>\n",
       "      <td>17165994565</td>\n",
       "    </tr>\n",
       "    <tr>\n",
       "      <th>Sports</th>\n",
       "      <td>7954121388</td>\n",
       "    </tr>\n",
       "    <tr>\n",
       "      <th>Strategy</th>\n",
       "      <td>4156174163</td>\n",
       "    </tr>\n",
       "    <tr>\n",
       "      <th>Tools</th>\n",
       "      <td>71440271217</td>\n",
       "    </tr>\n",
       "    <tr>\n",
       "      <th>Travel &amp; Local</th>\n",
       "      <td>9726222850</td>\n",
       "    </tr>\n",
       "    <tr>\n",
       "      <th>Trivia</th>\n",
       "      <td>1188962483</td>\n",
       "    </tr>\n",
       "    <tr>\n",
       "      <th>Video Players &amp; Editors</th>\n",
       "      <td>18591154109</td>\n",
       "    </tr>\n",
       "    <tr>\n",
       "      <th>Weather</th>\n",
       "      <td>2773800062</td>\n",
       "    </tr>\n",
       "    <tr>\n",
       "      <th>Word</th>\n",
       "      <td>2029143957</td>\n",
       "    </tr>\n",
       "  </tbody>\n",
       "</table>\n",
       "</div>"
      ],
      "text/plain": [
       "                            Installs\n",
       "Category                            \n",
       "Action                   17399855328\n",
       "Adventure                 5390108856\n",
       "Arcade                   14501230855\n",
       "Art & Design              1116398902\n",
       "Auto & Vehicles           1594745418\n",
       "Beauty                     404328787\n",
       "Board                     3290826164\n",
       "Books & Reference         4819175179\n",
       "Business                  5236661902\n",
       "Card                      1989318718\n",
       "Casino                    1249613989\n",
       "Casual                   16836783725\n",
       "Comics                     397602344\n",
       "Communication            43216592414\n",
       "Dating                     643267317\n",
       "Education                 5983815847\n",
       "Educational               4730801093\n",
       "Entertainment            17108397933\n",
       "Events                      73016139\n",
       "Finance                   6158477105\n",
       "Food & Drink              1623441588\n",
       "Health & Fitness          4586600201\n",
       "House & Home               463801748\n",
       "Libraries & Demo           289118035\n",
       "Lifestyle                 5997921096\n",
       "Maps & Navigation         2683038830\n",
       "Medical                    657119650\n",
       "Music                     1630600862\n",
       "Music & Audio            14239401798\n",
       "News & Magazines          4548786357\n",
       "Parenting                  244133966\n",
       "Personalization           9252971243\n",
       "Photography              18998958963\n",
       "Productivity             28313922253\n",
       "Puzzle                   10796411002\n",
       "Racing                    9208081547\n",
       "Role Playing              4765977334\n",
       "Shopping                  7108586169\n",
       "Simulation               11689990564\n",
       "Social                   17165994565\n",
       "Sports                    7954121388\n",
       "Strategy                  4156174163\n",
       "Tools                    71440271217\n",
       "Travel & Local            9726222850\n",
       "Trivia                    1188962483\n",
       "Video Players & Editors  18591154109\n",
       "Weather                   2773800062\n",
       "Word                      2029143957"
      ]
     },
     "execution_count": 59,
     "metadata": {},
     "output_type": "execute_result"
    }
   ],
   "source": [
    "Category_installs"
   ]
  },
  {
   "cell_type": "code",
   "execution_count": 60,
   "id": "35946c0d",
   "metadata": {
    "execution": {
     "iopub.execute_input": "2022-07-02T16:39:24.427948Z",
     "iopub.status.busy": "2022-07-02T16:39:24.427158Z",
     "iopub.status.idle": "2022-07-02T16:39:24.446374Z",
     "shell.execute_reply": "2022-07-02T16:39:24.445358Z"
    },
    "id": "kpbM5UnFZQ9i",
    "outputId": "cd14cc4d-9d81-47a6-f800-6fb775cc2aa3",
    "papermill": {
     "duration": 0.063667,
     "end_time": "2022-07-02T16:39:24.448629",
     "exception": false,
     "start_time": "2022-07-02T16:39:24.384962",
     "status": "completed"
    },
    "tags": []
   },
   "outputs": [
    {
     "data": {
      "text/html": [
       "<div>\n",
       "<style scoped>\n",
       "    .dataframe tbody tr th:only-of-type {\n",
       "        vertical-align: middle;\n",
       "    }\n",
       "\n",
       "    .dataframe tbody tr th {\n",
       "        vertical-align: top;\n",
       "    }\n",
       "\n",
       "    .dataframe thead th {\n",
       "        text-align: right;\n",
       "    }\n",
       "</style>\n",
       "<table border=\"1\" class=\"dataframe\">\n",
       "  <thead>\n",
       "    <tr style=\"text-align: right;\">\n",
       "      <th></th>\n",
       "      <th>Category</th>\n",
       "      <th>Count</th>\n",
       "      <th>Installs</th>\n",
       "    </tr>\n",
       "  </thead>\n",
       "  <tbody>\n",
       "    <tr>\n",
       "      <th>0</th>\n",
       "      <td>Education</td>\n",
       "      <td>241068</td>\n",
       "      <td>5983815847</td>\n",
       "    </tr>\n",
       "    <tr>\n",
       "      <th>1</th>\n",
       "      <td>Music &amp; Audio</td>\n",
       "      <td>154897</td>\n",
       "      <td>14239401798</td>\n",
       "    </tr>\n",
       "    <tr>\n",
       "      <th>2</th>\n",
       "      <td>Tools</td>\n",
       "      <td>143971</td>\n",
       "      <td>71440271217</td>\n",
       "    </tr>\n",
       "    <tr>\n",
       "      <th>3</th>\n",
       "      <td>Business</td>\n",
       "      <td>143749</td>\n",
       "      <td>5236661902</td>\n",
       "    </tr>\n",
       "    <tr>\n",
       "      <th>4</th>\n",
       "      <td>Entertainment</td>\n",
       "      <td>138261</td>\n",
       "      <td>17108397933</td>\n",
       "    </tr>\n",
       "  </tbody>\n",
       "</table>\n",
       "</div>"
      ],
      "text/plain": [
       "        Category   Count     Installs\n",
       "0      Education  241068   5983815847\n",
       "1  Music & Audio  154897  14239401798\n",
       "2          Tools  143971  71440271217\n",
       "3       Business  143749   5236661902\n",
       "4  Entertainment  138261  17108397933"
      ]
     },
     "execution_count": 60,
     "metadata": {},
     "output_type": "execute_result"
    }
   ],
   "source": [
    "top_Category_installs = pd.merge(top_Category, Category_installs, on='Category')\n",
    "top_Category_installs.head(5)"
   ]
  },
  {
   "cell_type": "code",
   "execution_count": 61,
   "id": "f80463c8",
   "metadata": {
    "execution": {
     "iopub.execute_input": "2022-07-02T16:39:24.532079Z",
     "iopub.status.busy": "2022-07-02T16:39:24.531713Z",
     "iopub.status.idle": "2022-07-02T16:39:24.536878Z",
     "shell.execute_reply": "2022-07-02T16:39:24.536106Z"
    },
    "id": "09MtfIvKjcg4",
    "papermill": {
     "duration": 0.049462,
     "end_time": "2022-07-02T16:39:24.538880",
     "exception": false,
     "start_time": "2022-07-02T16:39:24.489418",
     "status": "completed"
    },
    "tags": []
   },
   "outputs": [],
   "source": [
    "top_10_Categories_installs = top_Category_installs.head(10).sort_values(by = ['Installs'],ascending = False)"
   ]
  },
  {
   "cell_type": "code",
   "execution_count": 62,
   "id": "5be95a38",
   "metadata": {
    "execution": {
     "iopub.execute_input": "2022-07-02T16:39:24.623426Z",
     "iopub.status.busy": "2022-07-02T16:39:24.622802Z",
     "iopub.status.idle": "2022-07-02T16:39:24.878038Z",
     "shell.execute_reply": "2022-07-02T16:39:24.877086Z"
    },
    "id": "UJkgz61AZQ4S",
    "outputId": "1749363b-e7dc-40b5-f1f0-640248c8a7f1",
    "papermill": {
     "duration": 0.299382,
     "end_time": "2022-07-02T16:39:24.880202",
     "exception": false,
     "start_time": "2022-07-02T16:39:24.580820",
     "status": "completed"
    },
    "tags": []
   },
   "outputs": [
    {
     "data": {
      "text/plain": [
       "<AxesSubplot:title={'center':'Top 10 Installed Categories'}, xlabel='Category', ylabel='Installs'>"
      ]
     },
     "execution_count": 62,
     "metadata": {},
     "output_type": "execute_result"
    },
    {
     "data": {
      "image/png": "[encoded data removed]",
      "text/plain": [
       "<Figure size 1008x504 with 1 Axes>"
      ]
     },
     "metadata": {
      "needs_background": "light"
     },
     "output_type": "display_data"
    }
   ],
   "source": [
    "plt.figure(figsize=(14,7))\n",
    "plt.xticks(rotation=60)\n",
    "plt.xlabel(\"Category\")\n",
    "plt.ylabel(\"Number of applications\")\n",
    "plt.title(\"Top 10 Installed Categories\")\n",
    "sns.barplot(x = top_10_Categories_installs.Category,y= top_10_Categories_installs.Installs)"
   ]
  },
  {
   "cell_type": "markdown",
   "id": "9a8190bb",
   "metadata": {
    "id": "sLSF5wozHegk",
    "papermill": {
     "duration": 0.041214,
     "end_time": "2022-07-02T16:39:24.962976",
     "exception": false,
     "start_time": "2022-07-02T16:39:24.921762",
     "status": "completed"
    },
    "tags": []
   },
   "source": [
    "## Ans - Tools, Productivity,Education, Music & Audio, Personalization, Lifestyle, Education, Business, Books & Reference, Health & Fitness "
   ]
  },
  {
   "cell_type": "markdown",
   "id": "767d7422",
   "metadata": {
    "id": "clJv_Ug65y14",
    "papermill": {
     "duration": 0.041369,
     "end_time": "2022-07-02T16:39:25.046162",
     "exception": false,
     "start_time": "2022-07-02T16:39:25.004793",
     "status": "completed"
    },
    "tags": []
   },
   "source": [
    "## Q -  What are the 10 Categories in playstore as per the count?"
   ]
  },
  {
   "cell_type": "code",
   "execution_count": 63,
   "id": "acdf97a0",
   "metadata": {
    "execution": {
     "iopub.execute_input": "2022-07-02T16:39:25.131756Z",
     "iopub.status.busy": "2022-07-02T16:39:25.130539Z",
     "iopub.status.idle": "2022-07-02T16:39:25.721854Z",
     "shell.execute_reply": "2022-07-02T16:39:25.721069Z"
    },
    "id": "GAFB-r3jjtJP",
    "outputId": "4faf8dc6-3818-491e-e724-b5802f55dd97",
    "papermill": {
     "duration": 0.635884,
     "end_time": "2022-07-02T16:39:25.723806",
     "exception": false,
     "start_time": "2022-07-02T16:39:25.087922",
     "status": "completed"
    },
    "tags": []
   },
   "outputs": [
    {
     "data": {
      "text/plain": [
       "<AxesSubplot:title={'center':'Top 10 Categories'}, xlabel='Category', ylabel='Count'>"
      ]
     },
     "execution_count": 63,
     "metadata": {},
     "output_type": "execute_result"
    },
    {
     "data": {
      "image/png": "[encoded data removed]",
      "text/plain": [
       "<Figure size 1008x504 with 1 Axes>"
      ]
     },
     "metadata": {
      "needs_background": "light"
     },
     "output_type": "display_data"
    }
   ],
   "source": [
    "plt.figure(figsize=(14,7))\n",
    "plt.xticks(rotation=60)\n",
    "plt.xlabel(\"Category\")\n",
    "plt.ylabel(\"Number of applications\")\n",
    "plt.title(\"Top 10 Categories\")\n",
    "sns.barplot(x = top_10_Categories_installs.Category, y = top_10_Categories_installs.Count)"
   ]
  },
  {
   "cell_type": "markdown",
   "id": "e2b3df39",
   "metadata": {
    "id": "ApwHLFBWM2Ft",
    "papermill": {
     "duration": 0.04833,
     "end_time": "2022-07-02T16:39:25.814341",
     "exception": false,
     "start_time": "2022-07-02T16:39:25.766011",
     "status": "completed"
    },
    "tags": []
   },
   "source": [
    "##Ans - Education, Music & Audio, Tools, Business, Entertainment, Lifestyle, Books & Reference, Personalization, Health & Fitness, Productivity. "
   ]
  },
  {
   "cell_type": "markdown",
   "id": "44c446ac",
   "metadata": {
    "id": "pusKgQBYIo88",
    "papermill": {
     "duration": 0.041608,
     "end_time": "2022-07-02T16:39:25.898129",
     "exception": false,
     "start_time": "2022-07-02T16:39:25.856521",
     "status": "completed"
    },
    "tags": []
   },
   "source": [
    "## Observation :\n",
    "As we can see from the above two plots: Maxinum number of apps present in google play store comes under Education Tools, Business and Entertainment etc., Categories but as per the installation scenario it is different. Maximum installed apps comes under Tools, Productivity,Entertainment, Music & Audio etc.,"
   ]
  },
  {
   "cell_type": "markdown",
   "id": "d71a2fd7",
   "metadata": {
    "id": "ki-i5ED7FgD-",
    "papermill": {
     "duration": 0.042311,
     "end_time": "2022-07-02T16:39:25.982569",
     "exception": false,
     "start_time": "2022-07-02T16:39:25.940258",
     "status": "completed"
    },
    "tags": []
   },
   "source": [
    "## visualize Total Categories and the count of Apps in each category "
   ]
  },
  {
   "cell_type": "code",
   "execution_count": 64,
   "id": "94d0d675",
   "metadata": {
    "execution": {
     "iopub.execute_input": "2022-07-02T16:39:26.069173Z",
     "iopub.status.busy": "2022-07-02T16:39:26.068172Z",
     "iopub.status.idle": "2022-07-02T16:39:26.706921Z",
     "shell.execute_reply": "2022-07-02T16:39:26.705686Z"
    },
    "id": "ObVxwRl_ZQ1M",
    "outputId": "25362f6d-433c-4aee-8296-eb926c84285f",
    "papermill": {
     "duration": 0.684819,
     "end_time": "2022-07-02T16:39:26.709300",
     "exception": false,
     "start_time": "2022-07-02T16:39:26.024481",
     "status": "completed"
    },
    "tags": []
   },
   "outputs": [
    {
     "data": {
      "text/plain": [
       "<AxesSubplot:title={'center':'Total Categories and count of Applications in each category '}, xlabel='Category', ylabel='Count'>"
      ]
     },
     "execution_count": 64,
     "metadata": {},
     "output_type": "execute_result"
    },
    {
     "data": {
      "image/png": "[encoded data removed]",
      "text/plain": [
       "<Figure size 1008x504 with 1 Axes>"
      ]
     },
     "metadata": {
      "needs_background": "light"
     },
     "output_type": "display_data"
    }
   ],
   "source": [
    "plt.figure(figsize=(14,7))\n",
    "plt.xticks(rotation=90)\n",
    "plt.xlabel(\"Category\")\n",
    "plt.ylabel(\"Number of applications\")\n",
    "plt.title(\"Total Categories and count of Applications in each category \")\n",
    "sns.barplot(x = top_Category_installs.Category, y = top_Category_installs.Count)\n"
   ]
  },
  {
   "cell_type": "markdown",
   "id": "afe5fb61",
   "metadata": {
    "id": "psp8_yGULDsd",
    "papermill": {
     "duration": 0.045571,
     "end_time": "2022-07-02T16:39:26.799326",
     "exception": false,
     "start_time": "2022-07-02T16:39:26.753755",
     "status": "completed"
    },
    "tags": []
   },
   "source": [
    "## Visualize Total Categories and installed Applications in each category"
   ]
  },
  {
   "cell_type": "code",
   "execution_count": 65,
   "id": "11eb5e4b",
   "metadata": {
    "execution": {
     "iopub.execute_input": "2022-07-02T16:39:26.888805Z",
     "iopub.status.busy": "2022-07-02T16:39:26.888410Z",
     "iopub.status.idle": "2022-07-02T16:39:27.494104Z",
     "shell.execute_reply": "2022-07-02T16:39:27.492997Z"
    },
    "id": "lz3tKdm3ZQzQ",
    "outputId": "cc9f70f0-1c1a-4536-a7e6-e25416773b13",
    "papermill": {
     "duration": 0.653398,
     "end_time": "2022-07-02T16:39:27.496632",
     "exception": false,
     "start_time": "2022-07-02T16:39:26.843234",
     "status": "completed"
    },
    "tags": []
   },
   "outputs": [
    {
     "data": {
      "text/plain": [
       "<AxesSubplot:title={'center':'Total Categories and Installation of Applications in each category '}, xlabel='Category', ylabel='Installs'>"
      ]
     },
     "execution_count": 65,
     "metadata": {},
     "output_type": "execute_result"
    },
    {
     "data": {
      "image/png": "[encoded data removed]",
      "text/plain": [
       "<Figure size 1008x504 with 1 Axes>"
      ]
     },
     "metadata": {
      "needs_background": "light"
     },
     "output_type": "display_data"
    }
   ],
   "source": [
    "plt.figure(figsize=(14,7))\n",
    "plt.xticks(rotation=90)\n",
    "plt.xlabel(\"Category\")\n",
    "plt.ylabel(\"Number of applications\")\n",
    "plt.title(\"Total Categories and Installation of Applications in each category \")\n",
    "sns.barplot(x = top_Category_installs.Category,y = top_Category_installs.Installs)\n"
   ]
  },
  {
   "cell_type": "markdown",
   "id": "1bcdd190",
   "metadata": {
    "id": "Uturd4cZL5Me",
    "papermill": {
     "duration": 0.045464,
     "end_time": "2022-07-02T16:39:27.586944",
     "exception": false,
     "start_time": "2022-07-02T16:39:27.541480",
     "status": "completed"
    },
    "tags": []
   },
   "source": [
    "Rating distribution"
   ]
  },
  {
   "cell_type": "code",
   "execution_count": 66,
   "id": "e3311d60",
   "metadata": {
    "execution": {
     "iopub.execute_input": "2022-07-02T16:39:27.679894Z",
     "iopub.status.busy": "2022-07-02T16:39:27.679383Z",
     "iopub.status.idle": "2022-07-02T16:39:37.035305Z",
     "shell.execute_reply": "2022-07-02T16:39:37.034476Z"
    },
    "id": "YIEITAyCUQHl",
    "outputId": "eb617b3c-3e47-4611-8562-11b05db4c8f9",
    "papermill": {
     "duration": 9.40625,
     "end_time": "2022-07-02T16:39:37.038098",
     "exception": false,
     "start_time": "2022-07-02T16:39:27.631848",
     "status": "completed"
    },
    "tags": []
   },
   "outputs": [
    {
     "data": {
      "text/plain": [
       "Text(0.5, 1.0, 'Distribution of Rating')"
      ]
     },
     "execution_count": 66,
     "metadata": {},
     "output_type": "execute_result"
    },
    {
     "data": {
      "image/png": "[encoded data removed]",
      "text/plain": [
       "<Figure size 1008x504 with 1 Axes>"
      ]
     },
     "metadata": {
      "needs_background": "light"
     },
     "output_type": "display_data"
    }
   ],
   "source": [
    "plt.figure(figsize=(14,7))\n",
    "g = sns.kdeplot(df.Rating, color=\"Blue\", shade = True)\n",
    "g.set_xlabel(\"Rating\")\n",
    "g.set_ylabel(\"Frequency\")\n",
    "plt.title('Distribution of Rating',size = 20)"
   ]
  },
  {
   "cell_type": "code",
   "execution_count": 67,
   "id": "a66c8fb3",
   "metadata": {
    "execution": {
     "iopub.execute_input": "2022-07-02T16:39:37.136821Z",
     "iopub.status.busy": "2022-07-02T16:39:37.136064Z",
     "iopub.status.idle": "2022-07-02T16:39:47.921214Z",
     "shell.execute_reply": "2022-07-02T16:39:47.919967Z"
    },
    "id": "XG1VAMLLZQxM",
    "outputId": "02c711f6-a79a-4f6f-d9d8-b9ce941a75ba",
    "papermill": {
     "duration": 10.837233,
     "end_time": "2022-07-02T16:39:47.923571",
     "exception": false,
     "start_time": "2022-07-02T16:39:37.086338",
     "status": "completed"
    },
    "tags": []
   },
   "outputs": [
    {
     "data": {
      "text/plain": [
       "<AxesSubplot:title={'center':'Rating'}, xlabel='Rating', ylabel='Count'>"
      ]
     },
     "execution_count": 67,
     "metadata": {},
     "output_type": "execute_result"
    },
    {
     "data": {
      "image/png": "[encoded data removed]",
      "text/plain": [
       "<Figure size 1440x432 with 1 Axes>"
      ]
     },
     "metadata": {
      "needs_background": "light"
     },
     "output_type": "display_data"
    }
   ],
   "source": [
    "plt.title(\"Rating\")\n",
    "sns.histplot(df.Rating,kde=True,bins=5)"
   ]
  },
  {
   "cell_type": "markdown",
   "id": "1d4b325d",
   "metadata": {
    "id": "TAkDh-cVVIq6",
    "papermill": {
     "duration": 0.046316,
     "end_time": "2022-07-02T16:39:48.016533",
     "exception": false,
     "start_time": "2022-07-02T16:39:47.970217",
     "status": "completed"
    },
    "tags": []
   },
   "source": [
    "## Observation : \n",
    "From the above two plots we can see that most people does not give a rating,But one more thing that comes out from this graph as well is that people tend to give 4+ rating the most."
   ]
  },
  {
   "cell_type": "markdown",
   "id": "5ffcbea4",
   "metadata": {
    "id": "xNkZYDZzVv4w",
    "papermill": {
     "duration": 0.046525,
     "end_time": "2022-07-02T16:39:48.109561",
     "exception": false,
     "start_time": "2022-07-02T16:39:48.063036",
     "status": "completed"
    },
    "tags": []
   },
   "source": [
    "##Q - What is the highest rated Category?"
   ]
  },
  {
   "cell_type": "code",
   "execution_count": 68,
   "id": "882db1d6",
   "metadata": {
    "execution": {
     "iopub.execute_input": "2022-07-02T16:39:48.204680Z",
     "iopub.status.busy": "2022-07-02T16:39:48.203945Z",
     "iopub.status.idle": "2022-07-02T16:40:17.937097Z",
     "shell.execute_reply": "2022-07-02T16:40:17.935740Z"
    },
    "id": "xgiQuJeYSNFq",
    "outputId": "6bd3fd4e-1e08-491a-dd87-e9a41a4e755e",
    "papermill": {
     "duration": 29.78339,
     "end_time": "2022-07-02T16:40:17.939444",
     "exception": false,
     "start_time": "2022-07-02T16:39:48.156054",
     "status": "completed"
    },
    "tags": []
   },
   "outputs": [
    {
     "data": {
      "text/plain": [
       "<AxesSubplot:title={'center':'All Categories Rating '}, xlabel='Category', ylabel='Rating'>"
      ]
     },
     "execution_count": 68,
     "metadata": {},
     "output_type": "execute_result"
    },
    {
     "data": {
      "image/png": "[encoded data removed]",
      "text/plain": [
       "<Figure size 1008x504 with 1 Axes>"
      ]
     },
     "metadata": {
      "needs_background": "light"
     },
     "output_type": "display_data"
    }
   ],
   "source": [
    "plt.figure(figsize=(14,7))\n",
    "plt.xticks(rotation=90)\n",
    "plt.xlabel(\"Highest Rated Category\")\n",
    "plt.ylabel(\"Number of applications\")\n",
    "plt.title(\"All Categories Rating \")\n",
    "sns.barplot(x = df.Category,y = df.Rating)"
   ]
  },
  {
   "cell_type": "markdown",
   "id": "cd4b806f",
   "metadata": {
    "id": "moql2ChsPLL5",
    "papermill": {
     "duration": 0.049806,
     "end_time": "2022-07-02T16:40:18.037766",
     "exception": false,
     "start_time": "2022-07-02T16:40:17.987960",
     "status": "completed"
    },
    "tags": []
   },
   "source": [
    "## Ans - From the above plot we can see that Role Playing is the highest Rated category\n"
   ]
  },
  {
   "cell_type": "code",
   "execution_count": 69,
   "id": "63f5604f",
   "metadata": {
    "execution": {
     "iopub.execute_input": "2022-07-02T16:40:18.139665Z",
     "iopub.status.busy": "2022-07-02T16:40:18.138940Z",
     "iopub.status.idle": "2022-07-02T16:40:18.315340Z",
     "shell.execute_reply": "2022-07-02T16:40:18.313043Z"
    },
    "id": "TXU_5C4fYKMM",
    "outputId": "1ae7c921-4e0f-4843-9ba6-c6da39016764",
    "papermill": {
     "duration": 0.231935,
     "end_time": "2022-07-02T16:40:18.320108",
     "exception": false,
     "start_time": "2022-07-02T16:40:18.088173",
     "status": "completed"
    },
    "tags": []
   },
   "outputs": [
    {
     "data": {
      "text/plain": [
       "array(['Everyone', 'Teen', 'Adults'], dtype=object)"
      ]
     },
     "execution_count": 69,
     "metadata": {},
     "output_type": "execute_result"
    }
   ],
   "source": [
    "df['Content Rating'].unique()"
   ]
  },
  {
   "cell_type": "code",
   "execution_count": 70,
   "id": "9ff3115f",
   "metadata": {
    "execution": {
     "iopub.execute_input": "2022-07-02T16:40:18.438633Z",
     "iopub.status.busy": "2022-07-02T16:40:18.438266Z",
     "iopub.status.idle": "2022-07-02T16:41:15.379549Z",
     "shell.execute_reply": "2022-07-02T16:41:15.378426Z"
    },
    "id": "U00get-Ma_BP",
    "outputId": "89523e32-25db-44d7-c5af-435ae3fa1f9c",
    "papermill": {
     "duration": 57.05162,
     "end_time": "2022-07-02T16:41:15.432251",
     "exception": false,
     "start_time": "2022-07-02T16:40:18.380631",
     "status": "completed"
    },
    "tags": []
   },
   "outputs": [
    {
     "data": {
      "text/plain": [
       "<AxesSubplot:title={'center':'Content Rating and Maximum installations '}, xlabel='Maximum Installs', ylabel='Rating Count'>"
      ]
     },
     "execution_count": 70,
     "metadata": {},
     "output_type": "execute_result"
    },
    {
     "data": {
      "image/png": "[encoded data removed]",
      "text/plain": [
       "<Figure size 576x576 with 1 Axes>"
      ]
     },
     "metadata": {
      "needs_background": "light"
     },
     "output_type": "display_data"
    }
   ],
   "source": [
    "plt.figure(figsize=(8,8))\n",
    "plt.title(\"Content Rating and Maximum installations \")\n",
    "sns.scatterplot(x='Maximum Installs',y='Rating Count',data=df,hue='Content Rating')"
   ]
  },
  {
   "cell_type": "markdown",
   "id": "55eea776",
   "metadata": {
    "id": "cRBY7rAXZNey",
    "papermill": {
     "duration": 0.049509,
     "end_time": "2022-07-02T16:41:15.531406",
     "exception": false,
     "start_time": "2022-07-02T16:41:15.481897",
     "status": "completed"
    },
    "tags": []
   },
   "source": [
    "## Observation :\n",
    "This scatterplot shows us that:\n",
    " If we exclude everyone from the plot and when focus on Teen and Adults we can see that teens have much engagement in terms of download and rating count."
   ]
  },
  {
   "cell_type": "markdown",
   "id": "56a91cff",
   "metadata": {
    "id": "QHREBuARcajj",
    "papermill": {
     "duration": 0.049352,
     "end_time": "2022-07-02T16:41:15.630350",
     "exception": false,
     "start_time": "2022-07-02T16:41:15.580998",
     "status": "completed"
    },
    "tags": []
   },
   "source": [
    "##Q - Which Category has the highest Paid and Free apps ?"
   ]
  },
  {
   "cell_type": "code",
   "execution_count": 71,
   "id": "59ed29a1",
   "metadata": {
    "execution": {
     "iopub.execute_input": "2022-07-02T16:41:15.731763Z",
     "iopub.status.busy": "2022-07-02T16:41:15.731385Z",
     "iopub.status.idle": "2022-07-02T16:41:16.540732Z",
     "shell.execute_reply": "2022-07-02T16:41:16.539722Z"
    },
    "id": "YZ3kp375eRaz",
    "papermill": {
     "duration": 0.863302,
     "end_time": "2022-07-02T16:41:16.543530",
     "exception": false,
     "start_time": "2022-07-02T16:41:15.680228",
     "status": "completed"
    },
    "tags": []
   },
   "outputs": [],
   "source": [
    "app_count = df.groupby(['Category','Type'])[['App Name']].count().reset_index().rename(columns={'App Name':'Count','index':'App Name'})\n",
    "df_app_count = app_count.pivot('Category', 'Type', 'Count').fillna(0).reset_index()"
   ]
  },
  {
   "cell_type": "code",
   "execution_count": 72,
   "id": "71593027",
   "metadata": {
    "execution": {
     "iopub.execute_input": "2022-07-02T16:41:16.645622Z",
     "iopub.status.busy": "2022-07-02T16:41:16.644949Z",
     "iopub.status.idle": "2022-07-02T16:41:17.355884Z",
     "shell.execute_reply": "2022-07-02T16:41:17.354671Z"
    },
    "id": "yCVYmKyzZQoA",
    "outputId": "039c8aa6-3b47-4c01-878c-18c7ea5045d0",
    "papermill": {
     "duration": 0.764639,
     "end_time": "2022-07-02T16:41:17.358462",
     "exception": false,
     "start_time": "2022-07-02T16:41:16.593823",
     "status": "completed"
    },
    "tags": []
   },
   "outputs": [
    {
     "data": {
      "text/plain": [
       "Text(0.5, 1.0, 'Free and Paid Apps in Category')"
      ]
     },
     "execution_count": 72,
     "metadata": {},
     "output_type": "execute_result"
    },
    {
     "data": {
      "image/png": "[encoded data removed]",
      "text/plain": [
       "<Figure size 1296x648 with 1 Axes>"
      ]
     },
     "metadata": {
      "needs_background": "light"
     },
     "output_type": "display_data"
    }
   ],
   "source": [
    "df_app_count.set_index('Category').plot(kind='bar', stacked=True, figsize=(18,9)) # try df_app_count.plot(kind='bar', stacked=True, figsize=(18,9))\n",
    "plt.xlabel(\"Category\", fontsize=15)\n",
    "plt.ylabel(\"Count\", fontsize=15)\n",
    "plt.title(\"Free and Paid Apps in Category\")"
   ]
  },
  {
   "cell_type": "markdown",
   "id": "29a3a086",
   "metadata": {
    "id": "OLubp2RWP4wp",
    "papermill": {
     "duration": 0.050781,
     "end_time": "2022-07-02T16:41:17.460777",
     "exception": false,
     "start_time": "2022-07-02T16:41:17.409996",
     "status": "completed"
    },
    "tags": []
   },
   "source": [
    "## Ans - Education Category is the highest in paid apps list"
   ]
  },
  {
   "cell_type": "markdown",
   "id": "f2f3fc4e",
   "metadata": {
    "id": "7srSEHaxRfPV",
    "papermill": {
     "duration": 0.050381,
     "end_time": "2022-07-02T16:41:17.562057",
     "exception": false,
     "start_time": "2022-07-02T16:41:17.511676",
     "status": "completed"
    },
    "tags": []
   },
   "source": [
    "## Observation : \n",
    "It looks like certain app categories have more free apps available for download than others. In our dataset, the majority of apps in Business,Education, Music & Audio, Tools as well as Social categories were free to install. At the same time Books & References, Education, Tools and Personalization categories had the biggest number of paid apps available for Installation."
   ]
  },
  {
   "cell_type": "markdown",
   "id": "4581fee4",
   "metadata": {
    "id": "jnvQAmeNN_S6",
    "papermill": {
     "duration": 0.050911,
     "end_time": "2022-07-02T16:41:17.664350",
     "exception": false,
     "start_time": "2022-07-02T16:41:17.613439",
     "status": "completed"
    },
    "tags": []
   },
   "source": [
    "##visualize the Installation Types in each category\n",
    "\n"
   ]
  },
  {
   "cell_type": "code",
   "execution_count": 73,
   "id": "2dc178a9",
   "metadata": {
    "execution": {
     "iopub.execute_input": "2022-07-02T16:41:17.768078Z",
     "iopub.status.busy": "2022-07-02T16:41:17.766972Z",
     "iopub.status.idle": "2022-07-02T16:41:17.779513Z",
     "shell.execute_reply": "2022-07-02T16:41:17.778787Z"
    },
    "id": "MgL9zUKcPstV",
    "outputId": "21d23033-f0a9-4d86-f064-6dfe802bb88c",
    "papermill": {
     "duration": 0.066317,
     "end_time": "2022-07-02T16:41:17.781490",
     "exception": false,
     "start_time": "2022-07-02T16:41:17.715173",
     "status": "completed"
    },
    "tags": []
   },
   "outputs": [
    {
     "data": {
      "text/plain": [
       "(0, 10000000000)"
      ]
     },
     "execution_count": 73,
     "metadata": {},
     "output_type": "execute_result"
    }
   ],
   "source": [
    "df['Installs'].min(),df['Installs'].max()"
   ]
  },
  {
   "cell_type": "markdown",
   "id": "3217ba55",
   "metadata": {
    "id": "LSNR5xyfQQu1",
    "papermill": {
     "duration": 0.051229,
     "end_time": "2022-07-02T16:41:17.884411",
     "exception": false,
     "start_time": "2022-07-02T16:41:17.833182",
     "status": "completed"
    },
    "tags": []
   },
   "source": [
    "There is a high variance in the number of installs, we need to reduce it so we can use a log value for this column, otherwise it would be unable to see the data when we visualize"
   ]
  },
  {
   "cell_type": "code",
   "execution_count": 74,
   "id": "c7ca944f",
   "metadata": {
    "execution": {
     "iopub.execute_input": "2022-07-02T16:41:18.097548Z",
     "iopub.status.busy": "2022-07-02T16:41:18.096921Z",
     "iopub.status.idle": "2022-07-02T16:41:18.605901Z",
     "shell.execute_reply": "2022-07-02T16:41:18.604728Z"
    },
    "id": "M566oJmdTIG5",
    "papermill": {
     "duration": 0.67264,
     "end_time": "2022-07-02T16:41:18.608340",
     "exception": false,
     "start_time": "2022-07-02T16:41:17.935700",
     "status": "completed"
    },
    "tags": []
   },
   "outputs": [],
   "source": [
    "categoty_type_installs = df.groupby(['Category','Type'])[['Installs']].sum().reset_index()\n",
    "categoty_type_installs['log_Installs'] = np.log10(categoty_type_installs['Installs'])"
   ]
  },
  {
   "cell_type": "code",
   "execution_count": 75,
   "id": "a45bcf1f",
   "metadata": {
    "execution": {
     "iopub.execute_input": "2022-07-02T16:41:18.712444Z",
     "iopub.status.busy": "2022-07-02T16:41:18.712013Z",
     "iopub.status.idle": "2022-07-02T16:41:20.037790Z",
     "shell.execute_reply": "2022-07-02T16:41:20.036946Z"
    },
    "id": "6H0IE6MrTnei",
    "outputId": "7b68b178-f4a3-45fa-b4c3-596bbabdc3b9",
    "papermill": {
     "duration": 1.380635,
     "end_time": "2022-07-02T16:41:20.040214",
     "exception": false,
     "start_time": "2022-07-02T16:41:18.659579",
     "status": "completed"
    },
    "tags": []
   },
   "outputs": [
    {
     "data": {
      "text/plain": [
       "<AxesSubplot:title={'center':'Number of installed Apps type wise according to Category'}, xlabel='Category', ylabel='log_Installs'>"
      ]
     },
     "execution_count": 75,
     "metadata": {},
     "output_type": "execute_result"
    },
    {
     "data": {
      "image/png": "[encoded data removed]",
      "text/plain": [
       "<Figure size 1296x648 with 1 Axes>"
      ]
     },
     "metadata": {
      "needs_background": "light"
     },
     "output_type": "display_data"
    }
   ],
   "source": [
    "plt.figure(figsize=(18,9))\n",
    "plt.xticks(rotation=65,fontsize=9)\n",
    "plt.xlabel(\"Category\")\n",
    "plt.ylabel(\"Installs\")\n",
    "plt.title(\"Number of installed Apps type wise according to Category\")\n",
    "sns.barplot(x = 'Category', y = 'log_Installs', hue='Type', data=categoty_type_installs)"
   ]
  },
  {
   "cell_type": "markdown",
   "id": "c4f0a003",
   "metadata": {
    "id": "Pgo1Xk5PWKTF",
    "papermill": {
     "duration": 0.052337,
     "end_time": "2022-07-02T16:41:20.145937",
     "exception": false,
     "start_time": "2022-07-02T16:41:20.093600",
     "status": "completed"
    },
    "tags": []
   },
   "source": [
    "##Q - How does the size of the Application impacts the Installation ?"
   ]
  },
  {
   "cell_type": "code",
   "execution_count": 76,
   "id": "9d8ff007",
   "metadata": {
    "execution": {
     "iopub.execute_input": "2022-07-02T16:41:20.253381Z",
     "iopub.status.busy": "2022-07-02T16:41:20.252976Z",
     "iopub.status.idle": "2022-07-02T16:41:20.304228Z",
     "shell.execute_reply": "2022-07-02T16:41:20.303154Z"
    },
    "id": "UW3dySaVW_pP",
    "papermill": {
     "duration": 0.107974,
     "end_time": "2022-07-02T16:41:20.306789",
     "exception": false,
     "start_time": "2022-07-02T16:41:20.198815",
     "status": "completed"
    },
    "tags": []
   },
   "outputs": [],
   "source": [
    "df['log_Installs'] = np.log10(categoty_type_installs['Installs'])"
   ]
  },
  {
   "cell_type": "code",
   "execution_count": 77,
   "id": "d091cee9",
   "metadata": {
    "execution": {
     "iopub.execute_input": "2022-07-02T16:41:20.414751Z",
     "iopub.status.busy": "2022-07-02T16:41:20.413690Z",
     "iopub.status.idle": "2022-07-02T16:42:20.271997Z",
     "shell.execute_reply": "2022-07-02T16:42:20.270747Z"
    },
    "id": "fdA9FPujTqlT",
    "outputId": "b923d99c-aedd-408e-d595-db89a48e7495",
    "papermill": {
     "duration": 59.970252,
     "end_time": "2022-07-02T16:42:20.329599",
     "exception": false,
     "start_time": "2022-07-02T16:41:20.359347",
     "status": "completed"
    },
    "tags": []
   },
   "outputs": [
    {
     "data": {
      "text/plain": [
       "<AxesSubplot:title={'center':'Impact of Application Size in Installation'}, xlabel='Size', ylabel='Installs'>"
      ]
     },
     "execution_count": 77,
     "metadata": {},
     "output_type": "execute_result"
    },
    {
     "data": {
      "image/png": "[encoded data removed]",
      "text/plain": [
       "<Figure size 1008x504 with 1 Axes>"
      ]
     },
     "metadata": {
      "needs_background": "light"
     },
     "output_type": "display_data"
    }
   ],
   "source": [
    "plt.figure(figsize=(14,7))\n",
    "plt.xlabel(\"Size\")\n",
    "plt.ylabel(\"Installs\")\n",
    "plt.title(\"Impact of Application Size in Installation\")\n",
    "sns.scatterplot(x = 'Size',y = 'Installs', hue='Type', data=df)"
   ]
  },
  {
   "cell_type": "markdown",
   "id": "75ea4585",
   "metadata": {
    "id": "5CSDIFw9bP8O",
    "papermill": {
     "duration": 0.054633,
     "end_time": "2022-07-02T16:42:20.438493",
     "exception": false,
     "start_time": "2022-07-02T16:42:20.383860",
     "status": "completed"
    },
    "tags": []
   },
   "source": [
    "##Ans - from the above plot we can see that size impacts the number of installations. Applications with large size are less installed by the user."
   ]
  },
  {
   "cell_type": "markdown",
   "id": "cbd1824b",
   "metadata": {
    "id": "-m1tnM4Dc9qh",
    "papermill": {
     "duration": 0.053743,
     "end_time": "2022-07-02T16:42:20.546358",
     "exception": false,
     "start_time": "2022-07-02T16:42:20.492615",
     "status": "completed"
    },
    "tags": []
   },
   "source": [
    "## Let's see some correlations\n"
   ]
  },
  {
   "cell_type": "code",
   "execution_count": 78,
   "id": "5ae767a1",
   "metadata": {
    "execution": {
     "iopub.execute_input": "2022-07-02T16:42:20.656742Z",
     "iopub.status.busy": "2022-07-02T16:42:20.656200Z",
     "iopub.status.idle": "2022-07-02T16:42:21.626224Z",
     "shell.execute_reply": "2022-07-02T16:42:21.625131Z"
    },
    "id": "CobSaGnDcmQs",
    "outputId": "797b3edd-b32f-4b78-b68d-bfb9f3b4890a",
    "papermill": {
     "duration": 1.028236,
     "end_time": "2022-07-02T16:42:21.628803",
     "exception": false,
     "start_time": "2022-07-02T16:42:20.600567",
     "status": "completed"
    },
    "tags": []
   },
   "outputs": [
    {
     "data": {
      "text/html": [
       "<div>\n",
       "<style scoped>\n",
       "    .dataframe tbody tr th:only-of-type {\n",
       "        vertical-align: middle;\n",
       "    }\n",
       "\n",
       "    .dataframe tbody tr th {\n",
       "        vertical-align: top;\n",
       "    }\n",
       "\n",
       "    .dataframe thead th {\n",
       "        text-align: right;\n",
       "    }\n",
       "</style>\n",
       "<table border=\"1\" class=\"dataframe\">\n",
       "  <thead>\n",
       "    <tr style=\"text-align: right;\">\n",
       "      <th></th>\n",
       "      <th>Rating</th>\n",
       "      <th>Rating Count</th>\n",
       "      <th>Installs</th>\n",
       "      <th>Minimum Installs</th>\n",
       "      <th>Maximum Installs</th>\n",
       "      <th>Price</th>\n",
       "      <th>Size</th>\n",
       "      <th>Ad Supported</th>\n",
       "      <th>In App Purchases</th>\n",
       "      <th>Editors Choice</th>\n",
       "      <th>log_Installs</th>\n",
       "    </tr>\n",
       "  </thead>\n",
       "  <tbody>\n",
       "    <tr>\n",
       "      <th>Rating</th>\n",
       "      <td>1.000000</td>\n",
       "      <td>0.013038</td>\n",
       "      <td>0.011215</td>\n",
       "      <td>0.011215</td>\n",
       "      <td>0.012615</td>\n",
       "      <td>-0.003674</td>\n",
       "      <td>0.046099</td>\n",
       "      <td>0.160503</td>\n",
       "      <td>0.153824</td>\n",
       "      <td>0.019485</td>\n",
       "      <td>-0.023632</td>\n",
       "    </tr>\n",
       "    <tr>\n",
       "      <th>Rating Count</th>\n",
       "      <td>0.013038</td>\n",
       "      <td>1.000000</td>\n",
       "      <td>0.545281</td>\n",
       "      <td>0.545281</td>\n",
       "      <td>0.547571</td>\n",
       "      <td>-0.000411</td>\n",
       "      <td>0.013600</td>\n",
       "      <td>0.005294</td>\n",
       "      <td>0.025737</td>\n",
       "      <td>0.137311</td>\n",
       "      <td>0.076834</td>\n",
       "    </tr>\n",
       "    <tr>\n",
       "      <th>Installs</th>\n",
       "      <td>0.011215</td>\n",
       "      <td>0.545281</td>\n",
       "      <td>1.000000</td>\n",
       "      <td>1.000000</td>\n",
       "      <td>0.954037</td>\n",
       "      <td>-0.000461</td>\n",
       "      <td>0.004240</td>\n",
       "      <td>0.002249</td>\n",
       "      <td>0.014178</td>\n",
       "      <td>0.059932</td>\n",
       "      <td>0.077248</td>\n",
       "    </tr>\n",
       "    <tr>\n",
       "      <th>Minimum Installs</th>\n",
       "      <td>0.011215</td>\n",
       "      <td>0.545281</td>\n",
       "      <td>1.000000</td>\n",
       "      <td>1.000000</td>\n",
       "      <td>0.954037</td>\n",
       "      <td>-0.000461</td>\n",
       "      <td>0.004240</td>\n",
       "      <td>0.002249</td>\n",
       "      <td>0.014178</td>\n",
       "      <td>0.059932</td>\n",
       "      <td>0.077248</td>\n",
       "    </tr>\n",
       "    <tr>\n",
       "      <th>Maximum Installs</th>\n",
       "      <td>0.012615</td>\n",
       "      <td>0.547571</td>\n",
       "      <td>0.954037</td>\n",
       "      <td>0.954037</td>\n",
       "      <td>1.000000</td>\n",
       "      <td>-0.000515</td>\n",
       "      <td>0.005093</td>\n",
       "      <td>0.002881</td>\n",
       "      <td>0.016100</td>\n",
       "      <td>0.064206</td>\n",
       "      <td>0.079792</td>\n",
       "    </tr>\n",
       "    <tr>\n",
       "      <th>Price</th>\n",
       "      <td>-0.003674</td>\n",
       "      <td>-0.000411</td>\n",
       "      <td>-0.000461</td>\n",
       "      <td>-0.000461</td>\n",
       "      <td>-0.000515</td>\n",
       "      <td>1.000000</td>\n",
       "      <td>0.004160</td>\n",
       "      <td>-0.034281</td>\n",
       "      <td>-0.002636</td>\n",
       "      <td>0.000503</td>\n",
       "      <td>NaN</td>\n",
       "    </tr>\n",
       "    <tr>\n",
       "      <th>Size</th>\n",
       "      <td>0.046099</td>\n",
       "      <td>0.013600</td>\n",
       "      <td>0.004240</td>\n",
       "      <td>0.004240</td>\n",
       "      <td>0.005093</td>\n",
       "      <td>0.004160</td>\n",
       "      <td>1.000000</td>\n",
       "      <td>-0.042772</td>\n",
       "      <td>0.165194</td>\n",
       "      <td>0.039926</td>\n",
       "      <td>0.024328</td>\n",
       "    </tr>\n",
       "    <tr>\n",
       "      <th>Ad Supported</th>\n",
       "      <td>0.160503</td>\n",
       "      <td>0.005294</td>\n",
       "      <td>0.002249</td>\n",
       "      <td>0.002249</td>\n",
       "      <td>0.002881</td>\n",
       "      <td>-0.034281</td>\n",
       "      <td>-0.042772</td>\n",
       "      <td>1.000000</td>\n",
       "      <td>0.138304</td>\n",
       "      <td>0.005701</td>\n",
       "      <td>0.140935</td>\n",
       "    </tr>\n",
       "    <tr>\n",
       "      <th>In App Purchases</th>\n",
       "      <td>0.153824</td>\n",
       "      <td>0.025737</td>\n",
       "      <td>0.014178</td>\n",
       "      <td>0.014178</td>\n",
       "      <td>0.016100</td>\n",
       "      <td>-0.002636</td>\n",
       "      <td>0.165194</td>\n",
       "      <td>0.138304</td>\n",
       "      <td>1.000000</td>\n",
       "      <td>0.046078</td>\n",
       "      <td>-0.021114</td>\n",
       "    </tr>\n",
       "    <tr>\n",
       "      <th>Editors Choice</th>\n",
       "      <td>0.019485</td>\n",
       "      <td>0.137311</td>\n",
       "      <td>0.059932</td>\n",
       "      <td>0.059932</td>\n",
       "      <td>0.064206</td>\n",
       "      <td>0.000503</td>\n",
       "      <td>0.039926</td>\n",
       "      <td>0.005701</td>\n",
       "      <td>0.046078</td>\n",
       "      <td>1.000000</td>\n",
       "      <td>NaN</td>\n",
       "    </tr>\n",
       "    <tr>\n",
       "      <th>log_Installs</th>\n",
       "      <td>-0.023632</td>\n",
       "      <td>0.076834</td>\n",
       "      <td>0.077248</td>\n",
       "      <td>0.077248</td>\n",
       "      <td>0.079792</td>\n",
       "      <td>NaN</td>\n",
       "      <td>0.024328</td>\n",
       "      <td>0.140935</td>\n",
       "      <td>-0.021114</td>\n",
       "      <td>NaN</td>\n",
       "      <td>1.000000</td>\n",
       "    </tr>\n",
       "  </tbody>\n",
       "</table>\n",
       "</div>"
      ],
      "text/plain": [
       "                    Rating  Rating Count  Installs  Minimum Installs  \\\n",
       "Rating            1.000000      0.013038  0.011215          0.011215   \n",
       "Rating Count      0.013038      1.000000  0.545281          0.545281   \n",
       "Installs          0.011215      0.545281  1.000000          1.000000   \n",
       "Minimum Installs  0.011215      0.545281  1.000000          1.000000   \n",
       "Maximum Installs  0.012615      0.547571  0.954037          0.954037   \n",
       "Price            -0.003674     -0.000411 -0.000461         -0.000461   \n",
       "Size              0.046099      0.013600  0.004240          0.004240   \n",
       "Ad Supported      0.160503      0.005294  0.002249          0.002249   \n",
       "In App Purchases  0.153824      0.025737  0.014178          0.014178   \n",
       "Editors Choice    0.019485      0.137311  0.059932          0.059932   \n",
       "log_Installs     -0.023632      0.076834  0.077248          0.077248   \n",
       "\n",
       "                  Maximum Installs     Price      Size  Ad Supported  \\\n",
       "Rating                    0.012615 -0.003674  0.046099      0.160503   \n",
       "Rating Count              0.547571 -0.000411  0.013600      0.005294   \n",
       "Installs                  0.954037 -0.000461  0.004240      0.002249   \n",
       "Minimum Installs          0.954037 -0.000461  0.004240      0.002249   \n",
       "Maximum Installs          1.000000 -0.000515  0.005093      0.002881   \n",
       "Price                    -0.000515  1.000000  0.004160     -0.034281   \n",
       "Size                      0.005093  0.004160  1.000000     -0.042772   \n",
       "Ad Supported              0.002881 -0.034281 -0.042772      1.000000   \n",
       "In App Purchases          0.016100 -0.002636  0.165194      0.138304   \n",
       "Editors Choice            0.064206  0.000503  0.039926      0.005701   \n",
       "log_Installs              0.079792       NaN  0.024328      0.140935   \n",
       "\n",
       "                  In App Purchases  Editors Choice  log_Installs  \n",
       "Rating                    0.153824        0.019485     -0.023632  \n",
       "Rating Count              0.025737        0.137311      0.076834  \n",
       "Installs                  0.014178        0.059932      0.077248  \n",
       "Minimum Installs          0.014178        0.059932      0.077248  \n",
       "Maximum Installs          0.016100        0.064206      0.079792  \n",
       "Price                    -0.002636        0.000503           NaN  \n",
       "Size                      0.165194        0.039926      0.024328  \n",
       "Ad Supported              0.138304        0.005701      0.140935  \n",
       "In App Purchases          1.000000        0.046078     -0.021114  \n",
       "Editors Choice            0.046078        1.000000           NaN  \n",
       "log_Installs             -0.021114             NaN      1.000000  "
      ]
     },
     "execution_count": 78,
     "metadata": {},
     "output_type": "execute_result"
    }
   ],
   "source": [
    "df.corr()"
   ]
  },
  {
   "cell_type": "code",
   "execution_count": 79,
   "id": "3fd6341f",
   "metadata": {
    "execution": {
     "iopub.execute_input": "2022-07-02T16:42:21.742958Z",
     "iopub.status.busy": "2022-07-02T16:42:21.742136Z",
     "iopub.status.idle": "2022-07-02T16:42:23.010219Z",
     "shell.execute_reply": "2022-07-02T16:42:23.009399Z"
    },
    "id": "TcCirVP9Tqfy",
    "outputId": "eebc743b-47fe-4043-dac1-aefaf7efc0a2",
    "papermill": {
     "duration": 1.328053,
     "end_time": "2022-07-02T16:42:23.012509",
     "exception": false,
     "start_time": "2022-07-02T16:42:21.684456",
     "status": "completed"
    },
    "tags": []
   },
   "outputs": [
    {
     "data": {
      "text/plain": [
       "<AxesSubplot:>"
      ]
     },
     "execution_count": 79,
     "metadata": {},
     "output_type": "execute_result"
    },
    {
     "data": {
      "image/png": "[encoded data removed]",
      "text/plain": [
       "<Figure size 576x432 with 2 Axes>"
      ]
     },
     "metadata": {
      "needs_background": "light"
     },
     "output_type": "display_data"
    }
   ],
   "source": [
    "plt.figure(figsize=(8,6))\n",
    "sns.heatmap(df.corr(),cbar= True, cmap='coolwarm')"
   ]
  },
  {
   "cell_type": "markdown",
   "id": "0a5e8c89",
   "metadata": {
    "id": "IfpnldCUgM0J",
    "papermill": {
     "duration": 0.053423,
     "end_time": "2022-07-02T16:42:23.121324",
     "exception": false,
     "start_time": "2022-07-02T16:42:23.067901",
     "status": "completed"
    },
    "tags": []
   },
   "source": [
    "##Observation :     \n",
    " Factors like AdSupport and InappPurchases are correlated to app rating. So we can say that if the app provides customer support and have subscription plans we can engage more customers. We can also see from the same graph that the editor's choice plays a important role as well. With high editor choice we can see high ratings count and high installs.\n"
   ]
  },
  {
   "cell_type": "markdown",
   "id": "d19cfca7",
   "metadata": {
    "id": "DRuWPPcrhU7l",
    "papermill": {
     "duration": 0.0548,
     "end_time": "2022-07-02T16:42:23.230451",
     "exception": false,
     "start_time": "2022-07-02T16:42:23.175651",
     "status": "completed"
    },
    "tags": []
   },
   "source": [
    "##Q - What are the Top 5 Paid Apps based With highest ratings and installs ?"
   ]
  },
  {
   "cell_type": "code",
   "execution_count": 80,
   "id": "2fc536cd",
   "metadata": {
    "execution": {
     "iopub.execute_input": "2022-07-02T16:42:23.342533Z",
     "iopub.status.busy": "2022-07-02T16:42:23.341667Z",
     "iopub.status.idle": "2022-07-02T16:42:23.350266Z",
     "shell.execute_reply": "2022-07-02T16:42:23.349542Z"
    },
    "id": "3QUdvcOJwmqu",
    "outputId": "1ed9b3ca-b023-4847-ea5c-94f45d70fc7f",
    "papermill": {
     "duration": 0.067163,
     "end_time": "2022-07-02T16:42:23.352235",
     "exception": false,
     "start_time": "2022-07-02T16:42:23.285072",
     "status": "completed"
    },
    "tags": []
   },
   "outputs": [
    {
     "data": {
      "text/plain": [
       "10000000000"
      ]
     },
     "execution_count": 80,
     "metadata": {},
     "output_type": "execute_result"
    }
   ],
   "source": [
    "df['Installs'].max()"
   ]
  },
  {
   "cell_type": "code",
   "execution_count": 81,
   "id": "f74bcd41",
   "metadata": {
    "execution": {
     "iopub.execute_input": "2022-07-02T16:42:23.465241Z",
     "iopub.status.busy": "2022-07-02T16:42:23.464616Z",
     "iopub.status.idle": "2022-07-02T16:42:23.944983Z",
     "shell.execute_reply": "2022-07-02T16:42:23.943588Z"
    },
    "id": "Ja5ATuRVM_eS",
    "papermill": {
     "duration": 0.54057,
     "end_time": "2022-07-02T16:42:23.948137",
     "exception": false,
     "start_time": "2022-07-02T16:42:23.407567",
     "status": "completed"
    },
    "tags": []
   },
   "outputs": [],
   "source": [
    "paid_apps = df[(df.Type=='Paid') & (df.Installs >= 5000000)]\n",
    "paid_apps = paid_apps.groupby('App Name')['Rating'].max().sort_values(ascending = False)"
   ]
  },
  {
   "cell_type": "code",
   "execution_count": 82,
   "id": "0672d617",
   "metadata": {
    "execution": {
     "iopub.execute_input": "2022-07-02T16:42:24.062376Z",
     "iopub.status.busy": "2022-07-02T16:42:24.061765Z",
     "iopub.status.idle": "2022-07-02T16:42:24.306178Z",
     "shell.execute_reply": "2022-07-02T16:42:24.305050Z"
    },
    "id": "iA33XHwYTqMM",
    "outputId": "addd226a-6e42-4bcf-8c6b-ba33f71fb074",
    "papermill": {
     "duration": 0.304038,
     "end_time": "2022-07-02T16:42:24.308379",
     "exception": false,
     "start_time": "2022-07-02T16:42:24.004341",
     "status": "completed"
    },
    "tags": []
   },
   "outputs": [
    {
     "data": {
      "text/plain": [
       "<AxesSubplot:title={'center':'Top 5 Paid Rated Apps'}, xlabel='Rating', ylabel='App Name'>"
      ]
     },
     "execution_count": 82,
     "metadata": {},
     "output_type": "execute_result"
    },
    {
     "data": {
      "image/png": "[encoded data removed]",
      "text/plain": [
       "<Figure size 576x288 with 1 Axes>"
      ]
     },
     "metadata": {
      "needs_background": "light"
     },
     "output_type": "display_data"
    }
   ],
   "source": [
    "plt.figure(figsize=(8,4))\n",
    "plt.xlabel(\"Rating\")\n",
    "sns.set_theme(style=\"whitegrid\")\n",
    "plt.title(\"Top 5 Paid Rated Apps\")\n",
    "sns.lineplot(x=paid_apps.values,y=paid_apps.index,color='Blue')\n"
   ]
  },
  {
   "cell_type": "markdown",
   "id": "6964bb71",
   "metadata": {
    "id": "n5ZNy7lpQiiD",
    "papermill": {
     "duration": 0.055784,
     "end_time": "2022-07-02T16:42:24.419766",
     "exception": false,
     "start_time": "2022-07-02T16:42:24.363982",
     "status": "completed"
    },
    "tags": []
   },
   "source": [
    "## Ans - Minecraft, Hitman Sniper, True Skate, Stickman Legends-Shadow Fight Premium Offline Game, Poweramp Full Version Unlocker, League of Stickman 2020- Ninja Arena PVP(Dreamsky)"
   ]
  },
  {
   "cell_type": "markdown",
   "id": "1b47013e",
   "metadata": {
    "id": "RFEZH3g7RAdU",
    "papermill": {
     "duration": 0.056587,
     "end_time": "2022-07-02T16:42:24.533168",
     "exception": false,
     "start_time": "2022-07-02T16:42:24.476581",
     "status": "completed"
    },
    "tags": []
   },
   "source": [
    "##Q - What are the Top 5 Free Apps based With highest ratings and installs ?"
   ]
  },
  {
   "cell_type": "code",
   "execution_count": 83,
   "id": "daebcdf1",
   "metadata": {
    "execution": {
     "iopub.execute_input": "2022-07-02T16:42:24.648443Z",
     "iopub.status.busy": "2022-07-02T16:42:24.647814Z",
     "iopub.status.idle": "2022-07-02T16:42:25.107115Z",
     "shell.execute_reply": "2022-07-02T16:42:25.106142Z"
    },
    "id": "SowAG9V_PfXy",
    "papermill": {
     "duration": 0.520191,
     "end_time": "2022-07-02T16:42:25.109967",
     "exception": false,
     "start_time": "2022-07-02T16:42:24.589776",
     "status": "completed"
    },
    "tags": []
   },
   "outputs": [],
   "source": [
    "free_apps = df[(df.Type=='Free') & (df.Installs >= 5000000)]\n",
    "free_apps = free_apps.groupby('App Name')['Rating'].max().sort_values(ascending = False)\n",
    "free_apps = free_apps.head(5)"
   ]
  },
  {
   "cell_type": "code",
   "execution_count": 84,
   "id": "45842278",
   "metadata": {
    "execution": {
     "iopub.execute_input": "2022-07-02T16:42:25.224307Z",
     "iopub.status.busy": "2022-07-02T16:42:25.223895Z",
     "iopub.status.idle": "2022-07-02T16:42:25.502684Z",
     "shell.execute_reply": "2022-07-02T16:42:25.501598Z"
    },
    "id": "HVI2dWhRRKAM",
    "outputId": "5cacb297-f1e4-4ba9-bd6c-9ff0ca61b9c2",
    "papermill": {
     "duration": 0.339384,
     "end_time": "2022-07-02T16:42:25.505235",
     "exception": false,
     "start_time": "2022-07-02T16:42:25.165851",
     "status": "completed"
    },
    "tags": []
   },
   "outputs": [
    {
     "data": {
      "text/plain": [
       "<AxesSubplot:title={'center':'Top 5 Free Rated Apps'}, xlabel='Rating', ylabel='App Name'>"
      ]
     },
     "execution_count": 84,
     "metadata": {},
     "output_type": "execute_result"
    },
    {
     "data": {
      "image/png": "[encoded data removed]",
      "text/plain": [
       "<Figure size 576x288 with 1 Axes>"
      ]
     },
     "metadata": {},
     "output_type": "display_data"
    }
   ],
   "source": [
    "plt.figure(figsize=(8,4))\n",
    "plt.xlabel(\"Rating\")\n",
    "sns.set_theme(style=\"whitegrid\")\n",
    "plt.title(\"Top 5 Free Rated Apps\")\n",
    "sns.lineplot(x = free_apps.values, y = free_apps.index,color = 'Blue')\n"
   ]
  },
  {
   "cell_type": "markdown",
   "id": "d907c6a2",
   "metadata": {
    "id": "M4QXN1GVRH8w",
    "papermill": {
     "duration": 0.056821,
     "end_time": "2022-07-02T16:42:25.620450",
     "exception": false,
     "start_time": "2022-07-02T16:42:25.563629",
     "status": "completed"
    },
    "tags": []
   },
   "source": [
    "## Ans - Photo Frame, Video maker with photo & music, Kuku FM - Love Stories,Audio Books & Podcasts, Plank Workout at Home."
   ]
  },
  {
   "cell_type": "markdown",
   "id": "08587683",
   "metadata": {
    "id": "HeMUA44DBidf",
    "papermill": {
     "duration": 0.057831,
     "end_time": "2022-07-02T16:42:25.735191",
     "exception": false,
     "start_time": "2022-07-02T16:42:25.677360",
     "status": "completed"
    },
    "tags": []
   },
   "source": [
    "## Visualize the categories that have the Top 10  Max Installations \n"
   ]
  },
  {
   "cell_type": "code",
   "execution_count": 85,
   "id": "41bd2927",
   "metadata": {
    "execution": {
     "iopub.execute_input": "2022-07-02T16:42:25.850855Z",
     "iopub.status.busy": "2022-07-02T16:42:25.850446Z",
     "iopub.status.idle": "2022-07-02T16:42:26.257248Z",
     "shell.execute_reply": "2022-07-02T16:42:26.255835Z"
    },
    "id": "ScupxhqpCfiX",
    "outputId": "2a0216d5-3afa-4138-e13c-f655ccb11093",
    "papermill": {
     "duration": 0.46828,
     "end_time": "2022-07-02T16:42:26.260675",
     "exception": false,
     "start_time": "2022-07-02T16:42:25.792395",
     "status": "completed"
    },
    "tags": []
   },
   "outputs": [
    {
     "data": {
      "text/plain": [
       "Text(0.5, 1.0, 'Top 10 Max installations Category wise')"
      ]
     },
     "execution_count": 85,
     "metadata": {},
     "output_type": "execute_result"
    },
    {
     "data": {
      "image/png": "[encoded data removed]",
      "text/plain": [
       "<Figure size 576x432 with 1 Axes>"
      ]
     },
     "metadata": {},
     "output_type": "display_data"
    }
   ],
   "source": [
    "plt.figure(figsize=(8,6))\n",
    "data = df.groupby('Category')['Maximum Installs'].max().sort_values(ascending = True)\n",
    "data = data.head(10)\n",
    "labels = data.keys()\n",
    "plt.pie(data, labels= labels,autopct='%.0f%%') \n",
    "plt.title(\"Top 10 Max installations Category wise\", fontsize=14)"
   ]
  },
  {
   "cell_type": "markdown",
   "id": "5aac13d3",
   "metadata": {
    "id": "BH8mw_YAzEBl",
    "papermill": {
     "duration": 0.057678,
     "end_time": "2022-07-02T16:42:26.395675",
     "exception": false,
     "start_time": "2022-07-02T16:42:26.337997",
     "status": "completed"
    },
    "tags": []
   },
   "source": [
    "## Visualize the Top 10 installation Categories that Adults have installed the most "
   ]
  },
  {
   "cell_type": "code",
   "execution_count": 86,
   "id": "db5cae3d",
   "metadata": {
    "execution": {
     "iopub.execute_input": "2022-07-02T16:42:26.514569Z",
     "iopub.status.busy": "2022-07-02T16:42:26.513775Z",
     "iopub.status.idle": "2022-07-02T16:42:26.687677Z",
     "shell.execute_reply": "2022-07-02T16:42:26.686566Z"
    },
    "id": "FyeCYMnfBvK_",
    "outputId": "eb01b63b-57e0-4f58-9b8b-a84b11e8a340",
    "papermill": {
     "duration": 0.236298,
     "end_time": "2022-07-02T16:42:26.690009",
     "exception": false,
     "start_time": "2022-07-02T16:42:26.453711",
     "status": "completed"
    },
    "tags": []
   },
   "outputs": [
    {
     "data": {
      "text/plain": [
       "array(['Everyone', 'Teen', 'Adults'], dtype=object)"
      ]
     },
     "execution_count": 86,
     "metadata": {},
     "output_type": "execute_result"
    }
   ],
   "source": [
    "df['Content Rating'].unique()"
   ]
  },
  {
   "cell_type": "code",
   "execution_count": 87,
   "id": "6c6bcb40",
   "metadata": {
    "execution": {
     "iopub.execute_input": "2022-07-02T16:42:26.809918Z",
     "iopub.status.busy": "2022-07-02T16:42:26.809496Z",
     "iopub.status.idle": "2022-07-02T16:42:27.421762Z",
     "shell.execute_reply": "2022-07-02T16:42:27.420508Z"
    },
    "id": "5JHV9vKYTqIQ",
    "outputId": "c2d74dc9-2f07-4730-be06-38a4b6703324",
    "papermill": {
     "duration": 0.676607,
     "end_time": "2022-07-02T16:42:27.426216",
     "exception": false,
     "start_time": "2022-07-02T16:42:26.749609",
     "status": "completed"
    },
    "tags": []
   },
   "outputs": [
    {
     "data": {
      "text/plain": [
       "Text(0.5, 1.0, 'Adults Installing apps in terms of category')"
      ]
     },
     "execution_count": 87,
     "metadata": {},
     "output_type": "execute_result"
    },
    {
     "data": {
      "image/png": "[encoded data removed]",
      "text/plain": [
       "<Figure size 576x432 with 1 Axes>"
      ]
     },
     "metadata": {},
     "output_type": "display_data"
    }
   ],
   "source": [
    "plt.figure(figsize=(8,6))\n",
    "Adult = df[(df['Content Rating']=='Adults')]\n",
    "Adult = Adult.groupby(['Category'])['Maximum Installs'].max().sort_values(ascending=False)\n",
    "Adult = Adult.head(10)\n",
    "labels = Adult.keys()\n",
    "plt.pie(x = Adult, autopct=\"%.1f%%\", labels=labels)\n",
    "plt.title(\"Adults Installing apps in terms of category\", fontsize=14)"
   ]
  },
  {
   "cell_type": "markdown",
   "id": "f292cdbb",
   "metadata": {
    "id": "mnTnPaOZ3v6k",
    "papermill": {
     "duration": 0.059852,
     "end_time": "2022-07-02T16:42:27.563215",
     "exception": false,
     "start_time": "2022-07-02T16:42:27.503363",
     "status": "completed"
    },
    "tags": []
   },
   "source": [
    "## Observation :\n",
    "Most of the Adults showing intrest in downloading the Social, Action and Communication Category"
   ]
  },
  {
   "cell_type": "markdown",
   "id": "f092b1d4",
   "metadata": {
    "id": "YdLHiU8Hom_J",
    "papermill": {
     "duration": 0.059146,
     "end_time": "2022-07-02T16:42:27.682397",
     "exception": false,
     "start_time": "2022-07-02T16:42:27.623251",
     "status": "completed"
    },
    "tags": []
   },
   "source": [
    "## visualize Teens Installing the apps in terms of Category"
   ]
  },
  {
   "cell_type": "code",
   "execution_count": 88,
   "id": "098e4e4f",
   "metadata": {
    "execution": {
     "iopub.execute_input": "2022-07-02T16:42:27.805140Z",
     "iopub.status.busy": "2022-07-02T16:42:27.804584Z",
     "iopub.status.idle": "2022-07-02T16:42:28.504384Z",
     "shell.execute_reply": "2022-07-02T16:42:28.503133Z"
    },
    "id": "dfkgbgtEfQCZ",
    "outputId": "a329346b-8e83-482d-817b-efe0eff2f17a",
    "papermill": {
     "duration": 0.765674,
     "end_time": "2022-07-02T16:42:28.507778",
     "exception": false,
     "start_time": "2022-07-02T16:42:27.742104",
     "status": "completed"
    },
    "tags": []
   },
   "outputs": [
    {
     "data": {
      "text/plain": [
       "Text(0.5, 1.0, 'Teen Installing apps in terms of category')"
      ]
     },
     "execution_count": 88,
     "metadata": {},
     "output_type": "execute_result"
    },
    {
     "data": {
      "image/png": "[encoded data removed]",
      "text/plain": [
       "<Figure size 576x432 with 1 Axes>"
      ]
     },
     "metadata": {},
     "output_type": "display_data"
    }
   ],
   "source": [
    "plt.figure(figsize=(8,6))\n",
    "Teen = df[(df['Content Rating']=='Teen')]\n",
    "Teen = Teen.groupby(['Category'])['Maximum Installs'].max().sort_values(ascending=False)\n",
    "Teen = Teen.head(10)\n",
    "labels = Teen.keys()\n",
    "plt.pie(x = Teen, autopct=\"%.1f%%\", labels=labels)\n",
    "plt.title(\"Teen Installing apps in terms of category\", fontsize=14)"
   ]
  },
  {
   "cell_type": "markdown",
   "id": "1c7fba0a",
   "metadata": {
    "id": "IVmm2--_ZI2a",
    "papermill": {
     "duration": 0.061377,
     "end_time": "2022-07-02T16:42:28.645904",
     "exception": false,
     "start_time": "2022-07-02T16:42:28.584527",
     "status": "completed"
    },
    "tags": []
   },
   "source": [
    "# **Summary and Conclusion** :     \n",
    "* People are more intrested to install the gaming Apps, the top Rating is given to the gaming apps.\n",
    "* InAppPurchases are correlated to App rating. So we can say that if the app provides customer support and have subscription plans it will helps to engage customers.\n",
    "* most people does not gave rating, But the people who are given rating are tend to give 4+ rating the most.\n",
    "* Most of the Audlts installed the Social and communication Apps. \n",
    "* Most of the installations are done by the teens and the most are Video Players and Editors. Video Players and Editors has more demand.\n",
    "* Size of the Application varies the installations.\n",
    "* People are mostly dwonladed the free apps the installation of the free apps is high and the availabilty of the free apps also is very high.\n",
    " \n"
   ]
  },
  {
   "cell_type": "code",
   "execution_count": null,
   "id": "6f1dcc29",
   "metadata": {
    "id": "gBnNosxcndYc",
    "papermill": {
     "duration": 0.062169,
     "end_time": "2022-07-02T16:42:28.769863",
     "exception": false,
     "start_time": "2022-07-02T16:42:28.707694",
     "status": "completed"
    },
    "tags": []
   },
   "outputs": [],
   "source": []
  }
 ],
 "metadata": {
  "kernelspec": {
   "display_name": "Python 3",
   "language": "python",
   "name": "python3"
  },
  "language_info": {
   "codemirror_mode": {
    "name": "ipython",
    "version": 3
   },
   "file_extension": ".py",
   "mimetype": "text/x-python",
   "name": "python",
   "nbconvert_exporter": "python",
   "pygments_lexer": "ipython3",
   "version": "3.7.12"
  },
  "papermill": {
   "default_parameters": {},
   "duration": 339.959364,
   "end_time": "2022-07-02T16:42:30.859962",
   "environment_variables": {},
   "exception": null,
   "input_path": "__notebook__.ipynb",
   "output_path": "__notebook__.ipynb",
   "parameters": {},
   "start_time": "2022-07-02T16:36:50.900598",
   "version": "2.3.4"
  }
 },
 "nbformat": 4,
 "nbformat_minor": 5
}
